{
 "cells": [
  {
   "cell_type": "code",
   "execution_count": 253,
   "id": "be8bc8a7-ef7e-4766-b44a-a0475d811a7d",
   "metadata": {
    "tags": []
   },
   "outputs": [],
   "source": [
    "import copy\n",
    "import numpy as np\n",
    "import pandas as pd\n",
    "import pickle\n",
    "\n",
    "import jax\n",
    "import jax.numpy as jnp\n",
    "\n",
    "import flax\n",
    "from flax import linen as nn\n",
    "from flax.training import train_state\n",
    "\n",
    "import optax\n",
    "\n",
    "\n",
    "from glue_data import get_glue_data"
   ]
  },
  {
   "cell_type": "code",
   "execution_count": 597,
   "id": "3b65893c-75f1-42d2-9f0f-522d73a5818a",
   "metadata": {
    "tags": []
   },
   "outputs": [],
   "source": [
    "import plotly.express as px\n",
    "import plotly.graph_objects as go"
   ]
  },
  {
   "cell_type": "code",
   "execution_count": 383,
   "id": "bd1fea10-4d16-46e1-80bf-32c7b00c3ee4",
   "metadata": {
    "tags": []
   },
   "outputs": [],
   "source": [
    "[train_embeddings, eval_embeddings] = pickle.load(open('glove-wr_embeddings.p', 'br'))"
   ]
  },
  {
   "cell_type": "code",
   "execution_count": 320,
   "id": "87f1c6e3-691a-4dbf-9d4b-62c2fddf7f43",
   "metadata": {
    "tags": []
   },
   "outputs": [],
   "source": [
    "[train_embeddings, eval_embeddings] = pickle.load(open('wr_embeddings.p', 'br'))"
   ]
  },
  {
   "cell_type": "code",
   "execution_count": 394,
   "id": "7aa0f8fa-59ca-4364-9c29-395f0c0c3091",
   "metadata": {
    "tags": []
   },
   "outputs": [],
   "source": [
    "embs_train = np.sum(wr_embs, axis=-2)"
   ]
  },
  {
   "cell_type": "code",
   "execution_count": 398,
   "id": "e4c1d3ec-5e61-4375-b522-9591ba1551fb",
   "metadata": {
    "tags": []
   },
   "outputs": [],
   "source": [
    "embs_eval = np.sum(wr_embs, axis=-2)"
   ]
  },
  {
   "cell_type": "markdown",
   "id": "0d410ea1-cf7e-48de-9ce9-c0bd81c768f5",
   "metadata": {},
   "source": [
    "# Train Classifier Head"
   ]
  },
  {
   "cell_type": "code",
   "execution_count": 1110,
   "id": "3e1b981e-f723-441f-9d45-c0ddf1f7d238",
   "metadata": {
    "tags": []
   },
   "outputs": [],
   "source": [
    "class Classifier(nn.Module):\n",
    "    num_hidden : int   \n",
    "    num_outputs : int  \n",
    "\n",
    "    @nn.compact  \n",
    "    def __call__(self, x):\n",
    "        for n in self.num_hidden:\n",
    "            x = nn.Dense(features=n)(x)\n",
    "            x = nn.sigmoid(x)\n",
    "        x = nn.Dense(features=self.num_outputs)(x)\n",
    "        return x"
   ]
  },
  {
   "cell_type": "code",
   "execution_count": 1111,
   "id": "5eb3cb7f-067c-4ca3-a775-31a715c48035",
   "metadata": {
    "tags": []
   },
   "outputs": [],
   "source": [
    "def loss(params: optax.Params, batch: jnp.ndarray, labels: jnp.ndarray) -> jnp.ndarray:\n",
    "    y_hat = model.apply(params, batch)\n",
    "\n",
    "    loss_value = optax.softmax_cross_entropy_with_integer_labels(y_hat, labels).sum(axis=-1)\n",
    "\n",
    "    return loss_value.mean()"
   ]
  },
  {
   "cell_type": "code",
   "execution_count": 1166,
   "id": "a55c696c-14bc-42da-af8b-8bb22f4e298d",
   "metadata": {
    "tags": []
   },
   "outputs": [],
   "source": [
    "batch_size = 128\n",
    "\n",
    "batch_idx = np.arange(batch_size*(len(embs_train) // batch_size))\n",
    "batch_idx = np.reshape(batch_idx, (-1, batch_size)) "
   ]
  },
  {
   "cell_type": "code",
   "execution_count": 1177,
   "id": "9321486a-44e1-48b1-9a6b-ff8fe10902bb",
   "metadata": {
    "tags": []
   },
   "outputs": [],
   "source": [
    "model = Classifier(num_hidden=[150, 50, 5], num_outputs=2)"
   ]
  },
  {
   "cell_type": "code",
   "execution_count": 1178,
   "id": "14471d7f-9c6c-42ac-9e78-f36ceac63144",
   "metadata": {
    "tags": []
   },
   "outputs": [],
   "source": [
    "rng = jax.random.PRNGKey(12345)\n",
    "\n",
    "rng, inp_rng, init_rng = jax.random.split(rng, 3)\n",
    "inp = jax.random.normal(inp_rng, (batch_size, embs_eval.shape[1]))\n",
    "initial_params = model.init(init_rng, inp)"
   ]
  },
  {
   "cell_type": "code",
   "execution_count": 1180,
   "id": "c8857dd3-e0fb-4b13-bf98-12e67a28d763",
   "metadata": {
    "tags": []
   },
   "outputs": [
    {
     "data": {
      "text/plain": [
       "(768, 150)"
      ]
     },
     "execution_count": 1180,
     "metadata": {},
     "output_type": "execute_result"
    }
   ],
   "source": [
    "for layer in initial_params['params'].keys():\n",
    "initial_params['params']['Dense_0']['kernel'].shape"
   ]
  },
  {
   "cell_type": "code",
   "execution_count": 1174,
   "id": "c7574b2d-4761-4290-ae4d-1bbcac25265a",
   "metadata": {
    "tags": []
   },
   "outputs": [],
   "source": [
    "@jax.jit\n",
    "def step(params, opt_state, batch, labels):\n",
    "    loss_value, grads = jax.value_and_grad(loss)(params, batch, labels)\n",
    "    updates, opt_state = optimizer.update(grads, opt_state, params)\n",
    "    params = optax.apply_updates(params, updates)\n",
    "    return params, opt_state, loss_value\n",
    "\n",
    "schedule = optax.warmup_cosine_decay_schedule(\n",
    "  init_value=1e-5,\n",
    "  peak_value=1e-3,\n",
    "  warmup_steps=500,\n",
    "  decay_steps=20000,\n",
    "  end_value=5e-4,\n",
    ")\n",
    "\n",
    "optimizer = optax.chain(\n",
    "  optax.clip(1.0),\n",
    "  optax.adamw(learning_rate=schedule),\n",
    ")\n",
    "\n",
    "optimizer = optax.adam(learning_rate=schedule)\n",
    "opt_state = optimizer.init(initial_params)\n",
    "\n",
    "params = initial_params\n",
    "\n",
    "e_loss=[]\n",
    "e_acc = []\n",
    "\n",
    "i_epoch = 0"
   ]
  },
  {
   "cell_type": "code",
   "execution_count": 1175,
   "id": "8731c111-78ab-446a-98c0-05217b5b6fdd",
   "metadata": {
    "tags": []
   },
   "outputs": [
    {
     "name": "stdout",
     "output_type": "stream",
     "text": [
      "epoch 0, loss: 80.06342315673828, eval_acc: 0.720\n",
      "epoch 1, loss: 58.29845428466797, eval_acc: 0.766\n",
      "epoch 2, loss: 54.273441314697266, eval_acc: 0.773\n",
      "epoch 3, loss: 53.33407974243164, eval_acc: 0.775\n",
      "epoch 4, loss: 52.84786605834961, eval_acc: 0.781\n",
      "epoch 5, loss: 52.492923736572266, eval_acc: 0.778\n",
      "epoch 6, loss: 52.23831558227539, eval_acc: 0.779\n",
      "epoch 7, loss: 52.0628547668457, eval_acc: 0.783\n",
      "epoch 8, loss: 51.91703796386719, eval_acc: 0.784\n",
      "epoch 9, loss: 51.79835891723633, eval_acc: 0.780\n"
     ]
    }
   ],
   "source": [
    "num_epochs = 10\n",
    "\n",
    "for epoch in range(num_epochs):\n",
    "    losses = []\n",
    "    for i, idx in enumerate(batch_idx):\n",
    "        batch, labels = embs_train[idx], l_train[idx]\n",
    "        params, opt_state, loss_value = step(params, opt_state, batch, labels)\n",
    "        losses.append(loss_value)\n",
    "    e_loss.append(np.mean(losses))\n",
    "    e_acc.append(float(np.sum(model.apply(params, embs_eval).argmax(axis=1) == l_eval) / len(eval_embeddings['labels'])))\n",
    "    print(f'epoch {i_epoch + epoch}, loss: {e_loss[-1]}, eval_acc: {e_acc[-1]:.3f}')\n",
    "    \n",
    "i_epoch += num_epochs"
   ]
  },
  {
   "cell_type": "code",
   "execution_count": 1143,
   "id": "23c6e7c0-ee2b-4fb4-b4d4-fb1ca055df18",
   "metadata": {
    "tags": []
   },
   "outputs": [
    {
     "data": {
      "application/vnd.plotly.v1+json": {
       "config": {
        "plotlyServerURL": "https://plot.ly"
       },
       "data": [
        {
         "hovertemplate": "variable=wide_variable_0<br>index=%{x}<br>value=%{y}<extra></extra>",
         "legendgroup": "wide_variable_0",
         "marker": {
          "color": "#636efa",
          "symbol": "circle"
         },
         "mode": "markers",
         "name": "wide_variable_0",
         "orientation": "v",
         "showlegend": true,
         "type": "scatter",
         "x": [
          0,
          1,
          2,
          3,
          4,
          5,
          6,
          7,
          8,
          9,
          10,
          11,
          12,
          13,
          14,
          15,
          16,
          17,
          18,
          19,
          20,
          21,
          22,
          23,
          24,
          25,
          26,
          27,
          28,
          29
         ],
         "xaxis": "x",
         "y": [
          1,
          0.9620944261550903,
          0.9316831231117249,
          0.8775215744972229,
          0.8032964468002319,
          0.7304975390434265,
          0.6741478443145752,
          0.6407572627067566,
          0.6223025321960449,
          0.609892725944519,
          0.6035425662994385,
          0.5972860455513,
          0.5942036509513855,
          0.5902650356292725,
          0.5880816578865051,
          0.5859622955322266,
          0.5845540761947632,
          0.5828161239624023,
          0.5818465352058411,
          0.5803442001342773,
          0.5795050263404846,
          0.5786260962486267,
          0.5780292749404907,
          0.5773827433586121,
          0.5771201848983765,
          0.5769620537757874,
          0.5766782760620117,
          0.5764493942260742,
          0.5763216614723206,
          0.5762443542480469
         ],
         "yaxis": "y"
        },
        {
         "hovertemplate": "variable=wide_variable_1<br>index=%{x}<br>value=%{y}<extra></extra>",
         "legendgroup": "wide_variable_1",
         "marker": {
          "color": "#EF553B",
          "symbol": "circle"
         },
         "mode": "markers",
         "name": "wide_variable_1",
         "orientation": "v",
         "showlegend": true,
         "type": "scatter",
         "x": [
          0,
          1,
          2,
          3,
          4,
          5,
          6,
          7,
          8,
          9,
          10,
          11,
          12,
          13,
          14,
          15,
          16,
          17,
          18,
          19,
          20,
          21,
          22,
          23,
          24,
          25,
          26,
          27,
          28,
          29
         ],
         "xaxis": "x",
         "y": [
          0.5091742873191833,
          0.5091742873191833,
          0.517201840877533,
          0.627293586730957,
          0.6983944773674011,
          0.7247706651687622,
          0.73050457239151,
          0.7316513657569885,
          0.7396789193153381,
          0.752293586730957,
          0.7614678740501404,
          0.7419725060462952,
          0.7649082541465759,
          0.7603210806846619,
          0.7614678740501404,
          0.7557339668273926,
          0.7603210806846619,
          0.7591742873191833,
          0.7626146674156189,
          0.771789014339447,
          0.7603210806846619,
          0.7591742873191833,
          0.7626146674156189,
          0.7614678740501404,
          0.7683486342430115,
          0.7614678740501404,
          0.7614678740501404,
          0.7614678740501404,
          0.7626146674156189,
          0.7626146674156189
         ],
         "yaxis": "y"
        }
       ],
       "layout": {
        "autosize": true,
        "legend": {
         "title": {
          "text": "variable"
         },
         "tracegroupgap": 0
        },
        "margin": {
         "t": 60
        },
        "template": {
         "data": {
          "bar": [
           {
            "error_x": {
             "color": "#2a3f5f"
            },
            "error_y": {
             "color": "#2a3f5f"
            },
            "marker": {
             "line": {
              "color": "#E5ECF6",
              "width": 0.5
             },
             "pattern": {
              "fillmode": "overlay",
              "size": 10,
              "solidity": 0.2
             }
            },
            "type": "bar"
           }
          ],
          "barpolar": [
           {
            "marker": {
             "line": {
              "color": "#E5ECF6",
              "width": 0.5
             },
             "pattern": {
              "fillmode": "overlay",
              "size": 10,
              "solidity": 0.2
             }
            },
            "type": "barpolar"
           }
          ],
          "carpet": [
           {
            "aaxis": {
             "endlinecolor": "#2a3f5f",
             "gridcolor": "white",
             "linecolor": "white",
             "minorgridcolor": "white",
             "startlinecolor": "#2a3f5f"
            },
            "baxis": {
             "endlinecolor": "#2a3f5f",
             "gridcolor": "white",
             "linecolor": "white",
             "minorgridcolor": "white",
             "startlinecolor": "#2a3f5f"
            },
            "type": "carpet"
           }
          ],
          "choropleth": [
           {
            "colorbar": {
             "outlinewidth": 0,
             "ticks": ""
            },
            "type": "choropleth"
           }
          ],
          "contour": [
           {
            "colorbar": {
             "outlinewidth": 0,
             "ticks": ""
            },
            "colorscale": [
             [
              0,
              "#0d0887"
             ],
             [
              0.1111111111111111,
              "#46039f"
             ],
             [
              0.2222222222222222,
              "#7201a8"
             ],
             [
              0.3333333333333333,
              "#9c179e"
             ],
             [
              0.4444444444444444,
              "#bd3786"
             ],
             [
              0.5555555555555556,
              "#d8576b"
             ],
             [
              0.6666666666666666,
              "#ed7953"
             ],
             [
              0.7777777777777778,
              "#fb9f3a"
             ],
             [
              0.8888888888888888,
              "#fdca26"
             ],
             [
              1,
              "#f0f921"
             ]
            ],
            "type": "contour"
           }
          ],
          "contourcarpet": [
           {
            "colorbar": {
             "outlinewidth": 0,
             "ticks": ""
            },
            "type": "contourcarpet"
           }
          ],
          "heatmap": [
           {
            "colorbar": {
             "outlinewidth": 0,
             "ticks": ""
            },
            "colorscale": [
             [
              0,
              "#0d0887"
             ],
             [
              0.1111111111111111,
              "#46039f"
             ],
             [
              0.2222222222222222,
              "#7201a8"
             ],
             [
              0.3333333333333333,
              "#9c179e"
             ],
             [
              0.4444444444444444,
              "#bd3786"
             ],
             [
              0.5555555555555556,
              "#d8576b"
             ],
             [
              0.6666666666666666,
              "#ed7953"
             ],
             [
              0.7777777777777778,
              "#fb9f3a"
             ],
             [
              0.8888888888888888,
              "#fdca26"
             ],
             [
              1,
              "#f0f921"
             ]
            ],
            "type": "heatmap"
           }
          ],
          "heatmapgl": [
           {
            "colorbar": {
             "outlinewidth": 0,
             "ticks": ""
            },
            "colorscale": [
             [
              0,
              "#0d0887"
             ],
             [
              0.1111111111111111,
              "#46039f"
             ],
             [
              0.2222222222222222,
              "#7201a8"
             ],
             [
              0.3333333333333333,
              "#9c179e"
             ],
             [
              0.4444444444444444,
              "#bd3786"
             ],
             [
              0.5555555555555556,
              "#d8576b"
             ],
             [
              0.6666666666666666,
              "#ed7953"
             ],
             [
              0.7777777777777778,
              "#fb9f3a"
             ],
             [
              0.8888888888888888,
              "#fdca26"
             ],
             [
              1,
              "#f0f921"
             ]
            ],
            "type": "heatmapgl"
           }
          ],
          "histogram": [
           {
            "marker": {
             "pattern": {
              "fillmode": "overlay",
              "size": 10,
              "solidity": 0.2
             }
            },
            "type": "histogram"
           }
          ],
          "histogram2d": [
           {
            "colorbar": {
             "outlinewidth": 0,
             "ticks": ""
            },
            "colorscale": [
             [
              0,
              "#0d0887"
             ],
             [
              0.1111111111111111,
              "#46039f"
             ],
             [
              0.2222222222222222,
              "#7201a8"
             ],
             [
              0.3333333333333333,
              "#9c179e"
             ],
             [
              0.4444444444444444,
              "#bd3786"
             ],
             [
              0.5555555555555556,
              "#d8576b"
             ],
             [
              0.6666666666666666,
              "#ed7953"
             ],
             [
              0.7777777777777778,
              "#fb9f3a"
             ],
             [
              0.8888888888888888,
              "#fdca26"
             ],
             [
              1,
              "#f0f921"
             ]
            ],
            "type": "histogram2d"
           }
          ],
          "histogram2dcontour": [
           {
            "colorbar": {
             "outlinewidth": 0,
             "ticks": ""
            },
            "colorscale": [
             [
              0,
              "#0d0887"
             ],
             [
              0.1111111111111111,
              "#46039f"
             ],
             [
              0.2222222222222222,
              "#7201a8"
             ],
             [
              0.3333333333333333,
              "#9c179e"
             ],
             [
              0.4444444444444444,
              "#bd3786"
             ],
             [
              0.5555555555555556,
              "#d8576b"
             ],
             [
              0.6666666666666666,
              "#ed7953"
             ],
             [
              0.7777777777777778,
              "#fb9f3a"
             ],
             [
              0.8888888888888888,
              "#fdca26"
             ],
             [
              1,
              "#f0f921"
             ]
            ],
            "type": "histogram2dcontour"
           }
          ],
          "mesh3d": [
           {
            "colorbar": {
             "outlinewidth": 0,
             "ticks": ""
            },
            "type": "mesh3d"
           }
          ],
          "parcoords": [
           {
            "line": {
             "colorbar": {
              "outlinewidth": 0,
              "ticks": ""
             }
            },
            "type": "parcoords"
           }
          ],
          "pie": [
           {
            "automargin": true,
            "type": "pie"
           }
          ],
          "scatter": [
           {
            "fillpattern": {
             "fillmode": "overlay",
             "size": 10,
             "solidity": 0.2
            },
            "type": "scatter"
           }
          ],
          "scatter3d": [
           {
            "line": {
             "colorbar": {
              "outlinewidth": 0,
              "ticks": ""
             }
            },
            "marker": {
             "colorbar": {
              "outlinewidth": 0,
              "ticks": ""
             }
            },
            "type": "scatter3d"
           }
          ],
          "scattercarpet": [
           {
            "marker": {
             "colorbar": {
              "outlinewidth": 0,
              "ticks": ""
             }
            },
            "type": "scattercarpet"
           }
          ],
          "scattergeo": [
           {
            "marker": {
             "colorbar": {
              "outlinewidth": 0,
              "ticks": ""
             }
            },
            "type": "scattergeo"
           }
          ],
          "scattergl": [
           {
            "marker": {
             "colorbar": {
              "outlinewidth": 0,
              "ticks": ""
             }
            },
            "type": "scattergl"
           }
          ],
          "scattermapbox": [
           {
            "marker": {
             "colorbar": {
              "outlinewidth": 0,
              "ticks": ""
             }
            },
            "type": "scattermapbox"
           }
          ],
          "scatterpolar": [
           {
            "marker": {
             "colorbar": {
              "outlinewidth": 0,
              "ticks": ""
             }
            },
            "type": "scatterpolar"
           }
          ],
          "scatterpolargl": [
           {
            "marker": {
             "colorbar": {
              "outlinewidth": 0,
              "ticks": ""
             }
            },
            "type": "scatterpolargl"
           }
          ],
          "scatterternary": [
           {
            "marker": {
             "colorbar": {
              "outlinewidth": 0,
              "ticks": ""
             }
            },
            "type": "scatterternary"
           }
          ],
          "surface": [
           {
            "colorbar": {
             "outlinewidth": 0,
             "ticks": ""
            },
            "colorscale": [
             [
              0,
              "#0d0887"
             ],
             [
              0.1111111111111111,
              "#46039f"
             ],
             [
              0.2222222222222222,
              "#7201a8"
             ],
             [
              0.3333333333333333,
              "#9c179e"
             ],
             [
              0.4444444444444444,
              "#bd3786"
             ],
             [
              0.5555555555555556,
              "#d8576b"
             ],
             [
              0.6666666666666666,
              "#ed7953"
             ],
             [
              0.7777777777777778,
              "#fb9f3a"
             ],
             [
              0.8888888888888888,
              "#fdca26"
             ],
             [
              1,
              "#f0f921"
             ]
            ],
            "type": "surface"
           }
          ],
          "table": [
           {
            "cells": {
             "fill": {
              "color": "#EBF0F8"
             },
             "line": {
              "color": "white"
             }
            },
            "header": {
             "fill": {
              "color": "#C8D4E3"
             },
             "line": {
              "color": "white"
             }
            },
            "type": "table"
           }
          ]
         },
         "layout": {
          "annotationdefaults": {
           "arrowcolor": "#2a3f5f",
           "arrowhead": 0,
           "arrowwidth": 1
          },
          "autotypenumbers": "strict",
          "coloraxis": {
           "colorbar": {
            "outlinewidth": 0,
            "ticks": ""
           }
          },
          "colorscale": {
           "diverging": [
            [
             0,
             "#8e0152"
            ],
            [
             0.1,
             "#c51b7d"
            ],
            [
             0.2,
             "#de77ae"
            ],
            [
             0.3,
             "#f1b6da"
            ],
            [
             0.4,
             "#fde0ef"
            ],
            [
             0.5,
             "#f7f7f7"
            ],
            [
             0.6,
             "#e6f5d0"
            ],
            [
             0.7,
             "#b8e186"
            ],
            [
             0.8,
             "#7fbc41"
            ],
            [
             0.9,
             "#4d9221"
            ],
            [
             1,
             "#276419"
            ]
           ],
           "sequential": [
            [
             0,
             "#0d0887"
            ],
            [
             0.1111111111111111,
             "#46039f"
            ],
            [
             0.2222222222222222,
             "#7201a8"
            ],
            [
             0.3333333333333333,
             "#9c179e"
            ],
            [
             0.4444444444444444,
             "#bd3786"
            ],
            [
             0.5555555555555556,
             "#d8576b"
            ],
            [
             0.6666666666666666,
             "#ed7953"
            ],
            [
             0.7777777777777778,
             "#fb9f3a"
            ],
            [
             0.8888888888888888,
             "#fdca26"
            ],
            [
             1,
             "#f0f921"
            ]
           ],
           "sequentialminus": [
            [
             0,
             "#0d0887"
            ],
            [
             0.1111111111111111,
             "#46039f"
            ],
            [
             0.2222222222222222,
             "#7201a8"
            ],
            [
             0.3333333333333333,
             "#9c179e"
            ],
            [
             0.4444444444444444,
             "#bd3786"
            ],
            [
             0.5555555555555556,
             "#d8576b"
            ],
            [
             0.6666666666666666,
             "#ed7953"
            ],
            [
             0.7777777777777778,
             "#fb9f3a"
            ],
            [
             0.8888888888888888,
             "#fdca26"
            ],
            [
             1,
             "#f0f921"
            ]
           ]
          },
          "colorway": [
           "#636efa",
           "#EF553B",
           "#00cc96",
           "#ab63fa",
           "#FFA15A",
           "#19d3f3",
           "#FF6692",
           "#B6E880",
           "#FF97FF",
           "#FECB52"
          ],
          "font": {
           "color": "#2a3f5f"
          },
          "geo": {
           "bgcolor": "white",
           "lakecolor": "white",
           "landcolor": "#E5ECF6",
           "showlakes": true,
           "showland": true,
           "subunitcolor": "white"
          },
          "hoverlabel": {
           "align": "left"
          },
          "hovermode": "closest",
          "mapbox": {
           "style": "light"
          },
          "paper_bgcolor": "white",
          "plot_bgcolor": "#E5ECF6",
          "polar": {
           "angularaxis": {
            "gridcolor": "white",
            "linecolor": "white",
            "ticks": ""
           },
           "bgcolor": "#E5ECF6",
           "radialaxis": {
            "gridcolor": "white",
            "linecolor": "white",
            "ticks": ""
           }
          },
          "scene": {
           "xaxis": {
            "backgroundcolor": "#E5ECF6",
            "gridcolor": "white",
            "gridwidth": 2,
            "linecolor": "white",
            "showbackground": true,
            "ticks": "",
            "zerolinecolor": "white"
           },
           "yaxis": {
            "backgroundcolor": "#E5ECF6",
            "gridcolor": "white",
            "gridwidth": 2,
            "linecolor": "white",
            "showbackground": true,
            "ticks": "",
            "zerolinecolor": "white"
           },
           "zaxis": {
            "backgroundcolor": "#E5ECF6",
            "gridcolor": "white",
            "gridwidth": 2,
            "linecolor": "white",
            "showbackground": true,
            "ticks": "",
            "zerolinecolor": "white"
           }
          },
          "shapedefaults": {
           "line": {
            "color": "#2a3f5f"
           }
          },
          "ternary": {
           "aaxis": {
            "gridcolor": "white",
            "linecolor": "white",
            "ticks": ""
           },
           "baxis": {
            "gridcolor": "white",
            "linecolor": "white",
            "ticks": ""
           },
           "bgcolor": "#E5ECF6",
           "caxis": {
            "gridcolor": "white",
            "linecolor": "white",
            "ticks": ""
           }
          },
          "title": {
           "x": 0.05
          },
          "xaxis": {
           "automargin": true,
           "gridcolor": "white",
           "linecolor": "white",
           "ticks": "",
           "title": {
            "standoff": 15
           },
           "zerolinecolor": "white",
           "zerolinewidth": 2
          },
          "yaxis": {
           "automargin": true,
           "gridcolor": "white",
           "linecolor": "white",
           "ticks": "",
           "title": {
            "standoff": 15
           },
           "zerolinecolor": "white",
           "zerolinewidth": 2
          }
         }
        },
        "xaxis": {
         "anchor": "y",
         "autorange": true,
         "domain": [
          0,
          1
         ],
         "range": [
          -1.742010616401257,
          30.742010616401256
         ],
         "title": {
          "text": "index"
         },
         "type": "linear"
        },
        "yaxis": {
         "anchor": "x",
         "autorange": true,
         "domain": [
          0,
          1
         ],
         "range": [
          0.4711707216391726,
          1.0380035656800108
         ],
         "title": {
          "text": "value"
         },
         "type": "linear"
        }
       }
      },
      "image/png": "[encoded data removed]",
      "text/html": [
       "<div>                            <div id=\"5ea87634-3e07-419f-aa15-8d98a7eca518\" class=\"plotly-graph-div\" style=\"height:525px; width:100%;\"></div>            <script type=\"text/javascript\">                require([\"plotly\"], function(Plotly) {                    window.PLOTLYENV=window.PLOTLYENV || {};                                    if (document.getElementById(\"5ea87634-3e07-419f-aa15-8d98a7eca518\")) {                    Plotly.newPlot(                        \"5ea87634-3e07-419f-aa15-8d98a7eca518\",                        [{\"hovertemplate\":\"variable=wide_variable_0<br>index=%{x}<br>value=%{y}<extra></extra>\",\"legendgroup\":\"wide_variable_0\",\"marker\":{\"color\":\"#636efa\",\"symbol\":\"circle\"},\"mode\":\"markers\",\"name\":\"wide_variable_0\",\"orientation\":\"v\",\"showlegend\":true,\"x\":[0,1,2,3,4,5,6,7,8,9,10,11,12,13,14,15,16,17,18,19,20,21,22,23,24,25,26,27,28,29],\"xaxis\":\"x\",\"y\":[1.0,0.9620944261550903,0.9316831231117249,0.8775215744972229,0.8032964468002319,0.7304975390434265,0.6741478443145752,0.6407572627067566,0.6223025321960449,0.609892725944519,0.6035425662994385,0.5972860455513,0.5942036509513855,0.5902650356292725,0.5880816578865051,0.5859622955322266,0.5845540761947632,0.5828161239624023,0.5818465352058411,0.5803442001342773,0.5795050263404846,0.5786260962486267,0.5780292749404907,0.5773827433586121,0.5771201848983765,0.5769620537757874,0.5766782760620117,0.5764493942260742,0.5763216614723206,0.5762443542480469],\"yaxis\":\"y\",\"type\":\"scatter\"},{\"hovertemplate\":\"variable=wide_variable_1<br>index=%{x}<br>value=%{y}<extra></extra>\",\"legendgroup\":\"wide_variable_1\",\"marker\":{\"color\":\"#EF553B\",\"symbol\":\"circle\"},\"mode\":\"markers\",\"name\":\"wide_variable_1\",\"orientation\":\"v\",\"showlegend\":true,\"x\":[0,1,2,3,4,5,6,7,8,9,10,11,12,13,14,15,16,17,18,19,20,21,22,23,24,25,26,27,28,29],\"xaxis\":\"x\",\"y\":[0.5091742873191833,0.5091742873191833,0.517201840877533,0.627293586730957,0.6983944773674011,0.7247706651687622,0.73050457239151,0.7316513657569885,0.7396789193153381,0.752293586730957,0.7614678740501404,0.7419725060462952,0.7649082541465759,0.7603210806846619,0.7614678740501404,0.7557339668273926,0.7603210806846619,0.7591742873191833,0.7626146674156189,0.771789014339447,0.7603210806846619,0.7591742873191833,0.7626146674156189,0.7614678740501404,0.7683486342430115,0.7614678740501404,0.7614678740501404,0.7614678740501404,0.7626146674156189,0.7626146674156189],\"yaxis\":\"y\",\"type\":\"scatter\"}],                        {\"template\":{\"data\":{\"histogram2dcontour\":[{\"type\":\"histogram2dcontour\",\"colorbar\":{\"outlinewidth\":0,\"ticks\":\"\"},\"colorscale\":[[0.0,\"#0d0887\"],[0.1111111111111111,\"#46039f\"],[0.2222222222222222,\"#7201a8\"],[0.3333333333333333,\"#9c179e\"],[0.4444444444444444,\"#bd3786\"],[0.5555555555555556,\"#d8576b\"],[0.6666666666666666,\"#ed7953\"],[0.7777777777777778,\"#fb9f3a\"],[0.8888888888888888,\"#fdca26\"],[1.0,\"#f0f921\"]]}],\"choropleth\":[{\"type\":\"choropleth\",\"colorbar\":{\"outlinewidth\":0,\"ticks\":\"\"}}],\"histogram2d\":[{\"type\":\"histogram2d\",\"colorbar\":{\"outlinewidth\":0,\"ticks\":\"\"},\"colorscale\":[[0.0,\"#0d0887\"],[0.1111111111111111,\"#46039f\"],[0.2222222222222222,\"#7201a8\"],[0.3333333333333333,\"#9c179e\"],[0.4444444444444444,\"#bd3786\"],[0.5555555555555556,\"#d8576b\"],[0.6666666666666666,\"#ed7953\"],[0.7777777777777778,\"#fb9f3a\"],[0.8888888888888888,\"#fdca26\"],[1.0,\"#f0f921\"]]}],\"heatmap\":[{\"type\":\"heatmap\",\"colorbar\":{\"outlinewidth\":0,\"ticks\":\"\"},\"colorscale\":[[0.0,\"#0d0887\"],[0.1111111111111111,\"#46039f\"],[0.2222222222222222,\"#7201a8\"],[0.3333333333333333,\"#9c179e\"],[0.4444444444444444,\"#bd3786\"],[0.5555555555555556,\"#d8576b\"],[0.6666666666666666,\"#ed7953\"],[0.7777777777777778,\"#fb9f3a\"],[0.8888888888888888,\"#fdca26\"],[1.0,\"#f0f921\"]]}],\"heatmapgl\":[{\"type\":\"heatmapgl\",\"colorbar\":{\"outlinewidth\":0,\"ticks\":\"\"},\"colorscale\":[[0.0,\"#0d0887\"],[0.1111111111111111,\"#46039f\"],[0.2222222222222222,\"#7201a8\"],[0.3333333333333333,\"#9c179e\"],[0.4444444444444444,\"#bd3786\"],[0.5555555555555556,\"#d8576b\"],[0.6666666666666666,\"#ed7953\"],[0.7777777777777778,\"#fb9f3a\"],[0.8888888888888888,\"#fdca26\"],[1.0,\"#f0f921\"]]}],\"contourcarpet\":[{\"type\":\"contourcarpet\",\"colorbar\":{\"outlinewidth\":0,\"ticks\":\"\"}}],\"contour\":[{\"type\":\"contour\",\"colorbar\":{\"outlinewidth\":0,\"ticks\":\"\"},\"colorscale\":[[0.0,\"#0d0887\"],[0.1111111111111111,\"#46039f\"],[0.2222222222222222,\"#7201a8\"],[0.3333333333333333,\"#9c179e\"],[0.4444444444444444,\"#bd3786\"],[0.5555555555555556,\"#d8576b\"],[0.6666666666666666,\"#ed7953\"],[0.7777777777777778,\"#fb9f3a\"],[0.8888888888888888,\"#fdca26\"],[1.0,\"#f0f921\"]]}],\"surface\":[{\"type\":\"surface\",\"colorbar\":{\"outlinewidth\":0,\"ticks\":\"\"},\"colorscale\":[[0.0,\"#0d0887\"],[0.1111111111111111,\"#46039f\"],[0.2222222222222222,\"#7201a8\"],[0.3333333333333333,\"#9c179e\"],[0.4444444444444444,\"#bd3786\"],[0.5555555555555556,\"#d8576b\"],[0.6666666666666666,\"#ed7953\"],[0.7777777777777778,\"#fb9f3a\"],[0.8888888888888888,\"#fdca26\"],[1.0,\"#f0f921\"]]}],\"mesh3d\":[{\"type\":\"mesh3d\",\"colorbar\":{\"outlinewidth\":0,\"ticks\":\"\"}}],\"scatter\":[{\"fillpattern\":{\"fillmode\":\"overlay\",\"size\":10,\"solidity\":0.2},\"type\":\"scatter\"}],\"parcoords\":[{\"type\":\"parcoords\",\"line\":{\"colorbar\":{\"outlinewidth\":0,\"ticks\":\"\"}}}],\"scatterpolargl\":[{\"type\":\"scatterpolargl\",\"marker\":{\"colorbar\":{\"outlinewidth\":0,\"ticks\":\"\"}}}],\"bar\":[{\"error_x\":{\"color\":\"#2a3f5f\"},\"error_y\":{\"color\":\"#2a3f5f\"},\"marker\":{\"line\":{\"color\":\"#E5ECF6\",\"width\":0.5},\"pattern\":{\"fillmode\":\"overlay\",\"size\":10,\"solidity\":0.2}},\"type\":\"bar\"}],\"scattergeo\":[{\"type\":\"scattergeo\",\"marker\":{\"colorbar\":{\"outlinewidth\":0,\"ticks\":\"\"}}}],\"scatterpolar\":[{\"type\":\"scatterpolar\",\"marker\":{\"colorbar\":{\"outlinewidth\":0,\"ticks\":\"\"}}}],\"histogram\":[{\"marker\":{\"pattern\":{\"fillmode\":\"overlay\",\"size\":10,\"solidity\":0.2}},\"type\":\"histogram\"}],\"scattergl\":[{\"type\":\"scattergl\",\"marker\":{\"colorbar\":{\"outlinewidth\":0,\"ticks\":\"\"}}}],\"scatter3d\":[{\"type\":\"scatter3d\",\"line\":{\"colorbar\":{\"outlinewidth\":0,\"ticks\":\"\"}},\"marker\":{\"colorbar\":{\"outlinewidth\":0,\"ticks\":\"\"}}}],\"scattermapbox\":[{\"type\":\"scattermapbox\",\"marker\":{\"colorbar\":{\"outlinewidth\":0,\"ticks\":\"\"}}}],\"scatterternary\":[{\"type\":\"scatterternary\",\"marker\":{\"colorbar\":{\"outlinewidth\":0,\"ticks\":\"\"}}}],\"scattercarpet\":[{\"type\":\"scattercarpet\",\"marker\":{\"colorbar\":{\"outlinewidth\":0,\"ticks\":\"\"}}}],\"carpet\":[{\"aaxis\":{\"endlinecolor\":\"#2a3f5f\",\"gridcolor\":\"white\",\"linecolor\":\"white\",\"minorgridcolor\":\"white\",\"startlinecolor\":\"#2a3f5f\"},\"baxis\":{\"endlinecolor\":\"#2a3f5f\",\"gridcolor\":\"white\",\"linecolor\":\"white\",\"minorgridcolor\":\"white\",\"startlinecolor\":\"#2a3f5f\"},\"type\":\"carpet\"}],\"table\":[{\"cells\":{\"fill\":{\"color\":\"#EBF0F8\"},\"line\":{\"color\":\"white\"}},\"header\":{\"fill\":{\"color\":\"#C8D4E3\"},\"line\":{\"color\":\"white\"}},\"type\":\"table\"}],\"barpolar\":[{\"marker\":{\"line\":{\"color\":\"#E5ECF6\",\"width\":0.5},\"pattern\":{\"fillmode\":\"overlay\",\"size\":10,\"solidity\":0.2}},\"type\":\"barpolar\"}],\"pie\":[{\"automargin\":true,\"type\":\"pie\"}]},\"layout\":{\"autotypenumbers\":\"strict\",\"colorway\":[\"#636efa\",\"#EF553B\",\"#00cc96\",\"#ab63fa\",\"#FFA15A\",\"#19d3f3\",\"#FF6692\",\"#B6E880\",\"#FF97FF\",\"#FECB52\"],\"font\":{\"color\":\"#2a3f5f\"},\"hovermode\":\"closest\",\"hoverlabel\":{\"align\":\"left\"},\"paper_bgcolor\":\"white\",\"plot_bgcolor\":\"#E5ECF6\",\"polar\":{\"bgcolor\":\"#E5ECF6\",\"angularaxis\":{\"gridcolor\":\"white\",\"linecolor\":\"white\",\"ticks\":\"\"},\"radialaxis\":{\"gridcolor\":\"white\",\"linecolor\":\"white\",\"ticks\":\"\"}},\"ternary\":{\"bgcolor\":\"#E5ECF6\",\"aaxis\":{\"gridcolor\":\"white\",\"linecolor\":\"white\",\"ticks\":\"\"},\"baxis\":{\"gridcolor\":\"white\",\"linecolor\":\"white\",\"ticks\":\"\"},\"caxis\":{\"gridcolor\":\"white\",\"linecolor\":\"white\",\"ticks\":\"\"}},\"coloraxis\":{\"colorbar\":{\"outlinewidth\":0,\"ticks\":\"\"}},\"colorscale\":{\"sequential\":[[0.0,\"#0d0887\"],[0.1111111111111111,\"#46039f\"],[0.2222222222222222,\"#7201a8\"],[0.3333333333333333,\"#9c179e\"],[0.4444444444444444,\"#bd3786\"],[0.5555555555555556,\"#d8576b\"],[0.6666666666666666,\"#ed7953\"],[0.7777777777777778,\"#fb9f3a\"],[0.8888888888888888,\"#fdca26\"],[1.0,\"#f0f921\"]],\"sequentialminus\":[[0.0,\"#0d0887\"],[0.1111111111111111,\"#46039f\"],[0.2222222222222222,\"#7201a8\"],[0.3333333333333333,\"#9c179e\"],[0.4444444444444444,\"#bd3786\"],[0.5555555555555556,\"#d8576b\"],[0.6666666666666666,\"#ed7953\"],[0.7777777777777778,\"#fb9f3a\"],[0.8888888888888888,\"#fdca26\"],[1.0,\"#f0f921\"]],\"diverging\":[[0,\"#8e0152\"],[0.1,\"#c51b7d\"],[0.2,\"#de77ae\"],[0.3,\"#f1b6da\"],[0.4,\"#fde0ef\"],[0.5,\"#f7f7f7\"],[0.6,\"#e6f5d0\"],[0.7,\"#b8e186\"],[0.8,\"#7fbc41\"],[0.9,\"#4d9221\"],[1,\"#276419\"]]},\"xaxis\":{\"gridcolor\":\"white\",\"linecolor\":\"white\",\"ticks\":\"\",\"title\":{\"standoff\":15},\"zerolinecolor\":\"white\",\"automargin\":true,\"zerolinewidth\":2},\"yaxis\":{\"gridcolor\":\"white\",\"linecolor\":\"white\",\"ticks\":\"\",\"title\":{\"standoff\":15},\"zerolinecolor\":\"white\",\"automargin\":true,\"zerolinewidth\":2},\"scene\":{\"xaxis\":{\"backgroundcolor\":\"#E5ECF6\",\"gridcolor\":\"white\",\"linecolor\":\"white\",\"showbackground\":true,\"ticks\":\"\",\"zerolinecolor\":\"white\",\"gridwidth\":2},\"yaxis\":{\"backgroundcolor\":\"#E5ECF6\",\"gridcolor\":\"white\",\"linecolor\":\"white\",\"showbackground\":true,\"ticks\":\"\",\"zerolinecolor\":\"white\",\"gridwidth\":2},\"zaxis\":{\"backgroundcolor\":\"#E5ECF6\",\"gridcolor\":\"white\",\"linecolor\":\"white\",\"showbackground\":true,\"ticks\":\"\",\"zerolinecolor\":\"white\",\"gridwidth\":2}},\"shapedefaults\":{\"line\":{\"color\":\"#2a3f5f\"}},\"annotationdefaults\":{\"arrowcolor\":\"#2a3f5f\",\"arrowhead\":0,\"arrowwidth\":1},\"geo\":{\"bgcolor\":\"white\",\"landcolor\":\"#E5ECF6\",\"subunitcolor\":\"white\",\"showland\":true,\"showlakes\":true,\"lakecolor\":\"white\"},\"title\":{\"x\":0.05},\"mapbox\":{\"style\":\"light\"}}},\"xaxis\":{\"anchor\":\"y\",\"domain\":[0.0,1.0],\"title\":{\"text\":\"index\"}},\"yaxis\":{\"anchor\":\"x\",\"domain\":[0.0,1.0],\"title\":{\"text\":\"value\"}},\"legend\":{\"title\":{\"text\":\"variable\"},\"tracegroupgap\":0},\"margin\":{\"t\":60}},                        {\"responsive\": true}                    ).then(function(){\n",
       "                            \n",
       "var gd = document.getElementById('5ea87634-3e07-419f-aa15-8d98a7eca518');\n",
       "var x = new MutationObserver(function (mutations, observer) {{\n",
       "        var display = window.getComputedStyle(gd).display;\n",
       "        if (!display || display === 'none') {{\n",
       "            console.log([gd, 'removed!']);\n",
       "            Plotly.purge(gd);\n",
       "            observer.disconnect();\n",
       "        }}\n",
       "}});\n",
       "\n",
       "// Listen for the removal of the full notebook cells\n",
       "var notebookContainer = gd.closest('#notebook-container');\n",
       "if (notebookContainer) {{\n",
       "    x.observe(notebookContainer, {childList: true});\n",
       "}}\n",
       "\n",
       "// Listen for the clearing of the current output cell\n",
       "var outputEl = gd.closest('.output');\n",
       "if (outputEl) {{\n",
       "    x.observe(outputEl, {childList: true});\n",
       "}}\n",
       "\n",
       "                        })                };                });            </script>        </div>"
      ]
     },
     "metadata": {},
     "output_type": "display_data"
    }
   ],
   "source": [
    "px.scatter(y=[np.array(e_loss)/e_loss[0], e_acc])"
   ]
  },
  {
   "cell_type": "code",
   "execution_count": null,
   "id": "d8923179-a821-4b0a-be91-f185427d82f3",
   "metadata": {},
   "outputs": [],
   "source": []
  },
  {
   "cell_type": "markdown",
   "id": "28c400e8-d258-424f-ab61-9a7e2bd6c09f",
   "metadata": {
    "tags": []
   },
   "source": [
    "# SST-2 GloVe embeddings"
   ]
  },
  {
   "cell_type": "code",
   "execution_count": 192,
   "id": "f607044e-83fc-49b6-9121-3202e6cfc872",
   "metadata": {
    "tags": []
   },
   "outputs": [
    {
     "data": {
      "text/html": [
       "<div>\n",
       "<style scoped>\n",
       "    .dataframe tbody tr th:only-of-type {\n",
       "        vertical-align: middle;\n",
       "    }\n",
       "\n",
       "    .dataframe tbody tr th {\n",
       "        vertical-align: top;\n",
       "    }\n",
       "\n",
       "    .dataframe thead th {\n",
       "        text-align: right;\n",
       "    }\n",
       "</style>\n",
       "<table border=\"1\" class=\"dataframe\">\n",
       "  <thead>\n",
       "    <tr style=\"text-align: right;\">\n",
       "      <th></th>\n",
       "      <th>0</th>\n",
       "      <th>1</th>\n",
       "      <th>2</th>\n",
       "      <th>3</th>\n",
       "      <th>4</th>\n",
       "      <th>5</th>\n",
       "      <th>6</th>\n",
       "      <th>7</th>\n",
       "      <th>8</th>\n",
       "      <th>9</th>\n",
       "      <th>...</th>\n",
       "      <th>290</th>\n",
       "      <th>291</th>\n",
       "      <th>292</th>\n",
       "      <th>293</th>\n",
       "      <th>294</th>\n",
       "      <th>295</th>\n",
       "      <th>296</th>\n",
       "      <th>297</th>\n",
       "      <th>298</th>\n",
       "      <th>299</th>\n",
       "    </tr>\n",
       "  </thead>\n",
       "  <tbody>\n",
       "    <tr>\n",
       "      <th>,</th>\n",
       "      <td>-0.082752</td>\n",
       "      <td>0.672040</td>\n",
       "      <td>-0.14987</td>\n",
       "      <td>-0.064983</td>\n",
       "      <td>0.056491</td>\n",
       "      <td>0.402280</td>\n",
       "      <td>0.002775</td>\n",
       "      <td>-0.331100</td>\n",
       "      <td>-0.306910</td>\n",
       "      <td>2.0817</td>\n",
       "      <td>...</td>\n",
       "      <td>-0.14331</td>\n",
       "      <td>0.018267</td>\n",
       "      <td>-0.18643</td>\n",
       "      <td>0.207090</td>\n",
       "      <td>-0.355980</td>\n",
       "      <td>0.053380</td>\n",
       "      <td>-0.050821</td>\n",
       "      <td>-0.191800</td>\n",
       "      <td>-0.378460</td>\n",
       "      <td>-0.06589</td>\n",
       "    </tr>\n",
       "    <tr>\n",
       "      <th>.</th>\n",
       "      <td>0.012001</td>\n",
       "      <td>0.207510</td>\n",
       "      <td>-0.12578</td>\n",
       "      <td>-0.593250</td>\n",
       "      <td>0.125250</td>\n",
       "      <td>0.159750</td>\n",
       "      <td>0.137480</td>\n",
       "      <td>-0.331570</td>\n",
       "      <td>-0.136940</td>\n",
       "      <td>1.7893</td>\n",
       "      <td>...</td>\n",
       "      <td>0.16165</td>\n",
       "      <td>-0.066737</td>\n",
       "      <td>-0.29556</td>\n",
       "      <td>0.022612</td>\n",
       "      <td>-0.281350</td>\n",
       "      <td>0.063500</td>\n",
       "      <td>0.140190</td>\n",
       "      <td>0.138710</td>\n",
       "      <td>-0.360490</td>\n",
       "      <td>-0.03500</td>\n",
       "    </tr>\n",
       "    <tr>\n",
       "      <th>the</th>\n",
       "      <td>0.272040</td>\n",
       "      <td>-0.062030</td>\n",
       "      <td>-0.18840</td>\n",
       "      <td>0.023225</td>\n",
       "      <td>-0.018158</td>\n",
       "      <td>0.006719</td>\n",
       "      <td>-0.138770</td>\n",
       "      <td>0.177080</td>\n",
       "      <td>0.177090</td>\n",
       "      <td>2.5882</td>\n",
       "      <td>...</td>\n",
       "      <td>-0.42810</td>\n",
       "      <td>0.168990</td>\n",
       "      <td>0.22511</td>\n",
       "      <td>-0.285570</td>\n",
       "      <td>-0.102800</td>\n",
       "      <td>-0.018168</td>\n",
       "      <td>0.114070</td>\n",
       "      <td>0.130150</td>\n",
       "      <td>-0.183170</td>\n",
       "      <td>0.13230</td>\n",
       "    </tr>\n",
       "    <tr>\n",
       "      <th>and</th>\n",
       "      <td>-0.185670</td>\n",
       "      <td>0.066008</td>\n",
       "      <td>-0.25209</td>\n",
       "      <td>-0.117250</td>\n",
       "      <td>0.265130</td>\n",
       "      <td>0.064908</td>\n",
       "      <td>0.122910</td>\n",
       "      <td>-0.093979</td>\n",
       "      <td>0.024321</td>\n",
       "      <td>2.4926</td>\n",
       "      <td>...</td>\n",
       "      <td>-0.59396</td>\n",
       "      <td>-0.097729</td>\n",
       "      <td>0.20072</td>\n",
       "      <td>0.170550</td>\n",
       "      <td>-0.004736</td>\n",
       "      <td>-0.039709</td>\n",
       "      <td>0.324980</td>\n",
       "      <td>-0.023452</td>\n",
       "      <td>0.123020</td>\n",
       "      <td>0.33120</td>\n",
       "    </tr>\n",
       "    <tr>\n",
       "      <th>to</th>\n",
       "      <td>0.319240</td>\n",
       "      <td>0.063160</td>\n",
       "      <td>-0.27858</td>\n",
       "      <td>0.261200</td>\n",
       "      <td>0.079248</td>\n",
       "      <td>-0.214620</td>\n",
       "      <td>-0.104950</td>\n",
       "      <td>0.154950</td>\n",
       "      <td>-0.033530</td>\n",
       "      <td>2.4834</td>\n",
       "      <td>...</td>\n",
       "      <td>-0.12977</td>\n",
       "      <td>0.371300</td>\n",
       "      <td>0.18888</td>\n",
       "      <td>-0.004274</td>\n",
       "      <td>-0.106450</td>\n",
       "      <td>-0.258100</td>\n",
       "      <td>-0.044629</td>\n",
       "      <td>0.082745</td>\n",
       "      <td>0.097801</td>\n",
       "      <td>0.25045</td>\n",
       "    </tr>\n",
       "  </tbody>\n",
       "</table>\n",
       "<p>5 rows × 300 columns</p>\n",
       "</div>"
      ],
      "text/plain": [
       "          0         1        2         3         4         5         6    \\\n",
       ",   -0.082752  0.672040 -0.14987 -0.064983  0.056491  0.402280  0.002775   \n",
       ".    0.012001  0.207510 -0.12578 -0.593250  0.125250  0.159750  0.137480   \n",
       "the  0.272040 -0.062030 -0.18840  0.023225 -0.018158  0.006719 -0.138770   \n",
       "and -0.185670  0.066008 -0.25209 -0.117250  0.265130  0.064908  0.122910   \n",
       "to   0.319240  0.063160 -0.27858  0.261200  0.079248 -0.214620 -0.104950   \n",
       "\n",
       "          7         8       9    ...      290       291      292       293  \\\n",
       ",   -0.331100 -0.306910  2.0817  ... -0.14331  0.018267 -0.18643  0.207090   \n",
       ".   -0.331570 -0.136940  1.7893  ...  0.16165 -0.066737 -0.29556  0.022612   \n",
       "the  0.177080  0.177090  2.5882  ... -0.42810  0.168990  0.22511 -0.285570   \n",
       "and -0.093979  0.024321  2.4926  ... -0.59396 -0.097729  0.20072  0.170550   \n",
       "to   0.154950 -0.033530  2.4834  ... -0.12977  0.371300  0.18888 -0.004274   \n",
       "\n",
       "          294       295       296       297       298      299  \n",
       ",   -0.355980  0.053380 -0.050821 -0.191800 -0.378460 -0.06589  \n",
       ".   -0.281350  0.063500  0.140190  0.138710 -0.360490 -0.03500  \n",
       "the -0.102800 -0.018168  0.114070  0.130150 -0.183170  0.13230  \n",
       "and -0.004736 -0.039709  0.324980 -0.023452  0.123020  0.33120  \n",
       "to  -0.106450 -0.258100 -0.044629  0.082745  0.097801  0.25045  \n",
       "\n",
       "[5 rows x 300 columns]"
      ]
     },
     "execution_count": 192,
     "metadata": {},
     "output_type": "execute_result"
    }
   ],
   "source": [
    "embeddings_dict = {}\n",
    "with open(\"/Users/lara.thompson/cs224u/data/glove.840B.300d.txt\", 'r') as f:\n",
    "    for line in f:\n",
    "        values = line.split()\n",
    "        word = ''.join(values[:-300])\n",
    "        vector = np.asarray(values[-300:], \"float32\")\n",
    "        embeddings_dict[word] = vector\n",
    "        \n",
    "glove_df = pd.DataFrame(embeddings_dict).transpose()\n",
    "glove_df.head()"
   ]
  },
  {
   "cell_type": "code",
   "execution_count": 195,
   "id": "2d717d6a-a3b2-4ef0-bb9d-d6934420c343",
   "metadata": {
    "tags": []
   },
   "outputs": [
    {
     "name": "stderr",
     "output_type": "stream",
     "text": [
      "Reusing dataset glue (/Users/lara.thompson/.cache/huggingface/datasets/glue/sst2/1.0.0/dacbe3125aa31d7f70367a07a8a9e72a5a0bfeb5fc42e75c9db75b96da6053ad)\n"
     ]
    },
    {
     "data": {
      "application/vnd.jupyter.widget-view+json": {
       "model_id": "e88efc01df504a0ebdf506e98e7c7be8",
       "version_major": 2,
       "version_minor": 0
      },
      "text/plain": [
       "  0%|          | 0/3 [00:00<?, ?it/s]"
      ]
     },
     "metadata": {},
     "output_type": "display_data"
    }
   ],
   "source": [
    "raw_data, num_labels = get_glue_data('sst2')"
   ]
  },
  {
   "cell_type": "code",
   "execution_count": 233,
   "id": "2960ae25-d55e-4e49-be4d-c185dc0a6b89",
   "metadata": {
    "tags": []
   },
   "outputs": [
    {
     "data": {
      "text/plain": [
       "DatasetDict({\n",
       "    train: Dataset({\n",
       "        features: ['sentence', 'label', 'idx'],\n",
       "        num_rows: 67349\n",
       "    })\n",
       "    validation: Dataset({\n",
       "        features: ['sentence', 'label', 'idx'],\n",
       "        num_rows: 872\n",
       "    })\n",
       "    test: Dataset({\n",
       "        features: ['sentence', 'label', 'idx'],\n",
       "        num_rows: 1821\n",
       "    })\n",
       "})"
      ]
     },
     "execution_count": 233,
     "metadata": {},
     "output_type": "execute_result"
    }
   ],
   "source": [
    "raw_data"
   ]
  },
  {
   "cell_type": "code",
   "execution_count": 929,
   "id": "e75cc676-b9b7-4ed8-b2ab-ac71b8c8f4da",
   "metadata": {
    "tags": []
   },
   "outputs": [],
   "source": [
    "sentences = raw_data['validation']['sentence']\n",
    "# sentences = raw_data['train']['sentence']"
   ]
  },
  {
   "cell_type": "code",
   "execution_count": 930,
   "id": "a00b06c2-d93f-4de3-814e-78a6ff921487",
   "metadata": {
    "tags": []
   },
   "outputs": [],
   "source": [
    "w_embeddings = []\n",
    "for sentence in sentences:\n",
    "    w_freqs, w_embs = transform(sentence, word_freq, glove_df)\n",
    "    n_words = len(w_embs)\n",
    "    w_embs = np.array(w_embs[:64] + [np.zeros(300)]*max(0, 64-n_words))\n",
    "    weights = a / (a + np.array(w_freqs[:64] + [0]*max(0, 64-n_words)))\n",
    "    norm = np.linalg.norm(w_embs, axis=-1)\n",
    "    mask = (norm != 0)\n",
    "    norm += (~mask)\n",
    "    w_embeddings.append(np.sum(w_embs * (weights * mask / norm)[:, np.newaxis], axis=0)/n_words)"
   ]
  },
  {
   "cell_type": "code",
   "execution_count": 931,
   "id": "078dbde5-193e-4d93-af3c-575b5f1c9001",
   "metadata": {
    "tags": []
   },
   "outputs": [],
   "source": [
    "# train_embeddings['w_embeddings'] = np.array(w_embeddings)\n",
    "# train_embeddings['wr_embeddings'] = remove_component(train_embeddings['w_embeddings'], components_)\n",
    "eval_embeddings['w_embeddings'] = np.array(w_embeddings)\n",
    "eval_embeddings['wr_embeddings'] = remove_component(eval_embeddings['w_embeddings'], components_)"
   ]
  },
  {
   "cell_type": "code",
   "execution_count": 932,
   "id": "34d13d54-1106-4d4b-ab1d-f08301362d69",
   "metadata": {
    "tags": []
   },
   "outputs": [],
   "source": [
    "embs_train = train_embeddings['wr_embeddings']\n",
    "embs_eval = eval_embeddings['wr_embeddings']"
   ]
  },
  {
   "cell_type": "code",
   "execution_count": null,
   "id": "ad484dd6-fd29-48e2-a2ba-d980d3b455cc",
   "metadata": {},
   "outputs": [],
   "source": []
  },
  {
   "cell_type": "markdown",
   "id": "1e4ec1e1-5b45-44bf-b293-12daa3e44aa8",
   "metadata": {
    "tags": []
   },
   "source": [
    "# Simple CC embeddings to be"
   ]
  },
  {
   "cell_type": "code",
   "execution_count": 804,
   "id": "8c8efba6-e9aa-4927-8d9a-c3f936603a5b",
   "metadata": {
    "tags": []
   },
   "outputs": [],
   "source": [
    "components_, word_freq, word_embeddings = pickle.load(open('/Users/lara.thompson/repos/simple-but-tough-to-beat-examples/cc_encoder_bits.p', 'br'))"
   ]
  },
  {
   "cell_type": "code",
   "execution_count": 1189,
   "id": "12c8fbce-87a2-4ee9-9ccc-e9a9e8971aff",
   "metadata": {
    "tags": []
   },
   "outputs": [
    {
     "data": {
      "text/plain": [
       "0.0009585712251401645"
      ]
     },
     "execution_count": 1189,
     "metadata": {},
     "output_type": "execute_result"
    }
   ],
   "source": [
    "word_freq[\"not\"]"
   ]
  },
  {
   "cell_type": "code",
   "execution_count": null,
   "id": "22ad6ae6-07bd-4c65-b9ab-5ff480b2c1f7",
   "metadata": {},
   "outputs": [],
   "source": [
    "a = 1e-3\n",
    "# weights = a / (a + p_w[tokens])"
   ]
  },
  {
   "cell_type": "code",
   "execution_count": 811,
   "id": "49168c09-e328-4297-95fe-61e5e6e8c2ed",
   "metadata": {
    "tags": []
   },
   "outputs": [],
   "source": [
    "sentences = raw_data['validation']['sentence']"
   ]
  },
  {
   "cell_type": "code",
   "execution_count": 835,
   "id": "fee41060-42a0-43eb-b65e-ee8a954d913d",
   "metadata": {
    "tags": []
   },
   "outputs": [],
   "source": [
    "sentences = raw_data['train']['sentence']"
   ]
  },
  {
   "cell_type": "code",
   "execution_count": 1009,
   "id": "97272be4-d04c-48db-b43a-54ae4bcca95e",
   "metadata": {
    "tags": []
   },
   "outputs": [],
   "source": [
    "def transform(sentence, word_freq, word_embeddings=None):\n",
    "    words = sentence.split(' ')\n",
    "    w_freqs = [word_freq.get(w, 0) for w in words if w != ' ']\n",
    "    if word_embeddings is None:\n",
    "        return w_freqs\n",
    "    if type(word_embeddings) is dict:\n",
    "        w_embs = [word_embeddings.get(w, np.zeros(300)) for w in words if w != ' ']\n",
    "    elif type(word_embeddings) is pd.DataFrame:\n",
    "        w_embs = [word_embeddings.loc[w] if ((w != ' ') and (w in word_embeddings.index)) else np.zeros(300) for w in words]\n",
    "    return w_freqs, w_embs"
   ]
  },
  {
   "cell_type": "code",
   "execution_count": 1003,
   "id": "8fdd17d8-2628-4188-8872-a216b7cc3efa",
   "metadata": {
    "tags": []
   },
   "outputs": [
    {
     "data": {
      "text/plain": [
       "True"
      ]
     },
     "execution_count": 1003,
     "metadata": {},
     "output_type": "execute_result"
    }
   ],
   "source": [
    "type(glove_df) is pd.DataFrame"
   ]
  },
  {
   "cell_type": "code",
   "execution_count": 840,
   "id": "bf1c08b0-b61d-4298-bfd8-3b9ae42612a4",
   "metadata": {
    "tags": []
   },
   "outputs": [],
   "source": [
    "def remove_component(w_embeddings, components_):\n",
    "    return w_embeddings - np.outer(np.dot(w_embeddings, components_.T), components_)"
   ]
  },
  {
   "cell_type": "code",
   "execution_count": 836,
   "id": "6b6923b6-9bc8-472a-b9da-c77cae82a626",
   "metadata": {
    "tags": []
   },
   "outputs": [],
   "source": [
    "w_embeddings = []\n",
    "for sentence in sentences:\n",
    "    w_freqs, w_embs = transform(sentence, word_freq, word_embeddings)\n",
    "    n_words = len(w_embs)\n",
    "    w_embs = np.array(w_embs[:64] + [np.zeros(300)]*max(0, 64-n_words))\n",
    "    weights = a / (a + np.array(w_freqs[:64] + [0]*max(0, 64-n_words)))\n",
    "    norm = np.linalg.norm(w_embs, axis=-1)\n",
    "    mask = (norm != 0)\n",
    "    norm += (~mask)\n",
    "    w_embeddings.append(np.sum(w_embs * (weights * mask / norm)[:, np.newaxis], axis=0)/n_words)"
   ]
  },
  {
   "cell_type": "code",
   "execution_count": 834,
   "id": "802eee98-a1d7-4af1-a2fb-1c80029fa055",
   "metadata": {
    "tags": []
   },
   "outputs": [],
   "source": [
    "cc_eval_embs = {'labels': raw_data['validation']['label']}\n",
    "cc_eval_embs['w_embeddings'] = w_embeddings"
   ]
  },
  {
   "cell_type": "code",
   "execution_count": 837,
   "id": "2af685ac-7391-4672-ae95-660fcd709cf2",
   "metadata": {
    "tags": []
   },
   "outputs": [],
   "source": [
    "cc_train_embs = {'labels': raw_data['train']['label']}\n",
    "cc_train_embs['w_embeddings'] = w_embeddings"
   ]
  },
  {
   "cell_type": "code",
   "execution_count": 841,
   "id": "0046f09e-cf2a-4669-ae58-be7050c51dda",
   "metadata": {
    "tags": []
   },
   "outputs": [],
   "source": [
    "cc_eval_embs['wr_embeddings'] = remove_component(cc_eval_embs['w_embeddings'], components_)\n",
    "cc_train_embs['wr_embeddings'] = remove_component(cc_train_embs['w_embeddings'], components_)"
   ]
  },
  {
   "cell_type": "code",
   "execution_count": 843,
   "id": "328e0471-0ef8-475f-a872-3544786a8ae6",
   "metadata": {
    "tags": []
   },
   "outputs": [],
   "source": [
    "embs_train = cc_train_embs['wr_embeddings']\n",
    "embs_eval = cc_eval_embs['wr_embeddings']"
   ]
  },
  {
   "cell_type": "code",
   "execution_count": 859,
   "id": "3d2ae081-5081-4d0a-bfe0-f3a94726cb1b",
   "metadata": {
    "tags": []
   },
   "outputs": [
    {
     "data": {
      "text/plain": [
       "(67349, 300)"
      ]
     },
     "execution_count": 859,
     "metadata": {},
     "output_type": "execute_result"
    }
   ],
   "source": [
    "embs_train.shape"
   ]
  },
  {
   "cell_type": "code",
   "execution_count": 860,
   "id": "5c151e21-fdba-485b-8d2d-a86e5b54396a",
   "metadata": {
    "tags": []
   },
   "outputs": [
    {
     "data": {
      "text/plain": [
       "(67349,)"
      ]
     },
     "execution_count": 860,
     "metadata": {},
     "output_type": "execute_result"
    }
   ],
   "source": [
    "train_embeddings['labels'].shape"
   ]
  },
  {
   "cell_type": "code",
   "execution_count": 862,
   "id": "062b38c0-05d8-4424-9881-d2e6a5ca635e",
   "metadata": {
    "tags": []
   },
   "outputs": [
    {
     "data": {
      "text/plain": [
       "Array(177.4448, dtype=float32)"
      ]
     },
     "execution_count": 862,
     "metadata": {},
     "output_type": "execute_result"
    }
   ],
   "source": [
    "loss(initial_params, embs_train[:batch_size, :], train_embeddings['labels'][:batch_size])"
   ]
  },
  {
   "cell_type": "markdown",
   "id": "139e8a7e-9f53-44e5-999c-cd4b5a43f95d",
   "metadata": {
    "tags": []
   },
   "source": [
    "# BERT embeddings"
   ]
  },
  {
   "cell_type": "code",
   "execution_count": 971,
   "id": "302f7450-a324-452a-ab68-4d4453a6a8bd",
   "metadata": {
    "tags": []
   },
   "outputs": [],
   "source": [
    "from transformers import AutoTokenizer\n",
    "\n",
    "model_name_or_path = 'bert-base-uncased'\n",
    "tokenizer = AutoTokenizer.from_pretrained(\n",
    "    model_name_or_path,\n",
    "    use_fast=True,\n",
    ")"
   ]
  },
  {
   "cell_type": "code",
   "execution_count": 961,
   "id": "7f05a2ae-5356-48ab-86c1-ec8dd68d10fc",
   "metadata": {
    "tags": []
   },
   "outputs": [],
   "source": [
    "[train_embeddings, eval_embeddings] = pickle.load(open('embeddings.p', 'br'))"
   ]
  },
  {
   "cell_type": "code",
   "execution_count": 1006,
   "id": "02a80392-ab9f-4ccc-bcea-aaa86c3d7a39",
   "metadata": {
    "tags": []
   },
   "outputs": [
    {
     "data": {
      "text/plain": [
       "(67349, 64, 768)"
      ]
     },
     "execution_count": 1006,
     "metadata": {},
     "output_type": "execute_result"
    }
   ],
   "source": [
    "train_embeddings['embeddings'].shape"
   ]
  },
  {
   "cell_type": "code",
   "execution_count": 1030,
   "id": "d6712e9d-0c00-45fc-9d2e-3e1b5da45378",
   "metadata": {
    "tags": []
   },
   "outputs": [],
   "source": [
    "sentences = raw_data['train']['sentence']\n",
    "embeddings = train_embeddings['embeddings']\n",
    "\n",
    "w_embeddings = []\n",
    "for i, sentence in enumerate(sentences):\n",
    "    words = [w for w in sentence.split(' ') if w not in [' ']][:64]\n",
    "    result = tokenizer(sentence, padding=\"max_length\", max_length=66, truncation=True)\n",
    "    if len(words) == np.where(result['attention_mask'])[0][-1]-1:\n",
    "        embs = embeddings[i, 1:len(words)+1, :]\n",
    "    else:  # words were split, combine tokens with sum (normed later anyway)\n",
    "        mask = tokenizer(words, padding=\"max_length\", max_length=66, truncation=True)['attention_mask']  # array [num_words, 66]\n",
    "        embs = np.zeros((len(words), 768))\n",
    "        i_extra = 0\n",
    "        for i_word, (w, m) in enumerate(zip(words, mask)):\n",
    "            if m[3]==0:\n",
    "                embs[i_word] = embeddings[i, i_word+i_extra, :]\n",
    "            else:\n",
    "                n_tokens = np.sum(m) - 2\n",
    "                embs[i_word] = np.sum(embeddings[i, i_word+i_extra:i_word+i_extra+n_tokens, :], axis=0)\n",
    "                i_extra = n_tokens - 1\n",
    "    w_freqs = transform(sentence, word_freq)\n",
    "    n_words = len(words)\n",
    "    w_embs = np.concatenate([embs] + [np.zeros((1,768))]*max(0, 64-n_words))\n",
    "    weights = a / (a + np.array(w_freqs + [0]*max(0, 64-n_words)))\n",
    "    norm = np.linalg.norm(w_embs, axis=-1)\n",
    "    mask = (norm != 0)\n",
    "    norm += (~mask)\n",
    "    w_embeddings.append(np.sum(w_embs * (weights * mask / norm)[:, np.newaxis], axis=0)/n_words)"
   ]
  },
  {
   "cell_type": "code",
   "execution_count": 1031,
   "id": "523b84d8-d62f-431e-8d26-83c933b4be2d",
   "metadata": {
    "tags": []
   },
   "outputs": [],
   "source": [
    "from sklearn.decomposition import TruncatedSVD\n",
    "\n",
    "bert_eigen0 = TruncatedSVD(n_components=1, n_iter=7, random_state=43).fit(np.array(w_embeddings)).components_"
   ]
  },
  {
   "cell_type": "code",
   "execution_count": 1072,
   "id": "33ff414b-0780-4dd8-bd5b-2dae4e21e87d",
   "metadata": {
    "tags": []
   },
   "outputs": [],
   "source": [
    "bert_train_embs['labels'] = raw_data['train']['label']\n",
    "# bert_train_embs['w_embeddings'] = w_embeddings\n",
    "bert_train_embs['wr_embeddings'] = remove_component(bert_train_embs['w_embeddings'], bert_eigen0)"
   ]
  },
  {
   "cell_type": "code",
   "execution_count": 1033,
   "id": "5914cacd-232d-43af-952e-f0dee2323551",
   "metadata": {
    "tags": []
   },
   "outputs": [],
   "source": [
    "# bert_eval_embs = {'labels': raw_data['validation']['label']}\n",
    "# bert_eval_embs['w_embeddings'] = w_embeddings\n",
    "bert_eval_embs['wr_embeddings'] = remove_component(bert_eval_embs['w_embeddings'], bert_eigen0)"
   ]
  },
  {
   "cell_type": "code",
   "execution_count": 1073,
   "id": "f4c53ee6-4f2a-4ab7-a7c7-689b33073f0c",
   "metadata": {
    "tags": []
   },
   "outputs": [],
   "source": [
    "embs_train = bert_train_embs['wr_embeddings']\n",
    "embs_eval = bert_eval_embs['wr_embeddings']\n",
    "\n",
    "l_train = np.array(raw_data['train']['label'])\n",
    "l_eval = np.array(raw_data['validation']['label'])"
   ]
  },
  {
   "cell_type": "code",
   "execution_count": null,
   "id": "67ba5e4e-92d9-4487-b1e5-6799e2f3f2b9",
   "metadata": {},
   "outputs": [],
   "source": []
  }
 ],
 "metadata": {
  "kernelspec": {
   "display_name": "Python 3 (ipykernel)",
   "language": "python",
   "name": "python3"
  },
  "language_info": {
   "codemirror_mode": {
    "name": "ipython",
    "version": 3
   },
   "file_extension": ".py",
   "mimetype": "text/x-python",
   "name": "python",
   "nbconvert_exporter": "python",
   "pygments_lexer": "ipython3",
   "version": "3.9.13"
  }
 },
 "nbformat": 4,
 "nbformat_minor": 5
}
