{
 "cells": [
  {
   "cell_type": "code",
   "execution_count": 138,
   "id": "4fa1ad0a-148d-4f9c-ad72-6523f1df8206",
   "metadata": {},
   "outputs": [],
   "source": [
    "import numpy as np\n",
    "import pandas as pd\n",
    "\n",
    "import plotly.express as px\n",
    "import plotly.graph_objects as go"
   ]
  },
  {
   "cell_type": "code",
   "execution_count": 5,
   "id": "dad715c0-f553-42e0-8702-7d63e249772a",
   "metadata": {},
   "outputs": [
    {
     "name": "stdout",
     "output_type": "stream",
     "text": [
      "['/ascents', '/boulders', '/climbers', '/climbs']\n"
     ]
    }
   ],
   "source": [
    "with pd.HDFStore(\"2023-07-22/2023-07-22_sendage.h5\") as hdf:\n",
    "    print(hdf.keys())"
   ]
  },
  {
   "cell_type": "code",
   "execution_count": 54,
   "id": "b9014a39-626f-4640-9148-d872bf2280b2",
   "metadata": {},
   "outputs": [],
   "source": [
    "ascents = pd.read_hdf(\"2023-07-22/2023-07-22_sendage.h5\", key=\"ascents\")\n",
    "boulders = pd.read_hdf(\"2023-07-22/2023-07-22_sendage.h5\", key=\"boulders\")\n",
    "climbs = pd.read_hdf(\"2023-07-22/2023-07-22_sendage.h5\", key=\"climbs\")\n",
    "climbers = pd.read_hdf(\"2023-07-22/2023-07-22_sendage.h5\", key=\"climbers\")"
   ]
  },
  {
   "cell_type": "code",
   "execution_count": 94,
   "id": "cecaec99-903b-4a54-8663-7dbe22211a7b",
   "metadata": {},
   "outputs": [],
   "source": [
    "for i in range(18):\n",
    "    climbs.loc[climbs['grade']==f'V{i} ↑ \\\\n\\\\t\\\\t\\\\t\\\\t\\\\t\\\\t+', 'grade'] = f'V{i}+'\n",
    "    climbs.loc[climbs['grade']==f'V{i} \\\\n\\\\t\\\\t\\\\t\\\\t\\\\t\\\\t', 'grade'] = f'V{i}'\n",
    "    climbs.loc[climbs['grade']==f'V{i} \\\\n\\\\t\\\\t\\\\t\\\\t\\\\t\\\\t\\\\t', 'grade'] = f'V{i}'\n",
    "    climbs.loc[climbs['grade']==f'V{i} ↓ \\\\n\\\\t\\\\t\\\\t\\\\t\\\\t\\\\t\\\\t-', 'grade'] = f'V{i}-'\n",
    "    climbs.loc[climbs['grade']==f'V{i} ↓ \\\\n\\\\t\\\\t\\\\t\\\\t\\\\t\\\\t-', 'grade'] = f'V{i}'"
   ]
  },
  {
   "cell_type": "code",
   "execution_count": 131,
   "id": "4eeebcc7-b750-41fa-acb7-3729a895d04d",
   "metadata": {},
   "outputs": [
    {
     "data": {
      "text/html": [
       "<div>\n",
       "<style scoped>\n",
       "    .dataframe tbody tr th:only-of-type {\n",
       "        vertical-align: middle;\n",
       "    }\n",
       "\n",
       "    .dataframe tbody tr th {\n",
       "        vertical-align: top;\n",
       "    }\n",
       "\n",
       "    .dataframe thead th {\n",
       "        text-align: right;\n",
       "    }\n",
       "</style>\n",
       "<table border=\"1\" class=\"dataframe\">\n",
       "  <thead>\n",
       "    <tr style=\"text-align: right;\">\n",
       "      <th></th>\n",
       "      <th>id</th>\n",
       "      <th># sends</th>\n",
       "      <th>connected</th>\n",
       "      <th>b_connected</th>\n",
       "      <th># boulders</th>\n",
       "    </tr>\n",
       "    <tr>\n",
       "      <th>name</th>\n",
       "      <th></th>\n",
       "      <th></th>\n",
       "      <th></th>\n",
       "      <th></th>\n",
       "      <th></th>\n",
       "    </tr>\n",
       "  </thead>\n",
       "  <tbody>\n",
       "    <tr>\n",
       "      <th>aaron</th>\n",
       "      <td>0</td>\n",
       "      <td>29</td>\n",
       "      <td>True</td>\n",
       "      <td>True</td>\n",
       "      <td>29</td>\n",
       "    </tr>\n",
       "    <tr>\n",
       "      <th>aaron-eden</th>\n",
       "      <td>1</td>\n",
       "      <td>4</td>\n",
       "      <td>True</td>\n",
       "      <td>True</td>\n",
       "      <td>4</td>\n",
       "    </tr>\n",
       "    <tr>\n",
       "      <th>aaron-guiles</th>\n",
       "      <td>2</td>\n",
       "      <td>7</td>\n",
       "      <td>True</td>\n",
       "      <td>True</td>\n",
       "      <td>7</td>\n",
       "    </tr>\n",
       "    <tr>\n",
       "      <th>aaron-martinez</th>\n",
       "      <td>3</td>\n",
       "      <td>54</td>\n",
       "      <td>True</td>\n",
       "      <td>True</td>\n",
       "      <td>54</td>\n",
       "    </tr>\n",
       "    <tr>\n",
       "      <th>aaron-miller</th>\n",
       "      <td>4</td>\n",
       "      <td>39</td>\n",
       "      <td>True</td>\n",
       "      <td>False</td>\n",
       "      <td>0</td>\n",
       "    </tr>\n",
       "  </tbody>\n",
       "</table>\n",
       "</div>"
      ],
      "text/plain": [
       "                id  # sends  connected  b_connected  # boulders\n",
       "name                                                           \n",
       "aaron            0       29       True         True          29\n",
       "aaron-eden       1        4       True         True           4\n",
       "aaron-guiles     2        7       True         True           7\n",
       "aaron-martinez   3       54       True         True          54\n",
       "aaron-miller     4       39       True        False           0"
      ]
     },
     "execution_count": 131,
     "metadata": {},
     "output_type": "execute_result"
    }
   ],
   "source": [
    "climbers.head()"
   ]
  },
  {
   "cell_type": "code",
   "execution_count": 130,
   "id": "f2795528-06dc-47aa-b09f-f9f3badceec5",
   "metadata": {},
   "outputs": [],
   "source": [
    "num_b_ascents = ascents[climbs.loc[ascents['climb_id'], 'type'].values=='boulder'].groupby('user')['climb_id'].count()\n",
    "climbers['# boulders'] = 0\n",
    "climbers.loc[num_b_ascents.index, '# boulders'] = num_b_ascents.values"
   ]
  },
  {
   "cell_type": "code",
   "execution_count": 9,
   "id": "cc0bea09-0dbc-4c8e-b69f-85835940493d",
   "metadata": {},
   "outputs": [
    {
     "data": {
      "text/html": [
       "<div>\n",
       "<style scoped>\n",
       "    .dataframe tbody tr th:only-of-type {\n",
       "        vertical-align: middle;\n",
       "    }\n",
       "\n",
       "    .dataframe tbody tr th {\n",
       "        vertical-align: top;\n",
       "    }\n",
       "\n",
       "    .dataframe thead th {\n",
       "        text-align: right;\n",
       "    }\n",
       "</style>\n",
       "<table border=\"1\" class=\"dataframe\">\n",
       "  <thead>\n",
       "    <tr style=\"text-align: right;\">\n",
       "      <th></th>\n",
       "      <th>climb_id</th>\n",
       "      <th>user</th>\n",
       "      <th>date</th>\n",
       "      <th>grade</th>\n",
       "      <th>style</th>\n",
       "      <th>first-ascent</th>\n",
       "      <th>stars</th>\n",
       "      <th>comments</th>\n",
       "      <th>beta</th>\n",
       "    </tr>\n",
       "  </thead>\n",
       "  <tbody>\n",
       "    <tr>\n",
       "      <th>0</th>\n",
       "      <td>36512</td>\n",
       "      <td>simon-fugere</td>\n",
       "      <td>2023-07-04</td>\n",
       "      <td>V4</td>\n",
       "      <td>flash</td>\n",
       "      <td>False</td>\n",
       "      <td>NaN</td>\n",
       "      <td></td>\n",
       "      <td></td>\n",
       "    </tr>\n",
       "    <tr>\n",
       "      <th>1</th>\n",
       "      <td>36512</td>\n",
       "      <td>max-b</td>\n",
       "      <td>2023-06-23</td>\n",
       "      <td>V4+</td>\n",
       "      <td>redpoint</td>\n",
       "      <td>False</td>\n",
       "      <td>3.0</td>\n",
       "      <td></td>\n",
       "      <td></td>\n",
       "    </tr>\n",
       "    <tr>\n",
       "      <th>2</th>\n",
       "      <td>36512</td>\n",
       "      <td>davidnguyen</td>\n",
       "      <td>2023-06-20</td>\n",
       "      <td>V4</td>\n",
       "      <td>redpoint</td>\n",
       "      <td>False</td>\n",
       "      <td>4.0</td>\n",
       "      <td></td>\n",
       "      <td></td>\n",
       "    </tr>\n",
       "    <tr>\n",
       "      <th>3</th>\n",
       "      <td>36512</td>\n",
       "      <td>calumtustinmayes</td>\n",
       "      <td>2023-06-13</td>\n",
       "      <td>V4</td>\n",
       "      <td>redpoint</td>\n",
       "      <td>False</td>\n",
       "      <td>3.0</td>\n",
       "      <td></td>\n",
       "      <td></td>\n",
       "    </tr>\n",
       "    <tr>\n",
       "      <th>4</th>\n",
       "      <td>36512</td>\n",
       "      <td>vincentz</td>\n",
       "      <td>2023-06-03</td>\n",
       "      <td>V4+</td>\n",
       "      <td>redpoint</td>\n",
       "      <td>False</td>\n",
       "      <td>4.0</td>\n",
       "      <td>Fun Warm-up</td>\n",
       "      <td></td>\n",
       "    </tr>\n",
       "  </tbody>\n",
       "</table>\n",
       "</div>"
      ],
      "text/plain": [
       "   climb_id              user       date grade     style  first-ascent  stars  \\\n",
       "0     36512      simon-fugere 2023-07-04    V4     flash         False    NaN   \n",
       "1     36512             max-b 2023-06-23   V4+  redpoint         False    3.0   \n",
       "2     36512       davidnguyen 2023-06-20    V4  redpoint         False    4.0   \n",
       "3     36512  calumtustinmayes 2023-06-13    V4  redpoint         False    3.0   \n",
       "4     36512          vincentz 2023-06-03   V4+  redpoint         False    4.0   \n",
       "\n",
       "      comments beta  \n",
       "0                    \n",
       "1                    \n",
       "2                    \n",
       "3                    \n",
       "4  Fun Warm-up       "
      ]
     },
     "execution_count": 9,
     "metadata": {},
     "output_type": "execute_result"
    }
   ],
   "source": [
    "ascents.head()"
   ]
  },
  {
   "cell_type": "code",
   "execution_count": 10,
   "id": "353745b6-0800-4509-a042-662d46bae16e",
   "metadata": {},
   "outputs": [
    {
     "data": {
      "text/html": [
       "<div>\n",
       "<style scoped>\n",
       "    .dataframe tbody tr th:only-of-type {\n",
       "        vertical-align: middle;\n",
       "    }\n",
       "\n",
       "    .dataframe tbody tr th {\n",
       "        vertical-align: top;\n",
       "    }\n",
       "\n",
       "    .dataframe thead th {\n",
       "        text-align: right;\n",
       "    }\n",
       "</style>\n",
       "<table border=\"1\" class=\"dataframe\">\n",
       "  <thead>\n",
       "    <tr style=\"text-align: right;\">\n",
       "      <th></th>\n",
       "      <th>slug</th>\n",
       "      <th>name</th>\n",
       "      <th>area_id</th>\n",
       "      <th>type</th>\n",
       "      <th>grade_id</th>\n",
       "      <th>bolts</th>\n",
       "      <th>length</th>\n",
       "      <th>grade</th>\n",
       "      <th>description</th>\n",
       "      <th># onsights</th>\n",
       "      <th>...</th>\n",
       "      <th>areas_10_name</th>\n",
       "      <th>areas_11_name</th>\n",
       "      <th>areas_10_slug</th>\n",
       "      <th>areas_11_slug</th>\n",
       "      <th>ratings_min</th>\n",
       "      <th>ratings_max</th>\n",
       "      <th>ratings_mean</th>\n",
       "      <th>ratings_count</th>\n",
       "      <th>stars_isna</th>\n",
       "      <th>connected</th>\n",
       "    </tr>\n",
       "  </thead>\n",
       "  <tbody>\n",
       "    <tr>\n",
       "      <th>36512</th>\n",
       "      <td>superfly-superfly-grand-wall-boulders-squamish...</td>\n",
       "      <td>Superfly</td>\n",
       "      <td>8353</td>\n",
       "      <td>boulder</td>\n",
       "      <td>29</td>\n",
       "      <td>0</td>\n",
       "      <td>NaN</td>\n",
       "      <td>V4</td>\n",
       "      <td>A Squamish all-time classic with physical move...</td>\n",
       "      <td>22</td>\n",
       "      <td>...</td>\n",
       "      <td>NaN</td>\n",
       "      <td>NaN</td>\n",
       "      <td>NaN</td>\n",
       "      <td>NaN</td>\n",
       "      <td>2.0</td>\n",
       "      <td>5.0</td>\n",
       "      <td>4.153017</td>\n",
       "      <td>464.0</td>\n",
       "      <td>240.0</td>\n",
       "      <td>True</td>\n",
       "    </tr>\n",
       "    <tr>\n",
       "      <th>36410</th>\n",
       "      <td>easy-in-easy-chair-easy-chair-grand-wall-bould...</td>\n",
       "      <td>Easy In An Easy Chair</td>\n",
       "      <td>7521</td>\n",
       "      <td>boulder</td>\n",
       "      <td>29</td>\n",
       "      <td>0</td>\n",
       "      <td>NaN</td>\n",
       "      <td>V4</td>\n",
       "      <td>Traverse left to right on good slopers. A clas...</td>\n",
       "      <td>27</td>\n",
       "      <td>...</td>\n",
       "      <td>NaN</td>\n",
       "      <td>NaN</td>\n",
       "      <td>NaN</td>\n",
       "      <td>NaN</td>\n",
       "      <td>1.0</td>\n",
       "      <td>5.0</td>\n",
       "      <td>4.072016</td>\n",
       "      <td>486.0</td>\n",
       "      <td>213.0</td>\n",
       "      <td>True</td>\n",
       "    </tr>\n",
       "    <tr>\n",
       "      <th>36476</th>\n",
       "      <td>titanic-titanic-north-grand-wall-boulders-squa...</td>\n",
       "      <td>Titanic</td>\n",
       "      <td>8360</td>\n",
       "      <td>boulder</td>\n",
       "      <td>24</td>\n",
       "      <td>0</td>\n",
       "      <td>NaN</td>\n",
       "      <td>V3+</td>\n",
       "      <td>Start standing with opposing edges for your ha...</td>\n",
       "      <td>58</td>\n",
       "      <td>...</td>\n",
       "      <td>NaN</td>\n",
       "      <td>NaN</td>\n",
       "      <td>NaN</td>\n",
       "      <td>NaN</td>\n",
       "      <td>1.0</td>\n",
       "      <td>5.0</td>\n",
       "      <td>3.935268</td>\n",
       "      <td>448.0</td>\n",
       "      <td>242.0</td>\n",
       "      <td>True</td>\n",
       "    </tr>\n",
       "    <tr>\n",
       "      <th>35610</th>\n",
       "      <td>trad-killer-heartbreak-hotel-grand-wall-boulde...</td>\n",
       "      <td>Trad Killer</td>\n",
       "      <td>8351</td>\n",
       "      <td>boulder</td>\n",
       "      <td>28</td>\n",
       "      <td>0</td>\n",
       "      <td>NaN</td>\n",
       "      <td>V4</td>\n",
       "      <td></td>\n",
       "      <td>38</td>\n",
       "      <td>...</td>\n",
       "      <td>NaN</td>\n",
       "      <td>NaN</td>\n",
       "      <td>NaN</td>\n",
       "      <td>NaN</td>\n",
       "      <td>1.0</td>\n",
       "      <td>5.0</td>\n",
       "      <td>4.171285</td>\n",
       "      <td>397.0</td>\n",
       "      <td>189.0</td>\n",
       "      <td>True</td>\n",
       "    </tr>\n",
       "    <tr>\n",
       "      <th>3049</th>\n",
       "      <td>timeless-titanic-south-grand-wall-boulders-squ...</td>\n",
       "      <td>Timeless</td>\n",
       "      <td>8361</td>\n",
       "      <td>boulder</td>\n",
       "      <td>32</td>\n",
       "      <td>0</td>\n",
       "      <td>NaN</td>\n",
       "      <td>V5-</td>\n",
       "      <td>Start matched on the big shelf and climb up an...</td>\n",
       "      <td>22</td>\n",
       "      <td>...</td>\n",
       "      <td>NaN</td>\n",
       "      <td>NaN</td>\n",
       "      <td>NaN</td>\n",
       "      <td>NaN</td>\n",
       "      <td>2.0</td>\n",
       "      <td>5.0</td>\n",
       "      <td>4.162907</td>\n",
       "      <td>399.0</td>\n",
       "      <td>156.0</td>\n",
       "      <td>True</td>\n",
       "    </tr>\n",
       "  </tbody>\n",
       "</table>\n",
       "<p>5 rows × 43 columns</p>\n",
       "</div>"
      ],
      "text/plain": [
       "                                                    slug  \\\n",
       "36512  superfly-superfly-grand-wall-boulders-squamish...   \n",
       "36410  easy-in-easy-chair-easy-chair-grand-wall-bould...   \n",
       "36476  titanic-titanic-north-grand-wall-boulders-squa...   \n",
       "35610  trad-killer-heartbreak-hotel-grand-wall-boulde...   \n",
       "3049   timeless-titanic-south-grand-wall-boulders-squ...   \n",
       "\n",
       "                        name  area_id     type  grade_id  bolts  length grade  \\\n",
       "36512               Superfly     8353  boulder        29      0     NaN    V4   \n",
       "36410  Easy In An Easy Chair     7521  boulder        29      0     NaN    V4   \n",
       "36476                Titanic     8360  boulder        24      0     NaN   V3+   \n",
       "35610            Trad Killer     8351  boulder        28      0     NaN    V4   \n",
       "3049                Timeless     8361  boulder        32      0     NaN   V5-   \n",
       "\n",
       "                                             description  # onsights  ...  \\\n",
       "36512  A Squamish all-time classic with physical move...          22  ...   \n",
       "36410  Traverse left to right on good slopers. A clas...          27  ...   \n",
       "36476  Start standing with opposing edges for your ha...          58  ...   \n",
       "35610                                                             38  ...   \n",
       "3049   Start matched on the big shelf and climb up an...          22  ...   \n",
       "\n",
       "       areas_10_name  areas_11_name  areas_10_slug areas_11_slug ratings_min  \\\n",
       "36512            NaN            NaN            NaN           NaN         2.0   \n",
       "36410            NaN            NaN            NaN           NaN         1.0   \n",
       "36476            NaN            NaN            NaN           NaN         1.0   \n",
       "35610            NaN            NaN            NaN           NaN         1.0   \n",
       "3049             NaN            NaN            NaN           NaN         2.0   \n",
       "\n",
       "      ratings_max ratings_mean ratings_count stars_isna connected  \n",
       "36512         5.0     4.153017         464.0      240.0      True  \n",
       "36410         5.0     4.072016         486.0      213.0      True  \n",
       "36476         5.0     3.935268         448.0      242.0      True  \n",
       "35610         5.0     4.171285         397.0      189.0      True  \n",
       "3049          5.0     4.162907         399.0      156.0      True  \n",
       "\n",
       "[5 rows x 43 columns]"
      ]
     },
     "execution_count": 10,
     "metadata": {},
     "output_type": "execute_result"
    }
   ],
   "source": [
    "boulders.head()"
   ]
  },
  {
   "cell_type": "code",
   "execution_count": 19,
   "id": "640f0b17-6c59-4563-9633-9ccc33225575",
   "metadata": {},
   "outputs": [
    {
     "data": {
      "text/html": [
       "<div>\n",
       "<style scoped>\n",
       "    .dataframe tbody tr th:only-of-type {\n",
       "        vertical-align: middle;\n",
       "    }\n",
       "\n",
       "    .dataframe tbody tr th {\n",
       "        vertical-align: top;\n",
       "    }\n",
       "\n",
       "    .dataframe thead th {\n",
       "        text-align: right;\n",
       "    }\n",
       "</style>\n",
       "<table border=\"1\" class=\"dataframe\">\n",
       "  <thead>\n",
       "    <tr style=\"text-align: right;\">\n",
       "      <th></th>\n",
       "      <th>slug</th>\n",
       "      <th>name</th>\n",
       "      <th>area_id</th>\n",
       "      <th>type</th>\n",
       "      <th>grade_id</th>\n",
       "      <th>bolts</th>\n",
       "      <th>length</th>\n",
       "      <th>grade</th>\n",
       "      <th>description</th>\n",
       "      <th># onsights</th>\n",
       "      <th>...</th>\n",
       "      <th>areas_10_name</th>\n",
       "      <th>areas_11_name</th>\n",
       "      <th>areas_10_slug</th>\n",
       "      <th>areas_11_slug</th>\n",
       "      <th>ratings_min</th>\n",
       "      <th>ratings_max</th>\n",
       "      <th>ratings_mean</th>\n",
       "      <th>ratings_count</th>\n",
       "      <th>stars_isna</th>\n",
       "      <th>connected</th>\n",
       "    </tr>\n",
       "  </thead>\n",
       "  <tbody>\n",
       "    <tr>\n",
       "      <th>36512</th>\n",
       "      <td>superfly-superfly-grand-wall-boulders-squamish...</td>\n",
       "      <td>Superfly</td>\n",
       "      <td>8353</td>\n",
       "      <td>boulder</td>\n",
       "      <td>29</td>\n",
       "      <td>0</td>\n",
       "      <td>NaN</td>\n",
       "      <td>V4</td>\n",
       "      <td>A Squamish all-time classic with physical move...</td>\n",
       "      <td>22</td>\n",
       "      <td>...</td>\n",
       "      <td>NaN</td>\n",
       "      <td>NaN</td>\n",
       "      <td>NaN</td>\n",
       "      <td>NaN</td>\n",
       "      <td>2.0</td>\n",
       "      <td>5.0</td>\n",
       "      <td>4.153017</td>\n",
       "      <td>464.0</td>\n",
       "      <td>240.0</td>\n",
       "      <td>True</td>\n",
       "    </tr>\n",
       "    <tr>\n",
       "      <th>36410</th>\n",
       "      <td>easy-in-easy-chair-easy-chair-grand-wall-bould...</td>\n",
       "      <td>Easy In An Easy Chair</td>\n",
       "      <td>7521</td>\n",
       "      <td>boulder</td>\n",
       "      <td>29</td>\n",
       "      <td>0</td>\n",
       "      <td>NaN</td>\n",
       "      <td>V4</td>\n",
       "      <td>Traverse left to right on good slopers. A clas...</td>\n",
       "      <td>27</td>\n",
       "      <td>...</td>\n",
       "      <td>NaN</td>\n",
       "      <td>NaN</td>\n",
       "      <td>NaN</td>\n",
       "      <td>NaN</td>\n",
       "      <td>1.0</td>\n",
       "      <td>5.0</td>\n",
       "      <td>4.072016</td>\n",
       "      <td>486.0</td>\n",
       "      <td>213.0</td>\n",
       "      <td>True</td>\n",
       "    </tr>\n",
       "    <tr>\n",
       "      <th>36476</th>\n",
       "      <td>titanic-titanic-north-grand-wall-boulders-squa...</td>\n",
       "      <td>Titanic</td>\n",
       "      <td>8360</td>\n",
       "      <td>boulder</td>\n",
       "      <td>24</td>\n",
       "      <td>0</td>\n",
       "      <td>NaN</td>\n",
       "      <td>V3+</td>\n",
       "      <td>Start standing with opposing edges for your ha...</td>\n",
       "      <td>58</td>\n",
       "      <td>...</td>\n",
       "      <td>NaN</td>\n",
       "      <td>NaN</td>\n",
       "      <td>NaN</td>\n",
       "      <td>NaN</td>\n",
       "      <td>1.0</td>\n",
       "      <td>5.0</td>\n",
       "      <td>3.935268</td>\n",
       "      <td>448.0</td>\n",
       "      <td>242.0</td>\n",
       "      <td>True</td>\n",
       "    </tr>\n",
       "    <tr>\n",
       "      <th>35610</th>\n",
       "      <td>trad-killer-heartbreak-hotel-grand-wall-boulde...</td>\n",
       "      <td>Trad Killer</td>\n",
       "      <td>8351</td>\n",
       "      <td>boulder</td>\n",
       "      <td>28</td>\n",
       "      <td>0</td>\n",
       "      <td>NaN</td>\n",
       "      <td>V4</td>\n",
       "      <td></td>\n",
       "      <td>38</td>\n",
       "      <td>...</td>\n",
       "      <td>NaN</td>\n",
       "      <td>NaN</td>\n",
       "      <td>NaN</td>\n",
       "      <td>NaN</td>\n",
       "      <td>1.0</td>\n",
       "      <td>5.0</td>\n",
       "      <td>4.171285</td>\n",
       "      <td>397.0</td>\n",
       "      <td>189.0</td>\n",
       "      <td>True</td>\n",
       "    </tr>\n",
       "    <tr>\n",
       "      <th>3049</th>\n",
       "      <td>timeless-titanic-south-grand-wall-boulders-squ...</td>\n",
       "      <td>Timeless</td>\n",
       "      <td>8361</td>\n",
       "      <td>boulder</td>\n",
       "      <td>32</td>\n",
       "      <td>0</td>\n",
       "      <td>NaN</td>\n",
       "      <td>V5-</td>\n",
       "      <td>Start matched on the big shelf and climb up an...</td>\n",
       "      <td>22</td>\n",
       "      <td>...</td>\n",
       "      <td>NaN</td>\n",
       "      <td>NaN</td>\n",
       "      <td>NaN</td>\n",
       "      <td>NaN</td>\n",
       "      <td>2.0</td>\n",
       "      <td>5.0</td>\n",
       "      <td>4.162907</td>\n",
       "      <td>399.0</td>\n",
       "      <td>156.0</td>\n",
       "      <td>True</td>\n",
       "    </tr>\n",
       "  </tbody>\n",
       "</table>\n",
       "<p>5 rows × 43 columns</p>\n",
       "</div>"
      ],
      "text/plain": [
       "                                                    slug  \\\n",
       "36512  superfly-superfly-grand-wall-boulders-squamish...   \n",
       "36410  easy-in-easy-chair-easy-chair-grand-wall-bould...   \n",
       "36476  titanic-titanic-north-grand-wall-boulders-squa...   \n",
       "35610  trad-killer-heartbreak-hotel-grand-wall-boulde...   \n",
       "3049   timeless-titanic-south-grand-wall-boulders-squ...   \n",
       "\n",
       "                        name  area_id     type  grade_id  bolts  length grade  \\\n",
       "36512               Superfly     8353  boulder        29      0     NaN    V4   \n",
       "36410  Easy In An Easy Chair     7521  boulder        29      0     NaN    V4   \n",
       "36476                Titanic     8360  boulder        24      0     NaN   V3+   \n",
       "35610            Trad Killer     8351  boulder        28      0     NaN    V4   \n",
       "3049                Timeless     8361  boulder        32      0     NaN   V5-   \n",
       "\n",
       "                                             description  # onsights  ...  \\\n",
       "36512  A Squamish all-time classic with physical move...          22  ...   \n",
       "36410  Traverse left to right on good slopers. A clas...          27  ...   \n",
       "36476  Start standing with opposing edges for your ha...          58  ...   \n",
       "35610                                                             38  ...   \n",
       "3049   Start matched on the big shelf and climb up an...          22  ...   \n",
       "\n",
       "       areas_10_name  areas_11_name  areas_10_slug areas_11_slug ratings_min  \\\n",
       "36512            NaN            NaN            NaN           NaN         2.0   \n",
       "36410            NaN            NaN            NaN           NaN         1.0   \n",
       "36476            NaN            NaN            NaN           NaN         1.0   \n",
       "35610            NaN            NaN            NaN           NaN         1.0   \n",
       "3049             NaN            NaN            NaN           NaN         2.0   \n",
       "\n",
       "      ratings_max ratings_mean ratings_count stars_isna connected  \n",
       "36512         5.0     4.153017         464.0      240.0      True  \n",
       "36410         5.0     4.072016         486.0      213.0      True  \n",
       "36476         5.0     3.935268         448.0      242.0      True  \n",
       "35610         5.0     4.171285         397.0      189.0      True  \n",
       "3049          5.0     4.162907         399.0      156.0      True  \n",
       "\n",
       "[5 rows x 43 columns]"
      ]
     },
     "execution_count": 19,
     "metadata": {},
     "output_type": "execute_result"
    }
   ],
   "source": [
    "climbs.head()"
   ]
  },
  {
   "cell_type": "code",
   "execution_count": 132,
   "id": "81f30975-17bf-4ac2-8864-61cf29445aeb",
   "metadata": {},
   "outputs": [
    {
     "data": {
      "text/html": [
       "<div>\n",
       "<style scoped>\n",
       "    .dataframe tbody tr th:only-of-type {\n",
       "        vertical-align: middle;\n",
       "    }\n",
       "\n",
       "    .dataframe tbody tr th {\n",
       "        vertical-align: top;\n",
       "    }\n",
       "\n",
       "    .dataframe thead th {\n",
       "        text-align: right;\n",
       "    }\n",
       "</style>\n",
       "<table border=\"1\" class=\"dataframe\">\n",
       "  <thead>\n",
       "    <tr style=\"text-align: right;\">\n",
       "      <th></th>\n",
       "      <th>id</th>\n",
       "      <th># sends</th>\n",
       "      <th>connected</th>\n",
       "      <th>b_connected</th>\n",
       "      <th># boulders</th>\n",
       "    </tr>\n",
       "    <tr>\n",
       "      <th>name</th>\n",
       "      <th></th>\n",
       "      <th></th>\n",
       "      <th></th>\n",
       "      <th></th>\n",
       "      <th></th>\n",
       "    </tr>\n",
       "  </thead>\n",
       "  <tbody>\n",
       "    <tr>\n",
       "      <th>graham-mcgrenere</th>\n",
       "      <td>1015</td>\n",
       "      <td>3473</td>\n",
       "      <td>True</td>\n",
       "      <td>True</td>\n",
       "      <td>2380</td>\n",
       "    </tr>\n",
       "    <tr>\n",
       "      <th>anonymous</th>\n",
       "      <td>224</td>\n",
       "      <td>2974</td>\n",
       "      <td>True</td>\n",
       "      <td>True</td>\n",
       "      <td>2343</td>\n",
       "    </tr>\n",
       "    <tr>\n",
       "      <th>keith-chan</th>\n",
       "      <td>1523</td>\n",
       "      <td>2136</td>\n",
       "      <td>True</td>\n",
       "      <td>True</td>\n",
       "      <td>1989</td>\n",
       "    </tr>\n",
       "    <tr>\n",
       "      <th>greg-bauch</th>\n",
       "      <td>1020</td>\n",
       "      <td>1918</td>\n",
       "      <td>True</td>\n",
       "      <td>True</td>\n",
       "      <td>1918</td>\n",
       "    </tr>\n",
       "    <tr>\n",
       "      <th>brett-kruselnicki</th>\n",
       "      <td>403</td>\n",
       "      <td>1907</td>\n",
       "      <td>True</td>\n",
       "      <td>True</td>\n",
       "      <td>1906</td>\n",
       "    </tr>\n",
       "    <tr>\n",
       "      <th>tiannabaker</th>\n",
       "      <td>2627</td>\n",
       "      <td>1472</td>\n",
       "      <td>True</td>\n",
       "      <td>True</td>\n",
       "      <td>1472</td>\n",
       "    </tr>\n",
       "    <tr>\n",
       "      <th>christopher-james-carter</th>\n",
       "      <td>562</td>\n",
       "      <td>1450</td>\n",
       "      <td>True</td>\n",
       "      <td>True</td>\n",
       "      <td>1448</td>\n",
       "    </tr>\n",
       "    <tr>\n",
       "      <th>seanathon-morphy</th>\n",
       "      <td>2422</td>\n",
       "      <td>1995</td>\n",
       "      <td>True</td>\n",
       "      <td>True</td>\n",
       "      <td>1417</td>\n",
       "    </tr>\n",
       "    <tr>\n",
       "      <th>trevor-edwards</th>\n",
       "      <td>2675</td>\n",
       "      <td>1373</td>\n",
       "      <td>True</td>\n",
       "      <td>True</td>\n",
       "      <td>1373</td>\n",
       "    </tr>\n",
       "    <tr>\n",
       "      <th>jesse-firestone-1351</th>\n",
       "      <td>1290</td>\n",
       "      <td>1584</td>\n",
       "      <td>True</td>\n",
       "      <td>True</td>\n",
       "      <td>1312</td>\n",
       "    </tr>\n",
       "  </tbody>\n",
       "</table>\n",
       "</div>"
      ],
      "text/plain": [
       "                            id  # sends  connected  b_connected  # boulders\n",
       "name                                                                       \n",
       "graham-mcgrenere          1015     3473       True         True        2380\n",
       "anonymous                  224     2974       True         True        2343\n",
       "keith-chan                1523     2136       True         True        1989\n",
       "greg-bauch                1020     1918       True         True        1918\n",
       "brett-kruselnicki          403     1907       True         True        1906\n",
       "tiannabaker               2627     1472       True         True        1472\n",
       "christopher-james-carter   562     1450       True         True        1448\n",
       "seanathon-morphy          2422     1995       True         True        1417\n",
       "trevor-edwards            2675     1373       True         True        1373\n",
       "jesse-firestone-1351      1290     1584       True         True        1312"
      ]
     },
     "execution_count": 132,
     "metadata": {},
     "output_type": "execute_result"
    }
   ],
   "source": [
    "climbers.sort_values(by='# boulders', ascending=False).head(10)"
   ]
  },
  {
   "cell_type": "code",
   "execution_count": 169,
   "id": "926f7ee7-c11e-4ab9-a659-29ae48526349",
   "metadata": {},
   "outputs": [
    {
     "data": {
      "application/vnd.plotly.v1+json": {
       "config": {
        "plotlyServerURL": "https://plot.ly"
       },
       "data": [
        {
         "hovertemplate": "date=%{x}<br>g=%{y}<extra></extra>",
         "legendgroup": "",
         "marker": {
          "color": "#636efa",
          "symbol": "circle"
         },
         "mode": "markers",
         "name": "",
         "orientation": "v",
         "showlegend": false,
         "type": "scatter",
         "x": [
          "2017-11-25T00:00:00",
          "2018-04-16T00:00:00",
          "2018-05-25T00:00:00",
          "2018-06-16T00:00:00",
          "2019-02-26T00:00:00",
          "2019-03-10T00:00:00",
          "2019-10-12T00:00:00",
          "2020-07-21T00:00:00",
          "2020-08-24T00:00:00",
          "2023-04-29T00:00:00"
         ],
         "xaxis": "x",
         "y": [
          0.35294117647058826,
          0.5294117647058824,
          0.4117647058823529,
          0.4117647058823529,
          0.47058823529411764,
          0.35294117647058826,
          0.35294117647058826,
          0.39235294117647057,
          0.3723529411764706,
          0.47058823529411764
         ],
         "yaxis": "y"
        }
       ],
       "layout": {
        "autosize": true,
        "legend": {
         "tracegroupgap": 0
        },
        "margin": {
         "t": 60
        },
        "template": {
         "data": {
          "bar": [
           {
            "error_x": {
             "color": "#2a3f5f"
            },
            "error_y": {
             "color": "#2a3f5f"
            },
            "marker": {
             "line": {
              "color": "#E5ECF6",
              "width": 0.5
             },
             "pattern": {
              "fillmode": "overlay",
              "size": 10,
              "solidity": 0.2
             }
            },
            "type": "bar"
           }
          ],
          "barpolar": [
           {
            "marker": {
             "line": {
              "color": "#E5ECF6",
              "width": 0.5
             },
             "pattern": {
              "fillmode": "overlay",
              "size": 10,
              "solidity": 0.2
             }
            },
            "type": "barpolar"
           }
          ],
          "carpet": [
           {
            "aaxis": {
             "endlinecolor": "#2a3f5f",
             "gridcolor": "white",
             "linecolor": "white",
             "minorgridcolor": "white",
             "startlinecolor": "#2a3f5f"
            },
            "baxis": {
             "endlinecolor": "#2a3f5f",
             "gridcolor": "white",
             "linecolor": "white",
             "minorgridcolor": "white",
             "startlinecolor": "#2a3f5f"
            },
            "type": "carpet"
           }
          ],
          "choropleth": [
           {
            "colorbar": {
             "outlinewidth": 0,
             "ticks": ""
            },
            "type": "choropleth"
           }
          ],
          "contour": [
           {
            "colorbar": {
             "outlinewidth": 0,
             "ticks": ""
            },
            "colorscale": [
             [
              0,
              "#0d0887"
             ],
             [
              0.1111111111111111,
              "#46039f"
             ],
             [
              0.2222222222222222,
              "#7201a8"
             ],
             [
              0.3333333333333333,
              "#9c179e"
             ],
             [
              0.4444444444444444,
              "#bd3786"
             ],
             [
              0.5555555555555556,
              "#d8576b"
             ],
             [
              0.6666666666666666,
              "#ed7953"
             ],
             [
              0.7777777777777778,
              "#fb9f3a"
             ],
             [
              0.8888888888888888,
              "#fdca26"
             ],
             [
              1,
              "#f0f921"
             ]
            ],
            "type": "contour"
           }
          ],
          "contourcarpet": [
           {
            "colorbar": {
             "outlinewidth": 0,
             "ticks": ""
            },
            "type": "contourcarpet"
           }
          ],
          "heatmap": [
           {
            "colorbar": {
             "outlinewidth": 0,
             "ticks": ""
            },
            "colorscale": [
             [
              0,
              "#0d0887"
             ],
             [
              0.1111111111111111,
              "#46039f"
             ],
             [
              0.2222222222222222,
              "#7201a8"
             ],
             [
              0.3333333333333333,
              "#9c179e"
             ],
             [
              0.4444444444444444,
              "#bd3786"
             ],
             [
              0.5555555555555556,
              "#d8576b"
             ],
             [
              0.6666666666666666,
              "#ed7953"
             ],
             [
              0.7777777777777778,
              "#fb9f3a"
             ],
             [
              0.8888888888888888,
              "#fdca26"
             ],
             [
              1,
              "#f0f921"
             ]
            ],
            "type": "heatmap"
           }
          ],
          "heatmapgl": [
           {
            "colorbar": {
             "outlinewidth": 0,
             "ticks": ""
            },
            "colorscale": [
             [
              0,
              "#0d0887"
             ],
             [
              0.1111111111111111,
              "#46039f"
             ],
             [
              0.2222222222222222,
              "#7201a8"
             ],
             [
              0.3333333333333333,
              "#9c179e"
             ],
             [
              0.4444444444444444,
              "#bd3786"
             ],
             [
              0.5555555555555556,
              "#d8576b"
             ],
             [
              0.6666666666666666,
              "#ed7953"
             ],
             [
              0.7777777777777778,
              "#fb9f3a"
             ],
             [
              0.8888888888888888,
              "#fdca26"
             ],
             [
              1,
              "#f0f921"
             ]
            ],
            "type": "heatmapgl"
           }
          ],
          "histogram": [
           {
            "marker": {
             "pattern": {
              "fillmode": "overlay",
              "size": 10,
              "solidity": 0.2
             }
            },
            "type": "histogram"
           }
          ],
          "histogram2d": [
           {
            "colorbar": {
             "outlinewidth": 0,
             "ticks": ""
            },
            "colorscale": [
             [
              0,
              "#0d0887"
             ],
             [
              0.1111111111111111,
              "#46039f"
             ],
             [
              0.2222222222222222,
              "#7201a8"
             ],
             [
              0.3333333333333333,
              "#9c179e"
             ],
             [
              0.4444444444444444,
              "#bd3786"
             ],
             [
              0.5555555555555556,
              "#d8576b"
             ],
             [
              0.6666666666666666,
              "#ed7953"
             ],
             [
              0.7777777777777778,
              "#fb9f3a"
             ],
             [
              0.8888888888888888,
              "#fdca26"
             ],
             [
              1,
              "#f0f921"
             ]
            ],
            "type": "histogram2d"
           }
          ],
          "histogram2dcontour": [
           {
            "colorbar": {
             "outlinewidth": 0,
             "ticks": ""
            },
            "colorscale": [
             [
              0,
              "#0d0887"
             ],
             [
              0.1111111111111111,
              "#46039f"
             ],
             [
              0.2222222222222222,
              "#7201a8"
             ],
             [
              0.3333333333333333,
              "#9c179e"
             ],
             [
              0.4444444444444444,
              "#bd3786"
             ],
             [
              0.5555555555555556,
              "#d8576b"
             ],
             [
              0.6666666666666666,
              "#ed7953"
             ],
             [
              0.7777777777777778,
              "#fb9f3a"
             ],
             [
              0.8888888888888888,
              "#fdca26"
             ],
             [
              1,
              "#f0f921"
             ]
            ],
            "type": "histogram2dcontour"
           }
          ],
          "mesh3d": [
           {
            "colorbar": {
             "outlinewidth": 0,
             "ticks": ""
            },
            "type": "mesh3d"
           }
          ],
          "parcoords": [
           {
            "line": {
             "colorbar": {
              "outlinewidth": 0,
              "ticks": ""
             }
            },
            "type": "parcoords"
           }
          ],
          "pie": [
           {
            "automargin": true,
            "type": "pie"
           }
          ],
          "scatter": [
           {
            "fillpattern": {
             "fillmode": "overlay",
             "size": 10,
             "solidity": 0.2
            },
            "type": "scatter"
           }
          ],
          "scatter3d": [
           {
            "line": {
             "colorbar": {
              "outlinewidth": 0,
              "ticks": ""
             }
            },
            "marker": {
             "colorbar": {
              "outlinewidth": 0,
              "ticks": ""
             }
            },
            "type": "scatter3d"
           }
          ],
          "scattercarpet": [
           {
            "marker": {
             "colorbar": {
              "outlinewidth": 0,
              "ticks": ""
             }
            },
            "type": "scattercarpet"
           }
          ],
          "scattergeo": [
           {
            "marker": {
             "colorbar": {
              "outlinewidth": 0,
              "ticks": ""
             }
            },
            "type": "scattergeo"
           }
          ],
          "scattergl": [
           {
            "marker": {
             "colorbar": {
              "outlinewidth": 0,
              "ticks": ""
             }
            },
            "type": "scattergl"
           }
          ],
          "scattermapbox": [
           {
            "marker": {
             "colorbar": {
              "outlinewidth": 0,
              "ticks": ""
             }
            },
            "type": "scattermapbox"
           }
          ],
          "scatterpolar": [
           {
            "marker": {
             "colorbar": {
              "outlinewidth": 0,
              "ticks": ""
             }
            },
            "type": "scatterpolar"
           }
          ],
          "scatterpolargl": [
           {
            "marker": {
             "colorbar": {
              "outlinewidth": 0,
              "ticks": ""
             }
            },
            "type": "scatterpolargl"
           }
          ],
          "scatterternary": [
           {
            "marker": {
             "colorbar": {
              "outlinewidth": 0,
              "ticks": ""
             }
            },
            "type": "scatterternary"
           }
          ],
          "surface": [
           {
            "colorbar": {
             "outlinewidth": 0,
             "ticks": ""
            },
            "colorscale": [
             [
              0,
              "#0d0887"
             ],
             [
              0.1111111111111111,
              "#46039f"
             ],
             [
              0.2222222222222222,
              "#7201a8"
             ],
             [
              0.3333333333333333,
              "#9c179e"
             ],
             [
              0.4444444444444444,
              "#bd3786"
             ],
             [
              0.5555555555555556,
              "#d8576b"
             ],
             [
              0.6666666666666666,
              "#ed7953"
             ],
             [
              0.7777777777777778,
              "#fb9f3a"
             ],
             [
              0.8888888888888888,
              "#fdca26"
             ],
             [
              1,
              "#f0f921"
             ]
            ],
            "type": "surface"
           }
          ],
          "table": [
           {
            "cells": {
             "fill": {
              "color": "#EBF0F8"
             },
             "line": {
              "color": "white"
             }
            },
            "header": {
             "fill": {
              "color": "#C8D4E3"
             },
             "line": {
              "color": "white"
             }
            },
            "type": "table"
           }
          ]
         },
         "layout": {
          "annotationdefaults": {
           "arrowcolor": "#2a3f5f",
           "arrowhead": 0,
           "arrowwidth": 1
          },
          "autotypenumbers": "strict",
          "coloraxis": {
           "colorbar": {
            "outlinewidth": 0,
            "ticks": ""
           }
          },
          "colorscale": {
           "diverging": [
            [
             0,
             "#8e0152"
            ],
            [
             0.1,
             "#c51b7d"
            ],
            [
             0.2,
             "#de77ae"
            ],
            [
             0.3,
             "#f1b6da"
            ],
            [
             0.4,
             "#fde0ef"
            ],
            [
             0.5,
             "#f7f7f7"
            ],
            [
             0.6,
             "#e6f5d0"
            ],
            [
             0.7,
             "#b8e186"
            ],
            [
             0.8,
             "#7fbc41"
            ],
            [
             0.9,
             "#4d9221"
            ],
            [
             1,
             "#276419"
            ]
           ],
           "sequential": [
            [
             0,
             "#0d0887"
            ],
            [
             0.1111111111111111,
             "#46039f"
            ],
            [
             0.2222222222222222,
             "#7201a8"
            ],
            [
             0.3333333333333333,
             "#9c179e"
            ],
            [
             0.4444444444444444,
             "#bd3786"
            ],
            [
             0.5555555555555556,
             "#d8576b"
            ],
            [
             0.6666666666666666,
             "#ed7953"
            ],
            [
             0.7777777777777778,
             "#fb9f3a"
            ],
            [
             0.8888888888888888,
             "#fdca26"
            ],
            [
             1,
             "#f0f921"
            ]
           ],
           "sequentialminus": [
            [
             0,
             "#0d0887"
            ],
            [
             0.1111111111111111,
             "#46039f"
            ],
            [
             0.2222222222222222,
             "#7201a8"
            ],
            [
             0.3333333333333333,
             "#9c179e"
            ],
            [
             0.4444444444444444,
             "#bd3786"
            ],
            [
             0.5555555555555556,
             "#d8576b"
            ],
            [
             0.6666666666666666,
             "#ed7953"
            ],
            [
             0.7777777777777778,
             "#fb9f3a"
            ],
            [
             0.8888888888888888,
             "#fdca26"
            ],
            [
             1,
             "#f0f921"
            ]
           ]
          },
          "colorway": [
           "#636efa",
           "#EF553B",
           "#00cc96",
           "#ab63fa",
           "#FFA15A",
           "#19d3f3",
           "#FF6692",
           "#B6E880",
           "#FF97FF",
           "#FECB52"
          ],
          "font": {
           "color": "#2a3f5f"
          },
          "geo": {
           "bgcolor": "white",
           "lakecolor": "white",
           "landcolor": "#E5ECF6",
           "showlakes": true,
           "showland": true,
           "subunitcolor": "white"
          },
          "hoverlabel": {
           "align": "left"
          },
          "hovermode": "closest",
          "mapbox": {
           "style": "light"
          },
          "paper_bgcolor": "white",
          "plot_bgcolor": "#E5ECF6",
          "polar": {
           "angularaxis": {
            "gridcolor": "white",
            "linecolor": "white",
            "ticks": ""
           },
           "bgcolor": "#E5ECF6",
           "radialaxis": {
            "gridcolor": "white",
            "linecolor": "white",
            "ticks": ""
           }
          },
          "scene": {
           "xaxis": {
            "backgroundcolor": "#E5ECF6",
            "gridcolor": "white",
            "gridwidth": 2,
            "linecolor": "white",
            "showbackground": true,
            "ticks": "",
            "zerolinecolor": "white"
           },
           "yaxis": {
            "backgroundcolor": "#E5ECF6",
            "gridcolor": "white",
            "gridwidth": 2,
            "linecolor": "white",
            "showbackground": true,
            "ticks": "",
            "zerolinecolor": "white"
           },
           "zaxis": {
            "backgroundcolor": "#E5ECF6",
            "gridcolor": "white",
            "gridwidth": 2,
            "linecolor": "white",
            "showbackground": true,
            "ticks": "",
            "zerolinecolor": "white"
           }
          },
          "shapedefaults": {
           "line": {
            "color": "#2a3f5f"
           }
          },
          "ternary": {
           "aaxis": {
            "gridcolor": "white",
            "linecolor": "white",
            "ticks": ""
           },
           "baxis": {
            "gridcolor": "white",
            "linecolor": "white",
            "ticks": ""
           },
           "bgcolor": "#E5ECF6",
           "caxis": {
            "gridcolor": "white",
            "linecolor": "white",
            "ticks": ""
           }
          },
          "title": {
           "x": 0.05
          },
          "xaxis": {
           "automargin": true,
           "gridcolor": "white",
           "linecolor": "white",
           "ticks": "",
           "title": {
            "standoff": 15
           },
           "zerolinecolor": "white",
           "zerolinewidth": 2
          },
          "yaxis": {
           "automargin": true,
           "gridcolor": "white",
           "linecolor": "white",
           "ticks": "",
           "title": {
            "standoff": 15
           },
           "zerolinecolor": "white",
           "zerolinewidth": 2
          }
         }
        },
        "xaxis": {
         "anchor": "y",
         "autorange": true,
         "domain": [
          0,
          1
         ],
         "range": [
          "2017-07-31 05:01:06.0955",
          "2023-08-23 18:58:53.9045"
         ],
         "title": {
          "text": "date"
         },
         "type": "date"
        },
        "yaxis": {
         "anchor": "x",
         "autorange": true,
         "domain": [
          0,
          1
         ],
         "range": [
          0.3392774432607689,
          0.5430754979157018
         ],
         "title": {
          "text": "g"
         },
         "type": "linear"
        }
       }
      },
      "image/png": "[encoded data removed]",
      "text/html": [
       "<div>                            <div id=\"b0b19592-0e82-4b35-a2b5-62deee8acabd\" class=\"plotly-graph-div\" style=\"height:525px; width:100%;\"></div>            <script type=\"text/javascript\">                require([\"plotly\"], function(Plotly) {                    window.PLOTLYENV=window.PLOTLYENV || {};                                    if (document.getElementById(\"b0b19592-0e82-4b35-a2b5-62deee8acabd\")) {                    Plotly.newPlot(                        \"b0b19592-0e82-4b35-a2b5-62deee8acabd\",                        [{\"hovertemplate\":\"date=%{x}\\u003cbr\\u003eg=%{y}\\u003cextra\\u003e\\u003c\\u002fextra\\u003e\",\"legendgroup\":\"\",\"marker\":{\"color\":\"#636efa\",\"symbol\":\"circle\"},\"mode\":\"markers\",\"name\":\"\",\"orientation\":\"v\",\"showlegend\":false,\"x\":[\"2017-11-25T00:00:00\",\"2018-04-16T00:00:00\",\"2018-05-25T00:00:00\",\"2018-06-16T00:00:00\",\"2019-02-26T00:00:00\",\"2019-03-10T00:00:00\",\"2019-10-12T00:00:00\",\"2020-07-21T00:00:00\",\"2020-08-24T00:00:00\",\"2023-04-29T00:00:00\"],\"xaxis\":\"x\",\"y\":[0.35294117647058826,0.5294117647058824,0.4117647058823529,0.4117647058823529,0.47058823529411764,0.35294117647058826,0.35294117647058826,0.39235294117647057,0.3723529411764706,0.47058823529411764],\"yaxis\":\"y\",\"type\":\"scatter\"}],                        {\"template\":{\"data\":{\"histogram2dcontour\":[{\"type\":\"histogram2dcontour\",\"colorbar\":{\"outlinewidth\":0,\"ticks\":\"\"},\"colorscale\":[[0.0,\"#0d0887\"],[0.1111111111111111,\"#46039f\"],[0.2222222222222222,\"#7201a8\"],[0.3333333333333333,\"#9c179e\"],[0.4444444444444444,\"#bd3786\"],[0.5555555555555556,\"#d8576b\"],[0.6666666666666666,\"#ed7953\"],[0.7777777777777778,\"#fb9f3a\"],[0.8888888888888888,\"#fdca26\"],[1.0,\"#f0f921\"]]}],\"choropleth\":[{\"type\":\"choropleth\",\"colorbar\":{\"outlinewidth\":0,\"ticks\":\"\"}}],\"histogram2d\":[{\"type\":\"histogram2d\",\"colorbar\":{\"outlinewidth\":0,\"ticks\":\"\"},\"colorscale\":[[0.0,\"#0d0887\"],[0.1111111111111111,\"#46039f\"],[0.2222222222222222,\"#7201a8\"],[0.3333333333333333,\"#9c179e\"],[0.4444444444444444,\"#bd3786\"],[0.5555555555555556,\"#d8576b\"],[0.6666666666666666,\"#ed7953\"],[0.7777777777777778,\"#fb9f3a\"],[0.8888888888888888,\"#fdca26\"],[1.0,\"#f0f921\"]]}],\"heatmap\":[{\"type\":\"heatmap\",\"colorbar\":{\"outlinewidth\":0,\"ticks\":\"\"},\"colorscale\":[[0.0,\"#0d0887\"],[0.1111111111111111,\"#46039f\"],[0.2222222222222222,\"#7201a8\"],[0.3333333333333333,\"#9c179e\"],[0.4444444444444444,\"#bd3786\"],[0.5555555555555556,\"#d8576b\"],[0.6666666666666666,\"#ed7953\"],[0.7777777777777778,\"#fb9f3a\"],[0.8888888888888888,\"#fdca26\"],[1.0,\"#f0f921\"]]}],\"heatmapgl\":[{\"type\":\"heatmapgl\",\"colorbar\":{\"outlinewidth\":0,\"ticks\":\"\"},\"colorscale\":[[0.0,\"#0d0887\"],[0.1111111111111111,\"#46039f\"],[0.2222222222222222,\"#7201a8\"],[0.3333333333333333,\"#9c179e\"],[0.4444444444444444,\"#bd3786\"],[0.5555555555555556,\"#d8576b\"],[0.6666666666666666,\"#ed7953\"],[0.7777777777777778,\"#fb9f3a\"],[0.8888888888888888,\"#fdca26\"],[1.0,\"#f0f921\"]]}],\"contourcarpet\":[{\"type\":\"contourcarpet\",\"colorbar\":{\"outlinewidth\":0,\"ticks\":\"\"}}],\"contour\":[{\"type\":\"contour\",\"colorbar\":{\"outlinewidth\":0,\"ticks\":\"\"},\"colorscale\":[[0.0,\"#0d0887\"],[0.1111111111111111,\"#46039f\"],[0.2222222222222222,\"#7201a8\"],[0.3333333333333333,\"#9c179e\"],[0.4444444444444444,\"#bd3786\"],[0.5555555555555556,\"#d8576b\"],[0.6666666666666666,\"#ed7953\"],[0.7777777777777778,\"#fb9f3a\"],[0.8888888888888888,\"#fdca26\"],[1.0,\"#f0f921\"]]}],\"surface\":[{\"type\":\"surface\",\"colorbar\":{\"outlinewidth\":0,\"ticks\":\"\"},\"colorscale\":[[0.0,\"#0d0887\"],[0.1111111111111111,\"#46039f\"],[0.2222222222222222,\"#7201a8\"],[0.3333333333333333,\"#9c179e\"],[0.4444444444444444,\"#bd3786\"],[0.5555555555555556,\"#d8576b\"],[0.6666666666666666,\"#ed7953\"],[0.7777777777777778,\"#fb9f3a\"],[0.8888888888888888,\"#fdca26\"],[1.0,\"#f0f921\"]]}],\"mesh3d\":[{\"type\":\"mesh3d\",\"colorbar\":{\"outlinewidth\":0,\"ticks\":\"\"}}],\"scatter\":[{\"fillpattern\":{\"fillmode\":\"overlay\",\"size\":10,\"solidity\":0.2},\"type\":\"scatter\"}],\"parcoords\":[{\"type\":\"parcoords\",\"line\":{\"colorbar\":{\"outlinewidth\":0,\"ticks\":\"\"}}}],\"scatterpolargl\":[{\"type\":\"scatterpolargl\",\"marker\":{\"colorbar\":{\"outlinewidth\":0,\"ticks\":\"\"}}}],\"bar\":[{\"error_x\":{\"color\":\"#2a3f5f\"},\"error_y\":{\"color\":\"#2a3f5f\"},\"marker\":{\"line\":{\"color\":\"#E5ECF6\",\"width\":0.5},\"pattern\":{\"fillmode\":\"overlay\",\"size\":10,\"solidity\":0.2}},\"type\":\"bar\"}],\"scattergeo\":[{\"type\":\"scattergeo\",\"marker\":{\"colorbar\":{\"outlinewidth\":0,\"ticks\":\"\"}}}],\"scatterpolar\":[{\"type\":\"scatterpolar\",\"marker\":{\"colorbar\":{\"outlinewidth\":0,\"ticks\":\"\"}}}],\"histogram\":[{\"marker\":{\"pattern\":{\"fillmode\":\"overlay\",\"size\":10,\"solidity\":0.2}},\"type\":\"histogram\"}],\"scattergl\":[{\"type\":\"scattergl\",\"marker\":{\"colorbar\":{\"outlinewidth\":0,\"ticks\":\"\"}}}],\"scatter3d\":[{\"type\":\"scatter3d\",\"line\":{\"colorbar\":{\"outlinewidth\":0,\"ticks\":\"\"}},\"marker\":{\"colorbar\":{\"outlinewidth\":0,\"ticks\":\"\"}}}],\"scattermapbox\":[{\"type\":\"scattermapbox\",\"marker\":{\"colorbar\":{\"outlinewidth\":0,\"ticks\":\"\"}}}],\"scatterternary\":[{\"type\":\"scatterternary\",\"marker\":{\"colorbar\":{\"outlinewidth\":0,\"ticks\":\"\"}}}],\"scattercarpet\":[{\"type\":\"scattercarpet\",\"marker\":{\"colorbar\":{\"outlinewidth\":0,\"ticks\":\"\"}}}],\"carpet\":[{\"aaxis\":{\"endlinecolor\":\"#2a3f5f\",\"gridcolor\":\"white\",\"linecolor\":\"white\",\"minorgridcolor\":\"white\",\"startlinecolor\":\"#2a3f5f\"},\"baxis\":{\"endlinecolor\":\"#2a3f5f\",\"gridcolor\":\"white\",\"linecolor\":\"white\",\"minorgridcolor\":\"white\",\"startlinecolor\":\"#2a3f5f\"},\"type\":\"carpet\"}],\"table\":[{\"cells\":{\"fill\":{\"color\":\"#EBF0F8\"},\"line\":{\"color\":\"white\"}},\"header\":{\"fill\":{\"color\":\"#C8D4E3\"},\"line\":{\"color\":\"white\"}},\"type\":\"table\"}],\"barpolar\":[{\"marker\":{\"line\":{\"color\":\"#E5ECF6\",\"width\":0.5},\"pattern\":{\"fillmode\":\"overlay\",\"size\":10,\"solidity\":0.2}},\"type\":\"barpolar\"}],\"pie\":[{\"automargin\":true,\"type\":\"pie\"}]},\"layout\":{\"autotypenumbers\":\"strict\",\"colorway\":[\"#636efa\",\"#EF553B\",\"#00cc96\",\"#ab63fa\",\"#FFA15A\",\"#19d3f3\",\"#FF6692\",\"#B6E880\",\"#FF97FF\",\"#FECB52\"],\"font\":{\"color\":\"#2a3f5f\"},\"hovermode\":\"closest\",\"hoverlabel\":{\"align\":\"left\"},\"paper_bgcolor\":\"white\",\"plot_bgcolor\":\"#E5ECF6\",\"polar\":{\"bgcolor\":\"#E5ECF6\",\"angularaxis\":{\"gridcolor\":\"white\",\"linecolor\":\"white\",\"ticks\":\"\"},\"radialaxis\":{\"gridcolor\":\"white\",\"linecolor\":\"white\",\"ticks\":\"\"}},\"ternary\":{\"bgcolor\":\"#E5ECF6\",\"aaxis\":{\"gridcolor\":\"white\",\"linecolor\":\"white\",\"ticks\":\"\"},\"baxis\":{\"gridcolor\":\"white\",\"linecolor\":\"white\",\"ticks\":\"\"},\"caxis\":{\"gridcolor\":\"white\",\"linecolor\":\"white\",\"ticks\":\"\"}},\"coloraxis\":{\"colorbar\":{\"outlinewidth\":0,\"ticks\":\"\"}},\"colorscale\":{\"sequential\":[[0.0,\"#0d0887\"],[0.1111111111111111,\"#46039f\"],[0.2222222222222222,\"#7201a8\"],[0.3333333333333333,\"#9c179e\"],[0.4444444444444444,\"#bd3786\"],[0.5555555555555556,\"#d8576b\"],[0.6666666666666666,\"#ed7953\"],[0.7777777777777778,\"#fb9f3a\"],[0.8888888888888888,\"#fdca26\"],[1.0,\"#f0f921\"]],\"sequentialminus\":[[0.0,\"#0d0887\"],[0.1111111111111111,\"#46039f\"],[0.2222222222222222,\"#7201a8\"],[0.3333333333333333,\"#9c179e\"],[0.4444444444444444,\"#bd3786\"],[0.5555555555555556,\"#d8576b\"],[0.6666666666666666,\"#ed7953\"],[0.7777777777777778,\"#fb9f3a\"],[0.8888888888888888,\"#fdca26\"],[1.0,\"#f0f921\"]],\"diverging\":[[0,\"#8e0152\"],[0.1,\"#c51b7d\"],[0.2,\"#de77ae\"],[0.3,\"#f1b6da\"],[0.4,\"#fde0ef\"],[0.5,\"#f7f7f7\"],[0.6,\"#e6f5d0\"],[0.7,\"#b8e186\"],[0.8,\"#7fbc41\"],[0.9,\"#4d9221\"],[1,\"#276419\"]]},\"xaxis\":{\"gridcolor\":\"white\",\"linecolor\":\"white\",\"ticks\":\"\",\"title\":{\"standoff\":15},\"zerolinecolor\":\"white\",\"automargin\":true,\"zerolinewidth\":2},\"yaxis\":{\"gridcolor\":\"white\",\"linecolor\":\"white\",\"ticks\":\"\",\"title\":{\"standoff\":15},\"zerolinecolor\":\"white\",\"automargin\":true,\"zerolinewidth\":2},\"scene\":{\"xaxis\":{\"backgroundcolor\":\"#E5ECF6\",\"gridcolor\":\"white\",\"linecolor\":\"white\",\"showbackground\":true,\"ticks\":\"\",\"zerolinecolor\":\"white\",\"gridwidth\":2},\"yaxis\":{\"backgroundcolor\":\"#E5ECF6\",\"gridcolor\":\"white\",\"linecolor\":\"white\",\"showbackground\":true,\"ticks\":\"\",\"zerolinecolor\":\"white\",\"gridwidth\":2},\"zaxis\":{\"backgroundcolor\":\"#E5ECF6\",\"gridcolor\":\"white\",\"linecolor\":\"white\",\"showbackground\":true,\"ticks\":\"\",\"zerolinecolor\":\"white\",\"gridwidth\":2}},\"shapedefaults\":{\"line\":{\"color\":\"#2a3f5f\"}},\"annotationdefaults\":{\"arrowcolor\":\"#2a3f5f\",\"arrowhead\":0,\"arrowwidth\":1},\"geo\":{\"bgcolor\":\"white\",\"landcolor\":\"#E5ECF6\",\"subunitcolor\":\"white\",\"showland\":true,\"showlakes\":true,\"lakecolor\":\"white\"},\"title\":{\"x\":0.05},\"mapbox\":{\"style\":\"light\"}}},\"xaxis\":{\"anchor\":\"y\",\"domain\":[0.0,1.0],\"title\":{\"text\":\"date\"}},\"yaxis\":{\"anchor\":\"x\",\"domain\":[0.0,1.0],\"title\":{\"text\":\"g\"}},\"legend\":{\"tracegroupgap\":0},\"margin\":{\"t\":60}},                        {\"responsive\": true}                    ).then(function(){\n",
       "                            \n",
       "var gd = document.getElementById('b0b19592-0e82-4b35-a2b5-62deee8acabd');\n",
       "var x = new MutationObserver(function (mutations, observer) {{\n",
       "        var display = window.getComputedStyle(gd).display;\n",
       "        if (!display || display === 'none') {{\n",
       "            console.log([gd, 'removed!']);\n",
       "            Plotly.purge(gd);\n",
       "            observer.disconnect();\n",
       "        }}\n",
       "}});\n",
       "\n",
       "// Listen for the removal of the full notebook cells\n",
       "var notebookContainer = gd.closest('#notebook-container');\n",
       "if (notebookContainer) {{\n",
       "    x.observe(notebookContainer, {childList: true});\n",
       "}}\n",
       "\n",
       "// Listen for the clearing of the current output cell\n",
       "var outputEl = gd.closest('.output');\n",
       "if (outputEl) {{\n",
       "    x.observe(outputEl, {childList: true});\n",
       "}}\n",
       "\n",
       "                        })                };                });            </script>        </div>"
      ]
     },
     "metadata": {},
     "output_type": "display_data"
    }
   ],
   "source": [
    "gvsdate = ascents[(ascents['user']=='paulk') & (~ascents['date'].isna())].sort_values(by='date')\n",
    "gvsdate['YYYY-MM'] = gvsdate['date'].dt.to_period(\"M\")\n",
    "px.scatter(data_frame=gvsdate.groupby('YYYY-MM')[['date', 'g']].max(), x='date', y='g')"
   ]
  },
  {
   "cell_type": "code",
   "execution_count": 170,
   "id": "1cdb8dc1-d9fc-44de-bf10-90435c9b8458",
   "metadata": {},
   "outputs": [
    {
     "data": {
      "application/vnd.plotly.v1+json": {
       "config": {
        "plotlyServerURL": "https://plot.ly"
       },
       "data": [
        {
         "hovertemplate": "date=%{x}<br>g=%{y}<extra></extra>",
         "legendgroup": "",
         "marker": {
          "color": "#636efa",
          "opacity": 0.2,
          "symbol": "circle"
         },
         "mode": "markers",
         "name": "",
         "orientation": "v",
         "showlegend": false,
         "type": "scatter",
         "x": [
          "2017-11-25T00:00:00",
          "2018-04-03T00:00:00",
          "2018-04-11T00:00:00",
          "2018-04-11T00:00:00",
          "2018-04-11T00:00:00",
          "2018-04-11T00:00:00",
          "2018-04-11T00:00:00",
          "2018-04-11T00:00:00",
          "2018-04-11T00:00:00",
          "2018-04-11T00:00:00",
          "2018-04-16T00:00:00",
          "2018-04-16T00:00:00",
          "2018-05-14T00:00:00",
          "2018-05-14T00:00:00",
          "2018-05-16T00:00:00",
          "2018-05-21T00:00:00",
          "2018-05-21T00:00:00",
          "2018-05-22T00:00:00",
          "2018-05-24T00:00:00",
          "2018-05-25T00:00:00",
          "2018-05-25T00:00:00",
          "2018-06-09T00:00:00",
          "2018-06-16T00:00:00",
          "2019-02-26T00:00:00",
          "2019-02-26T00:00:00",
          "2019-02-26T00:00:00",
          "2019-02-26T00:00:00",
          "2019-02-26T00:00:00",
          "2019-02-26T00:00:00",
          "2019-02-26T00:00:00",
          "2019-02-26T00:00:00",
          "2019-03-02T00:00:00",
          "2019-03-02T00:00:00",
          "2019-03-09T00:00:00",
          "2019-03-10T00:00:00",
          "2019-10-12T00:00:00",
          "2020-07-21T00:00:00",
          "2020-07-21T00:00:00",
          "2020-07-21T00:00:00",
          "2020-08-01T00:00:00",
          "2020-08-24T00:00:00",
          "2020-08-24T00:00:00",
          "2023-04-29T00:00:00"
         ],
         "xaxis": "x",
         "y": [
          0.35294117647058826,
          0.23529411764705882,
          0.5294117647058824,
          0.23529411764705882,
          0.29411764705882354,
          0,
          0.17647058823529413,
          0.23529411764705882,
          0.23529411764705882,
          0.23529411764705882,
          0.47058823529411764,
          0.29411764705882354,
          0.23529411764705882,
          0.29411764705882354,
          0.35294117647058826,
          0.4117647058823529,
          0.4117647058823529,
          0.05914029180205156,
          0.4117647058823529,
          0.35294117647058826,
          0,
          0.29411764705882354,
          0.4117647058823529,
          0.35294117647058826,
          0.47058823529411764,
          0.23529411764705882,
          0.4117647058823529,
          0.35294117647058826,
          0.23529411764705882,
          0,
          0.4511764705882353,
          0.23529411764705882,
          0.17647058823529413,
          0.35294117647058826,
          0.17647058823529413,
          0.35294117647058826,
          0.35294117647058826,
          0.3135294117647059,
          0.39235294117647057,
          0.19588235294117648,
          0.35294117647058826,
          0.3723529411764706,
          0.47058823529411764
         ],
         "yaxis": "y"
        }
       ],
       "layout": {
        "autosize": true,
        "legend": {
         "tracegroupgap": 0
        },
        "margin": {
         "t": 60
        },
        "template": {
         "data": {
          "bar": [
           {
            "error_x": {
             "color": "#2a3f5f"
            },
            "error_y": {
             "color": "#2a3f5f"
            },
            "marker": {
             "line": {
              "color": "#E5ECF6",
              "width": 0.5
             },
             "pattern": {
              "fillmode": "overlay",
              "size": 10,
              "solidity": 0.2
             }
            },
            "type": "bar"
           }
          ],
          "barpolar": [
           {
            "marker": {
             "line": {
              "color": "#E5ECF6",
              "width": 0.5
             },
             "pattern": {
              "fillmode": "overlay",
              "size": 10,
              "solidity": 0.2
             }
            },
            "type": "barpolar"
           }
          ],
          "carpet": [
           {
            "aaxis": {
             "endlinecolor": "#2a3f5f",
             "gridcolor": "white",
             "linecolor": "white",
             "minorgridcolor": "white",
             "startlinecolor": "#2a3f5f"
            },
            "baxis": {
             "endlinecolor": "#2a3f5f",
             "gridcolor": "white",
             "linecolor": "white",
             "minorgridcolor": "white",
             "startlinecolor": "#2a3f5f"
            },
            "type": "carpet"
           }
          ],
          "choropleth": [
           {
            "colorbar": {
             "outlinewidth": 0,
             "ticks": ""
            },
            "type": "choropleth"
           }
          ],
          "contour": [
           {
            "colorbar": {
             "outlinewidth": 0,
             "ticks": ""
            },
            "colorscale": [
             [
              0,
              "#0d0887"
             ],
             [
              0.1111111111111111,
              "#46039f"
             ],
             [
              0.2222222222222222,
              "#7201a8"
             ],
             [
              0.3333333333333333,
              "#9c179e"
             ],
             [
              0.4444444444444444,
              "#bd3786"
             ],
             [
              0.5555555555555556,
              "#d8576b"
             ],
             [
              0.6666666666666666,
              "#ed7953"
             ],
             [
              0.7777777777777778,
              "#fb9f3a"
             ],
             [
              0.8888888888888888,
              "#fdca26"
             ],
             [
              1,
              "#f0f921"
             ]
            ],
            "type": "contour"
           }
          ],
          "contourcarpet": [
           {
            "colorbar": {
             "outlinewidth": 0,
             "ticks": ""
            },
            "type": "contourcarpet"
           }
          ],
          "heatmap": [
           {
            "colorbar": {
             "outlinewidth": 0,
             "ticks": ""
            },
            "colorscale": [
             [
              0,
              "#0d0887"
             ],
             [
              0.1111111111111111,
              "#46039f"
             ],
             [
              0.2222222222222222,
              "#7201a8"
             ],
             [
              0.3333333333333333,
              "#9c179e"
             ],
             [
              0.4444444444444444,
              "#bd3786"
             ],
             [
              0.5555555555555556,
              "#d8576b"
             ],
             [
              0.6666666666666666,
              "#ed7953"
             ],
             [
              0.7777777777777778,
              "#fb9f3a"
             ],
             [
              0.8888888888888888,
              "#fdca26"
             ],
             [
              1,
              "#f0f921"
             ]
            ],
            "type": "heatmap"
           }
          ],
          "heatmapgl": [
           {
            "colorbar": {
             "outlinewidth": 0,
             "ticks": ""
            },
            "colorscale": [
             [
              0,
              "#0d0887"
             ],
             [
              0.1111111111111111,
              "#46039f"
             ],
             [
              0.2222222222222222,
              "#7201a8"
             ],
             [
              0.3333333333333333,
              "#9c179e"
             ],
             [
              0.4444444444444444,
              "#bd3786"
             ],
             [
              0.5555555555555556,
              "#d8576b"
             ],
             [
              0.6666666666666666,
              "#ed7953"
             ],
             [
              0.7777777777777778,
              "#fb9f3a"
             ],
             [
              0.8888888888888888,
              "#fdca26"
             ],
             [
              1,
              "#f0f921"
             ]
            ],
            "type": "heatmapgl"
           }
          ],
          "histogram": [
           {
            "marker": {
             "pattern": {
              "fillmode": "overlay",
              "size": 10,
              "solidity": 0.2
             }
            },
            "type": "histogram"
           }
          ],
          "histogram2d": [
           {
            "colorbar": {
             "outlinewidth": 0,
             "ticks": ""
            },
            "colorscale": [
             [
              0,
              "#0d0887"
             ],
             [
              0.1111111111111111,
              "#46039f"
             ],
             [
              0.2222222222222222,
              "#7201a8"
             ],
             [
              0.3333333333333333,
              "#9c179e"
             ],
             [
              0.4444444444444444,
              "#bd3786"
             ],
             [
              0.5555555555555556,
              "#d8576b"
             ],
             [
              0.6666666666666666,
              "#ed7953"
             ],
             [
              0.7777777777777778,
              "#fb9f3a"
             ],
             [
              0.8888888888888888,
              "#fdca26"
             ],
             [
              1,
              "#f0f921"
             ]
            ],
            "type": "histogram2d"
           }
          ],
          "histogram2dcontour": [
           {
            "colorbar": {
             "outlinewidth": 0,
             "ticks": ""
            },
            "colorscale": [
             [
              0,
              "#0d0887"
             ],
             [
              0.1111111111111111,
              "#46039f"
             ],
             [
              0.2222222222222222,
              "#7201a8"
             ],
             [
              0.3333333333333333,
              "#9c179e"
             ],
             [
              0.4444444444444444,
              "#bd3786"
             ],
             [
              0.5555555555555556,
              "#d8576b"
             ],
             [
              0.6666666666666666,
              "#ed7953"
             ],
             [
              0.7777777777777778,
              "#fb9f3a"
             ],
             [
              0.8888888888888888,
              "#fdca26"
             ],
             [
              1,
              "#f0f921"
             ]
            ],
            "type": "histogram2dcontour"
           }
          ],
          "mesh3d": [
           {
            "colorbar": {
             "outlinewidth": 0,
             "ticks": ""
            },
            "type": "mesh3d"
           }
          ],
          "parcoords": [
           {
            "line": {
             "colorbar": {
              "outlinewidth": 0,
              "ticks": ""
             }
            },
            "type": "parcoords"
           }
          ],
          "pie": [
           {
            "automargin": true,
            "type": "pie"
           }
          ],
          "scatter": [
           {
            "fillpattern": {
             "fillmode": "overlay",
             "size": 10,
             "solidity": 0.2
            },
            "type": "scatter"
           }
          ],
          "scatter3d": [
           {
            "line": {
             "colorbar": {
              "outlinewidth": 0,
              "ticks": ""
             }
            },
            "marker": {
             "colorbar": {
              "outlinewidth": 0,
              "ticks": ""
             }
            },
            "type": "scatter3d"
           }
          ],
          "scattercarpet": [
           {
            "marker": {
             "colorbar": {
              "outlinewidth": 0,
              "ticks": ""
             }
            },
            "type": "scattercarpet"
           }
          ],
          "scattergeo": [
           {
            "marker": {
             "colorbar": {
              "outlinewidth": 0,
              "ticks": ""
             }
            },
            "type": "scattergeo"
           }
          ],
          "scattergl": [
           {
            "marker": {
             "colorbar": {
              "outlinewidth": 0,
              "ticks": ""
             }
            },
            "type": "scattergl"
           }
          ],
          "scattermapbox": [
           {
            "marker": {
             "colorbar": {
              "outlinewidth": 0,
              "ticks": ""
             }
            },
            "type": "scattermapbox"
           }
          ],
          "scatterpolar": [
           {
            "marker": {
             "colorbar": {
              "outlinewidth": 0,
              "ticks": ""
             }
            },
            "type": "scatterpolar"
           }
          ],
          "scatterpolargl": [
           {
            "marker": {
             "colorbar": {
              "outlinewidth": 0,
              "ticks": ""
             }
            },
            "type": "scatterpolargl"
           }
          ],
          "scatterternary": [
           {
            "marker": {
             "colorbar": {
              "outlinewidth": 0,
              "ticks": ""
             }
            },
            "type": "scatterternary"
           }
          ],
          "surface": [
           {
            "colorbar": {
             "outlinewidth": 0,
             "ticks": ""
            },
            "colorscale": [
             [
              0,
              "#0d0887"
             ],
             [
              0.1111111111111111,
              "#46039f"
             ],
             [
              0.2222222222222222,
              "#7201a8"
             ],
             [
              0.3333333333333333,
              "#9c179e"
             ],
             [
              0.4444444444444444,
              "#bd3786"
             ],
             [
              0.5555555555555556,
              "#d8576b"
             ],
             [
              0.6666666666666666,
              "#ed7953"
             ],
             [
              0.7777777777777778,
              "#fb9f3a"
             ],
             [
              0.8888888888888888,
              "#fdca26"
             ],
             [
              1,
              "#f0f921"
             ]
            ],
            "type": "surface"
           }
          ],
          "table": [
           {
            "cells": {
             "fill": {
              "color": "#EBF0F8"
             },
             "line": {
              "color": "white"
             }
            },
            "header": {
             "fill": {
              "color": "#C8D4E3"
             },
             "line": {
              "color": "white"
             }
            },
            "type": "table"
           }
          ]
         },
         "layout": {
          "annotationdefaults": {
           "arrowcolor": "#2a3f5f",
           "arrowhead": 0,
           "arrowwidth": 1
          },
          "autotypenumbers": "strict",
          "coloraxis": {
           "colorbar": {
            "outlinewidth": 0,
            "ticks": ""
           }
          },
          "colorscale": {
           "diverging": [
            [
             0,
             "#8e0152"
            ],
            [
             0.1,
             "#c51b7d"
            ],
            [
             0.2,
             "#de77ae"
            ],
            [
             0.3,
             "#f1b6da"
            ],
            [
             0.4,
             "#fde0ef"
            ],
            [
             0.5,
             "#f7f7f7"
            ],
            [
             0.6,
             "#e6f5d0"
            ],
            [
             0.7,
             "#b8e186"
            ],
            [
             0.8,
             "#7fbc41"
            ],
            [
             0.9,
             "#4d9221"
            ],
            [
             1,
             "#276419"
            ]
           ],
           "sequential": [
            [
             0,
             "#0d0887"
            ],
            [
             0.1111111111111111,
             "#46039f"
            ],
            [
             0.2222222222222222,
             "#7201a8"
            ],
            [
             0.3333333333333333,
             "#9c179e"
            ],
            [
             0.4444444444444444,
             "#bd3786"
            ],
            [
             0.5555555555555556,
             "#d8576b"
            ],
            [
             0.6666666666666666,
             "#ed7953"
            ],
            [
             0.7777777777777778,
             "#fb9f3a"
            ],
            [
             0.8888888888888888,
             "#fdca26"
            ],
            [
             1,
             "#f0f921"
            ]
           ],
           "sequentialminus": [
            [
             0,
             "#0d0887"
            ],
            [
             0.1111111111111111,
             "#46039f"
            ],
            [
             0.2222222222222222,
             "#7201a8"
            ],
            [
             0.3333333333333333,
             "#9c179e"
            ],
            [
             0.4444444444444444,
             "#bd3786"
            ],
            [
             0.5555555555555556,
             "#d8576b"
            ],
            [
             0.6666666666666666,
             "#ed7953"
            ],
            [
             0.7777777777777778,
             "#fb9f3a"
            ],
            [
             0.8888888888888888,
             "#fdca26"
            ],
            [
             1,
             "#f0f921"
            ]
           ]
          },
          "colorway": [
           "#636efa",
           "#EF553B",
           "#00cc96",
           "#ab63fa",
           "#FFA15A",
           "#19d3f3",
           "#FF6692",
           "#B6E880",
           "#FF97FF",
           "#FECB52"
          ],
          "font": {
           "color": "#2a3f5f"
          },
          "geo": {
           "bgcolor": "white",
           "lakecolor": "white",
           "landcolor": "#E5ECF6",
           "showlakes": true,
           "showland": true,
           "subunitcolor": "white"
          },
          "hoverlabel": {
           "align": "left"
          },
          "hovermode": "closest",
          "mapbox": {
           "style": "light"
          },
          "paper_bgcolor": "white",
          "plot_bgcolor": "#E5ECF6",
          "polar": {
           "angularaxis": {
            "gridcolor": "white",
            "linecolor": "white",
            "ticks": ""
           },
           "bgcolor": "#E5ECF6",
           "radialaxis": {
            "gridcolor": "white",
            "linecolor": "white",
            "ticks": ""
           }
          },
          "scene": {
           "xaxis": {
            "backgroundcolor": "#E5ECF6",
            "gridcolor": "white",
            "gridwidth": 2,
            "linecolor": "white",
            "showbackground": true,
            "ticks": "",
            "zerolinecolor": "white"
           },
           "yaxis": {
            "backgroundcolor": "#E5ECF6",
            "gridcolor": "white",
            "gridwidth": 2,
            "linecolor": "white",
            "showbackground": true,
            "ticks": "",
            "zerolinecolor": "white"
           },
           "zaxis": {
            "backgroundcolor": "#E5ECF6",
            "gridcolor": "white",
            "gridwidth": 2,
            "linecolor": "white",
            "showbackground": true,
            "ticks": "",
            "zerolinecolor": "white"
           }
          },
          "shapedefaults": {
           "line": {
            "color": "#2a3f5f"
           }
          },
          "ternary": {
           "aaxis": {
            "gridcolor": "white",
            "linecolor": "white",
            "ticks": ""
           },
           "baxis": {
            "gridcolor": "white",
            "linecolor": "white",
            "ticks": ""
           },
           "bgcolor": "#E5ECF6",
           "caxis": {
            "gridcolor": "white",
            "linecolor": "white",
            "ticks": ""
           }
          },
          "title": {
           "x": 0.05
          },
          "xaxis": {
           "automargin": true,
           "gridcolor": "white",
           "linecolor": "white",
           "ticks": "",
           "title": {
            "standoff": 15
           },
           "zerolinecolor": "white",
           "zerolinewidth": 2
          },
          "yaxis": {
           "automargin": true,
           "gridcolor": "white",
           "linecolor": "white",
           "ticks": "",
           "title": {
            "standoff": 15
           },
           "zerolinecolor": "white",
           "zerolinewidth": 2
          }
         }
        },
        "xaxis": {
         "anchor": "y",
         "autorange": true,
         "domain": [
          0,
          1
         ],
         "range": [
          "2017-07-31 05:01:06.0955",
          "2023-08-23 18:58:53.9045"
         ],
         "title": {
          "text": "date"
         },
         "type": "date"
        },
        "yaxis": {
         "anchor": "x",
         "autorange": true,
         "domain": [
          0,
          1
         ],
         "range": [
          -0.04099119962945808,
          0.5704029643353404
         ],
         "title": {
          "text": "g"
         },
         "type": "linear"
        }
       }
      },
      "image/png": "[encoded data removed]",
      "text/html": [
       "<div>                            <div id=\"a7d17bd3-10a9-4c38-a602-eaf2e57d4ec0\" class=\"plotly-graph-div\" style=\"height:525px; width:100%;\"></div>            <script type=\"text/javascript\">                require([\"plotly\"], function(Plotly) {                    window.PLOTLYENV=window.PLOTLYENV || {};                                    if (document.getElementById(\"a7d17bd3-10a9-4c38-a602-eaf2e57d4ec0\")) {                    Plotly.newPlot(                        \"a7d17bd3-10a9-4c38-a602-eaf2e57d4ec0\",                        [{\"hovertemplate\":\"date=%{x}\\u003cbr\\u003eg=%{y}\\u003cextra\\u003e\\u003c\\u002fextra\\u003e\",\"legendgroup\":\"\",\"marker\":{\"color\":\"#636efa\",\"opacity\":0.2,\"symbol\":\"circle\"},\"mode\":\"markers\",\"name\":\"\",\"orientation\":\"v\",\"showlegend\":false,\"x\":[\"2017-11-25T00:00:00\",\"2018-04-03T00:00:00\",\"2018-04-11T00:00:00\",\"2018-04-11T00:00:00\",\"2018-04-11T00:00:00\",\"2018-04-11T00:00:00\",\"2018-04-11T00:00:00\",\"2018-04-11T00:00:00\",\"2018-04-11T00:00:00\",\"2018-04-11T00:00:00\",\"2018-04-16T00:00:00\",\"2018-04-16T00:00:00\",\"2018-05-14T00:00:00\",\"2018-05-14T00:00:00\",\"2018-05-16T00:00:00\",\"2018-05-21T00:00:00\",\"2018-05-21T00:00:00\",\"2018-05-22T00:00:00\",\"2018-05-24T00:00:00\",\"2018-05-25T00:00:00\",\"2018-05-25T00:00:00\",\"2018-06-09T00:00:00\",\"2018-06-16T00:00:00\",\"2019-02-26T00:00:00\",\"2019-02-26T00:00:00\",\"2019-02-26T00:00:00\",\"2019-02-26T00:00:00\",\"2019-02-26T00:00:00\",\"2019-02-26T00:00:00\",\"2019-02-26T00:00:00\",\"2019-02-26T00:00:00\",\"2019-03-02T00:00:00\",\"2019-03-02T00:00:00\",\"2019-03-09T00:00:00\",\"2019-03-10T00:00:00\",\"2019-10-12T00:00:00\",\"2020-07-21T00:00:00\",\"2020-07-21T00:00:00\",\"2020-07-21T00:00:00\",\"2020-08-01T00:00:00\",\"2020-08-24T00:00:00\",\"2020-08-24T00:00:00\",\"2023-04-29T00:00:00\"],\"xaxis\":\"x\",\"y\":[0.35294117647058826,0.23529411764705882,0.5294117647058824,0.23529411764705882,0.29411764705882354,0.0,0.17647058823529413,0.23529411764705882,0.23529411764705882,0.23529411764705882,0.47058823529411764,0.29411764705882354,0.23529411764705882,0.29411764705882354,0.35294117647058826,0.4117647058823529,0.4117647058823529,0.05914029180205156,0.4117647058823529,0.35294117647058826,0.0,0.29411764705882354,0.4117647058823529,0.35294117647058826,0.47058823529411764,0.23529411764705882,0.4117647058823529,0.35294117647058826,0.23529411764705882,0.0,0.4511764705882353,0.23529411764705882,0.17647058823529413,0.35294117647058826,0.17647058823529413,0.35294117647058826,0.35294117647058826,0.3135294117647059,0.39235294117647057,0.19588235294117648,0.35294117647058826,0.3723529411764706,0.47058823529411764],\"yaxis\":\"y\",\"type\":\"scatter\"}],                        {\"template\":{\"data\":{\"histogram2dcontour\":[{\"type\":\"histogram2dcontour\",\"colorbar\":{\"outlinewidth\":0,\"ticks\":\"\"},\"colorscale\":[[0.0,\"#0d0887\"],[0.1111111111111111,\"#46039f\"],[0.2222222222222222,\"#7201a8\"],[0.3333333333333333,\"#9c179e\"],[0.4444444444444444,\"#bd3786\"],[0.5555555555555556,\"#d8576b\"],[0.6666666666666666,\"#ed7953\"],[0.7777777777777778,\"#fb9f3a\"],[0.8888888888888888,\"#fdca26\"],[1.0,\"#f0f921\"]]}],\"choropleth\":[{\"type\":\"choropleth\",\"colorbar\":{\"outlinewidth\":0,\"ticks\":\"\"}}],\"histogram2d\":[{\"type\":\"histogram2d\",\"colorbar\":{\"outlinewidth\":0,\"ticks\":\"\"},\"colorscale\":[[0.0,\"#0d0887\"],[0.1111111111111111,\"#46039f\"],[0.2222222222222222,\"#7201a8\"],[0.3333333333333333,\"#9c179e\"],[0.4444444444444444,\"#bd3786\"],[0.5555555555555556,\"#d8576b\"],[0.6666666666666666,\"#ed7953\"],[0.7777777777777778,\"#fb9f3a\"],[0.8888888888888888,\"#fdca26\"],[1.0,\"#f0f921\"]]}],\"heatmap\":[{\"type\":\"heatmap\",\"colorbar\":{\"outlinewidth\":0,\"ticks\":\"\"},\"colorscale\":[[0.0,\"#0d0887\"],[0.1111111111111111,\"#46039f\"],[0.2222222222222222,\"#7201a8\"],[0.3333333333333333,\"#9c179e\"],[0.4444444444444444,\"#bd3786\"],[0.5555555555555556,\"#d8576b\"],[0.6666666666666666,\"#ed7953\"],[0.7777777777777778,\"#fb9f3a\"],[0.8888888888888888,\"#fdca26\"],[1.0,\"#f0f921\"]]}],\"heatmapgl\":[{\"type\":\"heatmapgl\",\"colorbar\":{\"outlinewidth\":0,\"ticks\":\"\"},\"colorscale\":[[0.0,\"#0d0887\"],[0.1111111111111111,\"#46039f\"],[0.2222222222222222,\"#7201a8\"],[0.3333333333333333,\"#9c179e\"],[0.4444444444444444,\"#bd3786\"],[0.5555555555555556,\"#d8576b\"],[0.6666666666666666,\"#ed7953\"],[0.7777777777777778,\"#fb9f3a\"],[0.8888888888888888,\"#fdca26\"],[1.0,\"#f0f921\"]]}],\"contourcarpet\":[{\"type\":\"contourcarpet\",\"colorbar\":{\"outlinewidth\":0,\"ticks\":\"\"}}],\"contour\":[{\"type\":\"contour\",\"colorbar\":{\"outlinewidth\":0,\"ticks\":\"\"},\"colorscale\":[[0.0,\"#0d0887\"],[0.1111111111111111,\"#46039f\"],[0.2222222222222222,\"#7201a8\"],[0.3333333333333333,\"#9c179e\"],[0.4444444444444444,\"#bd3786\"],[0.5555555555555556,\"#d8576b\"],[0.6666666666666666,\"#ed7953\"],[0.7777777777777778,\"#fb9f3a\"],[0.8888888888888888,\"#fdca26\"],[1.0,\"#f0f921\"]]}],\"surface\":[{\"type\":\"surface\",\"colorbar\":{\"outlinewidth\":0,\"ticks\":\"\"},\"colorscale\":[[0.0,\"#0d0887\"],[0.1111111111111111,\"#46039f\"],[0.2222222222222222,\"#7201a8\"],[0.3333333333333333,\"#9c179e\"],[0.4444444444444444,\"#bd3786\"],[0.5555555555555556,\"#d8576b\"],[0.6666666666666666,\"#ed7953\"],[0.7777777777777778,\"#fb9f3a\"],[0.8888888888888888,\"#fdca26\"],[1.0,\"#f0f921\"]]}],\"mesh3d\":[{\"type\":\"mesh3d\",\"colorbar\":{\"outlinewidth\":0,\"ticks\":\"\"}}],\"scatter\":[{\"fillpattern\":{\"fillmode\":\"overlay\",\"size\":10,\"solidity\":0.2},\"type\":\"scatter\"}],\"parcoords\":[{\"type\":\"parcoords\",\"line\":{\"colorbar\":{\"outlinewidth\":0,\"ticks\":\"\"}}}],\"scatterpolargl\":[{\"type\":\"scatterpolargl\",\"marker\":{\"colorbar\":{\"outlinewidth\":0,\"ticks\":\"\"}}}],\"bar\":[{\"error_x\":{\"color\":\"#2a3f5f\"},\"error_y\":{\"color\":\"#2a3f5f\"},\"marker\":{\"line\":{\"color\":\"#E5ECF6\",\"width\":0.5},\"pattern\":{\"fillmode\":\"overlay\",\"size\":10,\"solidity\":0.2}},\"type\":\"bar\"}],\"scattergeo\":[{\"type\":\"scattergeo\",\"marker\":{\"colorbar\":{\"outlinewidth\":0,\"ticks\":\"\"}}}],\"scatterpolar\":[{\"type\":\"scatterpolar\",\"marker\":{\"colorbar\":{\"outlinewidth\":0,\"ticks\":\"\"}}}],\"histogram\":[{\"marker\":{\"pattern\":{\"fillmode\":\"overlay\",\"size\":10,\"solidity\":0.2}},\"type\":\"histogram\"}],\"scattergl\":[{\"type\":\"scattergl\",\"marker\":{\"colorbar\":{\"outlinewidth\":0,\"ticks\":\"\"}}}],\"scatter3d\":[{\"type\":\"scatter3d\",\"line\":{\"colorbar\":{\"outlinewidth\":0,\"ticks\":\"\"}},\"marker\":{\"colorbar\":{\"outlinewidth\":0,\"ticks\":\"\"}}}],\"scattermapbox\":[{\"type\":\"scattermapbox\",\"marker\":{\"colorbar\":{\"outlinewidth\":0,\"ticks\":\"\"}}}],\"scatterternary\":[{\"type\":\"scatterternary\",\"marker\":{\"colorbar\":{\"outlinewidth\":0,\"ticks\":\"\"}}}],\"scattercarpet\":[{\"type\":\"scattercarpet\",\"marker\":{\"colorbar\":{\"outlinewidth\":0,\"ticks\":\"\"}}}],\"carpet\":[{\"aaxis\":{\"endlinecolor\":\"#2a3f5f\",\"gridcolor\":\"white\",\"linecolor\":\"white\",\"minorgridcolor\":\"white\",\"startlinecolor\":\"#2a3f5f\"},\"baxis\":{\"endlinecolor\":\"#2a3f5f\",\"gridcolor\":\"white\",\"linecolor\":\"white\",\"minorgridcolor\":\"white\",\"startlinecolor\":\"#2a3f5f\"},\"type\":\"carpet\"}],\"table\":[{\"cells\":{\"fill\":{\"color\":\"#EBF0F8\"},\"line\":{\"color\":\"white\"}},\"header\":{\"fill\":{\"color\":\"#C8D4E3\"},\"line\":{\"color\":\"white\"}},\"type\":\"table\"}],\"barpolar\":[{\"marker\":{\"line\":{\"color\":\"#E5ECF6\",\"width\":0.5},\"pattern\":{\"fillmode\":\"overlay\",\"size\":10,\"solidity\":0.2}},\"type\":\"barpolar\"}],\"pie\":[{\"automargin\":true,\"type\":\"pie\"}]},\"layout\":{\"autotypenumbers\":\"strict\",\"colorway\":[\"#636efa\",\"#EF553B\",\"#00cc96\",\"#ab63fa\",\"#FFA15A\",\"#19d3f3\",\"#FF6692\",\"#B6E880\",\"#FF97FF\",\"#FECB52\"],\"font\":{\"color\":\"#2a3f5f\"},\"hovermode\":\"closest\",\"hoverlabel\":{\"align\":\"left\"},\"paper_bgcolor\":\"white\",\"plot_bgcolor\":\"#E5ECF6\",\"polar\":{\"bgcolor\":\"#E5ECF6\",\"angularaxis\":{\"gridcolor\":\"white\",\"linecolor\":\"white\",\"ticks\":\"\"},\"radialaxis\":{\"gridcolor\":\"white\",\"linecolor\":\"white\",\"ticks\":\"\"}},\"ternary\":{\"bgcolor\":\"#E5ECF6\",\"aaxis\":{\"gridcolor\":\"white\",\"linecolor\":\"white\",\"ticks\":\"\"},\"baxis\":{\"gridcolor\":\"white\",\"linecolor\":\"white\",\"ticks\":\"\"},\"caxis\":{\"gridcolor\":\"white\",\"linecolor\":\"white\",\"ticks\":\"\"}},\"coloraxis\":{\"colorbar\":{\"outlinewidth\":0,\"ticks\":\"\"}},\"colorscale\":{\"sequential\":[[0.0,\"#0d0887\"],[0.1111111111111111,\"#46039f\"],[0.2222222222222222,\"#7201a8\"],[0.3333333333333333,\"#9c179e\"],[0.4444444444444444,\"#bd3786\"],[0.5555555555555556,\"#d8576b\"],[0.6666666666666666,\"#ed7953\"],[0.7777777777777778,\"#fb9f3a\"],[0.8888888888888888,\"#fdca26\"],[1.0,\"#f0f921\"]],\"sequentialminus\":[[0.0,\"#0d0887\"],[0.1111111111111111,\"#46039f\"],[0.2222222222222222,\"#7201a8\"],[0.3333333333333333,\"#9c179e\"],[0.4444444444444444,\"#bd3786\"],[0.5555555555555556,\"#d8576b\"],[0.6666666666666666,\"#ed7953\"],[0.7777777777777778,\"#fb9f3a\"],[0.8888888888888888,\"#fdca26\"],[1.0,\"#f0f921\"]],\"diverging\":[[0,\"#8e0152\"],[0.1,\"#c51b7d\"],[0.2,\"#de77ae\"],[0.3,\"#f1b6da\"],[0.4,\"#fde0ef\"],[0.5,\"#f7f7f7\"],[0.6,\"#e6f5d0\"],[0.7,\"#b8e186\"],[0.8,\"#7fbc41\"],[0.9,\"#4d9221\"],[1,\"#276419\"]]},\"xaxis\":{\"gridcolor\":\"white\",\"linecolor\":\"white\",\"ticks\":\"\",\"title\":{\"standoff\":15},\"zerolinecolor\":\"white\",\"automargin\":true,\"zerolinewidth\":2},\"yaxis\":{\"gridcolor\":\"white\",\"linecolor\":\"white\",\"ticks\":\"\",\"title\":{\"standoff\":15},\"zerolinecolor\":\"white\",\"automargin\":true,\"zerolinewidth\":2},\"scene\":{\"xaxis\":{\"backgroundcolor\":\"#E5ECF6\",\"gridcolor\":\"white\",\"linecolor\":\"white\",\"showbackground\":true,\"ticks\":\"\",\"zerolinecolor\":\"white\",\"gridwidth\":2},\"yaxis\":{\"backgroundcolor\":\"#E5ECF6\",\"gridcolor\":\"white\",\"linecolor\":\"white\",\"showbackground\":true,\"ticks\":\"\",\"zerolinecolor\":\"white\",\"gridwidth\":2},\"zaxis\":{\"backgroundcolor\":\"#E5ECF6\",\"gridcolor\":\"white\",\"linecolor\":\"white\",\"showbackground\":true,\"ticks\":\"\",\"zerolinecolor\":\"white\",\"gridwidth\":2}},\"shapedefaults\":{\"line\":{\"color\":\"#2a3f5f\"}},\"annotationdefaults\":{\"arrowcolor\":\"#2a3f5f\",\"arrowhead\":0,\"arrowwidth\":1},\"geo\":{\"bgcolor\":\"white\",\"landcolor\":\"#E5ECF6\",\"subunitcolor\":\"white\",\"showland\":true,\"showlakes\":true,\"lakecolor\":\"white\"},\"title\":{\"x\":0.05},\"mapbox\":{\"style\":\"light\"}}},\"xaxis\":{\"anchor\":\"y\",\"domain\":[0.0,1.0],\"title\":{\"text\":\"date\"}},\"yaxis\":{\"anchor\":\"x\",\"domain\":[0.0,1.0],\"title\":{\"text\":\"g\"}},\"legend\":{\"tracegroupgap\":0},\"margin\":{\"t\":60}},                        {\"responsive\": true}                    ).then(function(){\n",
       "                            \n",
       "var gd = document.getElementById('a7d17bd3-10a9-4c38-a602-eaf2e57d4ec0');\n",
       "var x = new MutationObserver(function (mutations, observer) {{\n",
       "        var display = window.getComputedStyle(gd).display;\n",
       "        if (!display || display === 'none') {{\n",
       "            console.log([gd, 'removed!']);\n",
       "            Plotly.purge(gd);\n",
       "            observer.disconnect();\n",
       "        }}\n",
       "}});\n",
       "\n",
       "// Listen for the removal of the full notebook cells\n",
       "var notebookContainer = gd.closest('#notebook-container');\n",
       "if (notebookContainer) {{\n",
       "    x.observe(notebookContainer, {childList: true});\n",
       "}}\n",
       "\n",
       "// Listen for the clearing of the current output cell\n",
       "var outputEl = gd.closest('.output');\n",
       "if (outputEl) {{\n",
       "    x.observe(outputEl, {childList: true});\n",
       "}}\n",
       "\n",
       "                        })                };                });            </script>        </div>"
      ]
     },
     "metadata": {},
     "output_type": "display_data"
    }
   ],
   "source": [
    "px.scatter(data_frame=ascents[(ascents['user']=='paulk') & (~ascents['date'].isna())].sort_values(by='date'),\n",
    "          x='date', y='g', opacity=0.2)"
   ]
  },
  {
   "cell_type": "code",
   "execution_count": 133,
   "id": "9552b8b1-2e2c-4a37-950b-064d351a1ae3",
   "metadata": {},
   "outputs": [
    {
     "data": {
      "text/plain": [
       "id             1632\n",
       "# sends         150\n",
       "connected      True\n",
       "b_connected    True\n",
       "# boulders      124\n",
       "Name: larathompson, dtype: object"
      ]
     },
     "execution_count": 133,
     "metadata": {},
     "output_type": "execute_result"
    }
   ],
   "source": [
    "climbers.loc['larathompson']"
   ]
  },
  {
   "cell_type": "code",
   "execution_count": 101,
   "id": "bd871d11-ed26-4cac-901d-a9c7901afd73",
   "metadata": {},
   "outputs": [],
   "source": [
    "grades = pd.DataFrame( \n",
    "    #\"boulder\"        \n",
    "    [{\"id\":\"10\",\"grade\":\"V0\"},{\"id\":\"14\",\"grade\":\"V1\"},{\"id\":\"18\",\"grade\":\"V2\"},{\"id\":\"22\",\"grade\":\"V3\"},\n",
    "              {\"id\":\"28\",\"grade\":\"V4\"},{\"id\":\"34\",\"grade\":\"V5\"},{\"id\":\"40\",\"grade\":\"V6\"},{\"id\":\"44\",\"grade\":\"V7\"},\n",
    "              {\"id\":\"48\",\"grade\":\"V8\"},{\"id\":\"54\",\"grade\":\"V9\"},{\"id\":\"59\",\"grade\":\"V10\"},{\"id\":\"64\",\"grade\":\"V11\"},\n",
    "              {\"id\":\"69\",\"grade\":\"V12\"},{\"id\":\"74\",\"grade\":\"V13\"},{\"id\":\"79\",\"grade\":\"V14\"},{\"id\":\"84\",\"grade\":\"V15\"},\n",
    "              {\"id\":\"89\",\"grade\":\"V16\"},{\"id\":\"94\",\"grade\":\"V17\"},\n",
    "    #\"sport\"\n",
    "     {\"id\":\"1\",\"grade\":\"5.1\"},{\"id\":\"2\",\"grade\":\"5.2\"},{\"id\":\"3\",\"grade\":\"5.3\"},{\"id\":\"4\",\"grade\":\"5.4\"},\n",
    "            {\"id\":\"5\",\"grade\":\"5.5\"},{\"id\":\"6\",\"grade\":\"5.6\"},{\"id\":\"7\",\"grade\":\"5.7\"},{\"id\":\"12\",\"grade\":\"5.8\"},\n",
    "            {\"id\":\"22\",\"grade\":\"5.9\"},{\"id\":\"27\",\"grade\":\"5.10a\"},{\"id\":\"32\",\"grade\":\"5.10b\"},{\"id\":\"37\",\"grade\":\"5.10c\"},\n",
    "            {\"id\":\"42\",\"grade\":\"5.10d\"},{\"id\":\"47\",\"grade\":\"5.11a\"},{\"id\":\"51\",\"grade\":\"5.11b\"},{\"id\":\"53\",\"grade\":\"5.11c\"},\n",
    "            {\"id\":\"57\",\"grade\":\"5.11d\"},{\"id\":\"62\",\"grade\":\"5.12a\"},{\"id\":\"67\",\"grade\":\"5.12b\"},{\"id\":\"72\",\"grade\":\"5.12c\"},\n",
    "            {\"id\":\"77\",\"grade\":\"5.12d\"},{\"id\":\"82\",\"grade\":\"5.13a\"},{\"id\":\"87\",\"grade\":\"5.13b\"},{\"id\":\"92\",\"grade\":\"5.13c\"},\n",
    "            {\"id\":\"97\",\"grade\":\"5.13d\"},{\"id\":\"102\",\"grade\":\"5.14a\"},{\"id\":\"107\",\"grade\":\"5.14b\"},{\"id\":\"112\",\"grade\":\"5.14c\"},\n",
    "            {\"id\":\"117\",\"grade\":\"5.14d\"},{\"id\":\"122\",\"grade\":\"5.15a\"},{\"id\":\"127\",\"grade\":\"5.15b\"},{\"id\":\"132\",\"grade\":\"5.15c\"},\n",
    "            {\"id\":\"137\",\"grade\":\"5.15d\"},])\n",
    "grades.loc[:17, 'type']='boulder'\n",
    "grades.loc[18:50, 'type']='sport'\n",
    "grades.loc[:50, 'a'] = np.concatenate([np.arange(18), np.arange(33)])\n",
    "g_boulder = lambda a: a/17\n",
    "g_inv_boulder = lambda g: 17*g\n",
    "grades.loc[:17, 'g'] = g_boulder(grades.loc[:17, 'a'])\n",
    "g_sport = lambda a: (np.exp(a/12)-1)/(np.exp(32/12)-1)\n",
    "g_inv_sport = lambda g: 12*np.log((np.exp(32/12)-1)*g+1)\n",
    "grades.loc[18:50, 'g'] = g_sport(grades.loc[18:50, 'a'])\n",
    "\n",
    "g_transforms = {'bouder': g_boulder, \n",
    "                'sport': g_sport}\n",
    "grades = grades.set_index(['type', 'grade'])\n",
    "\n",
    "def grade_num(type_s, grade_str_s):\n",
    "    neg = grade_str_s.str.contains('-')\n",
    "    pos = grade_str_s.str.contains('\\+')\n",
    "    grade_str_s[neg|pos] = grade_str_s[neg|pos].str[:-1]\n",
    "    \n",
    "    bs = (type_s == 'boulder').values\n",
    "    ss = np.isin(type_s, ['sport', 'trad'])\n",
    "    g = np.zeros(len(grade_str_s))\n",
    "    g[bs] = g_boulder(grades.loc['boulder'].loc[grade_str_s[bs], 'a'].values + 0.33*(pos[bs].astype(int) - neg[bs].astype(int)))\n",
    "    g[ss] = g_sport(grades.loc['sport'].loc[grade_str_s[ss], 'a'].values + 0.33*(pos[ss].astype(int) - neg[ss].astype(int)))\n",
    "    return g"
   ]
  },
  {
   "cell_type": "code",
   "execution_count": 107,
   "id": "feeed8d5-5c9c-41c9-a5c4-aac07bf49927",
   "metadata": {},
   "outputs": [],
   "source": [
    "ascents['g']=grade_num(climbs.loc[ascents['climb_id'],'type'], ascents['grade'].copy())"
   ]
  },
  {
   "cell_type": "code",
   "execution_count": 109,
   "id": "586e3577-4f23-4793-b90d-18c099d9d89a",
   "metadata": {},
   "outputs": [],
   "source": [
    "g_mean = ascents.groupby('climb_id')['g'].mean()"
   ]
  },
  {
   "cell_type": "code",
   "execution_count": 118,
   "id": "38d98bf8-5689-4d60-b1f0-483742c384fc",
   "metadata": {},
   "outputs": [],
   "source": [
    "boulders['g_mean'] = 0\n",
    "boulders.loc[np.isin(boulders.index, g_mean.index), 'g_mean'] = 17*g_mean.loc[boulders.index[np.isin(boulders.index, g_mean.index)]]"
   ]
  },
  {
   "cell_type": "code",
   "execution_count": 119,
   "id": "00c834ec-0ff4-4483-a291-3125defd2e30",
   "metadata": {},
   "outputs": [
    {
     "data": {
      "text/html": [
       "<div>\n",
       "<style scoped>\n",
       "    .dataframe tbody tr th:only-of-type {\n",
       "        vertical-align: middle;\n",
       "    }\n",
       "\n",
       "    .dataframe tbody tr th {\n",
       "        vertical-align: top;\n",
       "    }\n",
       "\n",
       "    .dataframe thead th {\n",
       "        text-align: right;\n",
       "    }\n",
       "</style>\n",
       "<table border=\"1\" class=\"dataframe\">\n",
       "  <thead>\n",
       "    <tr style=\"text-align: right;\">\n",
       "      <th></th>\n",
       "      <th>slug</th>\n",
       "      <th>name</th>\n",
       "      <th>area_id</th>\n",
       "      <th>type</th>\n",
       "      <th>grade_id</th>\n",
       "      <th>bolts</th>\n",
       "      <th>length</th>\n",
       "      <th>grade</th>\n",
       "      <th>description</th>\n",
       "      <th># onsights</th>\n",
       "      <th>...</th>\n",
       "      <th>areas_11_name</th>\n",
       "      <th>areas_10_slug</th>\n",
       "      <th>areas_11_slug</th>\n",
       "      <th>ratings_min</th>\n",
       "      <th>ratings_max</th>\n",
       "      <th>ratings_mean</th>\n",
       "      <th>ratings_count</th>\n",
       "      <th>stars_isna</th>\n",
       "      <th>connected</th>\n",
       "      <th>g_mean</th>\n",
       "    </tr>\n",
       "  </thead>\n",
       "  <tbody>\n",
       "    <tr>\n",
       "      <th>36512</th>\n",
       "      <td>superfly-superfly-grand-wall-boulders-squamish...</td>\n",
       "      <td>Superfly</td>\n",
       "      <td>8353</td>\n",
       "      <td>boulder</td>\n",
       "      <td>29</td>\n",
       "      <td>0</td>\n",
       "      <td>NaN</td>\n",
       "      <td>V4</td>\n",
       "      <td>A Squamish all-time classic with physical move...</td>\n",
       "      <td>22</td>\n",
       "      <td>...</td>\n",
       "      <td>NaN</td>\n",
       "      <td>NaN</td>\n",
       "      <td>NaN</td>\n",
       "      <td>2.0</td>\n",
       "      <td>5.0</td>\n",
       "      <td>4.153017</td>\n",
       "      <td>464.0</td>\n",
       "      <td>240.0</td>\n",
       "      <td>True</td>\n",
       "      <td>4.011293</td>\n",
       "    </tr>\n",
       "    <tr>\n",
       "      <th>36410</th>\n",
       "      <td>easy-in-easy-chair-easy-chair-grand-wall-bould...</td>\n",
       "      <td>Easy In An Easy Chair</td>\n",
       "      <td>7521</td>\n",
       "      <td>boulder</td>\n",
       "      <td>29</td>\n",
       "      <td>0</td>\n",
       "      <td>NaN</td>\n",
       "      <td>V4</td>\n",
       "      <td>Traverse left to right on good slopers. A clas...</td>\n",
       "      <td>27</td>\n",
       "      <td>...</td>\n",
       "      <td>NaN</td>\n",
       "      <td>NaN</td>\n",
       "      <td>NaN</td>\n",
       "      <td>1.0</td>\n",
       "      <td>5.0</td>\n",
       "      <td>4.072016</td>\n",
       "      <td>486.0</td>\n",
       "      <td>213.0</td>\n",
       "      <td>True</td>\n",
       "      <td>4.011373</td>\n",
       "    </tr>\n",
       "    <tr>\n",
       "      <th>36476</th>\n",
       "      <td>titanic-titanic-north-grand-wall-boulders-squa...</td>\n",
       "      <td>Titanic</td>\n",
       "      <td>8360</td>\n",
       "      <td>boulder</td>\n",
       "      <td>24</td>\n",
       "      <td>0</td>\n",
       "      <td>NaN</td>\n",
       "      <td>V3+</td>\n",
       "      <td>Start standing with opposing edges for your ha...</td>\n",
       "      <td>58</td>\n",
       "      <td>...</td>\n",
       "      <td>NaN</td>\n",
       "      <td>NaN</td>\n",
       "      <td>NaN</td>\n",
       "      <td>1.0</td>\n",
       "      <td>5.0</td>\n",
       "      <td>3.935268</td>\n",
       "      <td>448.0</td>\n",
       "      <td>242.0</td>\n",
       "      <td>True</td>\n",
       "      <td>3.014435</td>\n",
       "    </tr>\n",
       "    <tr>\n",
       "      <th>35610</th>\n",
       "      <td>trad-killer-heartbreak-hotel-grand-wall-boulde...</td>\n",
       "      <td>Trad Killer</td>\n",
       "      <td>8351</td>\n",
       "      <td>boulder</td>\n",
       "      <td>28</td>\n",
       "      <td>0</td>\n",
       "      <td>NaN</td>\n",
       "      <td>V4</td>\n",
       "      <td></td>\n",
       "      <td>38</td>\n",
       "      <td>...</td>\n",
       "      <td>NaN</td>\n",
       "      <td>NaN</td>\n",
       "      <td>NaN</td>\n",
       "      <td>1.0</td>\n",
       "      <td>5.0</td>\n",
       "      <td>4.171285</td>\n",
       "      <td>397.0</td>\n",
       "      <td>189.0</td>\n",
       "      <td>True</td>\n",
       "      <td>3.965444</td>\n",
       "    </tr>\n",
       "    <tr>\n",
       "      <th>3049</th>\n",
       "      <td>timeless-titanic-south-grand-wall-boulders-squ...</td>\n",
       "      <td>Timeless</td>\n",
       "      <td>8361</td>\n",
       "      <td>boulder</td>\n",
       "      <td>32</td>\n",
       "      <td>0</td>\n",
       "      <td>NaN</td>\n",
       "      <td>V5-</td>\n",
       "      <td>Start matched on the big shelf and climb up an...</td>\n",
       "      <td>22</td>\n",
       "      <td>...</td>\n",
       "      <td>NaN</td>\n",
       "      <td>NaN</td>\n",
       "      <td>NaN</td>\n",
       "      <td>2.0</td>\n",
       "      <td>5.0</td>\n",
       "      <td>4.162907</td>\n",
       "      <td>399.0</td>\n",
       "      <td>156.0</td>\n",
       "      <td>True</td>\n",
       "      <td>4.841297</td>\n",
       "    </tr>\n",
       "  </tbody>\n",
       "</table>\n",
       "<p>5 rows × 44 columns</p>\n",
       "</div>"
      ],
      "text/plain": [
       "                                                    slug  \\\n",
       "36512  superfly-superfly-grand-wall-boulders-squamish...   \n",
       "36410  easy-in-easy-chair-easy-chair-grand-wall-bould...   \n",
       "36476  titanic-titanic-north-grand-wall-boulders-squa...   \n",
       "35610  trad-killer-heartbreak-hotel-grand-wall-boulde...   \n",
       "3049   timeless-titanic-south-grand-wall-boulders-squ...   \n",
       "\n",
       "                        name  area_id     type  grade_id  bolts  length grade  \\\n",
       "36512               Superfly     8353  boulder        29      0     NaN    V4   \n",
       "36410  Easy In An Easy Chair     7521  boulder        29      0     NaN    V4   \n",
       "36476                Titanic     8360  boulder        24      0     NaN   V3+   \n",
       "35610            Trad Killer     8351  boulder        28      0     NaN    V4   \n",
       "3049                Timeless     8361  boulder        32      0     NaN   V5-   \n",
       "\n",
       "                                             description  # onsights  ...  \\\n",
       "36512  A Squamish all-time classic with physical move...          22  ...   \n",
       "36410  Traverse left to right on good slopers. A clas...          27  ...   \n",
       "36476  Start standing with opposing edges for your ha...          58  ...   \n",
       "35610                                                             38  ...   \n",
       "3049   Start matched on the big shelf and climb up an...          22  ...   \n",
       "\n",
       "       areas_11_name  areas_10_slug  areas_11_slug ratings_min ratings_max  \\\n",
       "36512            NaN            NaN            NaN         2.0         5.0   \n",
       "36410            NaN            NaN            NaN         1.0         5.0   \n",
       "36476            NaN            NaN            NaN         1.0         5.0   \n",
       "35610            NaN            NaN            NaN         1.0         5.0   \n",
       "3049             NaN            NaN            NaN         2.0         5.0   \n",
       "\n",
       "      ratings_mean ratings_count stars_isna connected    g_mean  \n",
       "36512     4.153017         464.0      240.0      True  4.011293  \n",
       "36410     4.072016         486.0      213.0      True  4.011373  \n",
       "36476     3.935268         448.0      242.0      True  3.014435  \n",
       "35610     4.171285         397.0      189.0      True  3.965444  \n",
       "3049      4.162907         399.0      156.0      True  4.841297  \n",
       "\n",
       "[5 rows x 44 columns]"
      ]
     },
     "execution_count": 119,
     "metadata": {},
     "output_type": "execute_result"
    }
   ],
   "source": [
    "boulders.head()"
   ]
  },
  {
   "cell_type": "code",
   "execution_count": null,
   "id": "6663ac69-19f0-4f95-abcf-a9b0be5f7080",
   "metadata": {},
   "outputs": [],
   "source": []
  }
 ],
 "metadata": {
  "kernelspec": {
   "display_name": "Python 3 (ipykernel)",
   "language": "python",
   "name": "python3"
  },
  "language_info": {
   "codemirror_mode": {
    "name": "ipython",
    "version": 3
   },
   "file_extension": ".py",
   "mimetype": "text/x-python",
   "name": "python",
   "nbconvert_exporter": "python",
   "pygments_lexer": "ipython3",
   "version": "3.10.10"
  }
 },
 "nbformat": 4,
 "nbformat_minor": 5
}
