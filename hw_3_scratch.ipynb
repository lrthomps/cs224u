{
 "cells": [
  {
   "cell_type": "code",
   "execution_count": 1,
   "id": "a5ec5095-037a-4993-8877-2ac508b5518c",
   "metadata": {},
   "outputs": [],
   "source": [
    "import collections\n",
    "from contextlib import nullcontext\n",
    "from collections import namedtuple\n",
    "from datasets import load_dataset\n",
    "import json\n",
    "import numpy as np\n",
    "import random\n",
    "import re \n",
    "import string\n",
    "import torch\n",
    "from typing import List"
   ]
  },
  {
   "cell_type": "code",
   "execution_count": 819,
   "id": "938dcc1d-3441-4126-aaae-36156685a375",
   "metadata": {},
   "outputs": [],
   "source": [
    "import copy\n",
    "import pandas as pd\n",
    "import os\n",
    "import time\n",
    "\n",
    "pd.set_option('display.max_rows', 100)"
   ]
  },
  {
   "cell_type": "code",
   "execution_count": 801,
   "id": "defbde6b-9cef-445a-86ea-e7f03f04b908",
   "metadata": {
    "tags": []
   },
   "outputs": [],
   "source": [
    "def normalize_answer(s: str) -> str:\n",
    "    \"\"\"Lower text and remove punctuation, articles and extra whitespace.\"\"\"\n",
    "\n",
    "    def remove_articles(text):\n",
    "        regex = re.compile(r'\\b(a|an|the)\\b', re.UNICODE)\n",
    "        return re.sub(regex, ' ', text)\n",
    "\n",
    "    def white_space_fix(text):\n",
    "        return ' '.join(text.split())\n",
    "\n",
    "    def remove_punc(text):\n",
    "        exclude = set(string.punctuation)\n",
    "        return ''.join(ch for ch in text if ch not in exclude)\n",
    "\n",
    "    def lower(text):\n",
    "        return text.lower()\n",
    "\n",
    "    return white_space_fix(remove_articles(remove_punc(lower(s))))\n",
    "\n",
    "\n",
    "def get_tokens(s: str) -> List[str]:\n",
    "    \"\"\"Normalize string and split string into tokens.\"\"\"\n",
    "    if not s:\n",
    "        return []\n",
    "    return normalize_answer(s).split()\n",
    "\n",
    "\n",
    "def compute_exact(a_gold: str, a_pred: str) -> int:\n",
    "    \"\"\"Compute the Exact Match score.\"\"\"\n",
    "    return int(normalize_answer(a_gold) == normalize_answer(a_pred))\n",
    "\n",
    "\n",
    "def compute_f1_from_tokens(gold_toks: List[str], pred_toks: List[str]) -> float:\n",
    "    \"\"\"Compute the F1 score from tokenized gold answer and prediction.\"\"\"\n",
    "    common = collections.Counter(gold_toks) & collections.Counter(pred_toks)\n",
    "    num_same = sum(common.values())\n",
    "\n",
    "    if len(gold_toks) == 0 or len(pred_toks) == 0:\n",
    "        # If either is no-answer, then F1 is 1 if they agree, 0 otherwise\n",
    "        return int(gold_toks == pred_toks)\n",
    "\n",
    "    if num_same == 0:\n",
    "        return 0\n",
    "\n",
    "    precision = 1.0 * num_same / len(pred_toks)\n",
    "    recall = 1.0 * num_same / len(gold_toks)\n",
    "    f1 = (2 * precision * recall) / (precision + recall)\n",
    "    return f1\n",
    "\n",
    "\n",
    "def compute_f1(a_gold: str, a_pred: str) -> float:\n",
    "    \"\"\"Compute the F1 score.\"\"\"\n",
    "    gold_toks = get_tokens(a_gold)\n",
    "    pred_toks = get_tokens(a_pred)\n",
    "    return compute_f1_from_tokens(gold_toks, pred_toks)"
   ]
  },
  {
   "cell_type": "code",
   "execution_count": 798,
   "id": "4db0f7d6-7544-49b9-b75f-24cf766fe60b",
   "metadata": {},
   "outputs": [],
   "source": [
    "def evaluate(df):\n",
    "    for i, ex in df.iterrows():\n",
    "        answers = ex.answers\n",
    "        pred = ex.generated_answer\n",
    "        # The result is the highest EM from the available answer strings:\n",
    "        df.loc[i, 'em'] = max([compute_exact(ans, pred) for ans in answers])\n",
    "        df.loc[i, 'f1'] = max([compute_f1(ans, pred) for ans in answers])\n",
    "\n",
    "    return {\"macro_f1\": df['f1'].mean(), \"em_per\": df['em'].mean()}"
   ]
  },
  {
   "cell_type": "code",
   "execution_count": 815,
   "id": "e7422401-498b-4271-9fd5-c94b4dc0aced",
   "metadata": {},
   "outputs": [],
   "source": [
    "seed = 123456\n",
    "\n",
    "np.random.seed(seed)\n",
    "random.seed(seed)\n",
    "torch.manual_seed(seed)\n",
    "torch.backends.cudnn.deterministic = True\n",
    "torch.backends.cudnn.benchmark = False\n",
    "\n",
    "os.environ[\"CUDA_VISIBLE_DEVICES\"]=\"\""
   ]
  },
  {
   "cell_type": "code",
   "execution_count": 4,
   "id": "77ce2bfd-1200-4725-aafb-2de79763076a",
   "metadata": {},
   "outputs": [],
   "source": [
    "import openai\n",
    "import transformers\n",
    "from transformers import AutoTokenizer, AutoModelForCausalLM\n",
    "\n",
    "transformers.logging.set_verbosity_error()"
   ]
  },
  {
   "cell_type": "code",
   "execution_count": 5,
   "id": "5d34afc8-fdf9-4cbe-b0eb-f4fa2abf3030",
   "metadata": {},
   "outputs": [],
   "source": [
    "def _find_generated_answer(tokens, newline=\"\\n\" ): \n",
    "    \"\"\"Our LMs tend to insert initial newline characters before\n",
    "    they begin generating text. This function ensures that we \n",
    "    properly capture the true first line as the answer while\n",
    "    also ensuring that token probabilities are aligned.\"\"\"        \n",
    "    answer_token_indices = []\n",
    "    char_seen = False            \n",
    "    for i, tok in enumerate(tokens):\n",
    "        # This is the main condition: a newline that isn't an initial\n",
    "        # string of newlines:\n",
    "        if tok == newline and char_seen:\n",
    "            break\n",
    "        # Keep the initial newlines for consistency:\n",
    "        elif tok == newline and not char_seen:\n",
    "            answer_token_indices.append(i)\n",
    "        # Proper tokens:\n",
    "        elif tok != newline:\n",
    "            char_seen = True\n",
    "            answer_token_indices.append(i)\n",
    "    return answer_token_indices "
   ]
  },
  {
   "cell_type": "markdown",
   "id": "c549beae-1b74-49c9-83b6-aed194a913d5",
   "metadata": {
    "tags": []
   },
   "source": [
    "# SQuAD"
   ]
  },
  {
   "cell_type": "code",
   "execution_count": 7,
   "id": "126575c7-4d10-4bcc-81aa-1e75818d3673",
   "metadata": {},
   "outputs": [
    {
     "name": "stderr",
     "output_type": "stream",
     "text": [
      "Reusing dataset squad (/Users/lara.thompson/.cache/huggingface/datasets/squad/plain_text/1.0.0/d6ec3ceb99ca480ce37cdd35555d6cb2511d223b9150cce08a837ef62ffea453)\n"
     ]
    },
    {
     "data": {
      "application/vnd.jupyter.widget-view+json": {
       "model_id": "67367fce18c8454595135c6f6aed0b3c",
       "version_major": 2,
       "version_minor": 0
      },
      "text/plain": [
       "  0%|          | 0/2 [00:00<?, ?it/s]"
      ]
     },
     "metadata": {},
     "output_type": "display_data"
    }
   ],
   "source": [
    "squad = load_dataset(\"squad\")\n",
    "SquadExample = namedtuple(\"SquadExample\",  \"id title context question answers\")\n",
    "\n",
    "def get_squad_split(squad, split=\"validation\"):\n",
    "    \"\"\"\n",
    "    Use `split='train'` for the train split.\n",
    "    \n",
    "    Returns\n",
    "    -------\n",
    "    list of SquadExample named tuples with attributes\n",
    "    id, title, context, question, answers\n",
    "    \n",
    "    \"\"\"    \n",
    "    fields = squad[split].features\n",
    "    data = zip(*[squad[split][field] for field in fields])\n",
    "    return [SquadExample(eid, title, context, question, answers[\"text\"]) \n",
    "            for eid, title, context, question, answers in data]"
   ]
  },
  {
   "cell_type": "code",
   "execution_count": 8,
   "id": "39aabd9f-9bbc-4522-999a-040089e8655d",
   "metadata": {
    "collapsed": true,
    "jupyter": {
     "outputs_hidden": true
    },
    "tags": []
   },
   "outputs": [
    {
     "data": {
      "text/plain": [
       "SquadExample(id='5733be284776f41900661182', title='University_of_Notre_Dame', context='Architecturally, the school has a Catholic character. Atop the Main Building\\'s gold dome is a golden statue of the Virgin Mary. Immediately in front of the Main Building and facing it, is a copper statue of Christ with arms upraised with the legend \"Venite Ad Me Omnes\". Next to the Main Building is the Basilica of the Sacred Heart. Immediately behind the basilica is the Grotto, a Marian place of prayer and reflection. It is a replica of the grotto at Lourdes, France where the Virgin Mary reputedly appeared to Saint Bernadette Soubirous in 1858. At the end of the main drive (and in a direct line that connects through 3 statues and the Gold Dome), is a simple, modern stone statue of Mary.', question='To whom did the Virgin Mary allegedly appear in 1858 in Lourdes France?', answers=['Saint Bernadette Soubirous'])"
      ]
     },
     "execution_count": 8,
     "metadata": {},
     "output_type": "execute_result"
    }
   ],
   "source": [
    "squad_train = get_squad_split(squad, \"train\")"
   ]
  },
  {
   "cell_type": "code",
   "execution_count": 562,
   "id": "47462282-6ba8-4563-95eb-372db5e1e206",
   "metadata": {},
   "outputs": [
    {
     "data": {
      "text/plain": [
       "30975"
      ]
     },
     "execution_count": 562,
     "metadata": {},
     "output_type": "execute_result"
    }
   ],
   "source": [
    "np.random.randint(len(squad_train))"
   ]
  },
  {
   "cell_type": "code",
   "execution_count": 563,
   "id": "cbed8984-8d6e-4129-8a37-be702fb96e36",
   "metadata": {},
   "outputs": [
    {
     "data": {
      "text/plain": [
       "SquadExample(id='573018a5947a6a140053d0dc', title='Liberia', context='In 1822, the American Colonization Society began sending African-American volunteers to the Pepper Coast to establish a colony for freed African Americans. By 1867, the ACS (and state-related chapters) had assisted in the migration of more than 13,000 African Americans to Liberia. These free African Americans and their descendants married within their community and came to identify as Americo-Liberians. Many were of mixed race and educated in American culture; they did not identify with the indigenous natives of the tribes they encountered. They intermarried largely within the colonial community, developing an ethnic group that had a cultural tradition infused with American notions of political republicanism and Protestant Christianity.', question='What did African Americans who were moved to Liberia identify as? ', answers=['Americo-Liberians'])"
      ]
     },
     "execution_count": 563,
     "metadata": {},
     "output_type": "execute_result"
    }
   ],
   "source": [
    "squad_train[np.random.randint(len(squad_train))]"
   ]
  },
  {
   "cell_type": "code",
   "execution_count": 9,
   "id": "5ddb98a8-3e0c-4ccc-aabb-7adf2ec740c9",
   "metadata": {},
   "outputs": [
    {
     "data": {
      "text/plain": [
       "SquadExample(id='56be4db0acb8001400a502ec', title='Super_Bowl_50', context='Super Bowl 50 was an American football game to determine the champion of the National Football League (NFL) for the 2015 season. The American Football Conference (AFC) champion Denver Broncos defeated the National Football Conference (NFC) champion Carolina Panthers 24–10 to earn their third Super Bowl title. The game was played on February 7, 2016, at Levi\\'s Stadium in the San Francisco Bay Area at Santa Clara, California. As this was the 50th Super Bowl, the league emphasized the \"golden anniversary\" with various gold-themed initiatives, as well as temporarily suspending the tradition of naming each Super Bowl game with Roman numerals (under which the game would have been known as \"Super Bowl L\"), so that the logo could prominently feature the Arabic numerals 50.', question='Which NFL team represented the AFC at Super Bowl 50?', answers=['Denver Broncos', 'Denver Broncos', 'Denver Broncos'])"
      ]
     },
     "execution_count": 9,
     "metadata": {},
     "output_type": "execute_result"
    }
   ],
   "source": [
    "squad_dev = get_squad_split(squad)\n",
    "squad_dev[0]"
   ]
  },
  {
   "cell_type": "code",
   "execution_count": 10,
   "id": "0389f325-b8d1-40b9-92bb-2387c228c29e",
   "metadata": {},
   "outputs": [
    {
     "data": {
      "text/plain": [
       "SquadExample(id='56beb86b3aeaaa14008c92c0', title='Super_Bowl_50', context=\"Peyton Manning became the first quarterback ever to lead two different teams to multiple Super Bowls. He is also the oldest quarterback ever to play in a Super Bowl at age 39. The past record was held by John Elway, who led the Broncos to victory in Super Bowl XXXIII at age 38 and is currently Denver's Executive Vice President of Football Operations and General Manager.\", question='What role does John Elway currently have in the Broncos franchise?', answers=['Executive Vice President of Football Operations and General Manager', 'Executive Vice President of Football Operations and General Manager', 'Executive Vice President of Football Operations and General Manager.', 'Executive Vice President of Football Operations and General Manager.'])"
      ]
     },
     "execution_count": 10,
     "metadata": {},
     "output_type": "execute_result"
    }
   ],
   "source": [
    "dev_exs = sorted(squad_dev, key=lambda x: hash(x.id))[: 200]\n",
    "dev_exs[0]"
   ]
  },
  {
   "cell_type": "code",
   "execution_count": 235,
   "id": "e068bd29-24bc-4096-82b9-7e9e935ee408",
   "metadata": {},
   "outputs": [
    {
     "data": {
      "text/plain": [
       "SquadExample(id='572a1046af94a219006aa78e', title='Economic_inequality', context='Economist Joseph Stiglitz presented evidence in 2009 that both global inequality and inequality within countries prevent growth by limiting aggregate demand. Economist Branko Milanovic, wrote in 2001 that, \"The view that income inequality harms growth – or that improved equality can help sustain growth – has become more widely held in recent years. ... The main reason for this shift is the increasing importance of human capital in development. When physical capital mattered most, savings and investments were key. Then it was important to have a large contingent of rich people who could save a greater proportion of their income than the poor and invest it in physical capital. But now that human capital is scarcer than machines, widespread education has become the secret to growth.\"', question='How does inequality prevent growth?', answers=['by limiting aggregate demand', 'limiting aggregate demand', 'limiting aggregate demand'])"
      ]
     },
     "execution_count": 235,
     "metadata": {},
     "output_type": "execute_result"
    }
   ],
   "source": [
    "dev_exs[2]"
   ]
  },
  {
   "cell_type": "code",
   "execution_count": 241,
   "id": "1d5373a5-91e6-4851-938c-a03882365a31",
   "metadata": {
    "collapsed": true,
    "jupyter": {
     "outputs_hidden": true
    },
    "tags": []
   },
   "outputs": [
    {
     "data": {
      "text/html": [
       "<div>\n",
       "<style scoped>\n",
       "    .dataframe tbody tr th:only-of-type {\n",
       "        vertical-align: middle;\n",
       "    }\n",
       "\n",
       "    .dataframe tbody tr th {\n",
       "        vertical-align: top;\n",
       "    }\n",
       "\n",
       "    .dataframe thead th {\n",
       "        text-align: right;\n",
       "    }\n",
       "</style>\n",
       "<table border=\"1\" class=\"dataframe\">\n",
       "  <thead>\n",
       "    <tr style=\"text-align: right;\">\n",
       "      <th></th>\n",
       "      <th>question</th>\n",
       "      <th>answers</th>\n",
       "    </tr>\n",
       "  </thead>\n",
       "  <tbody>\n",
       "    <tr>\n",
       "      <th>0</th>\n",
       "      <td>Who has a broader scope of profession: E. L. D...</td>\n",
       "      <td>[E. L. Doctorow, E.L. Doctorow, Doctorow]</td>\n",
       "    </tr>\n",
       "    <tr>\n",
       "      <th>1</th>\n",
       "      <td>What documentary about the Gilgo Beach Killer ...</td>\n",
       "      <td>[The Killing Season]</td>\n",
       "    </tr>\n",
       "    <tr>\n",
       "      <th>2</th>\n",
       "      <td>Right Back At It Again contains lyrics co-writ...</td>\n",
       "      <td>[Gainesville, Florida, Gainesville]</td>\n",
       "    </tr>\n",
       "    <tr>\n",
       "      <th>3</th>\n",
       "      <td>What year was the party of the winner of the 1...</td>\n",
       "      <td>[1828]</td>\n",
       "    </tr>\n",
       "    <tr>\n",
       "      <th>4</th>\n",
       "      <td>Which author is English: John Braine or Studs ...</td>\n",
       "      <td>[John Braine]</td>\n",
       "    </tr>\n",
       "    <tr>\n",
       "      <th>5</th>\n",
       "      <td>Anthony Dirrell is the brother of which super ...</td>\n",
       "      <td>[Andre Dirrell]</td>\n",
       "    </tr>\n",
       "    <tr>\n",
       "      <th>6</th>\n",
       "      <td>In which city is the sports nutrition business...</td>\n",
       "      <td>[Cheshire, Cheshire, UK]</td>\n",
       "    </tr>\n",
       "    <tr>\n",
       "      <th>7</th>\n",
       "      <td>Find the birth date of the actor who played ro...</td>\n",
       "      <td>[February 13, 1980]</td>\n",
       "    </tr>\n",
       "    <tr>\n",
       "      <th>8</th>\n",
       "      <td>Kyle Moran was born in the town on what river?</td>\n",
       "      <td>[Castletown, Castletown River]</td>\n",
       "    </tr>\n",
       "    <tr>\n",
       "      <th>9</th>\n",
       "      <td>What is the name of one branch of Robert D. Br...</td>\n",
       "      <td>[aeronautical engineering, astronautical engin...</td>\n",
       "    </tr>\n",
       "    <tr>\n",
       "      <th>10</th>\n",
       "      <td>Where was the actress who played the niece in ...</td>\n",
       "      <td>[Surrey, Guildford, Surrey]</td>\n",
       "    </tr>\n",
       "    <tr>\n",
       "      <th>11</th>\n",
       "      <td>Name the movie in which the daughter of Noel H...</td>\n",
       "      <td>[Portrait of a Marriage]</td>\n",
       "    </tr>\n",
       "    <tr>\n",
       "      <th>12</th>\n",
       "      <td>What year was the father of the Princes in the...</td>\n",
       "      <td>[1442]</td>\n",
       "    </tr>\n",
       "  </tbody>\n",
       "</table>\n",
       "</div>"
      ],
      "text/plain": [
       "                                             question  \\\n",
       "0   Who has a broader scope of profession: E. L. D...   \n",
       "1   What documentary about the Gilgo Beach Killer ...   \n",
       "2   Right Back At It Again contains lyrics co-writ...   \n",
       "3   What year was the party of the winner of the 1...   \n",
       "4   Which author is English: John Braine or Studs ...   \n",
       "5   Anthony Dirrell is the brother of which super ...   \n",
       "6   In which city is the sports nutrition business...   \n",
       "7   Find the birth date of the actor who played ro...   \n",
       "8      Kyle Moran was born in the town on what river?   \n",
       "9   What is the name of one branch of Robert D. Br...   \n",
       "10  Where was the actress who played the niece in ...   \n",
       "11  Name the movie in which the daughter of Noel H...   \n",
       "12  What year was the father of the Princes in the...   \n",
       "\n",
       "                                              answers  \n",
       "0           [E. L. Doctorow, E.L. Doctorow, Doctorow]  \n",
       "1                                [The Killing Season]  \n",
       "2                 [Gainesville, Florida, Gainesville]  \n",
       "3                                              [1828]  \n",
       "4                                       [John Braine]  \n",
       "5                                     [Andre Dirrell]  \n",
       "6                            [Cheshire, Cheshire, UK]  \n",
       "7                                 [February 13, 1980]  \n",
       "8                      [Castletown, Castletown River]  \n",
       "9   [aeronautical engineering, astronautical engin...  \n",
       "10                        [Surrey, Guildford, Surrey]  \n",
       "11                           [Portrait of a Marriage]  \n",
       "12                                             [1442]  "
      ]
     },
     "execution_count": 241,
     "metadata": {},
     "output_type": "execute_result"
    }
   ],
   "source": [
    "dev_dsp = pd.DataFrame([('Who has a broader scope of profession: E. L. Doctorow or Julia Peterkin?', ['E. L. Doctorow', 'E.L. Doctorow', 'Doctorow']),\n",
    "       ('What documentary about the Gilgo Beach Killer debuted on A&E?', ['The Killing Season']),\n",
    "       ('Right Back At It Again contains lyrics co-written by the singer born in what city?', ['Gainesville, Florida', 'Gainesville']),\n",
    "       ('What year was the party of the winner of the 1971 San Francisco mayoral election founded?', ['1828']),\n",
    "       ('Which author is English: John Braine or Studs Terkel?', ['John Braine']),\n",
    "       ('Anthony Dirrell is the brother of which super middleweight title holder?', ['Andre Dirrell']),\n",
    "       ('In which city is the sports nutrition business established by Oliver Cookson based ?', ['Cheshire', 'Cheshire, UK']),\n",
    "       ('Find the birth date of the actor who played roles in First Wives Club and Searching for the Elephant.', ['February 13, 1980']),\n",
    "       ('Kyle Moran was born in the town on what river?', ['Castletown', 'Castletown River']),\n",
    "       (\"What is the name of one branch of Robert D. Braun's speciality?\", ['aeronautical engineering', 'astronautical engineering', 'aeronautics', 'astronautics']),\n",
    "       (\"Where was the actress who played the niece in the Priest film born?\", ['Surrey', 'Guildford, Surrey']),\n",
    "       ('Name the movie in which the daughter of Noel Harrison plays Violet Trefusis.', ['Portrait of a Marriage']),\n",
    "       ('What year was the father of the Princes in the Tower born?', ['1442'])], columns=['question', 'answers'])\n",
    "dev_dsp\n"
   ]
  },
  {
   "cell_type": "code",
   "execution_count": 242,
   "id": "209e19a5-8df5-47d5-92d3-aba5cf70f3e7",
   "metadata": {},
   "outputs": [],
   "source": [
    "dev = pd.DataFrame([[s.question, s.answers] for s in dev_exs], columns=['question', 'answers'])"
   ]
  },
  {
   "cell_type": "code",
   "execution_count": 479,
   "id": "274adfda-8c0e-4543-aaf5-dc9f37ffb8e7",
   "metadata": {},
   "outputs": [
    {
     "data": {
      "text/plain": [
       "['by limiting aggregate demand',\n",
       " 'limiting aggregate demand',\n",
       " 'limiting aggregate demand']"
      ]
     },
     "execution_count": 479,
     "metadata": {},
     "output_type": "execute_result"
    }
   ],
   "source": [
    "dev.loc[2, 'answers']"
   ]
  },
  {
   "cell_type": "code",
   "execution_count": 15,
   "id": "07fff8a0-45e9-4175-b1e7-9a79b3573e39",
   "metadata": {},
   "outputs": [],
   "source": [
    "filename = os.path.join(\"data\", \"openqa\", \"cs224u-openqa-test-unlabeled.txt\")\n",
    "with open(filename) as f:\n",
    "    test_questions = f.read().splitlines()"
   ]
  },
  {
   "cell_type": "code",
   "execution_count": 145,
   "id": "b75a788b-95d9-4e5d-b893-ae90c3179a70",
   "metadata": {},
   "outputs": [],
   "source": [
    "test = pd.DataFrame({'question': test_questions})\n",
    "test['len'] = test['question'].str.len()\n",
    "test['# ww'] = num_ww"
   ]
  },
  {
   "cell_type": "code",
   "execution_count": 146,
   "id": "fa35902c-45b4-4d60-a7c8-7a2e105d6cb5",
   "metadata": {},
   "outputs": [],
   "source": [
    "test['# words'] = test['question'].str.split(' ').str.len()"
   ]
  },
  {
   "cell_type": "code",
   "execution_count": 140,
   "id": "0e9a5a65-7bb7-41a9-beb1-9f7479f3eeac",
   "metadata": {},
   "outputs": [],
   "source": [
    "watch_words = ['where', 'what', 'who', 'when', 'that', 'which', 'how']\n",
    "num_ww = []\n",
    "for ex in test_questions:\n",
    "    num_ww.append(np.sum([ww in ex.lower() for ww in watch_words]))"
   ]
  },
  {
   "cell_type": "code",
   "execution_count": 147,
   "id": "f5d218a2-3917-4e7c-9473-0df24e70ce71",
   "metadata": {
    "collapsed": true,
    "jupyter": {
     "outputs_hidden": true
    },
    "tags": []
   },
   "outputs": [
    {
     "data": {
      "text/html": [
       "<div>\n",
       "<style scoped>\n",
       "    .dataframe tbody tr th:only-of-type {\n",
       "        vertical-align: middle;\n",
       "    }\n",
       "\n",
       "    .dataframe tbody tr th {\n",
       "        vertical-align: top;\n",
       "    }\n",
       "\n",
       "    .dataframe thead th {\n",
       "        text-align: right;\n",
       "    }\n",
       "</style>\n",
       "<table border=\"1\" class=\"dataframe\">\n",
       "  <thead>\n",
       "    <tr style=\"text-align: right;\">\n",
       "      <th></th>\n",
       "      <th>question</th>\n",
       "      <th>len</th>\n",
       "      <th># ww</th>\n",
       "    </tr>\n",
       "    <tr>\n",
       "      <th># words</th>\n",
       "      <th></th>\n",
       "      <th></th>\n",
       "      <th></th>\n",
       "    </tr>\n",
       "  </thead>\n",
       "  <tbody>\n",
       "    <tr>\n",
       "      <th>3</th>\n",
       "      <td>35</td>\n",
       "      <td>35</td>\n",
       "      <td>35</td>\n",
       "    </tr>\n",
       "    <tr>\n",
       "      <th>4</th>\n",
       "      <td>29</td>\n",
       "      <td>29</td>\n",
       "      <td>29</td>\n",
       "    </tr>\n",
       "    <tr>\n",
       "      <th>5</th>\n",
       "      <td>38</td>\n",
       "      <td>38</td>\n",
       "      <td>38</td>\n",
       "    </tr>\n",
       "    <tr>\n",
       "      <th>6</th>\n",
       "      <td>45</td>\n",
       "      <td>45</td>\n",
       "      <td>45</td>\n",
       "    </tr>\n",
       "    <tr>\n",
       "      <th>7</th>\n",
       "      <td>51</td>\n",
       "      <td>51</td>\n",
       "      <td>51</td>\n",
       "    </tr>\n",
       "    <tr>\n",
       "      <th>8</th>\n",
       "      <td>73</td>\n",
       "      <td>73</td>\n",
       "      <td>73</td>\n",
       "    </tr>\n",
       "    <tr>\n",
       "      <th>9</th>\n",
       "      <td>58</td>\n",
       "      <td>58</td>\n",
       "      <td>58</td>\n",
       "    </tr>\n",
       "    <tr>\n",
       "      <th>10</th>\n",
       "      <td>27</td>\n",
       "      <td>27</td>\n",
       "      <td>27</td>\n",
       "    </tr>\n",
       "    <tr>\n",
       "      <th>11</th>\n",
       "      <td>15</td>\n",
       "      <td>15</td>\n",
       "      <td>15</td>\n",
       "    </tr>\n",
       "    <tr>\n",
       "      <th>12</th>\n",
       "      <td>9</td>\n",
       "      <td>9</td>\n",
       "      <td>9</td>\n",
       "    </tr>\n",
       "    <tr>\n",
       "      <th>13</th>\n",
       "      <td>5</td>\n",
       "      <td>5</td>\n",
       "      <td>5</td>\n",
       "    </tr>\n",
       "    <tr>\n",
       "      <th>14</th>\n",
       "      <td>4</td>\n",
       "      <td>4</td>\n",
       "      <td>4</td>\n",
       "    </tr>\n",
       "    <tr>\n",
       "      <th>15</th>\n",
       "      <td>3</td>\n",
       "      <td>3</td>\n",
       "      <td>3</td>\n",
       "    </tr>\n",
       "    <tr>\n",
       "      <th>16</th>\n",
       "      <td>2</td>\n",
       "      <td>2</td>\n",
       "      <td>2</td>\n",
       "    </tr>\n",
       "    <tr>\n",
       "      <th>17</th>\n",
       "      <td>2</td>\n",
       "      <td>2</td>\n",
       "      <td>2</td>\n",
       "    </tr>\n",
       "    <tr>\n",
       "      <th>18</th>\n",
       "      <td>2</td>\n",
       "      <td>2</td>\n",
       "      <td>2</td>\n",
       "    </tr>\n",
       "    <tr>\n",
       "      <th>19</th>\n",
       "      <td>2</td>\n",
       "      <td>2</td>\n",
       "      <td>2</td>\n",
       "    </tr>\n",
       "  </tbody>\n",
       "</table>\n",
       "</div>"
      ],
      "text/plain": [
       "         question  len  # ww\n",
       "# words                     \n",
       "3              35   35    35\n",
       "4              29   29    29\n",
       "5              38   38    38\n",
       "6              45   45    45\n",
       "7              51   51    51\n",
       "8              73   73    73\n",
       "9              58   58    58\n",
       "10             27   27    27\n",
       "11             15   15    15\n",
       "12              9    9     9\n",
       "13              5    5     5\n",
       "14              4    4     4\n",
       "15              3    3     3\n",
       "16              2    2     2\n",
       "17              2    2     2\n",
       "18              2    2     2\n",
       "19              2    2     2"
      ]
     },
     "execution_count": 147,
     "metadata": {},
     "output_type": "execute_result"
    }
   ],
   "source": [
    "test.groupby('# words').count()"
   ]
  },
  {
   "cell_type": "code",
   "execution_count": 722,
   "id": "cdcd78ac-c83e-4144-95a9-139036c23657",
   "metadata": {
    "collapsed": true,
    "jupyter": {
     "outputs_hidden": true
    },
    "tags": []
   },
   "outputs": [
    {
     "name": "stdout",
     "output_type": "stream",
     "text": [
      "0                                   sang for pink floyd\n",
      "1                                              epilepsy\n",
      "2      woodrow wilson was president of which university\n",
      "3          number of gold medals won by india in hockey\n",
      "4                             name of dormitory of naga\n",
      "5                                shakespeare's nickname\n",
      "6                   season 4 of grace and frankie start\n",
      "7     played the role of chandler bing in the tv ser...\n",
      "8     name of the first russian astronaut to do a sp...\n",
      "9                              canada's two territories\n",
      "10                  country was theodor schwann born in\n",
      "11                              battle of waterloo held\n",
      "12                  became president after harding died\n",
      "13                                      ozone depletion\n",
      "14                                     phillies founded\n",
      "15              developed the vaccination against polio\n",
      "16      during which season do most thunderstorms occur\n",
      "17                    lion king musical first performed\n",
      "18                             triangle shirtwaist fire\n",
      "19                 islamic counterpart to the red cross\n",
      "20                  major religions practiced in israel\n",
      "21                      new world trade center finished\n",
      "22                           last name mcleod come from\n",
      "23            year did the titanic start on its journey\n",
      "24                      founder of google go to college\n",
      "25                                    algeria colonized\n",
      "26                         called as metro man of india\n",
      "27              second circuit court of appeals located\n",
      "28                      first bank of the united states\n",
      "29                                              poconos\n",
      "30                                           cryogenics\n",
      "31    in which country would you find the champs ely...\n",
      "32                             technical term isdn mean\n",
      "33                                          die-casting\n",
      "34                                             caffeine\n",
      "35        covered by the right to financial privacy act\n",
      "36            can salivary amylase be found in the body\n",
      "37                    created the board game pictionary\n",
      "38                            many pounds in a U.S. ton\n",
      "39                            year did the titanic sink\n",
      "40                             won ms. american in 1989\n",
      "41        old you have to be to buy cigarettes in texas\n",
      "42                wrote these are the days of our lives\n",
      "43    american composer wrote the music for \"west si...\n",
      "44        type of polymer is used for bulletproof vests\n",
      "45             kuchipudi is a dance form of which state\n",
      "46    hotel was used for a setting of the agatha chr...\n",
      "47                                       babe ruth born\n",
      "48    largest airline in the world in terms of passe...\n",
      "49    sponsor of the icc world cup when it was hoste...\n",
      "50              culture built the great pyramid of giza\n",
      "51                                       speed of light\n",
      "52              precious stone is a form of pure carbon\n",
      "53    charlie's surname in charlie and the chocolate...\n",
      "54                                          amoxicillin\n",
      "55                 in poland, where do most people live\n",
      "56                                          angiotensin\n",
      "57                       last deal or no deal cancelled\n",
      "58                    christopher columbus' three ships\n",
      "59                                   discovered america\n",
      "60                          elie wiesel's father's name\n",
      "61                          king signed the magna carta\n",
      "62          most common kind of skin cancer in the u.s.\n",
      "63                in what year did the hindenberg crash\n",
      "64                                  joe biden a senator\n",
      "65          kind of guitar does lindsey buckingham play\n",
      "66    most frequently spoken language in the netherl...\n",
      "67    george bush purchased a small interest in whic...\n",
      "68    greatest distortion in a cylindrical mercator ...\n",
      "69       element in period 3 is the most reactive metal\n",
      "70                              population of venezuela\n",
      "71                                  21st u.s. president\n",
      "72                island is half greek and half turkish\n",
      "73                                  year did hitler die\n",
      "74                       kind of currency does cuba use\n",
      "75                                                 sake\n",
      "76                        big is our galaxy in diameter\n",
      "77                    condition does michael j fox have\n",
      "78               movie the river runs through it filmed\n",
      "79                           maggie grace play in taken\n",
      "80                 many states are in the united stares\n",
      "81    river flows between fargo, north dakota and mo...\n",
      "82                                          ayer's rock\n",
      "83                                       usps stand for\n",
      "84         played dumbledore in the philosopher's stone\n",
      "85                                      nfl established\n",
      "86                state in the us has the most counties\n",
      "87               paid for the building of the colosseum\n",
      "88    president became chief justice after his presi...\n",
      "89                                                perth\n",
      "90    name of the plane lindbergh flew solo across t...\n",
      "91                              california's state tree\n",
      "92                                             leukemia\n",
      "93                                       nasa stand for\n",
      "94                         year did the u.s. buy alaska\n",
      "95    american idol contestant has sold the most rec...\n",
      "96         type of government does burma (myanmar) have\n",
      "97                                   ted kennedy buried\n",
      "98                                   desktop publishing\n",
      "99                            colors of the german flag\n",
      "Name: question, dtype: object\n"
     ]
    }
   ],
   "source": [
    "tmp = copy.copy(test['question'])\n",
    "for ww in watch_words + ['are', 'is', 'was', 'does', 'were', 'did', 'a', 'the']:\n",
    "    tmp = tmp.str.removeprefix(ww+' ')\n",
    "print(tmp.str.removesuffix('?').iloc[:100])"
   ]
  },
  {
   "cell_type": "code",
   "execution_count": 732,
   "id": "b8c4339a-6cce-41e4-b30c-032934f5a9be",
   "metadata": {},
   "outputs": [],
   "source": [
    "test['stripped'] = tmp.str.removesuffix('?')"
   ]
  },
  {
   "cell_type": "code",
   "execution_count": 765,
   "id": "1382deed-89d6-4b46-93e6-dd6910cfc817",
   "metadata": {},
   "outputs": [
    {
     "data": {
      "text/html": [
       "<div>\n",
       "<style scoped>\n",
       "    .dataframe tbody tr th:only-of-type {\n",
       "        vertical-align: middle;\n",
       "    }\n",
       "\n",
       "    .dataframe tbody tr th {\n",
       "        vertical-align: top;\n",
       "    }\n",
       "\n",
       "    .dataframe thead th {\n",
       "        text-align: right;\n",
       "    }\n",
       "</style>\n",
       "<table border=\"1\" class=\"dataframe\">\n",
       "  <thead>\n",
       "    <tr style=\"text-align: right;\">\n",
       "      <th></th>\n",
       "      <th>question</th>\n",
       "      <th>len</th>\n",
       "      <th># ww</th>\n",
       "      <th># words</th>\n",
       "      <th>generated_answer</th>\n",
       "      <th>result_0</th>\n",
       "      <th>query_0</th>\n",
       "      <th>context_0</th>\n",
       "      <th>result_1</th>\n",
       "      <th>analysis_0</th>\n",
       "      <th>query_1</th>\n",
       "      <th>stripped</th>\n",
       "    </tr>\n",
       "  </thead>\n",
       "  <tbody>\n",
       "    <tr>\n",
       "      <th>1</th>\n",
       "      <td>what is epilepsy?</td>\n",
       "      <td>17</td>\n",
       "      <td>1</td>\n",
       "      <td>3</td>\n",
       "      <td>a group of neurological disorders characterize...</td>\n",
       "      <td>what epilepsy is.\\nSearch Query: epilepsy</td>\n",
       "      <td>epilepsy</td>\n",
       "      <td>[Epilepsy | Epilepsy Epilepsy is a group of ne...</td>\n",
       "      <td>epilepsy is a group of neurological disorders...</td>\n",
       "      <td>epilepsy is a group of neurological disorders...</td>\n",
       "      <td>N/A</td>\n",
       "      <td>epilepsy</td>\n",
       "    </tr>\n",
       "    <tr>\n",
       "      <th>5</th>\n",
       "      <td>what is shakespeare's nickname?</td>\n",
       "      <td>31</td>\n",
       "      <td>1</td>\n",
       "      <td>4</td>\n",
       "      <td>\"The Bard of Staten Island\", \"The Bard of Sout...</td>\n",
       "      <td>what Shakespeare's nickname is.\\nSearch Query...</td>\n",
       "      <td>Shakespeares nickname</td>\n",
       "      <td>[William Shakespeare (American football) | Foo...</td>\n",
       "      <td>William Shakespeare had nicknames such as \"Th...</td>\n",
       "      <td>William Shakespeare had nicknames such as \"Th...</td>\n",
       "      <td>N/A</td>\n",
       "      <td>shakespeare's nickname</td>\n",
       "    </tr>\n",
       "    <tr>\n",
       "      <th>13</th>\n",
       "      <td>what is ozone depletion?</td>\n",
       "      <td>24</td>\n",
       "      <td>1</td>\n",
       "      <td>4</td>\n",
       "      <td>Ozone depletion describes two related events o...</td>\n",
       "      <td>what ozone depletion is.\\nSearch Query: ozone...</td>\n",
       "      <td>ozone depletion</td>\n",
       "      <td>[Ozone depletion | Ozone depletion Ozone deple...</td>\n",
       "      <td>ozone depletion is caused by manufactured che...</td>\n",
       "      <td>ozone depletion is caused by manufactured che...</td>\n",
       "      <td>N/A</td>\n",
       "      <td>ozone depletion</td>\n",
       "    </tr>\n",
       "    <tr>\n",
       "      <th>25</th>\n",
       "      <td>when was algeria colonized?</td>\n",
       "      <td>27</td>\n",
       "      <td>1</td>\n",
       "      <td>4</td>\n",
       "      <td>1830</td>\n",
       "      <td>None</td>\n",
       "      <td>algeria colonized</td>\n",
       "      <td>[Poverty in Algeria | also coordinated to boos...</td>\n",
       "      <td>Algeria was colonized by France in 1830; we n...</td>\n",
       "      <td>Algeria was colonized by France in 1830</td>\n",
       "      <td>N/A</td>\n",
       "      <td>algeria colonized</td>\n",
       "    </tr>\n",
       "    <tr>\n",
       "      <th>29</th>\n",
       "      <td>what are the poconos?</td>\n",
       "      <td>21</td>\n",
       "      <td>1</td>\n",
       "      <td>4</td>\n",
       "      <td>None</td>\n",
       "      <td>None</td>\n",
       "      <td>None</td>\n",
       "      <td>None</td>\n",
       "      <td>None</td>\n",
       "      <td>None</td>\n",
       "      <td>None</td>\n",
       "      <td>poconos</td>\n",
       "    </tr>\n",
       "    <tr>\n",
       "      <th>30</th>\n",
       "      <td>what is cryogenics?</td>\n",
       "      <td>19</td>\n",
       "      <td>1</td>\n",
       "      <td>3</td>\n",
       "      <td>None</td>\n",
       "      <td>None</td>\n",
       "      <td>None</td>\n",
       "      <td>None</td>\n",
       "      <td>None</td>\n",
       "      <td>None</td>\n",
       "      <td>None</td>\n",
       "      <td>cryogenics</td>\n",
       "    </tr>\n",
       "    <tr>\n",
       "      <th>33</th>\n",
       "      <td>what is die-casting?</td>\n",
       "      <td>20</td>\n",
       "      <td>1</td>\n",
       "      <td>3</td>\n",
       "      <td>None</td>\n",
       "      <td>None</td>\n",
       "      <td>None</td>\n",
       "      <td>None</td>\n",
       "      <td>None</td>\n",
       "      <td>None</td>\n",
       "      <td>None</td>\n",
       "      <td>die-casting</td>\n",
       "    </tr>\n",
       "    <tr>\n",
       "      <th>34</th>\n",
       "      <td>what is caffeine?</td>\n",
       "      <td>17</td>\n",
       "      <td>1</td>\n",
       "      <td>3</td>\n",
       "      <td>None</td>\n",
       "      <td>None</td>\n",
       "      <td>None</td>\n",
       "      <td>None</td>\n",
       "      <td>None</td>\n",
       "      <td>None</td>\n",
       "      <td>None</td>\n",
       "      <td>caffeine</td>\n",
       "    </tr>\n",
       "    <tr>\n",
       "      <th>54</th>\n",
       "      <td>what is amoxicillin?</td>\n",
       "      <td>20</td>\n",
       "      <td>1</td>\n",
       "      <td>3</td>\n",
       "      <td>None</td>\n",
       "      <td>None</td>\n",
       "      <td>None</td>\n",
       "      <td>None</td>\n",
       "      <td>None</td>\n",
       "      <td>None</td>\n",
       "      <td>None</td>\n",
       "      <td>amoxicillin</td>\n",
       "    </tr>\n",
       "    <tr>\n",
       "      <th>56</th>\n",
       "      <td>what is angiotensin?</td>\n",
       "      <td>20</td>\n",
       "      <td>1</td>\n",
       "      <td>3</td>\n",
       "      <td>None</td>\n",
       "      <td>None</td>\n",
       "      <td>None</td>\n",
       "      <td>None</td>\n",
       "      <td>None</td>\n",
       "      <td>None</td>\n",
       "      <td>None</td>\n",
       "      <td>angiotensin</td>\n",
       "    </tr>\n",
       "    <tr>\n",
       "      <th>59</th>\n",
       "      <td>who discovered america?</td>\n",
       "      <td>23</td>\n",
       "      <td>1</td>\n",
       "      <td>3</td>\n",
       "      <td>None</td>\n",
       "      <td>None</td>\n",
       "      <td>None</td>\n",
       "      <td>None</td>\n",
       "      <td>None</td>\n",
       "      <td>None</td>\n",
       "      <td>None</td>\n",
       "      <td>discovered america</td>\n",
       "    </tr>\n",
       "    <tr>\n",
       "      <th>75</th>\n",
       "      <td>what is sake?</td>\n",
       "      <td>13</td>\n",
       "      <td>1</td>\n",
       "      <td>3</td>\n",
       "      <td>None</td>\n",
       "      <td>None</td>\n",
       "      <td>None</td>\n",
       "      <td>None</td>\n",
       "      <td>None</td>\n",
       "      <td>None</td>\n",
       "      <td>None</td>\n",
       "      <td>sake</td>\n",
       "    </tr>\n",
       "    <tr>\n",
       "      <th>82</th>\n",
       "      <td>where is ayer's rock?</td>\n",
       "      <td>21</td>\n",
       "      <td>1</td>\n",
       "      <td>4</td>\n",
       "      <td>None</td>\n",
       "      <td>None</td>\n",
       "      <td>None</td>\n",
       "      <td>None</td>\n",
       "      <td>None</td>\n",
       "      <td>None</td>\n",
       "      <td>None</td>\n",
       "      <td>ayer's rock</td>\n",
       "    </tr>\n",
       "    <tr>\n",
       "      <th>89</th>\n",
       "      <td>where is perth?</td>\n",
       "      <td>15</td>\n",
       "      <td>1</td>\n",
       "      <td>3</td>\n",
       "      <td>None</td>\n",
       "      <td>None</td>\n",
       "      <td>None</td>\n",
       "      <td>None</td>\n",
       "      <td>None</td>\n",
       "      <td>None</td>\n",
       "      <td>None</td>\n",
       "      <td>perth</td>\n",
       "    </tr>\n",
       "    <tr>\n",
       "      <th>92</th>\n",
       "      <td>what is leukemia?</td>\n",
       "      <td>17</td>\n",
       "      <td>1</td>\n",
       "      <td>3</td>\n",
       "      <td>None</td>\n",
       "      <td>None</td>\n",
       "      <td>None</td>\n",
       "      <td>None</td>\n",
       "      <td>None</td>\n",
       "      <td>None</td>\n",
       "      <td>None</td>\n",
       "      <td>leukemia</td>\n",
       "    </tr>\n",
       "    <tr>\n",
       "      <th>98</th>\n",
       "      <td>what is desktop publishing?</td>\n",
       "      <td>27</td>\n",
       "      <td>1</td>\n",
       "      <td>4</td>\n",
       "      <td>None</td>\n",
       "      <td>None</td>\n",
       "      <td>None</td>\n",
       "      <td>None</td>\n",
       "      <td>None</td>\n",
       "      <td>None</td>\n",
       "      <td>None</td>\n",
       "      <td>desktop publishing</td>\n",
       "    </tr>\n",
       "    <tr>\n",
       "      <th>120</th>\n",
       "      <td>what is neurology?</td>\n",
       "      <td>18</td>\n",
       "      <td>1</td>\n",
       "      <td>3</td>\n",
       "      <td>None</td>\n",
       "      <td>None</td>\n",
       "      <td>None</td>\n",
       "      <td>None</td>\n",
       "      <td>None</td>\n",
       "      <td>None</td>\n",
       "      <td>None</td>\n",
       "      <td>neurology</td>\n",
       "    </tr>\n",
       "    <tr>\n",
       "      <th>128</th>\n",
       "      <td>where is milan?</td>\n",
       "      <td>15</td>\n",
       "      <td>1</td>\n",
       "      <td>3</td>\n",
       "      <td>None</td>\n",
       "      <td>None</td>\n",
       "      <td>None</td>\n",
       "      <td>None</td>\n",
       "      <td>None</td>\n",
       "      <td>None</td>\n",
       "      <td>None</td>\n",
       "      <td>milan</td>\n",
       "    </tr>\n",
       "    <tr>\n",
       "      <th>131</th>\n",
       "      <td>what is nuclear power?</td>\n",
       "      <td>22</td>\n",
       "      <td>1</td>\n",
       "      <td>4</td>\n",
       "      <td>None</td>\n",
       "      <td>None</td>\n",
       "      <td>None</td>\n",
       "      <td>None</td>\n",
       "      <td>None</td>\n",
       "      <td>None</td>\n",
       "      <td>None</td>\n",
       "      <td>nuclear power</td>\n",
       "    </tr>\n",
       "    <tr>\n",
       "      <th>138</th>\n",
       "      <td>what is semolina?</td>\n",
       "      <td>17</td>\n",
       "      <td>1</td>\n",
       "      <td>3</td>\n",
       "      <td>None</td>\n",
       "      <td>None</td>\n",
       "      <td>None</td>\n",
       "      <td>None</td>\n",
       "      <td>None</td>\n",
       "      <td>None</td>\n",
       "      <td>None</td>\n",
       "      <td>semolina</td>\n",
       "    </tr>\n",
       "  </tbody>\n",
       "</table>\n",
       "</div>"
      ],
      "text/plain": [
       "                            question  len  # ww  # words  \\\n",
       "1                  what is epilepsy?   17     1        3   \n",
       "5    what is shakespeare's nickname?   31     1        4   \n",
       "13          what is ozone depletion?   24     1        4   \n",
       "25       when was algeria colonized?   27     1        4   \n",
       "29             what are the poconos?   21     1        4   \n",
       "30               what is cryogenics?   19     1        3   \n",
       "33              what is die-casting?   20     1        3   \n",
       "34                 what is caffeine?   17     1        3   \n",
       "54              what is amoxicillin?   20     1        3   \n",
       "56              what is angiotensin?   20     1        3   \n",
       "59           who discovered america?   23     1        3   \n",
       "75                     what is sake?   13     1        3   \n",
       "82             where is ayer's rock?   21     1        4   \n",
       "89                   where is perth?   15     1        3   \n",
       "92                 what is leukemia?   17     1        3   \n",
       "98       what is desktop publishing?   27     1        4   \n",
       "120               what is neurology?   18     1        3   \n",
       "128                  where is milan?   15     1        3   \n",
       "131           what is nuclear power?   22     1        4   \n",
       "138                what is semolina?   17     1        3   \n",
       "\n",
       "                                      generated_answer  \\\n",
       "1    a group of neurological disorders characterize...   \n",
       "5    \"The Bard of Staten Island\", \"The Bard of Sout...   \n",
       "13   Ozone depletion describes two related events o...   \n",
       "25                                                1830   \n",
       "29                                                None   \n",
       "30                                                None   \n",
       "33                                                None   \n",
       "34                                                None   \n",
       "54                                                None   \n",
       "56                                                None   \n",
       "59                                                None   \n",
       "75                                                None   \n",
       "82                                                None   \n",
       "89                                                None   \n",
       "92                                                None   \n",
       "98                                                None   \n",
       "120                                               None   \n",
       "128                                               None   \n",
       "131                                               None   \n",
       "138                                               None   \n",
       "\n",
       "                                              result_0                query_0  \\\n",
       "1            what epilepsy is.\\nSearch Query: epilepsy               epilepsy   \n",
       "5     what Shakespeare's nickname is.\\nSearch Query...  Shakespeares nickname   \n",
       "13    what ozone depletion is.\\nSearch Query: ozone...        ozone depletion   \n",
       "25                                                None      algeria colonized   \n",
       "29                                                None                   None   \n",
       "30                                                None                   None   \n",
       "33                                                None                   None   \n",
       "34                                                None                   None   \n",
       "54                                                None                   None   \n",
       "56                                                None                   None   \n",
       "59                                                None                   None   \n",
       "75                                                None                   None   \n",
       "82                                                None                   None   \n",
       "89                                                None                   None   \n",
       "92                                                None                   None   \n",
       "98                                                None                   None   \n",
       "120                                               None                   None   \n",
       "128                                               None                   None   \n",
       "131                                               None                   None   \n",
       "138                                               None                   None   \n",
       "\n",
       "                                             context_0  \\\n",
       "1    [Epilepsy | Epilepsy Epilepsy is a group of ne...   \n",
       "5    [William Shakespeare (American football) | Foo...   \n",
       "13   [Ozone depletion | Ozone depletion Ozone deple...   \n",
       "25   [Poverty in Algeria | also coordinated to boos...   \n",
       "29                                                None   \n",
       "30                                                None   \n",
       "33                                                None   \n",
       "34                                                None   \n",
       "54                                                None   \n",
       "56                                                None   \n",
       "59                                                None   \n",
       "75                                                None   \n",
       "82                                                None   \n",
       "89                                                None   \n",
       "92                                                None   \n",
       "98                                                None   \n",
       "120                                               None   \n",
       "128                                               None   \n",
       "131                                               None   \n",
       "138                                               None   \n",
       "\n",
       "                                              result_1  \\\n",
       "1     epilepsy is a group of neurological disorders...   \n",
       "5     William Shakespeare had nicknames such as \"Th...   \n",
       "13    ozone depletion is caused by manufactured che...   \n",
       "25    Algeria was colonized by France in 1830; we n...   \n",
       "29                                                None   \n",
       "30                                                None   \n",
       "33                                                None   \n",
       "34                                                None   \n",
       "54                                                None   \n",
       "56                                                None   \n",
       "59                                                None   \n",
       "75                                                None   \n",
       "82                                                None   \n",
       "89                                                None   \n",
       "92                                                None   \n",
       "98                                                None   \n",
       "120                                               None   \n",
       "128                                               None   \n",
       "131                                               None   \n",
       "138                                               None   \n",
       "\n",
       "                                            analysis_0 query_1  \\\n",
       "1     epilepsy is a group of neurological disorders...     N/A   \n",
       "5     William Shakespeare had nicknames such as \"Th...     N/A   \n",
       "13    ozone depletion is caused by manufactured che...     N/A   \n",
       "25             Algeria was colonized by France in 1830     N/A   \n",
       "29                                                None    None   \n",
       "30                                                None    None   \n",
       "33                                                None    None   \n",
       "34                                                None    None   \n",
       "54                                                None    None   \n",
       "56                                                None    None   \n",
       "59                                                None    None   \n",
       "75                                                None    None   \n",
       "82                                                None    None   \n",
       "89                                                None    None   \n",
       "92                                                None    None   \n",
       "98                                                None    None   \n",
       "120                                               None    None   \n",
       "128                                               None    None   \n",
       "131                                               None    None   \n",
       "138                                               None    None   \n",
       "\n",
       "                   stripped  \n",
       "1                  epilepsy  \n",
       "5    shakespeare's nickname  \n",
       "13          ozone depletion  \n",
       "25        algeria colonized  \n",
       "29                  poconos  \n",
       "30               cryogenics  \n",
       "33              die-casting  \n",
       "34                 caffeine  \n",
       "54              amoxicillin  \n",
       "56              angiotensin  \n",
       "59       discovered america  \n",
       "75                     sake  \n",
       "82              ayer's rock  \n",
       "89                    perth  \n",
       "92                 leukemia  \n",
       "98       desktop publishing  \n",
       "120               neurology  \n",
       "128                   milan  \n",
       "131           nuclear power  \n",
       "138                semolina  "
      ]
     },
     "execution_count": 765,
     "metadata": {},
     "output_type": "execute_result"
    }
   ],
   "source": [
    "test[test['# words']<=4].iloc[:20]"
   ]
  },
  {
   "cell_type": "markdown",
   "id": "c8c91f54-ffe9-4487-9682-68842db92bfd",
   "metadata": {
    "tags": []
   },
   "source": [
    "# ColBERT"
   ]
  },
  {
   "cell_type": "code",
   "execution_count": 14,
   "id": "c97a265b-2744-4aed-938f-3acc7a70bf2e",
   "metadata": {},
   "outputs": [
    {
     "name": "stderr",
     "output_type": "stream",
     "text": [
      "2023-02-18 13:13:56.827703: I tensorflow/core/platform/cpu_feature_guard.cc:193] This TensorFlow binary is optimized with oneAPI Deep Neural Network Library (oneDNN) to use the following CPU instructions in performance-critical operations:  AVX2 FMA\n",
      "To enable them in other operations, rebuild TensorFlow with the appropriate compiler flags.\n",
      "/Users/lara.thompson/code/cs224u/ColBERT/colbert/indexing/codecs/residual.py:10: SyntaxWarning: assertion is always true, perhaps remove parentheses?\n",
      "  assert(not torch.cuda.is_available(), \"cupy must be installed in GPU mode\")\n"
     ]
    }
   ],
   "source": [
    "import os\n",
    "import sys\n",
    "sys.path.insert(0, 'ColBERT/')\n",
    "\n",
    "from colbert.infra import Run, RunConfig, ColBERTConfig\n",
    "from colbert.data import Collection\n",
    "from colbert.searcher import Searcher\n",
    "from utility.utils.dpr import has_answer, DPR_normalize"
   ]
  },
  {
   "cell_type": "code",
   "execution_count": 84,
   "id": "7979d12e-c1f4-4d1e-88e7-625d6f116dab",
   "metadata": {
    "collapsed": true,
    "jupyter": {
     "outputs_hidden": true
    },
    "tags": []
   },
   "outputs": [
    {
     "name": "stdout",
     "output_type": "stream",
     "text": [
      "Collecting dsp-ml\n",
      "  Downloading dsp-ml-0.1.4.tar.gz (18 kB)\n",
      "  Preparing metadata (setup.py) ... \u001b[?25ldone\n",
      "\u001b[?25hCollecting backoff\n",
      "  Using cached backoff-2.2.1-py3-none-any.whl (15 kB)\n",
      "Requirement already satisfied: joblib in /Users/lara.thompson/.local/share/virtualenvs/lara.thompson-C83ZgnRu/lib/python3.9/site-packages (from dsp-ml) (1.2.0)\n",
      "Collecting jupyter\n",
      "  Using cached jupyter-1.0.0-py2.py3-none-any.whl (2.7 kB)\n",
      "Requirement already satisfied: openai in /Users/lara.thompson/.local/share/virtualenvs/lara.thompson-C83ZgnRu/lib/python3.9/site-packages (from dsp-ml) (0.26.5)\n",
      "Requirement already satisfied: pandas in /Users/lara.thompson/.local/share/virtualenvs/lara.thompson-C83ZgnRu/lib/python3.9/site-packages (from dsp-ml) (1.5.0)\n",
      "Requirement already satisfied: spacy in /Users/lara.thompson/.local/share/virtualenvs/lara.thompson-C83ZgnRu/lib/python3.9/site-packages (from dsp-ml) (3.5.0)\n",
      "Requirement already satisfied: regex in /Users/lara.thompson/.local/share/virtualenvs/lara.thompson-C83ZgnRu/lib/python3.9/site-packages (from dsp-ml) (2022.10.31)\n",
      "Requirement already satisfied: ujson in /Users/lara.thompson/.local/share/virtualenvs/lara.thompson-C83ZgnRu/lib/python3.9/site-packages (from dsp-ml) (5.7.0)\n",
      "Requirement already satisfied: tqdm in /Users/lara.thompson/.local/share/virtualenvs/lara.thompson-C83ZgnRu/lib/python3.9/site-packages (from dsp-ml) (4.64.1)\n",
      "Requirement already satisfied: datasets in /Users/lara.thompson/.local/share/virtualenvs/lara.thompson-C83ZgnRu/lib/python3.9/site-packages (from dsp-ml) (2.0.0)\n",
      "Requirement already satisfied: pyarrow>=5.0.0 in /Users/lara.thompson/.local/share/virtualenvs/lara.thompson-C83ZgnRu/lib/python3.9/site-packages (from datasets->dsp-ml) (10.0.1)\n",
      "Requirement already satisfied: aiohttp in /Users/lara.thompson/.local/share/virtualenvs/lara.thompson-C83ZgnRu/lib/python3.9/site-packages (from datasets->dsp-ml) (3.8.3)\n",
      "Requirement already satisfied: packaging in /Users/lara.thompson/.local/share/virtualenvs/lara.thompson-C83ZgnRu/lib/python3.9/site-packages (from datasets->dsp-ml) (21.3)\n",
      "Requirement already satisfied: huggingface-hub<1.0.0,>=0.1.0 in /Users/lara.thompson/.local/share/virtualenvs/lara.thompson-C83ZgnRu/lib/python3.9/site-packages (from datasets->dsp-ml) (0.11.1)\n",
      "Requirement already satisfied: multiprocess in /Users/lara.thompson/.local/share/virtualenvs/lara.thompson-C83ZgnRu/lib/python3.9/site-packages (from datasets->dsp-ml) (0.70.14)\n",
      "Requirement already satisfied: dill in /Users/lara.thompson/.local/share/virtualenvs/lara.thompson-C83ZgnRu/lib/python3.9/site-packages (from datasets->dsp-ml) (0.3.6)\n",
      "Requirement already satisfied: responses<0.19 in /Users/lara.thompson/.local/share/virtualenvs/lara.thompson-C83ZgnRu/lib/python3.9/site-packages (from datasets->dsp-ml) (0.18.0)\n",
      "Requirement already satisfied: xxhash in /Users/lara.thompson/.local/share/virtualenvs/lara.thompson-C83ZgnRu/lib/python3.9/site-packages (from datasets->dsp-ml) (3.2.0)\n",
      "Requirement already satisfied: fsspec[http]>=2021.05.0 in /Users/lara.thompson/.local/share/virtualenvs/lara.thompson-C83ZgnRu/lib/python3.9/site-packages (from datasets->dsp-ml) (2023.1.0)\n",
      "Requirement already satisfied: requests>=2.19.0 in /Users/lara.thompson/.local/share/virtualenvs/lara.thompson-C83ZgnRu/lib/python3.9/site-packages (from datasets->dsp-ml) (2.28.1)\n",
      "Requirement already satisfied: numpy>=1.17 in /Users/lara.thompson/.local/share/virtualenvs/lara.thompson-C83ZgnRu/lib/python3.9/site-packages (from datasets->dsp-ml) (1.23.1)\n",
      "Requirement already satisfied: ipywidgets in /Users/lara.thompson/.local/share/virtualenvs/lara.thompson-C83ZgnRu/lib/python3.9/site-packages (from jupyter->dsp-ml) (8.0.2)\n",
      "Requirement already satisfied: nbconvert in /Users/lara.thompson/.local/share/virtualenvs/lara.thompson-C83ZgnRu/lib/python3.9/site-packages (from jupyter->dsp-ml) (7.0.0)\n",
      "Collecting qtconsole\n",
      "  Using cached qtconsole-5.4.0-py3-none-any.whl (121 kB)\n",
      "Requirement already satisfied: ipykernel in /Users/lara.thompson/.local/share/virtualenvs/lara.thompson-C83ZgnRu/lib/python3.9/site-packages (from jupyter->dsp-ml) (6.16.0)\n",
      "Collecting jupyter-console\n",
      "  Using cached jupyter_console-6.5.1-py3-none-any.whl (23 kB)\n",
      "Requirement already satisfied: notebook in /Users/lara.thompson/.local/share/virtualenvs/lara.thompson-C83ZgnRu/lib/python3.9/site-packages (from jupyter->dsp-ml) (6.4.12)\n",
      "Requirement already satisfied: python-dateutil>=2.8.1 in /Users/lara.thompson/.local/share/virtualenvs/lara.thompson-C83ZgnRu/lib/python3.9/site-packages (from pandas->dsp-ml) (2.8.2)\n",
      "Requirement already satisfied: pytz>=2020.1 in /Users/lara.thompson/.local/share/virtualenvs/lara.thompson-C83ZgnRu/lib/python3.9/site-packages (from pandas->dsp-ml) (2022.2.1)\n",
      "Requirement already satisfied: murmurhash<1.1.0,>=0.28.0 in /Users/lara.thompson/.local/share/virtualenvs/lara.thompson-C83ZgnRu/lib/python3.9/site-packages (from spacy->dsp-ml) (1.0.9)\n",
      "Requirement already satisfied: typer<0.8.0,>=0.3.0 in /Users/lara.thompson/.local/share/virtualenvs/lara.thompson-C83ZgnRu/lib/python3.9/site-packages (from spacy->dsp-ml) (0.7.0)\n",
      "Requirement already satisfied: smart-open<7.0.0,>=5.2.1 in /Users/lara.thompson/.local/share/virtualenvs/lara.thompson-C83ZgnRu/lib/python3.9/site-packages (from spacy->dsp-ml) (6.3.0)\n",
      "Requirement already satisfied: thinc<8.2.0,>=8.1.0 in /Users/lara.thompson/.local/share/virtualenvs/lara.thompson-C83ZgnRu/lib/python3.9/site-packages (from spacy->dsp-ml) (8.1.7)\n",
      "Requirement already satisfied: cymem<2.1.0,>=2.0.2 in /Users/lara.thompson/.local/share/virtualenvs/lara.thompson-C83ZgnRu/lib/python3.9/site-packages (from spacy->dsp-ml) (2.0.7)\n",
      "Requirement already satisfied: preshed<3.1.0,>=3.0.2 in /Users/lara.thompson/.local/share/virtualenvs/lara.thompson-C83ZgnRu/lib/python3.9/site-packages (from spacy->dsp-ml) (3.0.8)\n",
      "Requirement already satisfied: spacy-loggers<2.0.0,>=1.0.0 in /Users/lara.thompson/.local/share/virtualenvs/lara.thompson-C83ZgnRu/lib/python3.9/site-packages (from spacy->dsp-ml) (1.0.4)\n",
      "Requirement already satisfied: catalogue<2.1.0,>=2.0.6 in /Users/lara.thompson/.local/share/virtualenvs/lara.thompson-C83ZgnRu/lib/python3.9/site-packages (from spacy->dsp-ml) (2.0.8)\n",
      "Requirement already satisfied: langcodes<4.0.0,>=3.2.0 in /Users/lara.thompson/.local/share/virtualenvs/lara.thompson-C83ZgnRu/lib/python3.9/site-packages (from spacy->dsp-ml) (3.3.0)\n",
      "Requirement already satisfied: pathy>=0.10.0 in /Users/lara.thompson/.local/share/virtualenvs/lara.thompson-C83ZgnRu/lib/python3.9/site-packages (from spacy->dsp-ml) (0.10.1)\n",
      "Requirement already satisfied: spacy-legacy<3.1.0,>=3.0.11 in /Users/lara.thompson/.local/share/virtualenvs/lara.thompson-C83ZgnRu/lib/python3.9/site-packages (from spacy->dsp-ml) (3.0.12)\n",
      "Requirement already satisfied: pydantic!=1.8,!=1.8.1,<1.11.0,>=1.7.4 in /Users/lara.thompson/.local/share/virtualenvs/lara.thompson-C83ZgnRu/lib/python3.9/site-packages (from spacy->dsp-ml) (1.10.4)\n",
      "Requirement already satisfied: srsly<3.0.0,>=2.4.3 in /Users/lara.thompson/.local/share/virtualenvs/lara.thompson-C83ZgnRu/lib/python3.9/site-packages (from spacy->dsp-ml) (2.4.5)\n",
      "Requirement already satisfied: setuptools in /Users/lara.thompson/.local/share/virtualenvs/lara.thompson-C83ZgnRu/lib/python3.9/site-packages (from spacy->dsp-ml) (62.3.2)\n",
      "Requirement already satisfied: jinja2 in /Users/lara.thompson/.local/share/virtualenvs/lara.thompson-C83ZgnRu/lib/python3.9/site-packages (from spacy->dsp-ml) (3.1.2)\n",
      "Requirement already satisfied: wasabi<1.2.0,>=0.9.1 in /Users/lara.thompson/.local/share/virtualenvs/lara.thompson-C83ZgnRu/lib/python3.9/site-packages (from spacy->dsp-ml) (1.1.1)\n",
      "Requirement already satisfied: attrs>=17.3.0 in /Users/lara.thompson/.local/share/virtualenvs/lara.thompson-C83ZgnRu/lib/python3.9/site-packages (from aiohttp->datasets->dsp-ml) (22.1.0)\n",
      "Requirement already satisfied: aiosignal>=1.1.2 in /Users/lara.thompson/.local/share/virtualenvs/lara.thompson-C83ZgnRu/lib/python3.9/site-packages (from aiohttp->datasets->dsp-ml) (1.3.1)\n",
      "Requirement already satisfied: charset-normalizer<3.0,>=2.0 in /Users/lara.thompson/.local/share/virtualenvs/lara.thompson-C83ZgnRu/lib/python3.9/site-packages (from aiohttp->datasets->dsp-ml) (2.1.1)\n",
      "Requirement already satisfied: async-timeout<5.0,>=4.0.0a3 in /Users/lara.thompson/.local/share/virtualenvs/lara.thompson-C83ZgnRu/lib/python3.9/site-packages (from aiohttp->datasets->dsp-ml) (4.0.2)\n",
      "Requirement already satisfied: multidict<7.0,>=4.5 in /Users/lara.thompson/.local/share/virtualenvs/lara.thompson-C83ZgnRu/lib/python3.9/site-packages (from aiohttp->datasets->dsp-ml) (6.0.4)\n",
      "Requirement already satisfied: yarl<2.0,>=1.0 in /Users/lara.thompson/.local/share/virtualenvs/lara.thompson-C83ZgnRu/lib/python3.9/site-packages (from aiohttp->datasets->dsp-ml) (1.8.2)\n",
      "Requirement already satisfied: frozenlist>=1.1.1 in /Users/lara.thompson/.local/share/virtualenvs/lara.thompson-C83ZgnRu/lib/python3.9/site-packages (from aiohttp->datasets->dsp-ml) (1.3.3)\n",
      "Requirement already satisfied: typing-extensions>=3.7.4.3 in /Users/lara.thompson/.local/share/virtualenvs/lara.thompson-C83ZgnRu/lib/python3.9/site-packages (from huggingface-hub<1.0.0,>=0.1.0->datasets->dsp-ml) (4.3.0)\n",
      "Requirement already satisfied: filelock in /Users/lara.thompson/.local/share/virtualenvs/lara.thompson-C83ZgnRu/lib/python3.9/site-packages (from huggingface-hub<1.0.0,>=0.1.0->datasets->dsp-ml) (3.9.0)\n",
      "Requirement already satisfied: pyyaml>=5.1 in /Users/lara.thompson/.local/share/virtualenvs/lara.thompson-C83ZgnRu/lib/python3.9/site-packages (from huggingface-hub<1.0.0,>=0.1.0->datasets->dsp-ml) (6.0)\n",
      "Requirement already satisfied: pyparsing!=3.0.5,>=2.0.2 in /Users/lara.thompson/.local/share/virtualenvs/lara.thompson-C83ZgnRu/lib/python3.9/site-packages (from packaging->datasets->dsp-ml) (3.0.9)\n",
      "Requirement already satisfied: six>=1.5 in /Users/lara.thompson/.local/share/virtualenvs/lara.thompson-C83ZgnRu/lib/python3.9/site-packages (from python-dateutil>=2.8.1->pandas->dsp-ml) (1.16.0)\n",
      "Requirement already satisfied: urllib3<1.27,>=1.21.1 in /Users/lara.thompson/.local/share/virtualenvs/lara.thompson-C83ZgnRu/lib/python3.9/site-packages (from requests>=2.19.0->datasets->dsp-ml) (1.26.12)\n",
      "Requirement already satisfied: certifi>=2017.4.17 in /Users/lara.thompson/.local/share/virtualenvs/lara.thompson-C83ZgnRu/lib/python3.9/site-packages (from requests>=2.19.0->datasets->dsp-ml) (2022.9.24)\n",
      "Requirement already satisfied: idna<4,>=2.5 in /Users/lara.thompson/.local/share/virtualenvs/lara.thompson-C83ZgnRu/lib/python3.9/site-packages (from requests>=2.19.0->datasets->dsp-ml) (3.4)\n",
      "Requirement already satisfied: confection<1.0.0,>=0.0.1 in /Users/lara.thompson/.local/share/virtualenvs/lara.thompson-C83ZgnRu/lib/python3.9/site-packages (from thinc<8.2.0,>=8.1.0->spacy->dsp-ml) (0.0.4)\n",
      "Requirement already satisfied: blis<0.8.0,>=0.7.8 in /Users/lara.thompson/.local/share/virtualenvs/lara.thompson-C83ZgnRu/lib/python3.9/site-packages (from thinc<8.2.0,>=8.1.0->spacy->dsp-ml) (0.7.9)\n",
      "Requirement already satisfied: click<9.0.0,>=7.1.1 in /Users/lara.thompson/.local/share/virtualenvs/lara.thompson-C83ZgnRu/lib/python3.9/site-packages (from typer<0.8.0,>=0.3.0->spacy->dsp-ml) (8.1.3)\n",
      "Requirement already satisfied: pyzmq>=17 in /Users/lara.thompson/.local/share/virtualenvs/lara.thompson-C83ZgnRu/lib/python3.9/site-packages (from ipykernel->jupyter->dsp-ml) (24.0.1)\n",
      "Requirement already satisfied: nest-asyncio in /Users/lara.thompson/.local/share/virtualenvs/lara.thompson-C83ZgnRu/lib/python3.9/site-packages (from ipykernel->jupyter->dsp-ml) (1.5.5)\n",
      "Requirement already satisfied: traitlets>=5.1.0 in /Users/lara.thompson/.local/share/virtualenvs/lara.thompson-C83ZgnRu/lib/python3.9/site-packages (from ipykernel->jupyter->dsp-ml) (5.4.0)\n",
      "Requirement already satisfied: appnope in /Users/lara.thompson/.local/share/virtualenvs/lara.thompson-C83ZgnRu/lib/python3.9/site-packages (from ipykernel->jupyter->dsp-ml) (0.1.3)\n",
      "Requirement already satisfied: tornado>=6.1 in /Users/lara.thompson/.local/share/virtualenvs/lara.thompson-C83ZgnRu/lib/python3.9/site-packages (from ipykernel->jupyter->dsp-ml) (6.2)\n",
      "Requirement already satisfied: matplotlib-inline>=0.1 in /Users/lara.thompson/.local/share/virtualenvs/lara.thompson-C83ZgnRu/lib/python3.9/site-packages (from ipykernel->jupyter->dsp-ml) (0.1.6)\n",
      "Requirement already satisfied: debugpy>=1.0 in /Users/lara.thompson/.local/share/virtualenvs/lara.thompson-C83ZgnRu/lib/python3.9/site-packages (from ipykernel->jupyter->dsp-ml) (1.6.3)\n",
      "Requirement already satisfied: psutil in /Users/lara.thompson/.local/share/virtualenvs/lara.thompson-C83ZgnRu/lib/python3.9/site-packages (from ipykernel->jupyter->dsp-ml) (5.9.2)\n",
      "Requirement already satisfied: jupyter-client>=6.1.12 in /Users/lara.thompson/.local/share/virtualenvs/lara.thompson-C83ZgnRu/lib/python3.9/site-packages (from ipykernel->jupyter->dsp-ml) (7.3.5)\n",
      "Requirement already satisfied: ipython>=7.23.1 in /Users/lara.thompson/.local/share/virtualenvs/lara.thompson-C83ZgnRu/lib/python3.9/site-packages (from ipykernel->jupyter->dsp-ml) (8.5.0)\n",
      "Requirement already satisfied: widgetsnbextension~=4.0 in /Users/lara.thompson/.local/share/virtualenvs/lara.thompson-C83ZgnRu/lib/python3.9/site-packages (from ipywidgets->jupyter->dsp-ml) (4.0.3)\n",
      "Requirement already satisfied: jupyterlab-widgets~=3.0 in /Users/lara.thompson/.local/share/virtualenvs/lara.thompson-C83ZgnRu/lib/python3.9/site-packages (from ipywidgets->jupyter->dsp-ml) (3.0.3)\n",
      "Requirement already satisfied: MarkupSafe>=2.0 in /Users/lara.thompson/.local/share/virtualenvs/lara.thompson-C83ZgnRu/lib/python3.9/site-packages (from jinja2->spacy->dsp-ml) (2.1.1)\n",
      "Collecting jupyter-core!=5.0.*,>=4.12\n",
      "  Using cached jupyter_core-5.2.0-py3-none-any.whl (94 kB)\n",
      "Requirement already satisfied: pygments in /Users/lara.thompson/.local/share/virtualenvs/lara.thompson-C83ZgnRu/lib/python3.9/site-packages (from jupyter-console->jupyter->dsp-ml) (2.13.0)\n",
      "Requirement already satisfied: prompt-toolkit>=3.0.30 in /Users/lara.thompson/.local/share/virtualenvs/lara.thompson-C83ZgnRu/lib/python3.9/site-packages (from jupyter-console->jupyter->dsp-ml) (3.0.31)\n",
      "Requirement already satisfied: mistune<3,>=2.0.3 in /Users/lara.thompson/.local/share/virtualenvs/lara.thompson-C83ZgnRu/lib/python3.9/site-packages (from nbconvert->jupyter->dsp-ml) (2.0.4)\n",
      "Requirement already satisfied: importlib-metadata>=3.6 in /Users/lara.thompson/.local/share/virtualenvs/lara.thompson-C83ZgnRu/lib/python3.9/site-packages (from nbconvert->jupyter->dsp-ml) (4.12.0)\n",
      "Requirement already satisfied: nbclient>=0.5.0 in /Users/lara.thompson/.local/share/virtualenvs/lara.thompson-C83ZgnRu/lib/python3.9/site-packages (from nbconvert->jupyter->dsp-ml) (0.6.8)\n",
      "Requirement already satisfied: bleach in /Users/lara.thompson/.local/share/virtualenvs/lara.thompson-C83ZgnRu/lib/python3.9/site-packages (from nbconvert->jupyter->dsp-ml) (5.0.1)\n",
      "Requirement already satisfied: lxml in /Users/lara.thompson/.local/share/virtualenvs/lara.thompson-C83ZgnRu/lib/python3.9/site-packages (from nbconvert->jupyter->dsp-ml) (4.9.1)\n",
      "Requirement already satisfied: defusedxml in /Users/lara.thompson/.local/share/virtualenvs/lara.thompson-C83ZgnRu/lib/python3.9/site-packages (from nbconvert->jupyter->dsp-ml) (0.7.1)\n",
      "Requirement already satisfied: beautifulsoup4 in /Users/lara.thompson/.local/share/virtualenvs/lara.thompson-C83ZgnRu/lib/python3.9/site-packages (from nbconvert->jupyter->dsp-ml) (4.11.1)\n",
      "Requirement already satisfied: nbformat>=5.1 in /Users/lara.thompson/.local/share/virtualenvs/lara.thompson-C83ZgnRu/lib/python3.9/site-packages (from nbconvert->jupyter->dsp-ml) (5.6.1)\n",
      "Requirement already satisfied: tinycss2 in /Users/lara.thompson/.local/share/virtualenvs/lara.thompson-C83ZgnRu/lib/python3.9/site-packages (from nbconvert->jupyter->dsp-ml) (1.1.1)\n",
      "Requirement already satisfied: pandocfilters>=1.4.1 in /Users/lara.thompson/.local/share/virtualenvs/lara.thompson-C83ZgnRu/lib/python3.9/site-packages (from nbconvert->jupyter->dsp-ml) (1.5.0)\n",
      "Requirement already satisfied: jupyterlab-pygments in /Users/lara.thompson/.local/share/virtualenvs/lara.thompson-C83ZgnRu/lib/python3.9/site-packages (from nbconvert->jupyter->dsp-ml) (0.2.2)\n",
      "Requirement already satisfied: terminado>=0.8.3 in /Users/lara.thompson/.local/share/virtualenvs/lara.thompson-C83ZgnRu/lib/python3.9/site-packages (from notebook->jupyter->dsp-ml) (0.15.0)\n",
      "Requirement already satisfied: argon2-cffi in /Users/lara.thompson/.local/share/virtualenvs/lara.thompson-C83ZgnRu/lib/python3.9/site-packages (from notebook->jupyter->dsp-ml) (21.3.0)\n",
      "Requirement already satisfied: Send2Trash>=1.8.0 in /Users/lara.thompson/.local/share/virtualenvs/lara.thompson-C83ZgnRu/lib/python3.9/site-packages (from notebook->jupyter->dsp-ml) (1.8.0)\n",
      "Requirement already satisfied: ipython-genutils in /Users/lara.thompson/.local/share/virtualenvs/lara.thompson-C83ZgnRu/lib/python3.9/site-packages (from notebook->jupyter->dsp-ml) (0.2.0)\n",
      "Requirement already satisfied: prometheus-client in /Users/lara.thompson/.local/share/virtualenvs/lara.thompson-C83ZgnRu/lib/python3.9/site-packages (from notebook->jupyter->dsp-ml) (0.14.1)\n",
      "Collecting qtpy>=2.0.1\n",
      "  Using cached QtPy-2.3.0-py3-none-any.whl (83 kB)\n",
      "Requirement already satisfied: zipp>=0.5 in /Users/lara.thompson/.local/share/virtualenvs/lara.thompson-C83ZgnRu/lib/python3.9/site-packages (from importlib-metadata>=3.6->nbconvert->jupyter->dsp-ml) (3.8.1)\n",
      "Requirement already satisfied: backcall in /Users/lara.thompson/.local/share/virtualenvs/lara.thompson-C83ZgnRu/lib/python3.9/site-packages (from ipython>=7.23.1->ipykernel->jupyter->dsp-ml) (0.2.0)\n",
      "Requirement already satisfied: stack-data in /Users/lara.thompson/.local/share/virtualenvs/lara.thompson-C83ZgnRu/lib/python3.9/site-packages (from ipython>=7.23.1->ipykernel->jupyter->dsp-ml) (0.5.1)\n",
      "Requirement already satisfied: jedi>=0.16 in /Users/lara.thompson/.local/share/virtualenvs/lara.thompson-C83ZgnRu/lib/python3.9/site-packages (from ipython>=7.23.1->ipykernel->jupyter->dsp-ml) (0.18.1)\n",
      "Requirement already satisfied: decorator in /Users/lara.thompson/.local/share/virtualenvs/lara.thompson-C83ZgnRu/lib/python3.9/site-packages (from ipython>=7.23.1->ipykernel->jupyter->dsp-ml) (5.1.1)\n",
      "Requirement already satisfied: pexpect>4.3 in /Users/lara.thompson/.local/share/virtualenvs/lara.thompson-C83ZgnRu/lib/python3.9/site-packages (from ipython>=7.23.1->ipykernel->jupyter->dsp-ml) (4.8.0)\n",
      "Requirement already satisfied: pickleshare in /Users/lara.thompson/.local/share/virtualenvs/lara.thompson-C83ZgnRu/lib/python3.9/site-packages (from ipython>=7.23.1->ipykernel->jupyter->dsp-ml) (0.7.5)\n",
      "Requirement already satisfied: entrypoints in /Users/lara.thompson/.local/share/virtualenvs/lara.thompson-C83ZgnRu/lib/python3.9/site-packages (from jupyter-client>=6.1.12->ipykernel->jupyter->dsp-ml) (0.4)\n",
      "Collecting platformdirs>=2.5\n",
      "  Using cached platformdirs-3.0.0-py3-none-any.whl (14 kB)\n",
      "Requirement already satisfied: fastjsonschema in /Users/lara.thompson/.local/share/virtualenvs/lara.thompson-C83ZgnRu/lib/python3.9/site-packages (from nbformat>=5.1->nbconvert->jupyter->dsp-ml) (2.16.2)\n",
      "Requirement already satisfied: jsonschema>=2.6 in /Users/lara.thompson/.local/share/virtualenvs/lara.thompson-C83ZgnRu/lib/python3.9/site-packages (from nbformat>=5.1->nbconvert->jupyter->dsp-ml) (4.16.0)\n",
      "Requirement already satisfied: wcwidth in /Users/lara.thompson/.local/share/virtualenvs/lara.thompson-C83ZgnRu/lib/python3.9/site-packages (from prompt-toolkit>=3.0.30->jupyter-console->jupyter->dsp-ml) (0.2.5)\n",
      "Requirement already satisfied: ptyprocess in /Users/lara.thompson/.local/share/virtualenvs/lara.thompson-C83ZgnRu/lib/python3.9/site-packages (from terminado>=0.8.3->notebook->jupyter->dsp-ml) (0.7.0)\n",
      "Requirement already satisfied: argon2-cffi-bindings in /Users/lara.thompson/.local/share/virtualenvs/lara.thompson-C83ZgnRu/lib/python3.9/site-packages (from argon2-cffi->notebook->jupyter->dsp-ml) (21.2.0)\n",
      "Requirement already satisfied: soupsieve>1.2 in /Users/lara.thompson/.local/share/virtualenvs/lara.thompson-C83ZgnRu/lib/python3.9/site-packages (from beautifulsoup4->nbconvert->jupyter->dsp-ml) (2.3.2.post1)\n",
      "Requirement already satisfied: webencodings in /Users/lara.thompson/.local/share/virtualenvs/lara.thompson-C83ZgnRu/lib/python3.9/site-packages (from bleach->nbconvert->jupyter->dsp-ml) (0.5.1)\n",
      "Requirement already satisfied: parso<0.9.0,>=0.8.0 in /Users/lara.thompson/.local/share/virtualenvs/lara.thompson-C83ZgnRu/lib/python3.9/site-packages (from jedi>=0.16->ipython>=7.23.1->ipykernel->jupyter->dsp-ml) (0.8.3)\n",
      "Requirement already satisfied: pyrsistent!=0.17.0,!=0.17.1,!=0.17.2,>=0.14.0 in /Users/lara.thompson/.local/share/virtualenvs/lara.thompson-C83ZgnRu/lib/python3.9/site-packages (from jsonschema>=2.6->nbformat>=5.1->nbconvert->jupyter->dsp-ml) (0.18.1)\n",
      "Requirement already satisfied: cffi>=1.0.1 in /Users/lara.thompson/.local/share/virtualenvs/lara.thompson-C83ZgnRu/lib/python3.9/site-packages (from argon2-cffi-bindings->argon2-cffi->notebook->jupyter->dsp-ml) (1.15.1)\n",
      "Requirement already satisfied: pure-eval in /Users/lara.thompson/.local/share/virtualenvs/lara.thompson-C83ZgnRu/lib/python3.9/site-packages (from stack-data->ipython>=7.23.1->ipykernel->jupyter->dsp-ml) (0.2.2)\n",
      "Requirement already satisfied: executing in /Users/lara.thompson/.local/share/virtualenvs/lara.thompson-C83ZgnRu/lib/python3.9/site-packages (from stack-data->ipython>=7.23.1->ipykernel->jupyter->dsp-ml) (1.1.0)\n",
      "Requirement already satisfied: asttokens in /Users/lara.thompson/.local/share/virtualenvs/lara.thompson-C83ZgnRu/lib/python3.9/site-packages (from stack-data->ipython>=7.23.1->ipykernel->jupyter->dsp-ml) (2.0.8)\n",
      "Requirement already satisfied: pycparser in /Users/lara.thompson/.local/share/virtualenvs/lara.thompson-C83ZgnRu/lib/python3.9/site-packages (from cffi>=1.0.1->argon2-cffi-bindings->argon2-cffi->notebook->jupyter->dsp-ml) (2.21)\n",
      "Building wheels for collected packages: dsp-ml\n",
      "  Building wheel for dsp-ml (setup.py) ... \u001b[?25ldone\n",
      "\u001b[?25h  Created wheel for dsp-ml: filename=dsp_ml-0.1.4-py3-none-any.whl size=22008 sha256=f695188cc4825fefbb5a0827bc21810589d9518872ac1bd43b5c33b1616e1abe\n",
      "  Stored in directory: /Users/lara.thompson/Library/Caches/pip/wheels/3a/3f/20/b03fe2984cc943fbf1edd76474bd7fa8f4e3edc1b9e2dc26f6\n",
      "Successfully built dsp-ml\n",
      "Installing collected packages: platformdirs, backoff, qtpy, jupyter-core, qtconsole, jupyter-console, jupyter, dsp-ml\n",
      "  Attempting uninstall: jupyter-core\n",
      "    Found existing installation: jupyter-core 4.11.1\n",
      "    Uninstalling jupyter-core-4.11.1:\n",
      "      Successfully uninstalled jupyter-core-4.11.1\n",
      "Successfully installed backoff-2.2.1 dsp-ml-0.1.4 jupyter-1.0.0 jupyter-console-6.5.1 jupyter-core-5.2.0 platformdirs-3.0.0 qtconsole-5.4.0 qtpy-2.3.0\n",
      "Note: you may need to restart the kernel to use updated packages.\n"
     ]
    }
   ],
   "source": [
    "!pip install dsp-ml"
   ]
  },
  {
   "cell_type": "code",
   "execution_count": 17,
   "id": "7b4c30a3-c963-4d49-9039-de31ba822bbc",
   "metadata": {},
   "outputs": [],
   "source": [
    "import dsp"
   ]
  },
  {
   "cell_type": "code",
   "execution_count": 18,
   "id": "b133c4fa-5532-4860-b41d-d13c398ea8bb",
   "metadata": {},
   "outputs": [],
   "source": [
    "colbert_server = 'http://ec2-44-228-128-229.us-west-2.compute.amazonaws.com:8893/api/search'\n",
    "r_search = dsp.ColBERTv2(url=colbert_server)"
   ]
  },
  {
   "cell_type": "code",
   "execution_count": 21,
   "id": "4b5ef0aa-a023-4a25-8d9a-8dc0b8aed572",
   "metadata": {
    "tags": []
   },
   "outputs": [
    {
     "name": "stdout",
     "output_type": "stream",
     "text": [
      "[Feb 18, 13:16:17] #> Loading collection...\n",
      "0M \n",
      "[Feb 18, 13:16:18] #> Loading collection...\n",
      "0M \n"
     ]
    },
    {
     "name": "stderr",
     "output_type": "stream",
     "text": [
      "/Users/lara.thompson/.local/share/virtualenvs/lara.thompson-C83ZgnRu/lib/python3.9/site-packages/torch/cuda/amp/grad_scaler.py:115: UserWarning: torch.cuda.amp.GradScaler is enabled, but CUDA is not available.  Disabling.\n",
      "  warnings.warn(\"torch.cuda.amp.GradScaler is enabled, but CUDA is not available.  Disabling.\")\n"
     ]
    },
    {
     "name": "stdout",
     "output_type": "stream",
     "text": [
      "[Feb 18, 13:16:20] #> Building the emb2pid mapping..\n",
      "[Feb 18, 13:16:20] len(self.emb2pid) = 14968345\n"
     ]
    }
   ],
   "source": [
    "index_home = os.path.join(\"experiments\", \"notebook\", \"indexes\")\n",
    "\n",
    "collection = os.path.join(index_home, \"cs224u.collection.2bits\", \"cs224u.collection.tsv\")\n",
    "\n",
    "collection = Collection(path=collection)\n",
    "\n",
    "f'Loaded {len(collection):,} passages'\n",
    "\n",
    "index_name = \"cs224u.collection.2bits\"\n",
    "with Run().context(RunConfig(experiment='notebook')):\n",
    "    searcher = Searcher(index=index_name)"
   ]
  },
  {
   "cell_type": "code",
   "execution_count": 620,
   "id": "2fd8a730-fc11-4f8e-83e0-1c328f05f206",
   "metadata": {},
   "outputs": [],
   "source": [
    "def rm_top_k(query, k=3, source='local'):\n",
    "    tmp = []\n",
    "    if source in ['local', 'both']:\n",
    "        tmp.extend([(p_score, 'local', searcher.collection[p_id]) for p_id, _, p_score in zip(*searcher.search(query, k=k))])\n",
    "    if source in ['remote', 'both']:\n",
    "        tmp.extend([(ans['score'], 'remote', ans['text']) for ans in r_search(query, k=k)])\n",
    "    answers = pd.DataFrame(tmp, columns=['score', 'source', 'text']\n",
    "                          ).drop_duplicates('text').sort_values('score', ascending=False).reset_index(drop=True)\n",
    "    return answers"
   ]
  },
  {
   "cell_type": "code",
   "execution_count": 459,
   "id": "cd290d0d-1435-4a07-a93d-7aff0caaa82a",
   "metadata": {
    "collapsed": true,
    "jupyter": {
     "outputs_hidden": true
    },
    "tags": []
   },
   "outputs": [
    {
     "name": "stderr",
     "output_type": "stream",
     "text": [
      "/Users/lara.thompson/.local/share/virtualenvs/lara.thompson-C83ZgnRu/lib/python3.9/site-packages/torch/autocast_mode.py:141: UserWarning: User provided device_type of 'cuda', but CUDA is not available. Disabling\n",
      "  warnings.warn('User provided device_type of \\'cuda\\', but CUDA is not available. Disabling')\n"
     ]
    },
    {
     "name": "stdout",
     "output_type": "stream",
     "text": [
      "24.32\tlocal\tAdolescence | their lives, youth is susceptible to drug addiction, sexual abuse, peer pressure, violent crimes and other illegal activities. Developmental Intervention Science (DIS) is a fusion of the literature of both developmental and intervention sciences. This association conducts youth interventions that mutually assist both the needs of the community as well as psychologically stranded youth by focusing on risky and inappropriate behaviors while promoting positive self-development along with self-esteem among adolescents. The concept of \"adolescence\" is criticized by some experts such as Robert Epstein, stating that an undeveloped brain is not the main cause of teenagers' turmoils. Some argue that adolescence\n",
      "21.88\tlocal\tDefense Information Systems Agency | Defense Information Systems Agency The Defense Information Systems Agency (DISA), known as the Defense Communications Agency (DCA) until 1991, is a United States Department of Defense (DoD) combat support agency composed of military, federal civilians, and contractors. DISA provides information technology (IT) and communications support to the President, Vice President, Secretary of Defense, the military services, the combatant commands, and any individual or system contributing to the defense of the United States. According to the mission statement on the agency website, DISA “provides, operates, and assures command and control, information sharing capabilities, and a globally accessible enterprise information infrastructure in\n",
      "21.58\tlocal\tDiosynth | Diosynth Diosynth, or Fujifilm Diosynth Biotechnologies, is a company that develops and offers manufacturing processes for active ingredients for pharmaceutical companies all over the world. The company started in Oss, Netherlands in 1923 with the extraction of insulin from bovine pancreas, and porcine insulin extraction in 1930, both of which are still part of their main products. In January 2005, the company became a part of Organon, one of its sister companies in the Akzo Nobel pharma group. Along with its sister companies Organon and Intervet were sold to Schering-Plough in March 2007 by Akzo Nobel. Following the mergers of\n",
      "20.70\tlocal\tInternational Organization for Standardization | reached on the technical content. When it is reached, the text is finalized for submission as a draft International Standard (DIS). The text is then submitted to national bodies for voting and comment within a period of five months. It is approved for submission as a final draft International Standard (FDIS) if a two-thirds majority of the P-members of the TC/SC are in favour and not more than one-quarter of the total number of votes cast are negative. ISO will then hold a ballot with National Bodies where no technical changes are allowed (yes/no ballot), within a period of two months.\n",
      "20.44\tlocal\tDefense Information Systems Agency | UNIFIED RESPONSE in Haiti; Operation ODYSSEY DAWN and NATO Operation UNIFIED PROTECTOR in Libya, Operation TOMODACHI in Japan; and DISA’s global cyber operations in support of United States Cyber Command (USCYBERCOM).   Defense Information Systems Agency The Defense Information Systems Agency (DISA), known as the Defense Communications Agency (DCA) until 1991, is a United States Department of Defense (DoD) combat support agency composed of military, federal civilians, and contractors. DISA provides information technology (IT) and communications support to the President, Vice President, Secretary of Defense, the military services, the combatant commands, and any individual or system contributing to the\n",
      "19.81\tlocal\tReligion in ancient Rome | eighth day of mourning, the family offered further sacrifice, this time on the ground; the shade of the departed was assumed to have passed entirely into the underworld. They had become one of the \"di Manes\", who were collectively celebrated and appeased at the Parentalia, a multi-day festival of remembrance in February. A standard Roman funerary inscription is \"Dis Manibus\" (to the Manes-gods). Regional variations include its Greek equivalent, \"theoîs katachthoníois\" and Lugdunum's commonplace but mysterious \"dedicated under the trowel\" \"(sub ascia dedicare)\". In the later Imperial era, the burial and commemorative practises of Christian and non-Christians overlapped. Tombs were\n",
      "19.79\tlocal\tDisquisitiones Arithmeticae | even discriminant and class number 1,2 and 3, and extended to the case of odd discriminant. Sometimes referred to as the class number problem, this more general question was eventually confirmed in 1986, (the specific question Gauss asked was confirmed by Landau in 1902  Disquisitiones Arithmeticae The (Latin for \"Arithmetical Investigations\") is a textbook of number theory written in Latin by Carl Friedrich Gauss in 1798 when Gauss was 21 and first published in 1801 when he was 24. In this book, Gauss brings together results in number theory obtained by mathematicians such as Fermat, Euler, Lagrange and Legendre\n",
      "19.74\tlocal\tBAE Systems | contractor and were in contrast to \"cost plus contracts\" where a contractor was paid for the value of its product plus an agreed profit. BAE Systems was operating in \"the only truly open defence market\", which meant that it was competing with US and European companies for British defence projects, while they were protected in their home markets. The US defence market is competitive, however largely between American firms, while foreign companies are excluded. In December 2005 the MoD published the Defence Industrial Strategy (DIS) which has been widely acknowledged to recognise BAE Systems as the UK's \"national champion\". The\n",
      "19.35\tlocal\tDeus | a deity, while in technical usage a \"divus\" or \"diva\" was a figure who had become divine, such as a divinized emperor. In Late Latin, \"Deus\" came to be used mostly for the Christian God. It was inherited by the Romance languages in French \"Dieu\", Spanish \"Dios\", Portuguese and Galician \"Deus\", Italian \"Dio\", etc., and by the Celtic languages in Welsh \"Duw\" and Irish \"Dia\". Latin \"deus\" consistently translates Greek θεός \"theos\" in both the Vetus Latina and Jerome's Vulgate. In the Septuagint, Greek \"theos\" in turn renders Hebrew Elohim (אֱלוֹהִים, אלהים). The word \"de-us\" is the root of Deity,\n",
      "19.32\tlocal\tDiocesan School for Girls, Auckland | Diocesan School for Girls, Auckland Diocesan School for Girls (Dio) is a private girls' school in Epsom, Auckland, New Zealand. It is consistently a top-achieving school nationally. The school is Anglican-based and was established in 1903. It caters to international students and has accommodation for 50 boarders at Innes House. The school elected to offer students the option of International Baccalaureate diplomas, as an alternative to the national NCEA qualification, from 2008. Bishop Moore Richard Neligan first proposed the Diocesan School for Girls in October 1903. A subcommittee of the synod purchased land in November 1903, and the first class\n"
     ]
    }
   ],
   "source": [
    "query = \"What is DIS\" #dev_dsp.loc[0, 'question']\n",
    "for _, row in rm_top_k(query, k=10).iterrows():\n",
    "    print(f\"{row['score']:.2f}\\t{row['source']}\\t{row['text']}\")\n",
    "# for passage_id, passage_rank, passage_score in zip(*answers):\n",
    "#     print(f\"\\t[{passage_rank}]\\t{passage_score:.1f}\\t {searcher.collection[passage_id]}\")"
   ]
  },
  {
   "cell_type": "code",
   "execution_count": 282,
   "id": "0da11165-5918-4043-adda-592cb0bdeebe",
   "metadata": {},
   "outputs": [
    {
     "name": "stderr",
     "output_type": "stream",
     "text": [
      "/Users/lara.thompson/.local/share/virtualenvs/lara.thompson-C83ZgnRu/lib/python3.9/site-packages/torch/autocast_mode.py:141: UserWarning: User provided device_type of 'cuda', but CUDA is not available. Disabling\n",
      "  warnings.warn('User provided device_type of \\'cuda\\', but CUDA is not available. Disabling')\n"
     ]
    }
   ],
   "source": [
    "context = rm_top_k(query, k=4).iloc[:2, -1].to_list()"
   ]
  },
  {
   "cell_type": "code",
   "execution_count": 736,
   "id": "08bd89c2-7373-46b9-bfe4-1a4c24a85630",
   "metadata": {
    "tags": []
   },
   "outputs": [
    {
     "name": "stderr",
     "output_type": "stream",
     "text": [
      "/Users/lara.thompson/.local/share/virtualenvs/lara.thompson-C83ZgnRu/lib/python3.9/site-packages/torch/autocast_mode.py:141: UserWarning: User provided device_type of 'cuda', but CUDA is not available. Disabling\n",
      "  warnings.warn('User provided device_type of \\'cuda\\', but CUDA is not available. Disabling')\n"
     ]
    },
    {
     "data": {
      "text/plain": [
       "['Poverty in Algeria | also coordinated to boost the declining stature of the French monarch. In response to the \"fly whist incident\", the French decided to declare a full fledge conquest of Algeria in 1830 with the intention of imposing French rule. After three weeks, Algeria was captured and annexed by France. The French colonisation of Algeria in 1830 had a significant impact on Algeria\\'s national identity and social system. After French colonisation, there was a large influx of mainly working-class Europeans from Italy, Spain and France into Algeria. The usurpation of Algeria by French soldiers resulted in many Indigenous Algerian farmers becoming dispossessed',\n",
       " \"Algerian War | colonisation. But France was their ally, and they couldn't renounce this alliance. Nevertheless, it gave them a bad image abroad, and could encourage Algeria to join the eastern side. In situation, the USA had every interest in pushing France to give Algeria its independence. Secondly, the FLN can count on Third-World support. After the Second World War, many new states were created as a result of decolonization. In 1945, there were 51 states in the UN, and in 1965, they are 117. Thus, the balance of power in the UN changed a lot, and the recently decolonised countries were now\",\n",
       " 'Algeria–France relations | France and Algeria were essentially one of colonization. The colonization of Algeria by France began after a rather peculiar event, in April 1827, when the Dey of Algiers angrily struck the French consul with a fly whisk. Three years following this event, France began the invasion of Algeria. Between these three years, France unsuccessfully tried a variety of tactics in order to establish control in the region. All of them proved futile leading to a decision in 1830 to invade the country. The Algerians were quick to surrender following the landing of the French army on July 5, 1830. The']"
      ]
     },
     "execution_count": 736,
     "metadata": {},
     "output_type": "execute_result"
    }
   ],
   "source": [
    "answers = rm_top_k('algeria colonized', k=3, source='both')\n",
    "answers.loc[:, 'text'].to_list()"
   ]
  },
  {
   "cell_type": "code",
   "execution_count": 171,
   "id": "99f262b4-08e8-4e37-a750-26dba9a9b106",
   "metadata": {},
   "outputs": [],
   "source": [
    "ash_passages = [ans['text'] for ans in answers]"
   ]
  },
  {
   "cell_type": "code",
   "execution_count": 460,
   "id": "a80266b4-abae-42b2-a143-7decfab909a3",
   "metadata": {},
   "outputs": [
    {
     "name": "stderr",
     "output_type": "stream",
     "text": [
      "/Users/lara.thompson/.local/share/virtualenvs/lara.thompson-C83ZgnRu/lib/python3.9/site-packages/torch/autocast_mode.py:141: UserWarning: User provided device_type of 'cuda', but CUDA is not available. Disabling\n",
      "  warnings.warn('User provided device_type of \\'cuda\\', but CUDA is not available. Disabling')\n"
     ]
    }
   ],
   "source": [
    "dis_passage = rm_top_k(\"What is DIS\", k=1).loc[0, 'text']"
   ]
  },
  {
   "cell_type": "code",
   "execution_count": 442,
   "id": "504101c4-5916-41e5-9a5c-8495d60da404",
   "metadata": {
    "collapsed": true,
    "jupyter": {
     "outputs_hidden": true
    },
    "tags": []
   },
   "outputs": [
    {
     "name": "stderr",
     "output_type": "stream",
     "text": [
      "/Users/lara.thompson/.local/share/virtualenvs/lara.thompson-C83ZgnRu/lib/python3.9/site-packages/torch/autocast_mode.py:141: UserWarning: User provided device_type of 'cuda', but CUDA is not available. Disabling\n",
      "  warnings.warn('User provided device_type of \\'cuda\\', but CUDA is not available. Disabling')\n"
     ]
    },
    {
     "data": {
      "text/plain": [
       "'Basilica of the Sacred Heart, Notre Dame | Basilica of the Sacred Heart, Notre Dame The Basilica of the Sacred Heart in Notre Dame, Indiana, USA, is a Roman Catholic church on the campus of the University of Notre Dame, also serving as the mother church of the Congregation of Holy Cross in the United States. The neo-gothic church has 44 large stained glass windows and murals completed over a 17-year period by the Vatican painter Luigi Gregori. The basilica bell tower is high, making it the tallest University chapel in America. It is consistently ranked among the most beautiful university churches in the country and around the'"
      ]
     },
     "execution_count": 442,
     "metadata": {},
     "output_type": "execute_result"
    }
   ],
   "source": [
    "basilica_passage = rm_top_k(\"architectural style of the Basilica of the Sacred Heart at Notre Dame\", k=1).loc[0, 'text']\n",
    "basilica_passage"
   ]
  },
  {
   "cell_type": "code",
   "execution_count": 850,
   "id": "45631f88-ea22-4603-84a6-a1a4b2ff6bcb",
   "metadata": {
    "tags": []
   },
   "outputs": [],
   "source": [
    "dupont_passage = rm_top_k(\"who was heir to the Du Pont family fortune\", k=1, source='remote').loc[0, 'text']"
   ]
  },
  {
   "cell_type": "code",
   "execution_count": 858,
   "id": "c0b80850-e773-401c-a88a-8f13ff8419c8",
   "metadata": {},
   "outputs": [
    {
     "data": {
      "text/plain": [
       "'John du Pont | John du Pont John Eleuthère du Pont (November 22, 1938 – December 9, 2010) was an American philanthropist, heir to the Du Pont family fortune, and a convicted murderer. He had been a published ornithologist, philatelist, conchologist, sports enthusiast, and self-styled wrestling coach. He died in prison while serving a sentence of 30 years for the murder of Dave Schultz. In 1972, du Pont founded and directed the Delaware Museum of Natural History and contributed to Villanova University and other institutions. In the 1980s, he established a wrestling facility at his Foxcatcher Farm after becoming interested in the sport and'"
      ]
     },
     "execution_count": 858,
     "metadata": {},
     "output_type": "execute_result"
    }
   ],
   "source": [
    "rm_top_k(\"who was heir to the Du Pont family fortune\", \n",
    "                              k=1, source='remote').loc[0, 'text']"
   ]
  },
  {
   "cell_type": "code",
   "execution_count": 851,
   "id": "1cce2e23-8f0d-4d02-8782-32389d45b7e9",
   "metadata": {},
   "outputs": [
    {
     "name": "stderr",
     "output_type": "stream",
     "text": [
      "/Users/lara.thompson/.local/share/virtualenvs/lara.thompson-C83ZgnRu/lib/python3.9/site-packages/torch/autocast_mode.py:141: UserWarning: User provided device_type of 'cuda', but CUDA is not available. Disabling\n",
      "  warnings.warn('User provided device_type of \\'cuda\\', but CUDA is not available. Disabling')\n"
     ]
    }
   ],
   "source": [
    "rockne_passage = rm_top_k(\"In what year did the team lead by Knute Rockne win the Rose Bowl\", k=1, source='local').loc[0, 'text']"
   ]
  },
  {
   "cell_type": "code",
   "execution_count": 852,
   "id": "f4f5b747-f0c2-42d7-94c8-1c83975a71a1",
   "metadata": {},
   "outputs": [
    {
     "name": "stderr",
     "output_type": "stream",
     "text": [
      "/Users/lara.thompson/.local/share/virtualenvs/lara.thompson-C83ZgnRu/lib/python3.9/site-packages/torch/autocast_mode.py:141: UserWarning: User provided device_type of 'cuda', but CUDA is not available. Disabling\n",
      "  warnings.warn('User provided device_type of \\'cuda\\', but CUDA is not available. Disabling')\n"
     ]
    }
   ],
   "source": [
    "moon_passage = rm_top_k(\"first man on the moon\", k=2, source='local').loc[1, 'text']"
   ]
  },
  {
   "cell_type": "code",
   "execution_count": 853,
   "id": "210b9388-e05f-4dd9-b715-6f0e2aa933d0",
   "metadata": {},
   "outputs": [
    {
     "name": "stderr",
     "output_type": "stream",
     "text": [
      "/Users/lara.thompson/.local/share/virtualenvs/lara.thompson-C83ZgnRu/lib/python3.9/site-packages/torch/autocast_mode.py:141: UserWarning: User provided device_type of 'cuda', but CUDA is not available. Disabling\n",
      "  warnings.warn('User provided device_type of \\'cuda\\', but CUDA is not available. Disabling')\n"
     ]
    }
   ],
   "source": [
    "lourde_passage = rm_top_k(\"Who did the Virgin Mary appear to in Lourdes France\", k=1, source='local').loc[0, 'text']"
   ]
  },
  {
   "cell_type": "code",
   "execution_count": 104,
   "id": "e31f9e9d-c98b-4f0d-a3d3-97704b6c4e44",
   "metadata": {
    "collapsed": true,
    "jupyter": {
     "outputs_hidden": true
    },
    "tags": []
   },
   "outputs": [
    {
     "data": {
      "text/plain": [
       "['University of Notre Dame | five ties. During his 13 years the Irish won three national championships, had five undefeated seasons, won the Rose Bowl in 1925, and produced players such as George Gipp and the \"Four Horsemen\". Knute Rockne has the highest winning percentage (.881) in NCAA Division I/FBS football history. Rockne\\'s offenses employed the Notre Dame Box and his defenses ran a 7–2–2 scheme. The last game Rockne coached was on December 14, 1930, when he led a group of Notre Dame all-stars against the New York Giants in New York City. The success of its football team made Notre Dame a household',\n",
       " \"Residence halls at the University of Notre Dame | and a side altar is dedicated to St. Olaf, in honor of Knute Rockne, of Norwegian ancestry. The dormitory was built with the proceeds, $52,000, from the 1925 Rose Bowl. It was named after Fr .Patrick Dillon, a Notre Dame graduate who was only 33 years old in 1865 when he was named the University's second president. He was considered lenient in disciplinary matters, a trait that made him popular among students but that had him removed from the administration only one year in his tenure. Soon after he died of disease. During World War II it hosted Navy and\",\n",
       " 'Pat O\\'Brien (actor) | in the bio-pic \"Oil for the Lamps of China\" (1935), which he called \"one of my favorite pictures.\" O\\'Brien is best known for his role as the famous Notre Dame University football coach Knute Rockne in \"Knute Rockne, All American\" (1940). In the film, he gave the speech to \"win just one for the Gipper,\" referring to recently deceased football player, George Gipp, portrayed in the film by a young Ronald Reagan. Reagan later used this saying as a slogan for his campaign for president in 1980. After he left Warner Brothers in 1940, O\\'Brien briefly worked for Columbia Pictures.']"
      ]
     },
     "execution_count": 104,
     "metadata": {},
     "output_type": "execute_result"
    }
   ],
   "source": [
    "rockne_passages = [searcher.collection[passage_id] for passage_id in answers[0]]\n",
    "rockne_passages"
   ]
  },
  {
   "cell_type": "code",
   "execution_count": 54,
   "id": "09219fc5-e882-4abd-b2ae-23866747b889",
   "metadata": {
    "collapsed": true,
    "jupyter": {
     "outputs_hidden": true
    },
    "tags": []
   },
   "outputs": [
    {
     "data": {
      "text/plain": [
       "['Space Race | 20, 1969 (3:17:04\\xa0pm CDT). The first humans on the Moon waited six hours before they left their craft. At 02:56 UTC, July 21 (9:56\\xa0pm CDT July 20), Armstrong became the first human to set foot on the Moon. The first step was witnessed by at least one-fifth of the population of Earth, or about 723 million people. His first words when he stepped off the LM\\'s landing footpad were, \"That\\'s one small step for [a] man, one giant leap for mankind.\" Aldrin joined him on the surface almost 20 minutes later. Altogether, they spent just under two and one-quarter hours',\n",
       " \"First Man: The Life of Neil A. Armstrong | First Man: The Life of Neil A. Armstrong First Man: The Life of Neil A. Armstrong is the official biography of Neil Armstrong, the astronaut who became the first man to walk on the Moon, on July 20, 1969. The book was written by James R. Hansen, and was first published in 2005, by Simon & Schuster. The book describes Armstrong's involvement in the United States space program (culminating with the historic Apollo 11 mission), and details his personal life and upbringing. The book has received a warm reception from several individuals associated with astronomy and the promotion of spaceflight.\",\n",
       " 'Moon | subsequent landing of the first humans on the Moon in 1969 is seen by many as the culmination of the Space Race. Neil Armstrong became the first person to walk on the Moon as the commander of the American mission Apollo 11 by first setting foot on the Moon at 02:56\\xa0UTC on 21 July 1969. An estimated 500\\xa0million people worldwide watched the transmission by the Apollo TV camera, the largest television audience for a live broadcast at that time. The Apollo missions 11 to 17 (except Apollo 13, which aborted its planned lunar landing) returned of lunar rock and soil']"
      ]
     },
     "execution_count": 54,
     "metadata": {},
     "output_type": "execute_result"
    }
   ],
   "source": [
    "moon_passages = [searcher.collection[passage_id] for passage_id in answers[0]]\n",
    "moon_passages"
   ]
  },
  {
   "cell_type": "code",
   "execution_count": 59,
   "id": "eb4f1849-bd76-428f-8bb5-f7a7b5228fa9",
   "metadata": {
    "tags": []
   },
   "outputs": [
    {
     "data": {
      "text/plain": [
       "['Our Lady of Lourdes | doctor stated that Soubirous, in ecstasy, was observed to have held her hands over a lit candle without sustaining harm. On 16 July, Soubirous went for the last time to the Grotto. \"I have never seen her so beautiful before,\" she reported. The Church, faced with nationwide questions, decided to institute an investigative commission on 17 November 1858. On 18 January 1860, the local bishop finally declared that: \"The Virgin Mary did appear indeed to Bernadette Soubirous.\" These events established the Marian veneration in Lourdes, which together with Fátima, is one of the most frequented Marian shrines in the world,',\n",
       " 'Lourdes apparitions | to Soubirous, her visions occurred at the grotto of Massabielle, just outside Lourdes. On 16 July 1858, Soubirous visited the grotto for the last time and said: \"I have never seen her so beautiful before.\" On 18 January 1860, the local bishop declared: \"The Virgin Mary did appear indeed to Bernadette Soubirous.\" In 1958, Pope Pius XII issued the encyclical \"Le pèlerinage de Lourdes\" (\"The pilgrimage to Lourdes\") on the 100th anniversary of the apparitions. Pope John Paul II visited Lourdes three times; Pope Benedict XVI visited Lourdes on 15 September 2008 to commemorate the 150th anniversary of the apparitions.',\n",
       " 'Our Lady of Lourdes | Our Lady of Lourdes Our Lady of Lourdes is a Roman Catholic title of the Blessed Virgin Mary venerated in honour of the Marian apparitions that reportedly occurred in 1858 in the vicinity of Lourdes in France. The first of these is the apparition of 11 February 1858, when 14-year old Bernadette Soubirous told her mother that a \"lady\" spoke to her in the cave of Massabielle (a kilometre and a half (1 mi) from the town) while she was gathering firewood with her sister and a friend. Similar apparitions of the \"Lady\" were reported on seventeen occasions that year,']"
      ]
     },
     "execution_count": 59,
     "metadata": {},
     "output_type": "execute_result"
    }
   ],
   "source": [
    "lourde_passages = [ans['text'] for ans in answers]\n",
    "lourde_passages"
   ]
  },
  {
   "cell_type": "markdown",
   "id": "542f56e8-80af-477e-90fd-4b97edcdafb7",
   "metadata": {
    "jp-MarkdownHeadingCollapsed": true,
    "tags": []
   },
   "source": [
    "# Eleuther"
   ]
  },
  {
   "cell_type": "code",
   "execution_count": 11,
   "id": "e3629271-1d0b-46ea-810f-444e884542ba",
   "metadata": {
    "tags": []
   },
   "outputs": [],
   "source": [
    "# \"gpt-neo-125M\" \"gpt-neo-1.3B\" \"gpt-neo-2.7B\" \"gpt-j-6B\"\n",
    "eleuther_model_name = \"gpt-neo-125M\"\n",
    "\n",
    "eleuther_tokenizer = AutoTokenizer.from_pretrained(\n",
    "    f\"EleutherAI/{eleuther_model_name}\", \n",
    "    padding_side=\"left\", \n",
    "    padding='longest', \n",
    "    truncation='longest_first', max_length=2000)\n",
    "eleuther_tokenizer.pad_token = eleuther_tokenizer.eos_token\n",
    "\n",
    "eleuther_model = AutoModelForCausalLM.from_pretrained(\n",
    "    f\"EleutherAI/{eleuther_model_name}\")\n",
    "\n",
    "device = \"cuda\" if torch.cuda.is_available() else \"cpu\"\n",
    "eleuther_model = eleuther_model.to(device)"
   ]
  },
  {
   "cell_type": "code",
   "execution_count": 21,
   "id": "789ad34c-5b72-4058-9725-be4de65de5f5",
   "metadata": {
    "tags": []
   },
   "outputs": [],
   "source": [
    "def run_eleuther(prompts, temperature=0.1, top_p=0.95, **generate_kwargs): \n",
    "    \"\"\"\n",
    "    Parameters\n",
    "    ----------\n",
    "    prompts : iterable of str\n",
    "    temperature : float\n",
    "        It seems best to set it low for this task!\n",
    "    top_p : float\n",
    "       \n",
    "    For options for `generate_kwargs`, see:\n",
    "    \n",
    "    https://huggingface.co/docs/transformers/master/en/main_classes/text_generation#transformers.generation_utils.GenerationMixin.generate\n",
    "    \n",
    "    Options that are likely to be especially relevant include \n",
    "    `temperature`, `length_penalty`, and the parameters that\n",
    "    determine the decoding strategy. With `num_return_sequences > 1`,\n",
    "    the default parameters in this function do multinomial sampling.\n",
    "    \n",
    "    Returns\n",
    "    -------\n",
    "    list of dicts\n",
    "    \n",
    "    {\"prompt\": str, \n",
    "     \"generated_text\": str, \"generated_tokens\": list of str, \"generated_probs\": list of float,\n",
    "     \"answer\": str, \"answer_tokens\": list of str, \"answer_probs\": list of float\n",
    "    }\n",
    "         \n",
    "    \"\"\"\n",
    "    prompt_ids = eleuther_tokenizer(\n",
    "        prompts, return_tensors=\"pt\", padding=True).input_ids.to(device)\n",
    "        \n",
    "    with torch.inference_mode():\n",
    "        # Automatic mixed precision if possible.\n",
    "        with torch.cuda.amp.autocast() if torch.cuda.is_available() else nullcontext():\n",
    "            model_output = eleuther_model.generate(\n",
    "                prompt_ids,\n",
    "                temperature=temperature,\n",
    "                do_sample=True,\n",
    "                top_p=top_p,           \n",
    "                max_new_tokens=24,\n",
    "                num_return_sequences=1,                \n",
    "                pad_token_id=eleuther_tokenizer.eos_token_id, \n",
    "                return_dict_in_generate=True,\n",
    "                output_scores=True,\n",
    "                **generate_kwargs)\n",
    "        \n",
    "    # Converting output scores using the helpful recipe here:\n",
    "    # https://discuss.huggingface.co/t/generation-probabilities-how-to-compute-probabilities-of-output-scores-for-gpt2/3175\n",
    "    gen_ids = model_output.sequences[:, prompt_ids.shape[-1] :]\n",
    "    gen_probs = torch.stack(model_output.scores, dim=1).softmax(-1)\n",
    "    gen_probs = torch.gather(gen_probs, 2, gen_ids[:, :, None]).squeeze(-1)\n",
    "    \n",
    "    # Generated texts, including the prompts:\n",
    "    gen_texts = eleuther_tokenizer.batch_decode(\n",
    "        model_output.sequences, skip_special_tokens=True)\n",
    "    \n",
    "    data = []     \n",
    "    iterator = zip(prompts, gen_ids, gen_texts, gen_probs)    \n",
    "    for prompt, gen_id, gen_text, gen_prob in iterator:       \n",
    "        gen_tokens = eleuther_tokenizer.convert_ids_to_tokens(gen_id)\n",
    "        generated_text = gen_text[len(prompt): ]\n",
    "        gen_prob = [float(x) for x in gen_prob.cpu().numpy()] # float for JSON storage\n",
    "        ans_indices = _find_generated_answer(gen_tokens, newline=\"Ċ\")\n",
    "        answer_tokens = [gen_tokens[i] for i in ans_indices]\n",
    "        answer_probs = [gen_prob[i] for i in ans_indices]\n",
    "        answer = \"\".join(answer_tokens).replace(\"Ġ\", \" \").replace(\"Ċ\", \"\\n\")                                       \n",
    "        data.append({\n",
    "            \"prompt\": prompt,\n",
    "            \"generated_text\": generated_text,\n",
    "            \"generated_tokens\": gen_tokens,\n",
    "            \"generated_probs\": gen_prob,\n",
    "            \"generated_answer\": answer,\n",
    "            \"generated_answer_probs\": answer_probs,\n",
    "            \"generated_answer_tokens\": answer_tokens})                        \n",
    "\n",
    "    return data"
   ]
  },
  {
   "cell_type": "code",
   "execution_count": 20,
   "id": "a6f87d48-f403-408d-80c1-9e0db24a0264",
   "metadata": {},
   "outputs": [
    {
     "data": {
      "text/plain": [
       "[' who the sponsor of the icc world cup was.\\nSearch Query: The sponsor of the icc world cup was']"
      ]
     },
     "execution_count": 20,
     "metadata": {},
     "output_type": "execute_result"
    }
   ],
   "source": [
    "results = run_eleuther([    \n",
    "    \"Write a search query that will help answer a complex question.\\n\\n\"  # on +hops: Write N/A if the context contains all information required\n",
    "          # better still: always try the RM first, to have a context; egs should show no extra queries needed and versions with next query\n",
    "    \"---\\n\\n\"\n",
    "    \"Follow the following format.\\n\\n\"\n",
    "    \"Question: ${the question to be answered}\\n\"\n",
    "    \"Rationale: Let's think step by step. To answer this question, we first need to find out ${the missing information}\\n\"\n",
    "    \"Search Query: ${a simple question for seeking the missing information}\\n\\n\"\n",
    "    \"---\\n\\n\"\n",
    "    \"Question: In what year was the first man on the moon born?\\n\"\n",
    "    \"Rationale: Let's think step by step. To answer this question, we first need to find out the name of the first man to walk on the moon.\\n\"\n",
    "    \"Search Query: the name of first man to walk on the moon\\n\\n\"\n",
    "    \"---\\n\\n\"\n",
    "    \"Question: The heir to the Du Pont family fortune sponsored what wrestling team?\\n\"\n",
    "    \"Rationale: Let's think step by step. To answer this question, we first need to find out who the heir to the Du Pont family fortune is.\\n\"\n",
    "    \"Search Query: Heir to the Du Pont family fortune\\n\\n\"\n",
    "    \"---\\n\\n\"\n",
    "    \"Question: Who was the director of the 2009 movie featuring Peter Outerbridge as William Easton?\\n\"\n",
    "    \"Rationale: Let's think step by step. To answer this question, we first need to find out the name of the 2009 movie featuring Peter Outerbridge as William Easton.\\n\"\n",
    "    \"Search Query: 2009 movie featuring Peter Outerbridge as William Easton\\n\\n\"\n",
    "    \"---\\n\\n\"\n",
    "    \"Question: who were the sponsor of the icc world cup when it was hosted outside england for the first time?\"\n",
    "    \"Rationale: Let's think step by step. To answer this question, we first need to find out\"])\n",
    "[ex['generated_text'] for ex in results]"
   ]
  },
  {
   "cell_type": "markdown",
   "id": "c23a2d5c-6b18-458f-a01b-c707c741b60b",
   "metadata": {
    "tags": []
   },
   "source": [
    "# GPT-3"
   ]
  },
  {
   "cell_type": "code",
   "execution_count": 117,
   "id": "b6b4133f-66b1-4925-97c0-b8548ca23336",
   "metadata": {
    "tags": []
   },
   "outputs": [],
   "source": [
    "def run_gpt3(prompts, engine=\"text-babbage-001\", temperature=0.1, top_p=0.95, **gpt3_kwargs):\n",
    "    \"\"\"To use this function, sign up for an OpenAI account at\n",
    "        \n",
    "    https://beta.openai.com/signup\n",
    "    \n",
    "    That should give you $18 in free credits, which is more than enough\n",
    "    for this assignment assuming you are careful with testing.\n",
    "    \n",
    "    Once your account is set up, you can get your API key from your \n",
    "    account dashboard and paste it in below as the value of \n",
    "    `openai.api_key`.\n",
    "    \n",
    "    Parameters\n",
    "    ----------\n",
    "    prompts : iterable of str\n",
    "    engine : str\n",
    "        This has to be one of the models whose name begins with \"text\".\n",
    "        The \"instruct\" class of models can't be used, since they seem\n",
    "        to depend on some kinds of QA-relevant supervision.        \n",
    "        For options, costs, and other details: \n",
    "        https://beta.openai.com/docs/engines/gpt-3                \n",
    "    temperature : float\n",
    "        It seems best to set it low for this task!\n",
    "    top_p : float\n",
    "        \n",
    "    For information about values for `gpt3_kwargs`, see\n",
    "    \n",
    "    https://beta.openai.com/docs/api-reference/completions\n",
    "    \n",
    "    Returns\n",
    "    -------\n",
    "    list of dicts   \n",
    "    \n",
    "    \"\"\"\n",
    "    # Fill this in with the value from your OpenAI account. First\n",
    "    # verify that your account is set up with a spending limit that\n",
    "    # you are comfortable with. If you just opened your account,\n",
    "    # you should have $18 in credit and so won't need to supply any\n",
    "    # payment information.\n",
    "    openai.api_key = 'hahahahaha'\n",
    "    \n",
    "    \n",
    "    assert engine.startswith(\"text\"), \\\n",
    "        \"Please use an engine whose name begins with 'text'.\"\n",
    "        \n",
    "    response = openai.Completion.create(\n",
    "        engine=engine,       \n",
    "        prompt=prompts,\n",
    "        temperature=temperature,\n",
    "        top_p=top_p,\n",
    "        max_tokens=128,\n",
    "        echo=False,   # This function will not work\n",
    "        logprobs=1,   # properly if any of these\n",
    "        n=1,          # are changed!\n",
    "        **gpt3_kwargs)\n",
    "    \n",
    "    # From here, we parse each example to get the values\n",
    "    # we need:\n",
    "    data = []\n",
    "    for ex, prompt in zip(response[\"choices\"], prompts):\n",
    "        tokens = ex[\"logprobs\"][\"tokens\"]\n",
    "        logprobs = ex[\"logprobs\"][\"token_logprobs\"]        \n",
    "        probs = list(np.exp(logprobs))\n",
    "        if \"<|endoftext|>\" in tokens:\n",
    "            end_i = tokens.index(\"<|endoftext|>\")\n",
    "            tokens = tokens[ : end_i]  # This leaves off the \"<|endoftext|>\"\n",
    "            probs = probs[ : end_i]    # token -- perhaps dubious.\n",
    "        ans_indices = _find_generated_answer(tokens)\n",
    "        answer_tokens = [tokens[i] for i in ans_indices]\n",
    "        answer_probs = [probs[i] for i in ans_indices]\n",
    "        answer = \"\".join(answer_tokens)        \n",
    "        data.append({\n",
    "            \"prompt\": prompt,\n",
    "            \"generated_text\": ex[\"text\"],\n",
    "            \"generated_tokens\": tokens,\n",
    "            \"generated_probs\": probs,\n",
    "            \"generated_answer\": answer,\n",
    "            \"generated_answer_tokens\": answer_tokens,\n",
    "            \"generated_answer_probs\": answer_probs})\n",
    "        \n",
    "    return data"
   ]
  },
  {
   "cell_type": "code",
   "execution_count": 332,
   "id": "4d25031a-edd5-4673-8284-cc8ee589a4ca",
   "metadata": {},
   "outputs": [],
   "source": [
    "question = \"who got the most streams on spotify 2018?\"\n",
    "initial_query = lambda question: ( \"Write a search query that will help answer a complex question.\\n\\n\" \n",
    "    \"---\\n\\n\"\n",
    "    \"The format we'll use:\\n\\n\"\n",
    "    \"Question: ${our complex question}\\n\"\n",
    "    \"Rationale: To answer this question step by step, we need to find out ${the missing information}\\n\"\n",
    "    \"Search Query: ${a simple question for seeking the missing information}\\n\\n\"\n",
    "    \"---\\n\\n\"\n",
    "    \"Question: When was the first man on the moon born?\\n\"\n",
    "    \"Rationale: To answer this question step by step, we need to find out who the first man to walk on the moon was.\\n\"\n",
    "    \"Search Query: first man to walk on the moon\\n\\n\"\n",
    "    \"---\\n\\n\"\n",
    "    \"Question: The heir to the Du Pont family fortune sponsored what wrestling team?\\n\"\n",
    "    \"Rationale: To answer this question step by step, we need to find out who the heir to the Du Pont family fortune is.\\n\"\n",
    "    \"Search Query: Heir to the Du Pont family fortune\\n\\n\"\n",
    "    \"---\\n\\n\"\n",
    "    \"Question: What is agoraphobia?\\n\"\n",
    "    \"Rationale: To answer this question step by step, we need to find out what agoraphobia is.\\n\"\n",
    "    \"Search Query: agoraphobia\\n\\n\"\n",
    "    \"---\\n\\n\"\n",
    "    \"Question: \" + question + '\\n'+\n",
    "    \"Rationale: To answer this question step by step, we need to find out\")"
   ]
  },
  {
   "cell_type": "code",
   "execution_count": 333,
   "id": "671c4e94-fe90-4681-b37a-9bde24f6f8ba",
   "metadata": {},
   "outputs": [
    {
     "data": {
      "text/plain": [
       "\"Write a search query that will help answer a complex question.\\n\\n---\\n\\nThe format we'll use:\\n\\nQuestion: ${our complex question}\\nRationale: To answer this question step by step, we need to find out ${the missing information}\\nSearch Query: ${a simple question for seeking the missing information}\\n\\n---\\n\\nQuestion: When was the first man on the moon born?\\nRationale: To answer this question step by step, we need to find out who the first man to walk on the moon was.\\nSearch Query: first man to walk on the moon\\n\\n---\\n\\nQuestion: The heir to the Du Pont family fortune sponsored what wrestling team?\\nRationale: To answer this question step by step, we need to find out who the heir to the Du Pont family fortune is.\\nSearch Query: Heir to the Du Pont family fortune\\n\\n---\\n\\nQuestion: What is agoraphobia?\\nRationale: To answer this question step by step, we need to find out what agoraphobia is.\\nSearch Query: agoraphobia\\n\\n---\\n\\nQuestion: who got the most streams on spotify 2018?\\nRationale: To answer this question step by step, we need to find out\""
      ]
     },
     "execution_count": 333,
     "metadata": {},
     "output_type": "execute_result"
    }
   ],
   "source": [
    "initial_query(question)"
   ]
  },
  {
   "cell_type": "code",
   "execution_count": null,
   "id": "e089aa7b-eb20-47b6-a3eb-4b5183469866",
   "metadata": {
    "tags": []
   },
   "outputs": [],
   "source": [
    "check_query = (\n",
    "    \"We have a question to answer that may need fact checking.\\n\\n\"\n",
    "    \"---\\n\\n\"\n",
    "    \"The format we'll use:\\n\\n\"\n",
    "    \"Question: ${our complex question}\\n\"\n",
    "    \"Your answer: ${the GPT-3 davinci answer that sometimes gets its facts wrong}\\n\"\n",
    "    \"Analysis: ${the next fact we should double check}\"\n",
    "    \"---\\n\\n\"\n",
    "    \"Question: In what year was the first man on the moon born?\\n\"\n",
    "    \"Your answer: The first man on the moon, Neil Armstrong, was born in 1930\\n\"\n",
    "    \"Analysis: we should double check who was the first man on the moon\\n\\n\"\n",
    "    \"---\\n\\n\"\n",
    "    \"Question: The heir to the Du Pont family fortune sponsored what wrestling team?\\n\"\n",
    "    \"Your answer: The heir to the Du Pont family fortune, Pierre S. du Pont IV, sponsored the Wilmington Blue Rocks, a professional wrestling team in the National Wrestling Alliance\\n\"\n",
    "    \"Analysis: we should double check who was heir to the Du Pont family fortune\\n\\n\"\n",
    "    \n",
    ")"
   ]
  },
  {
   "cell_type": "code",
   "execution_count": null,
   "id": "b4438271-73a8-4d38-ad11-6315a2090e47",
   "metadata": {
    "tags": []
   },
   "outputs": [],
   "source": [
    "initial_wt_context_query = ( \"Write a search query that will help answer a complex question.\\n\\n\" \n",
    "    \"---\\n\\n\"\n",
    "    \"The format we'll use:\\n\\n\"\n",
    "    \"Question: ${our complex question}\\n\"\n",
    "    \"Your answer: ${what you answered to the question that we should verify}\"\n",
    "    \"Rationale: To answer this question step by step, we need to ${the missing information}\\n\"\n",
    "    # \"Search Query: ${a simple question for seeking the missing information}\\n\\n\"\n",
    "    \"---\\n\\n\"\n",
    "    \"Question: In what year was the first man on the moon born?\\n\"\n",
    "    \"Your answer: The first man on the moon, Neil Armstrong, was born in 1930\\n\"\n",
    "    \"Rationale: To answer this question step by step, we need to verify that Neil Armstrong was the first man on the moon and that he was born in 1930.\\n\"\n",
    "    # \"Search Query: first man to walk on the moon\\n\\n\"\n",
    "    \"---\\n\\n\"\n",
    "    \"Question: The heir to the Du Pont family fortune sponsored what wrestling team?\\n\"\n",
    "    \"Your answer: The heir to the Du Pont family fortune, Pierre S. du Pont IV, sponsored the Wilmington Blue Rocks, a professional wrestling team in the National Wrestling Alliance\\n\"\n",
    "    \"Rationale: To answer this question step by step, we need to verify that Pierre S. du Pont IV was heir to the Du Pont family fortune is.\\n\"\n",
    "    \"Search Query: Heir to the Du Pont family fortune\\n\\n\"\n",
    "    \"---\\n\\n\"\n",
    "    \"Question: What is agoraphobia?\\n\"\n",
    "    \"Rationale: To answer this question step by step, we need to find out what agoraphobia is.\\n\"\n",
    "    \"Search Query: agoraphobia\\n\\n\"\n",
    "    \"---\\n\\n\"\n",
    "    \"Question: \" + question + \n",
    "    \"Rationale: To answer this question step by step, we need to find out\")"
   ]
  },
  {
   "cell_type": "code",
   "execution_count": 632,
   "id": "6bb8e8a8-a3c6-4f98-b238-60ce90198f40",
   "metadata": {
    "tags": []
   },
   "outputs": [],
   "source": [
    "rationale = lambda question, query, context: (\n",
    "    \"Write the step by step analysis of our search results to answer a complex question.\\n\\n\"\n",
    "    \"---\\n\\n\"\n",
    "    \"The format we'll use:\\n\\n\"\n",
    "    \"Question: ${our complex question}\\n\"\n",
    "    \"Search results for ${the search query}$:\\n\"\n",
    "    \"${what search returned for that query}\\n\"\n",
    "    \"Analysis: To answer this question step by step, we know that ${relevant information from the search results}; we need to know ${the missing information or 'nothing else' if we have all the information we need.}.\\n\"\n",
    "    \"Query: {query for missing information / N/A (if none)}\\n\"\n",
    "    \"Answer: {answer (if we know it) / N/A (if we don't)}\\n\\n\"\n",
    "    \"---\\n\\n\"\n",
    "    \"Question: When was the first man on the moon born?\\n\"\n",
    "    \"Search results for the first man on the moon:\\n\" + moon_passage + \"\\n\"\n",
    "    \"Analysis: To answer this question step by step, we know that Neil Armstrong was the first man on the moon; we need to know when Neil Armstrong was born.\\n\"\n",
    "    \"Query: Neil Armstrong\\n\"\n",
    "    \"Answer: N/A\\n\\n\"\n",
    "    \"---\\n\\n\"\n",
    "    \"Question: To whom did the Virgin Mary allegedly appear in 1858 in Lourdes France?\\n\"\n",
    "    \"Search results for Who did the Virgin Mary appear to in Lourdes France:\\n\" + lourde_passage + \"\\n\"\n",
    "    \"Analysis: To answer this question step by step, we know that Bernadette Soubirous saw the Virgin Mary in 1958; we need to know nothing else.\\n\"\n",
    "    \"Query: N/A\\n\"\n",
    "    \"Answer: Bernadette Soubirous\\n\\n\"\n",
    "    \"---\\n\\n\"\n",
    "    \"Question: In what year did the team lead by Knute Rockne win the Rose Bowl?\\n\"\n",
    "    \"Search results for In what year did the team lead by Knute Rockne win the Rose Bowl:\\n\" + rockne_passage + \"\\n\"\n",
    "    \"Analysis: To answer this question step by step, we know that Knute Rockne lead the Notre Dame Team and that the Notre Dame won the Rose Bown in 1925; we need to know nothing else.\\n\"\n",
    "    \"Query: N/A\\n\"\n",
    "    \"Answer: 1925\\n\\n\"\n",
    "    \"---\\n\\n\"             \n",
    "    \"Question: The heir to the Du Pont family fortune sponsored what wrestling team?\\n\"\n",
    "    f\"Search Results: heir to the Du Pont family fortune\\n{dupont_passage}\\n\"\n",
    "    \"Analysis: To answer this question step by step, we know that John Eleuthère du Pont was heir to the Du Pont family fortune; \"\n",
    "               \"we need to know what wrestling team John Eleuthère du Pont sponsored.\\n\"\n",
    "    \"Query: wrestling team John Eleuthère du Pont\\n\"\n",
    "    \"Answer: N/A\\n\\n\"\n",
    "    \"---\\n\\n\"             \n",
    "    \"Question: What is DIS?\\n\"\n",
    "    \"Search Results: What is DIS:\\n\" + dis_passage + \"\\n\"\n",
    "    \"Analysis: Developmental Intervention Science (DIS) is a fusion of the literature of both developmental and intervention sciences; we need to know nothing else.\\n\"\n",
    "    \"Query: N/A\\n\"\n",
    "    \"Answer: a fusion of the literature of both developmental and intervention sciences\\n\\n\"\n",
    "    \"---\\n\\n\"\n",
    "    f\"Question: {question}\\n\"\n",
    "    f\"Search results for {query}:\\n\" + '\\n'.join(context) + \"\\n\"\n",
    "    \"Analysis: To answer this question step by step, we know that\"\n",
    ")"
   ]
  },
  {
   "cell_type": "code",
   "execution_count": 491,
   "id": "95dee3f0-d153-48a4-bdf6-a827c69eb7bf",
   "metadata": {
    "collapsed": true,
    "jupyter": {
     "outputs_hidden": true
    },
    "tags": []
   },
   "outputs": [
    {
     "name": "stdout",
     "output_type": "stream",
     "text": [
      "Write the step by step analysis of our search results to answer a complex question.\n",
      "\n",
      "---\n",
      "\n",
      "The format we'll use:\n",
      "\n",
      "Question: ${our complex question}\n",
      "Search results for ${the search query}$:\n",
      "${what search returned for that query}\n",
      "Analysis: To answer this question step by step, we know that ${relevant information from the search results}; we need to know ${the missing information or 'nothing else' if we have all the information we need.}.\n",
      "Query: {next search query to make / N/A is none}\n",
      "Answer: {the answer as short as we can make without losing information / N/A if we can't answer yet}\n",
      "\n",
      "---\n",
      "\n",
      "Question: When was the first man on the moon born?\n",
      "Search results for the first man on the moon:\n",
      "First Man: The Life of Neil A. Armstrong | First Man: The Life of Neil A. Armstrong First Man: The Life of Neil A. Armstrong is the official biography of Neil Armstrong, the astronaut who became the first man to walk on the Moon, on July 20, 1969. The book was written by James R. Hansen, and was first published in 2005, by Simon & Schuster. The book describes Armstrong's involvement in the United States space program (culminating with the historic Apollo 11 mission), and details his personal life and upbringing. The book has received a warm reception from several individuals associated with astronomy and the promotion of spaceflight.\n",
      "Analysis: To answer this question step by step, we know that Neil Armstrong was the first man on the moon; we need to know when Neil Armstrong was born.\n",
      "Query: when was Neil Armstrong born\n",
      "Answer: N/A\n",
      "\n",
      "---\n",
      "\n",
      "Question: To whom did the Virgin Mary allegedly appear in 1858 in Lourdes France?\n",
      "Search results for  Who did the Virgin Mary appear to in Lourdes France:\n",
      "Our Lady of Lourdes | doctor stated that Soubirous, in ecstasy, was observed to have held her hands over a lit candle without sustaining harm. On 16 July, Soubirous went for the last time to the Grotto. \"I have never seen her so beautiful before,\" she reported. The Church, faced with nationwide questions, decided to institute an investigative commission on 17 November 1858. On 18 January 1860, the local bishop finally declared that: \"The Virgin Mary did appear indeed to Bernadette Soubirous.\" These events established the Marian veneration in Lourdes, which together with Fátima, is one of the most frequented Marian shrines in the world,\n",
      "Analysis: To answer this question step by step, we know that Bernadette Soubirous saw the Virgin Mary in 1958; we need to know nothing else.\n",
      "Query: N/A\n",
      "Answer: Bernadette Soubirous\n",
      "\n",
      "---\n",
      "\n",
      "Question: In what year did the team lead by Knute Rockne win the Rose Bowl?\n",
      "Search results for In what year did the team lead by Knute Rockne win the Rose Bowl:\n",
      "University of Notre Dame | five ties. During his 13 years the Irish won three national championships, had five undefeated seasons, won the Rose Bowl in 1925, and produced players such as George Gipp and the \"Four Horsemen\". Knute Rockne has the highest winning percentage (.881) in NCAA Division I/FBS football history. Rockne's offenses employed the Notre Dame Box and his defenses ran a 7–2–2 scheme. The last game Rockne coached was on December 14, 1930, when he led a group of Notre Dame all-stars against the New York Giants in New York City. The success of its football team made Notre Dame a household\n",
      "Analysis: To answer this question step by step, we know that Knute Rockne lead the Notre Dame Team and that the Notre Dame won the Rose Bown in 1925; we need to know nothing else.\n",
      "Query: N/A\n",
      "Answer: 1925\n",
      "\n",
      "---\n",
      "\n",
      "Question: The heir to the Du Pont family fortune sponsored what wrestling team?\n",
      "Search Results:  Heir to the Du Pont family fortune\n",
      "John du Pont | John du Pont John Eleuthère du Pont (November 22, 1938 – December 9, 2010) was an American philanthropist, heir to the Du Pont family fortune, and a convicted murderer. He had been a published ornithologist, philatelist, conchologist, sports enthusiast, and self-styled wrestling coach. He died in prison while serving a sentence of 30 years for the murder of Dave Schultz. In 1972, du Pont founded and directed the Delaware Museum of Natural History and contributed to Villanova University and other institutions. In the 1980s, he established a wrestling facility at his Foxcatcher Farm after becoming interested in the sport and\n",
      "Analysis: To answer this question step by step, we know that John Eleuthère du Pont was an heir to the Du Pont family fortune and that he established a wrestling facility at his Foxcatcher Farm; we need to know what wrestling team John Eleuthère du Pont sponsored.\n",
      "Query: what wrestling team John Eleuthère du Pont sponsored\n",
      "Answer: N/A\n",
      "\n",
      "---\n",
      "\n",
      "Question: What is DIS?\n",
      "Search Results: What is DIS:\n",
      "Adolescence | their lives, youth is susceptible to drug addiction, sexual abuse, peer pressure, violent crimes and other illegal activities. Developmental Intervention Science (DIS) is a fusion of the literature of both developmental and intervention sciences. This association conducts youth interventions that mutually assist both the needs of the community as well as psychologically stranded youth by focusing on risky and inappropriate behaviors while promoting positive self-development along with self-esteem among adolescents. The concept of \"adolescence\" is criticized by some experts such as Robert Epstein, stating that an undeveloped brain is not the main cause of teenagers' turmoils. Some argue that adolescence\n",
      "Analysis: Developmental Intervention Science (DIS) is a fusion of the literature of both developmental and intervention sciences; we need to know nothing else.\n",
      "Query: N/A\n",
      "Answer: a fusion of the literature of both developmental and intervention sciences\n",
      "\n",
      "---\n",
      "\n",
      "Question: What role does John Elway currently have in the Broncos franchise?\n",
      "Search results for What is DIS:\n",
      "Ed Sheeran | on 10 November. On 4 December, Sheeran was named Spotify's most streamed artist of 2017 with 6.3 billion streams. He has Spotify's biggest album of the year with \"÷\" streamed 3.1 billion times, and the top song with \"Shape of You\" with 1.4 billion streams. On 5 December 2017, hip-hop artist Eminem announced that Sheeran had collaborated on the song \"River\" for his ninth studio album \"Revival\". On working with Eminem, Sheeran stated, \"He is one of the reasons I started writing songs, and was such a pleasure to work with him.\" Speaking on \"The Late Late Show\" on Irish\n",
      "Drake (musician) | later revealed to be Spotify's most streamed artist for the second consecutive year in 2016, amassing a total 4.7 billion streams for all projects on the service, which is more than double the amount of streams he had in 2015. Drake later secured his second and third Grammy Awards, winning for Best Rap/Sung Performance and Best Rap Song at the 59th ceremony. Despite multiple setbacks, Drake announced \"More Life\" would be released on March 18, 2017, via a series of multiple video commercials released through Instagram. Upon release, \"More Life\" received mostly positive reviews, and debuted atop the \"Billboard\" 200,\n",
      "Analysis: To answer this question step by step, we know that\n"
     ]
    }
   ],
   "source": [
    "print(rationale(question, query, context))"
   ]
  },
  {
   "cell_type": "code",
   "execution_count": 296,
   "id": "0a7a4a4d-7afa-40d5-a199-bad9ec62b565",
   "metadata": {
    "collapsed": true,
    "jupyter": {
     "outputs_hidden": true
    },
    "tags": []
   },
   "outputs": [
    {
     "name": "stderr",
     "output_type": "stream",
     "text": [
      "/Users/lara.thompson/.local/share/virtualenvs/lara.thompson-C83ZgnRu/lib/python3.9/site-packages/torch/autocast_mode.py:141: UserWarning: User provided device_type of 'cuda', but CUDA is not available. Disabling\n",
      "  warnings.warn('User provided device_type of \\'cuda\\', but CUDA is not available. Disabling')\n"
     ]
    },
    {
     "data": {
      "text/plain": [
       "['Neil Armstrong | 1971, Armstrong taught in the Department of Aerospace Engineering at the University of Cincinnati until 1979. He served on the Apollo 13 accident investigation, and on the Rogers Commission, which investigated the Space Shuttle \"Challenger\" disaster. He acted as a spokesman for several businesses, and appeared in advertising for the automotive brand Chrysler starting in January 1979. Armstrong was born on August 5, 1930, near Wapakoneta, Ohio, to Stephen Koenig Armstrong and Viola Louise Engel. He was of German, Scottish and Scots-Irish ancestry, and had a younger sister, June, and a younger brother, Dean. His father worked as an auditor',\n",
       " \"Armstrong Air and Space Museum | west of I-75 at exit 111 (Bellefontaine Street) in Wapakoneta. The museum is operated by the Ohio Historical Society and has no formal relationship with Armstrong. The museum is a component of the National Aviation Heritage Area. Neil Armstrong was born on August 5, 1930 on his grandparents' farm, in Auglaize County, near Wapakoneta. He had a sister, June, and a brother, Dean. His parents were Stephen and Viola Armstrong. They raised their family in the small town of Wapakoneta. At the time of Neil Armstrong's first step onto the Moon, then Ohio Governor James Rhodes proposed to build a\"]"
      ]
     },
     "execution_count": 296,
     "metadata": {},
     "output_type": "execute_result"
    }
   ],
   "source": [
    "moon_followup = rm_top_k('when Neil Armstrong was born').loc[:1, 'text'].to_list()\n",
    "moon_followup"
   ]
  },
  {
   "cell_type": "code",
   "execution_count": 298,
   "id": "e16c7d62-0e23-438f-b603-3ee3ebe401ef",
   "metadata": {
    "collapsed": true,
    "jupyter": {
     "outputs_hidden": true
    },
    "tags": []
   },
   "outputs": [
    {
     "name": "stderr",
     "output_type": "stream",
     "text": [
      "/Users/lara.thompson/.local/share/virtualenvs/lara.thompson-C83ZgnRu/lib/python3.9/site-packages/torch/autocast_mode.py:141: UserWarning: User provided device_type of 'cuda', but CUDA is not available. Disabling\n",
      "  warnings.warn('User provided device_type of \\'cuda\\', but CUDA is not available. Disabling')\n"
     ]
    },
    {
     "data": {
      "text/plain": [
       "['Dave Schultz (wrestler) | Eleuthère du Pont\\'s \"Team Foxcatcher\", which trained at a complex built on the du Pont family farm in Newtown Square, Pennsylvania. In 1996, Schultz was murdered there by a mentally-ill John du Pont. Schultz trained at the Foxcatcher center while preparing for another Olympic bid, as well as coaching the wrestling team. On January 26, 1996, he was shot and killed by John Eleuthère du Pont, the owner of the center. Du Pont had exhibited bizarre and threatening behavior for an extended period preceding the murder. Schultz was age 36 at the time of his death. His body was cremated.',\n",
       " 'John du Pont | John du Pont John Eleuthère du Pont (November 22, 1938 – December 9, 2010) was an American philanthropist, heir to the Du Pont family fortune, and a convicted murderer. He had been a published ornithologist, philatelist, conchologist, sports enthusiast, and self-styled wrestling coach. He died in prison while serving a sentence of 30 years for the murder of Dave Schultz. In 1972, du Pont founded and directed the Delaware Museum of Natural History and contributed to Villanova University and other institutions. In the 1980s, he established a wrestling facility at his Foxcatcher Farm after becoming interested in the sport and']"
      ]
     },
     "execution_count": 298,
     "metadata": {},
     "output_type": "execute_result"
    }
   ],
   "source": [
    "dupont_followup = rm_top_k('what wrestling team John Eleuthère du Pont').loc[:1, 'text'].to_list()\n",
    "dupont_followup"
   ]
  },
  {
   "cell_type": "code",
   "execution_count": 867,
   "id": "67445533-f577-44e2-9b98-b8aa37771ca1",
   "metadata": {},
   "outputs": [
    {
     "data": {
      "text/plain": [
       "'---\\n\\nQuestion: To whom did the Virgin Mary allegedly appear in 1858 in Lourdes France?\\nAnalysis: we know that Bernadette Soubirous saw the Virgin Mary in 1958\\nAnswer: Bernadette Soubirous\\n\\n---\\n\\nQuestion: In what year did the team lead by Knute Rockne win the Rose Bowl?\\nAnalysis: we know that Knute Rockne lead the Notre Dame Team and that the Notre Dame won the Rose Bown in 1925\\nAnswer: 1925\\n\\n---\\n\\nQuestion: When was the first man on the moon born?\\nAnalysis: we know that first man on the moon was Neil Armstrong and that he was born August 5, 1930\\nAnswer: August 5, 1930\\n\\n---\\n\\nQuestion: The heir to the Du Pont family fortune sponsored what wrestling team?\\nAnalysis: we know that John Eleuthère du Pont was an heir to the Du Pont family fortune and that he sponsored Team Foxcatcher\\nAnswer: Team Foxcatcher---\\n\\nQuestion: sdfa\\nAnalysis: dfsadf\\nAnswer: '"
      ]
     },
     "execution_count": 867,
     "metadata": {},
     "output_type": "execute_result"
    }
   ],
   "source": [
    "finalize('sdfa', 'dfsadf')"
   ]
  },
  {
   "cell_type": "code",
   "execution_count": 115,
   "id": "91c150a6-62d1-4b37-ab94-d2256139981e",
   "metadata": {
    "tags": []
   },
   "outputs": [],
   "source": [
    "follow_up = (\n",
    "    \"Write the step by step analysis of our search results to answer a complex question.\\n\\n\"\n",
    "    \"---\\n\\n\"\n",
    "    \"The format we'll use:\\n\\n\"\n",
    "    \"Question: ${our complex question}\\n\"\n",
    "    \"Background: ${the analysis so far}\"\n",
    "    \"Search Results: ${the search query}$:\\n\n",
    "    ${what search returned for the question}\\n\"\n",
    "    \"Analysis: To answer this question step by step, we know that ${relevant information from the background and search results}; we need to know ${the missing information}.\\n\"\n",
    "    \"---\\n\\n\"\n",
    "    \"Question: When was the first man on the moon born?\\n\"\n",
    "    \"Background: Neil Armstrong was the first man on the moon\\n\"\n",
    "    \"Search Results:  when Neil Armstrong was born\\n\" + '\\n'.join(moon_followup[:2]) + \"\\n\"\n",
    "    \"Analysis: To answer this question step by step, we know that first man on the moon was Neil Armstrong and that he was born August 5, 1930; we need to know nothing else.\\n\"\n",
    "    \"---\\n\\n\"\n",
    "    \"Question: The heir to the Du Pont family fortune sponsored what wrestling team?\\n\"\n",
    "    \"Search Results:  Heir to the Du Pont family fortune\\n\" + '\\n'.join(dupont_followup[:2]) + \"\\n\"\n",
    "    \"Analysis: To answer this question step by step, we know that John Eleuthère du Pont was an heir to the Du Pont family fortune and that he sponsored Team Foxcatcher; we need to know nothing else.\"\n",
    ")"
   ]
  },
  {
   "cell_type": "code",
   "execution_count": 357,
   "id": "b60e40d1-0d37-44e5-a3b5-c1ff9d069816",
   "metadata": {
    "tags": []
   },
   "outputs": [],
   "source": [
    "finalize = lambda question, rationale: (\n",
    "    \"Question: To whom did the Virgin Mary allegedly appear in 1858 in Lourdes France?\\n\"\n",
    "    \"Analysis: we know that Bernadette Soubirous saw the Virgin Mary in 1958\\n\"\n",
    "    \"Answer: Bernadette Soubirous\\n\\n\"\n",
    "    \"---\\n\\n\"\n",
    "    \"Question: In what year did the team lead by Knute Rockne win the Rose Bowl?\\n\"\n",
    "    \"Analysis: we know that Knute Rockne lead the Notre Dame Team and that the Notre Dame won the Rose Bown in 1925\\n\"\n",
    "    \"Answer: 1925\\n\\n\"\n",
    "    \"---\\n\\n\"\n",
    "    \"Question: When was the first man on the moon born?\\n\"\n",
    "    \"Analysis: we know that first man on the moon was Neil Armstrong and that he was born August 5, 1930\\n\"\n",
    "    \"Answer: August 5, 1930\\n\\n\"\n",
    "    \"---\\n\\n\"\n",
    "    \"Question: The heir to the Du Pont family fortune sponsored what wrestling team?\\n\"\n",
    "    \"Analysis: we know that John Eleuthère du Pont was an heir to the Du Pont family fortune and that he sponsored Team Foxcatcher\\n\"\n",
    "    \"Answer: Team Foxcatcher\\n\\n\"\n",
    "    \"---\\n\\n\"\n",
    "    f\"Question: {question}\\n\"\n",
    "    f\"Analysis: {rationale}\\n\"\n",
    "    \"Answer: \"\n",
    ")"
   ]
  },
  {
   "cell_type": "code",
   "execution_count": 334,
   "id": "81407195-53e7-45d0-ae76-f76f168d1543",
   "metadata": {},
   "outputs": [
    {
     "data": {
      "text/plain": [
       "[' who had the most streams on Spotify in 2018.\\nSearch Query: most streamed artist on Spotify 2018']"
      ]
     },
     "execution_count": 334,
     "metadata": {},
     "output_type": "execute_result"
    }
   ],
   "source": [
    "# text-ada-001, text-babbage-001, text-curie-001, text-davinci-003\n",
    "results = run_gpt3([initial_query(question)], engine='text-davinci-003')\n",
    "[ex['generated_text'] for ex in results]"
   ]
  },
  {
   "cell_type": "code",
   "execution_count": 329,
   "id": "8a95d127-e523-4d19-aa3a-3aae347ee908",
   "metadata": {},
   "outputs": [
    {
     "name": "stderr",
     "output_type": "stream",
     "text": [
      "/Users/lara.thompson/.local/share/virtualenvs/lara.thompson-C83ZgnRu/lib/python3.9/site-packages/torch/autocast_mode.py:141: UserWarning: User provided device_type of 'cuda', but CUDA is not available. Disabling\n",
      "  warnings.warn('User provided device_type of \\'cuda\\', but CUDA is not available. Disabling')\n"
     ]
    },
    {
     "data": {
      "text/plain": [
       "['Criticism of Spotify | to regulate artists. Therefore, we are moving away from implementing a policy around artist conduct\". On June 27, 2018, when rapper Drake released his fifth studio album \"Scorpion\", Spotify revamped most of its playlist to include the rapper and singer\\'s face, even when the playlist didn\\'t specifically have a Drake song in it. The change was dubbed \"Scorpion SZN\" by Spotify. However, some users complained about the repetitive use of the artist\\'s likeness on the website\\'s front page, while Spotify Premium users demanded refunds, dissatisfied with seeing music promotion on what was supposed to be an ad-free service. Spotify gave',\n",
       " 'Spotify | December 2016, Drake\\'s just-under 26 million monthly listeners were overtaken by the Weeknd\\'s 36.068 million. Later that month, Drake\\'s song \"One Dance\" became the first song to hit one billion streams on Spotify. Upon its release in August 2017, the single \"Look What You Made Me Do\" by Taylor Swift earned over eight million streams within 24 hours, breaking the record for the most single-day streams for a track. On June 19, 2018, XXXTentacion\\'s hit single \"Sad!\" broke Swift\\'s single-day streaming record, amassing 10.4 million streams the day after he was fatally shot in Florida. In March 2011, Spotify announced',\n",
       " 'Drake (musician) | later revealed to be Spotify\\'s most streamed artist for the second consecutive year in 2016, amassing a total 4.7 billion streams for all projects on the service, which is more than double the amount of streams he had in 2015. Drake later secured his second and third Grammy Awards, winning for Best Rap/Sung Performance and Best Rap Song at the 59th ceremony. Despite multiple setbacks, Drake announced \"More Life\" would be released on March 18, 2017, via a series of multiple video commercials released through Instagram. Upon release, \"More Life\" received mostly positive reviews, and debuted atop the \"Billboard\" 200,']"
      ]
     },
     "execution_count": 329,
     "metadata": {},
     "output_type": "execute_result"
    }
   ],
   "source": [
    "rm_top_k(\"Drake spotify 2018\").loc[:, 'text'].to_list()"
   ]
  },
  {
   "cell_type": "markdown",
   "id": "27786abb-3a79-43a1-963b-3880f015e8ad",
   "metadata": {},
   "source": [
    "# Test on dev_exs"
   ]
  },
  {
   "cell_type": "code",
   "execution_count": 758,
   "id": "21dd56d9-695d-4823-8ad2-a55b53671c41",
   "metadata": {},
   "outputs": [],
   "source": [
    "def e2e(question, engine='text-davinci-003'):\n",
    "    lead_words = ['where', 'what', 'who', 'when', 'that', 'which', 'how',\n",
    "                  'are', 'is', 'was', 'does', 'were', 'did', 'a', 'the']\n",
    "    d = {}\n",
    "    if len(question.split(' ')) < 5:\n",
    "        tmp = question\n",
    "        for w in lead_words:\n",
    "            tmp = tmp.removeprefix(w + ' ')\n",
    "        d['query_0'] = tmp.removesuffix('?')\n",
    "    else:\n",
    "        d['result_0'] = run_gpt3([initial_query(question)], engine=engine)[0]['generated_text']\n",
    "        d['query_0'] = d['result_0'].split('Search Query: ')[-1].replace('\\\"','').replace('\\'','')\n",
    "    d['context_0'] = rm_top_k(d['query_0'], k=2, source='both').loc[:1, 'text'].to_list()\n",
    "    d['result_1'] = run_gpt3([rationale(question, d['query_0'], d['context_0'])], \n",
    "                             engine=engine)[0]['generated_text']\n",
    "    d['analysis_0'], tmp = d['result_1'].split('; we need to know ')\n",
    "    _, tmp = tmp.split('\\nQuery: ')\n",
    "    d['query_1'],  d['generated_answer'] = tmp.split('\\nAnswer: ')\n",
    "    \n",
    "    if d['query_1'] != \"N/A\": # often this works instead of another loop\n",
    "        d['generated_answer'] = run_gpt3([finalize(question, d['analysis_0'])], \n",
    "                                         engine=engine)[0]['generated_text']\n",
    "    return d"
   ]
  },
  {
   "cell_type": "code",
   "execution_count": 846,
   "id": "f40e1fa3-7ed2-401f-a712-f2fa67011eeb",
   "metadata": {
    "tags": []
   },
   "outputs": [],
   "source": [
    "model = 'text-davinci-003'\n",
    "for i, ex in dev.iterrows():\n",
    "    if ex.generated_answer is not None:\n",
    "        continue\n",
    "    d = e2e(ex.question)\n",
    "    dev.loc[i, list(d.keys())] =list(d.values())    \n",
    "    if d['query_1'] != \"N/A\":\n",
    "        print(i, d['generated_answer'])\n",
    "    # if np.mod(i, 30)==0:\n",
    "    time.sleep(8)"
   ]
  },
  {
   "cell_type": "code",
   "execution_count": 831,
   "id": "a763d3c7-2804-4c9e-8056-7b74857651d6",
   "metadata": {},
   "outputs": [
    {
     "data": {
      "text/plain": [
       "{'macro_f1': 0.3726383134034481, 'em_per': 0.23}"
      ]
     },
     "execution_count": 831,
     "metadata": {},
     "output_type": "execute_result"
    }
   ],
   "source": [
    "evaluate(dev)"
   ]
  },
  {
   "cell_type": "markdown",
   "id": "0c46bd9c-5267-4a01-884a-7d2822ac41f5",
   "metadata": {
    "tags": []
   },
   "source": [
    "# Run on TEST"
   ]
  },
  {
   "cell_type": "code",
   "execution_count": 847,
   "id": "ad6d618d-0cd0-4291-84bf-053114ec8030",
   "metadata": {
    "collapsed": true,
    "jupyter": {
     "outputs_hidden": true
    },
    "tags": []
   },
   "outputs": [
    {
     "name": "stderr",
     "output_type": "stream",
     "text": [
      "/Users/lara.thompson/.local/share/virtualenvs/lara.thompson-C83ZgnRu/lib/python3.9/site-packages/torch/autocast_mode.py:141: UserWarning: User provided device_type of 'cuda', but CUDA is not available. Disabling\n",
      "  warnings.warn('User provided device_type of \\'cuda\\', but CUDA is not available. Disabling')\n",
      "/Users/lara.thompson/.local/share/virtualenvs/lara.thompson-C83ZgnRu/lib/python3.9/site-packages/numpy/core/fromnumeric.py:3156: VisibleDeprecationWarning: Creating an ndarray from ragged nested sequences (which is a list-or-tuple of lists-or-tuples-or ndarrays with different lengths or shapes) is deprecated. If you meant to do this, you must specify 'dtype=object' when creating the ndarray.\n",
      "  return asarray(a).ndim\n"
     ]
    },
    {
     "name": "stdout",
     "output_type": "stream",
     "text": [
      "230  Allura Red AC (E-129) and Cochineal\n"
     ]
    },
    {
     "name": "stderr",
     "output_type": "stream",
     "text": [
      "/Users/lara.thompson/.local/share/virtualenvs/lara.thompson-C83ZgnRu/lib/python3.9/site-packages/torch/autocast_mode.py:141: UserWarning: User provided device_type of 'cuda', but CUDA is not available. Disabling\n",
      "  warnings.warn('User provided device_type of \\'cuda\\', but CUDA is not available. Disabling')\n",
      "/Users/lara.thompson/.local/share/virtualenvs/lara.thompson-C83ZgnRu/lib/python3.9/site-packages/numpy/core/fromnumeric.py:3156: VisibleDeprecationWarning: Creating an ndarray from ragged nested sequences (which is a list-or-tuple of lists-or-tuples-or ndarrays with different lengths or shapes) is deprecated. If you meant to do this, you must specify 'dtype=object' when creating the ndarray.\n",
      "  return asarray(a).ndim\n"
     ]
    },
    {
     "name": "stdout",
     "output_type": "stream",
     "text": [
      "231  the substantia nigra area of the brain.\n"
     ]
    },
    {
     "name": "stderr",
     "output_type": "stream",
     "text": [
      "/Users/lara.thompson/.local/share/virtualenvs/lara.thompson-C83ZgnRu/lib/python3.9/site-packages/torch/autocast_mode.py:141: UserWarning: User provided device_type of 'cuda', but CUDA is not available. Disabling\n",
      "  warnings.warn('User provided device_type of \\'cuda\\', but CUDA is not available. Disabling')\n",
      "/Users/lara.thompson/.local/share/virtualenvs/lara.thompson-C83ZgnRu/lib/python3.9/site-packages/numpy/core/fromnumeric.py:3156: VisibleDeprecationWarning: Creating an ndarray from ragged nested sequences (which is a list-or-tuple of lists-or-tuples-or ndarrays with different lengths or shapes) is deprecated. If you meant to do this, you must specify 'dtype=object' when creating the ndarray.\n",
      "  return asarray(a).ndim\n",
      "/Users/lara.thompson/.local/share/virtualenvs/lara.thompson-C83ZgnRu/lib/python3.9/site-packages/torch/autocast_mode.py:141: UserWarning: User provided device_type of 'cuda', but CUDA is not available. Disabling\n",
      "  warnings.warn('User provided device_type of \\'cuda\\', but CUDA is not available. Disabling')\n",
      "/Users/lara.thompson/.local/share/virtualenvs/lara.thompson-C83ZgnRu/lib/python3.9/site-packages/numpy/core/fromnumeric.py:3156: VisibleDeprecationWarning: Creating an ndarray from ragged nested sequences (which is a list-or-tuple of lists-or-tuples-or ndarrays with different lengths or shapes) is deprecated. If you meant to do this, you must specify 'dtype=object' when creating the ndarray.\n",
      "  return asarray(a).ndim\n",
      "/Users/lara.thompson/.local/share/virtualenvs/lara.thompson-C83ZgnRu/lib/python3.9/site-packages/torch/autocast_mode.py:141: UserWarning: User provided device_type of 'cuda', but CUDA is not available. Disabling\n",
      "  warnings.warn('User provided device_type of \\'cuda\\', but CUDA is not available. Disabling')\n",
      "/Users/lara.thompson/.local/share/virtualenvs/lara.thompson-C83ZgnRu/lib/python3.9/site-packages/numpy/core/fromnumeric.py:3156: VisibleDeprecationWarning: Creating an ndarray from ragged nested sequences (which is a list-or-tuple of lists-or-tuples-or ndarrays with different lengths or shapes) is deprecated. If you meant to do this, you must specify 'dtype=object' when creating the ndarray.\n",
      "  return asarray(a).ndim\n"
     ]
    },
    {
     "name": "stdout",
     "output_type": "stream",
     "text": [
      "234  Parkinson's Disease\n"
     ]
    },
    {
     "name": "stderr",
     "output_type": "stream",
     "text": [
      "/Users/lara.thompson/.local/share/virtualenvs/lara.thompson-C83ZgnRu/lib/python3.9/site-packages/torch/autocast_mode.py:141: UserWarning: User provided device_type of 'cuda', but CUDA is not available. Disabling\n",
      "  warnings.warn('User provided device_type of \\'cuda\\', but CUDA is not available. Disabling')\n",
      "/Users/lara.thompson/.local/share/virtualenvs/lara.thompson-C83ZgnRu/lib/python3.9/site-packages/numpy/core/fromnumeric.py:3156: VisibleDeprecationWarning: Creating an ndarray from ragged nested sequences (which is a list-or-tuple of lists-or-tuples-or ndarrays with different lengths or shapes) is deprecated. If you meant to do this, you must specify 'dtype=object' when creating the ndarray.\n",
      "  return asarray(a).ndim\n"
     ]
    },
    {
     "name": "stdout",
     "output_type": "stream",
     "text": [
      "235  Kapalua Airport and Kaanapali Airport\n"
     ]
    },
    {
     "name": "stderr",
     "output_type": "stream",
     "text": [
      "/Users/lara.thompson/.local/share/virtualenvs/lara.thompson-C83ZgnRu/lib/python3.9/site-packages/torch/autocast_mode.py:141: UserWarning: User provided device_type of 'cuda', but CUDA is not available. Disabling\n",
      "  warnings.warn('User provided device_type of \\'cuda\\', but CUDA is not available. Disabling')\n",
      "/Users/lara.thompson/.local/share/virtualenvs/lara.thompson-C83ZgnRu/lib/python3.9/site-packages/numpy/core/fromnumeric.py:3156: VisibleDeprecationWarning: Creating an ndarray from ragged nested sequences (which is a list-or-tuple of lists-or-tuples-or ndarrays with different lengths or shapes) is deprecated. If you meant to do this, you must specify 'dtype=object' when creating the ndarray.\n",
      "  return asarray(a).ndim\n",
      "/Users/lara.thompson/.local/share/virtualenvs/lara.thompson-C83ZgnRu/lib/python3.9/site-packages/torch/autocast_mode.py:141: UserWarning: User provided device_type of 'cuda', but CUDA is not available. Disabling\n",
      "  warnings.warn('User provided device_type of \\'cuda\\', but CUDA is not available. Disabling')\n",
      "/Users/lara.thompson/.local/share/virtualenvs/lara.thompson-C83ZgnRu/lib/python3.9/site-packages/numpy/core/fromnumeric.py:3156: VisibleDeprecationWarning: Creating an ndarray from ragged nested sequences (which is a list-or-tuple of lists-or-tuples-or ndarrays with different lengths or shapes) is deprecated. If you meant to do this, you must specify 'dtype=object' when creating the ndarray.\n",
      "  return asarray(a).ndim\n",
      "/Users/lara.thompson/.local/share/virtualenvs/lara.thompson-C83ZgnRu/lib/python3.9/site-packages/torch/autocast_mode.py:141: UserWarning: User provided device_type of 'cuda', but CUDA is not available. Disabling\n",
      "  warnings.warn('User provided device_type of \\'cuda\\', but CUDA is not available. Disabling')\n",
      "/Users/lara.thompson/.local/share/virtualenvs/lara.thompson-C83ZgnRu/lib/python3.9/site-packages/numpy/core/fromnumeric.py:3156: VisibleDeprecationWarning: Creating an ndarray from ragged nested sequences (which is a list-or-tuple of lists-or-tuples-or ndarrays with different lengths or shapes) is deprecated. If you meant to do this, you must specify 'dtype=object' when creating the ndarray.\n",
      "  return asarray(a).ndim\n",
      "/Users/lara.thompson/.local/share/virtualenvs/lara.thompson-C83ZgnRu/lib/python3.9/site-packages/torch/autocast_mode.py:141: UserWarning: User provided device_type of 'cuda', but CUDA is not available. Disabling\n",
      "  warnings.warn('User provided device_type of \\'cuda\\', but CUDA is not available. Disabling')\n",
      "/Users/lara.thompson/.local/share/virtualenvs/lara.thompson-C83ZgnRu/lib/python3.9/site-packages/numpy/core/fromnumeric.py:3156: VisibleDeprecationWarning: Creating an ndarray from ragged nested sequences (which is a list-or-tuple of lists-or-tuples-or ndarrays with different lengths or shapes) is deprecated. If you meant to do this, you must specify 'dtype=object' when creating the ndarray.\n",
      "  return asarray(a).ndim\n"
     ]
    },
    {
     "name": "stdout",
     "output_type": "stream",
     "text": [
      "239  a desired range of heart rate reached during aerobic exercise\n"
     ]
    },
    {
     "name": "stderr",
     "output_type": "stream",
     "text": [
      "/Users/lara.thompson/.local/share/virtualenvs/lara.thompson-C83ZgnRu/lib/python3.9/site-packages/torch/autocast_mode.py:141: UserWarning: User provided device_type of 'cuda', but CUDA is not available. Disabling\n",
      "  warnings.warn('User provided device_type of \\'cuda\\', but CUDA is not available. Disabling')\n",
      "/Users/lara.thompson/.local/share/virtualenvs/lara.thompson-C83ZgnRu/lib/python3.9/site-packages/numpy/core/fromnumeric.py:3156: VisibleDeprecationWarning: Creating an ndarray from ragged nested sequences (which is a list-or-tuple of lists-or-tuples-or ndarrays with different lengths or shapes) is deprecated. If you meant to do this, you must specify 'dtype=object' when creating the ndarray.\n",
      "  return asarray(a).ndim\n",
      "/Users/lara.thompson/.local/share/virtualenvs/lara.thompson-C83ZgnRu/lib/python3.9/site-packages/torch/autocast_mode.py:141: UserWarning: User provided device_type of 'cuda', but CUDA is not available. Disabling\n",
      "  warnings.warn('User provided device_type of \\'cuda\\', but CUDA is not available. Disabling')\n",
      "/Users/lara.thompson/.local/share/virtualenvs/lara.thompson-C83ZgnRu/lib/python3.9/site-packages/numpy/core/fromnumeric.py:3156: VisibleDeprecationWarning: Creating an ndarray from ragged nested sequences (which is a list-or-tuple of lists-or-tuples-or ndarrays with different lengths or shapes) is deprecated. If you meant to do this, you must specify 'dtype=object' when creating the ndarray.\n",
      "  return asarray(a).ndim\n",
      "/Users/lara.thompson/.local/share/virtualenvs/lara.thompson-C83ZgnRu/lib/python3.9/site-packages/torch/autocast_mode.py:141: UserWarning: User provided device_type of 'cuda', but CUDA is not available. Disabling\n",
      "  warnings.warn('User provided device_type of \\'cuda\\', but CUDA is not available. Disabling')\n",
      "/Users/lara.thompson/.local/share/virtualenvs/lara.thompson-C83ZgnRu/lib/python3.9/site-packages/numpy/core/fromnumeric.py:3156: VisibleDeprecationWarning: Creating an ndarray from ragged nested sequences (which is a list-or-tuple of lists-or-tuples-or ndarrays with different lengths or shapes) is deprecated. If you meant to do this, you must specify 'dtype=object' when creating the ndarray.\n",
      "  return asarray(a).ndim\n",
      "/Users/lara.thompson/.local/share/virtualenvs/lara.thompson-C83ZgnRu/lib/python3.9/site-packages/torch/autocast_mode.py:141: UserWarning: User provided device_type of 'cuda', but CUDA is not available. Disabling\n",
      "  warnings.warn('User provided device_type of \\'cuda\\', but CUDA is not available. Disabling')\n",
      "/Users/lara.thompson/.local/share/virtualenvs/lara.thompson-C83ZgnRu/lib/python3.9/site-packages/numpy/core/fromnumeric.py:3156: VisibleDeprecationWarning: Creating an ndarray from ragged nested sequences (which is a list-or-tuple of lists-or-tuples-or ndarrays with different lengths or shapes) is deprecated. If you meant to do this, you must specify 'dtype=object' when creating the ndarray.\n",
      "  return asarray(a).ndim\n",
      "/Users/lara.thompson/.local/share/virtualenvs/lara.thompson-C83ZgnRu/lib/python3.9/site-packages/torch/autocast_mode.py:141: UserWarning: User provided device_type of 'cuda', but CUDA is not available. Disabling\n",
      "  warnings.warn('User provided device_type of \\'cuda\\', but CUDA is not available. Disabling')\n",
      "/Users/lara.thompson/.local/share/virtualenvs/lara.thompson-C83ZgnRu/lib/python3.9/site-packages/numpy/core/fromnumeric.py:3156: VisibleDeprecationWarning: Creating an ndarray from ragged nested sequences (which is a list-or-tuple of lists-or-tuples-or ndarrays with different lengths or shapes) is deprecated. If you meant to do this, you must specify 'dtype=object' when creating the ndarray.\n",
      "  return asarray(a).ndim\n",
      "/Users/lara.thompson/.local/share/virtualenvs/lara.thompson-C83ZgnRu/lib/python3.9/site-packages/torch/autocast_mode.py:141: UserWarning: User provided device_type of 'cuda', but CUDA is not available. Disabling\n",
      "  warnings.warn('User provided device_type of \\'cuda\\', but CUDA is not available. Disabling')\n",
      "/Users/lara.thompson/.local/share/virtualenvs/lara.thompson-C83ZgnRu/lib/python3.9/site-packages/numpy/core/fromnumeric.py:3156: VisibleDeprecationWarning: Creating an ndarray from ragged nested sequences (which is a list-or-tuple of lists-or-tuples-or ndarrays with different lengths or shapes) is deprecated. If you meant to do this, you must specify 'dtype=object' when creating the ndarray.\n",
      "  return asarray(a).ndim\n"
     ]
    },
    {
     "name": "stdout",
     "output_type": "stream",
     "text": [
      "245  state legislators\n"
     ]
    },
    {
     "name": "stderr",
     "output_type": "stream",
     "text": [
      "/Users/lara.thompson/.local/share/virtualenvs/lara.thompson-C83ZgnRu/lib/python3.9/site-packages/torch/autocast_mode.py:141: UserWarning: User provided device_type of 'cuda', but CUDA is not available. Disabling\n",
      "  warnings.warn('User provided device_type of \\'cuda\\', but CUDA is not available. Disabling')\n",
      "/Users/lara.thompson/.local/share/virtualenvs/lara.thompson-C83ZgnRu/lib/python3.9/site-packages/numpy/core/fromnumeric.py:3156: VisibleDeprecationWarning: Creating an ndarray from ragged nested sequences (which is a list-or-tuple of lists-or-tuples-or ndarrays with different lengths or shapes) is deprecated. If you meant to do this, you must specify 'dtype=object' when creating the ndarray.\n",
      "  return asarray(a).ndim\n"
     ]
    },
    {
     "name": "stdout",
     "output_type": "stream",
     "text": [
      "246  The University of North Carolina at Chapel Hill, The College of William and Mary, and St. John's College\n"
     ]
    },
    {
     "name": "stderr",
     "output_type": "stream",
     "text": [
      "/Users/lara.thompson/.local/share/virtualenvs/lara.thompson-C83ZgnRu/lib/python3.9/site-packages/torch/autocast_mode.py:141: UserWarning: User provided device_type of 'cuda', but CUDA is not available. Disabling\n",
      "  warnings.warn('User provided device_type of \\'cuda\\', but CUDA is not available. Disabling')\n",
      "/Users/lara.thompson/.local/share/virtualenvs/lara.thompson-C83ZgnRu/lib/python3.9/site-packages/numpy/core/fromnumeric.py:3156: VisibleDeprecationWarning: Creating an ndarray from ragged nested sequences (which is a list-or-tuple of lists-or-tuples-or ndarrays with different lengths or shapes) is deprecated. If you meant to do this, you must specify 'dtype=object' when creating the ndarray.\n",
      "  return asarray(a).ndim\n",
      "/Users/lara.thompson/.local/share/virtualenvs/lara.thompson-C83ZgnRu/lib/python3.9/site-packages/torch/autocast_mode.py:141: UserWarning: User provided device_type of 'cuda', but CUDA is not available. Disabling\n",
      "  warnings.warn('User provided device_type of \\'cuda\\', but CUDA is not available. Disabling')\n",
      "/Users/lara.thompson/.local/share/virtualenvs/lara.thompson-C83ZgnRu/lib/python3.9/site-packages/numpy/core/fromnumeric.py:3156: VisibleDeprecationWarning: Creating an ndarray from ragged nested sequences (which is a list-or-tuple of lists-or-tuples-or ndarrays with different lengths or shapes) is deprecated. If you meant to do this, you must specify 'dtype=object' when creating the ndarray.\n",
      "  return asarray(a).ndim\n",
      "/Users/lara.thompson/.local/share/virtualenvs/lara.thompson-C83ZgnRu/lib/python3.9/site-packages/torch/autocast_mode.py:141: UserWarning: User provided device_type of 'cuda', but CUDA is not available. Disabling\n",
      "  warnings.warn('User provided device_type of \\'cuda\\', but CUDA is not available. Disabling')\n",
      "/Users/lara.thompson/.local/share/virtualenvs/lara.thompson-C83ZgnRu/lib/python3.9/site-packages/numpy/core/fromnumeric.py:3156: VisibleDeprecationWarning: Creating an ndarray from ragged nested sequences (which is a list-or-tuple of lists-or-tuples-or ndarrays with different lengths or shapes) is deprecated. If you meant to do this, you must specify 'dtype=object' when creating the ndarray.\n",
      "  return asarray(a).ndim\n",
      "/Users/lara.thompson/.local/share/virtualenvs/lara.thompson-C83ZgnRu/lib/python3.9/site-packages/torch/autocast_mode.py:141: UserWarning: User provided device_type of 'cuda', but CUDA is not available. Disabling\n",
      "  warnings.warn('User provided device_type of \\'cuda\\', but CUDA is not available. Disabling')\n",
      "/Users/lara.thompson/.local/share/virtualenvs/lara.thompson-C83ZgnRu/lib/python3.9/site-packages/numpy/core/fromnumeric.py:3156: VisibleDeprecationWarning: Creating an ndarray from ragged nested sequences (which is a list-or-tuple of lists-or-tuples-or ndarrays with different lengths or shapes) is deprecated. If you meant to do this, you must specify 'dtype=object' when creating the ndarray.\n",
      "  return asarray(a).ndim\n"
     ]
    },
    {
     "name": "stdout",
     "output_type": "stream",
     "text": [
      "250  Yeti\n"
     ]
    },
    {
     "name": "stderr",
     "output_type": "stream",
     "text": [
      "/Users/lara.thompson/.local/share/virtualenvs/lara.thompson-C83ZgnRu/lib/python3.9/site-packages/torch/autocast_mode.py:141: UserWarning: User provided device_type of 'cuda', but CUDA is not available. Disabling\n",
      "  warnings.warn('User provided device_type of \\'cuda\\', but CUDA is not available. Disabling')\n",
      "/Users/lara.thompson/.local/share/virtualenvs/lara.thompson-C83ZgnRu/lib/python3.9/site-packages/numpy/core/fromnumeric.py:3156: VisibleDeprecationWarning: Creating an ndarray from ragged nested sequences (which is a list-or-tuple of lists-or-tuples-or ndarrays with different lengths or shapes) is deprecated. If you meant to do this, you must specify 'dtype=object' when creating the ndarray.\n",
      "  return asarray(a).ndim\n",
      "/Users/lara.thompson/.local/share/virtualenvs/lara.thompson-C83ZgnRu/lib/python3.9/site-packages/torch/autocast_mode.py:141: UserWarning: User provided device_type of 'cuda', but CUDA is not available. Disabling\n",
      "  warnings.warn('User provided device_type of \\'cuda\\', but CUDA is not available. Disabling')\n",
      "/Users/lara.thompson/.local/share/virtualenvs/lara.thompson-C83ZgnRu/lib/python3.9/site-packages/numpy/core/fromnumeric.py:3156: VisibleDeprecationWarning: Creating an ndarray from ragged nested sequences (which is a list-or-tuple of lists-or-tuples-or ndarrays with different lengths or shapes) is deprecated. If you meant to do this, you must specify 'dtype=object' when creating the ndarray.\n",
      "  return asarray(a).ndim\n",
      "/Users/lara.thompson/.local/share/virtualenvs/lara.thompson-C83ZgnRu/lib/python3.9/site-packages/torch/autocast_mode.py:141: UserWarning: User provided device_type of 'cuda', but CUDA is not available. Disabling\n",
      "  warnings.warn('User provided device_type of \\'cuda\\', but CUDA is not available. Disabling')\n",
      "/Users/lara.thompson/.local/share/virtualenvs/lara.thompson-C83ZgnRu/lib/python3.9/site-packages/numpy/core/fromnumeric.py:3156: VisibleDeprecationWarning: Creating an ndarray from ragged nested sequences (which is a list-or-tuple of lists-or-tuples-or ndarrays with different lengths or shapes) is deprecated. If you meant to do this, you must specify 'dtype=object' when creating the ndarray.\n",
      "  return asarray(a).ndim\n"
     ]
    },
    {
     "name": "stdout",
     "output_type": "stream",
     "text": [
      "253  Germanic\n"
     ]
    },
    {
     "name": "stderr",
     "output_type": "stream",
     "text": [
      "/Users/lara.thompson/.local/share/virtualenvs/lara.thompson-C83ZgnRu/lib/python3.9/site-packages/torch/autocast_mode.py:141: UserWarning: User provided device_type of 'cuda', but CUDA is not available. Disabling\n",
      "  warnings.warn('User provided device_type of \\'cuda\\', but CUDA is not available. Disabling')\n",
      "/Users/lara.thompson/.local/share/virtualenvs/lara.thompson-C83ZgnRu/lib/python3.9/site-packages/numpy/core/fromnumeric.py:3156: VisibleDeprecationWarning: Creating an ndarray from ragged nested sequences (which is a list-or-tuple of lists-or-tuples-or ndarrays with different lengths or shapes) is deprecated. If you meant to do this, you must specify 'dtype=object' when creating the ndarray.\n",
      "  return asarray(a).ndim\n",
      "/Users/lara.thompson/.local/share/virtualenvs/lara.thompson-C83ZgnRu/lib/python3.9/site-packages/torch/autocast_mode.py:141: UserWarning: User provided device_type of 'cuda', but CUDA is not available. Disabling\n",
      "  warnings.warn('User provided device_type of \\'cuda\\', but CUDA is not available. Disabling')\n",
      "/Users/lara.thompson/.local/share/virtualenvs/lara.thompson-C83ZgnRu/lib/python3.9/site-packages/numpy/core/fromnumeric.py:3156: VisibleDeprecationWarning: Creating an ndarray from ragged nested sequences (which is a list-or-tuple of lists-or-tuples-or ndarrays with different lengths or shapes) is deprecated. If you meant to do this, you must specify 'dtype=object' when creating the ndarray.\n",
      "  return asarray(a).ndim\n",
      "/Users/lara.thompson/.local/share/virtualenvs/lara.thompson-C83ZgnRu/lib/python3.9/site-packages/torch/autocast_mode.py:141: UserWarning: User provided device_type of 'cuda', but CUDA is not available. Disabling\n",
      "  warnings.warn('User provided device_type of \\'cuda\\', but CUDA is not available. Disabling')\n",
      "/Users/lara.thompson/.local/share/virtualenvs/lara.thompson-C83ZgnRu/lib/python3.9/site-packages/numpy/core/fromnumeric.py:3156: VisibleDeprecationWarning: Creating an ndarray from ragged nested sequences (which is a list-or-tuple of lists-or-tuples-or ndarrays with different lengths or shapes) is deprecated. If you meant to do this, you must specify 'dtype=object' when creating the ndarray.\n",
      "  return asarray(a).ndim\n",
      "/Users/lara.thompson/.local/share/virtualenvs/lara.thompson-C83ZgnRu/lib/python3.9/site-packages/torch/autocast_mode.py:141: UserWarning: User provided device_type of 'cuda', but CUDA is not available. Disabling\n",
      "  warnings.warn('User provided device_type of \\'cuda\\', but CUDA is not available. Disabling')\n",
      "/Users/lara.thompson/.local/share/virtualenvs/lara.thompson-C83ZgnRu/lib/python3.9/site-packages/numpy/core/fromnumeric.py:3156: VisibleDeprecationWarning: Creating an ndarray from ragged nested sequences (which is a list-or-tuple of lists-or-tuples-or ndarrays with different lengths or shapes) is deprecated. If you meant to do this, you must specify 'dtype=object' when creating the ndarray.\n",
      "  return asarray(a).ndim\n",
      "/Users/lara.thompson/.local/share/virtualenvs/lara.thompson-C83ZgnRu/lib/python3.9/site-packages/torch/autocast_mode.py:141: UserWarning: User provided device_type of 'cuda', but CUDA is not available. Disabling\n",
      "  warnings.warn('User provided device_type of \\'cuda\\', but CUDA is not available. Disabling')\n",
      "/Users/lara.thompson/.local/share/virtualenvs/lara.thompson-C83ZgnRu/lib/python3.9/site-packages/numpy/core/fromnumeric.py:3156: VisibleDeprecationWarning: Creating an ndarray from ragged nested sequences (which is a list-or-tuple of lists-or-tuples-or ndarrays with different lengths or shapes) is deprecated. If you meant to do this, you must specify 'dtype=object' when creating the ndarray.\n",
      "  return asarray(a).ndim\n",
      "/Users/lara.thompson/.local/share/virtualenvs/lara.thompson-C83ZgnRu/lib/python3.9/site-packages/torch/autocast_mode.py:141: UserWarning: User provided device_type of 'cuda', but CUDA is not available. Disabling\n",
      "  warnings.warn('User provided device_type of \\'cuda\\', but CUDA is not available. Disabling')\n",
      "/Users/lara.thompson/.local/share/virtualenvs/lara.thompson-C83ZgnRu/lib/python3.9/site-packages/numpy/core/fromnumeric.py:3156: VisibleDeprecationWarning: Creating an ndarray from ragged nested sequences (which is a list-or-tuple of lists-or-tuples-or ndarrays with different lengths or shapes) is deprecated. If you meant to do this, you must specify 'dtype=object' when creating the ndarray.\n",
      "  return asarray(a).ndim\n"
     ]
    },
    {
     "name": "stdout",
     "output_type": "stream",
     "text": [
      "259  fragments of cytoplasm that are derived from the megakaryocytes of the bone marrow\n"
     ]
    },
    {
     "name": "stderr",
     "output_type": "stream",
     "text": [
      "/Users/lara.thompson/.local/share/virtualenvs/lara.thompson-C83ZgnRu/lib/python3.9/site-packages/torch/autocast_mode.py:141: UserWarning: User provided device_type of 'cuda', but CUDA is not available. Disabling\n",
      "  warnings.warn('User provided device_type of \\'cuda\\', but CUDA is not available. Disabling')\n",
      "/Users/lara.thompson/.local/share/virtualenvs/lara.thompson-C83ZgnRu/lib/python3.9/site-packages/numpy/core/fromnumeric.py:3156: VisibleDeprecationWarning: Creating an ndarray from ragged nested sequences (which is a list-or-tuple of lists-or-tuples-or ndarrays with different lengths or shapes) is deprecated. If you meant to do this, you must specify 'dtype=object' when creating the ndarray.\n",
      "  return asarray(a).ndim\n"
     ]
    },
    {
     "name": "stdout",
     "output_type": "stream",
     "text": [
      "260  a long-term autoimmune disorder that primarily affects joints\n"
     ]
    },
    {
     "name": "stderr",
     "output_type": "stream",
     "text": [
      "/Users/lara.thompson/.local/share/virtualenvs/lara.thompson-C83ZgnRu/lib/python3.9/site-packages/torch/autocast_mode.py:141: UserWarning: User provided device_type of 'cuda', but CUDA is not available. Disabling\n",
      "  warnings.warn('User provided device_type of \\'cuda\\', but CUDA is not available. Disabling')\n",
      "/Users/lara.thompson/.local/share/virtualenvs/lara.thompson-C83ZgnRu/lib/python3.9/site-packages/numpy/core/fromnumeric.py:3156: VisibleDeprecationWarning: Creating an ndarray from ragged nested sequences (which is a list-or-tuple of lists-or-tuples-or ndarrays with different lengths or shapes) is deprecated. If you meant to do this, you must specify 'dtype=object' when creating the ndarray.\n",
      "  return asarray(a).ndim\n"
     ]
    },
    {
     "name": "stdout",
     "output_type": "stream",
     "text": [
      "261  $5.6 million\n"
     ]
    },
    {
     "name": "stderr",
     "output_type": "stream",
     "text": [
      "/Users/lara.thompson/.local/share/virtualenvs/lara.thompson-C83ZgnRu/lib/python3.9/site-packages/torch/autocast_mode.py:141: UserWarning: User provided device_type of 'cuda', but CUDA is not available. Disabling\n",
      "  warnings.warn('User provided device_type of \\'cuda\\', but CUDA is not available. Disabling')\n",
      "/Users/lara.thompson/.local/share/virtualenvs/lara.thompson-C83ZgnRu/lib/python3.9/site-packages/numpy/core/fromnumeric.py:3156: VisibleDeprecationWarning: Creating an ndarray from ragged nested sequences (which is a list-or-tuple of lists-or-tuples-or ndarrays with different lengths or shapes) is deprecated. If you meant to do this, you must specify 'dtype=object' when creating the ndarray.\n",
      "  return asarray(a).ndim\n",
      "/Users/lara.thompson/.local/share/virtualenvs/lara.thompson-C83ZgnRu/lib/python3.9/site-packages/torch/autocast_mode.py:141: UserWarning: User provided device_type of 'cuda', but CUDA is not available. Disabling\n",
      "  warnings.warn('User provided device_type of \\'cuda\\', but CUDA is not available. Disabling')\n",
      "/Users/lara.thompson/.local/share/virtualenvs/lara.thompson-C83ZgnRu/lib/python3.9/site-packages/numpy/core/fromnumeric.py:3156: VisibleDeprecationWarning: Creating an ndarray from ragged nested sequences (which is a list-or-tuple of lists-or-tuples-or ndarrays with different lengths or shapes) is deprecated. If you meant to do this, you must specify 'dtype=object' when creating the ndarray.\n",
      "  return asarray(a).ndim\n"
     ]
    },
    {
     "name": "stdout",
     "output_type": "stream",
     "text": [
      "263  The RIAA requires 500,000 copies to be sold for an album to be certified gold, while the BEA requires 50,000 copies to be sold for an album to be certified gold.\n"
     ]
    },
    {
     "name": "stderr",
     "output_type": "stream",
     "text": [
      "/Users/lara.thompson/.local/share/virtualenvs/lara.thompson-C83ZgnRu/lib/python3.9/site-packages/torch/autocast_mode.py:141: UserWarning: User provided device_type of 'cuda', but CUDA is not available. Disabling\n",
      "  warnings.warn('User provided device_type of \\'cuda\\', but CUDA is not available. Disabling')\n",
      "/Users/lara.thompson/.local/share/virtualenvs/lara.thompson-C83ZgnRu/lib/python3.9/site-packages/numpy/core/fromnumeric.py:3156: VisibleDeprecationWarning: Creating an ndarray from ragged nested sequences (which is a list-or-tuple of lists-or-tuples-or ndarrays with different lengths or shapes) is deprecated. If you meant to do this, you must specify 'dtype=object' when creating the ndarray.\n",
      "  return asarray(a).ndim\n"
     ]
    },
    {
     "name": "stdout",
     "output_type": "stream",
     "text": [
      "264  Pulmonary artery\n"
     ]
    },
    {
     "name": "stderr",
     "output_type": "stream",
     "text": [
      "/Users/lara.thompson/.local/share/virtualenvs/lara.thompson-C83ZgnRu/lib/python3.9/site-packages/torch/autocast_mode.py:141: UserWarning: User provided device_type of 'cuda', but CUDA is not available. Disabling\n",
      "  warnings.warn('User provided device_type of \\'cuda\\', but CUDA is not available. Disabling')\n",
      "/Users/lara.thompson/.local/share/virtualenvs/lara.thompson-C83ZgnRu/lib/python3.9/site-packages/numpy/core/fromnumeric.py:3156: VisibleDeprecationWarning: Creating an ndarray from ragged nested sequences (which is a list-or-tuple of lists-or-tuples-or ndarrays with different lengths or shapes) is deprecated. If you meant to do this, you must specify 'dtype=object' when creating the ndarray.\n",
      "  return asarray(a).ndim\n"
     ]
    },
    {
     "name": "stdout",
     "output_type": "stream",
     "text": [
      "265  Fantasia Barrino\n"
     ]
    },
    {
     "name": "stderr",
     "output_type": "stream",
     "text": [
      "/Users/lara.thompson/.local/share/virtualenvs/lara.thompson-C83ZgnRu/lib/python3.9/site-packages/torch/autocast_mode.py:141: UserWarning: User provided device_type of 'cuda', but CUDA is not available. Disabling\n",
      "  warnings.warn('User provided device_type of \\'cuda\\', but CUDA is not available. Disabling')\n",
      "/Users/lara.thompson/.local/share/virtualenvs/lara.thompson-C83ZgnRu/lib/python3.9/site-packages/numpy/core/fromnumeric.py:3156: VisibleDeprecationWarning: Creating an ndarray from ragged nested sequences (which is a list-or-tuple of lists-or-tuples-or ndarrays with different lengths or shapes) is deprecated. If you meant to do this, you must specify 'dtype=object' when creating the ndarray.\n",
      "  return asarray(a).ndim\n"
     ]
    },
    {
     "name": "stdout",
     "output_type": "stream",
     "text": [
      "266  July 6, 2018\n"
     ]
    },
    {
     "name": "stderr",
     "output_type": "stream",
     "text": [
      "/Users/lara.thompson/.local/share/virtualenvs/lara.thompson-C83ZgnRu/lib/python3.9/site-packages/torch/autocast_mode.py:141: UserWarning: User provided device_type of 'cuda', but CUDA is not available. Disabling\n",
      "  warnings.warn('User provided device_type of \\'cuda\\', but CUDA is not available. Disabling')\n",
      "/Users/lara.thompson/.local/share/virtualenvs/lara.thompson-C83ZgnRu/lib/python3.9/site-packages/numpy/core/fromnumeric.py:3156: VisibleDeprecationWarning: Creating an ndarray from ragged nested sequences (which is a list-or-tuple of lists-or-tuples-or ndarrays with different lengths or shapes) is deprecated. If you meant to do this, you must specify 'dtype=object' when creating the ndarray.\n",
      "  return asarray(a).ndim\n"
     ]
    },
    {
     "name": "stdout",
     "output_type": "stream",
     "text": [
      "267  February 15, 1820\n"
     ]
    },
    {
     "name": "stderr",
     "output_type": "stream",
     "text": [
      "/Users/lara.thompson/.local/share/virtualenvs/lara.thompson-C83ZgnRu/lib/python3.9/site-packages/torch/autocast_mode.py:141: UserWarning: User provided device_type of 'cuda', but CUDA is not available. Disabling\n",
      "  warnings.warn('User provided device_type of \\'cuda\\', but CUDA is not available. Disabling')\n",
      "/Users/lara.thompson/.local/share/virtualenvs/lara.thompson-C83ZgnRu/lib/python3.9/site-packages/numpy/core/fromnumeric.py:3156: VisibleDeprecationWarning: Creating an ndarray from ragged nested sequences (which is a list-or-tuple of lists-or-tuples-or ndarrays with different lengths or shapes) is deprecated. If you meant to do this, you must specify 'dtype=object' when creating the ndarray.\n",
      "  return asarray(a).ndim\n",
      "/Users/lara.thompson/.local/share/virtualenvs/lara.thompson-C83ZgnRu/lib/python3.9/site-packages/torch/autocast_mode.py:141: UserWarning: User provided device_type of 'cuda', but CUDA is not available. Disabling\n",
      "  warnings.warn('User provided device_type of \\'cuda\\', but CUDA is not available. Disabling')\n",
      "/Users/lara.thompson/.local/share/virtualenvs/lara.thompson-C83ZgnRu/lib/python3.9/site-packages/numpy/core/fromnumeric.py:3156: VisibleDeprecationWarning: Creating an ndarray from ragged nested sequences (which is a list-or-tuple of lists-or-tuples-or ndarrays with different lengths or shapes) is deprecated. If you meant to do this, you must specify 'dtype=object' when creating the ndarray.\n",
      "  return asarray(a).ndim\n"
     ]
    },
    {
     "name": "stdout",
     "output_type": "stream",
     "text": [
      "269  May 6, 1994\n"
     ]
    },
    {
     "name": "stderr",
     "output_type": "stream",
     "text": [
      "/Users/lara.thompson/.local/share/virtualenvs/lara.thompson-C83ZgnRu/lib/python3.9/site-packages/torch/autocast_mode.py:141: UserWarning: User provided device_type of 'cuda', but CUDA is not available. Disabling\n",
      "  warnings.warn('User provided device_type of \\'cuda\\', but CUDA is not available. Disabling')\n",
      "/Users/lara.thompson/.local/share/virtualenvs/lara.thompson-C83ZgnRu/lib/python3.9/site-packages/numpy/core/fromnumeric.py:3156: VisibleDeprecationWarning: Creating an ndarray from ragged nested sequences (which is a list-or-tuple of lists-or-tuples-or ndarrays with different lengths or shapes) is deprecated. If you meant to do this, you must specify 'dtype=object' when creating the ndarray.\n",
      "  return asarray(a).ndim\n"
     ]
    },
    {
     "name": "stdout",
     "output_type": "stream",
     "text": [
      "270  Madonna Louise Ciccone\n"
     ]
    },
    {
     "name": "stderr",
     "output_type": "stream",
     "text": [
      "/Users/lara.thompson/.local/share/virtualenvs/lara.thompson-C83ZgnRu/lib/python3.9/site-packages/torch/autocast_mode.py:141: UserWarning: User provided device_type of 'cuda', but CUDA is not available. Disabling\n",
      "  warnings.warn('User provided device_type of \\'cuda\\', but CUDA is not available. Disabling')\n",
      "/Users/lara.thompson/.local/share/virtualenvs/lara.thompson-C83ZgnRu/lib/python3.9/site-packages/numpy/core/fromnumeric.py:3156: VisibleDeprecationWarning: Creating an ndarray from ragged nested sequences (which is a list-or-tuple of lists-or-tuples-or ndarrays with different lengths or shapes) is deprecated. If you meant to do this, you must specify 'dtype=object' when creating the ndarray.\n",
      "  return asarray(a).ndim\n"
     ]
    },
    {
     "name": "stdout",
     "output_type": "stream",
     "text": [
      "271  Central and North America\n"
     ]
    },
    {
     "name": "stderr",
     "output_type": "stream",
     "text": [
      "/Users/lara.thompson/.local/share/virtualenvs/lara.thompson-C83ZgnRu/lib/python3.9/site-packages/torch/autocast_mode.py:141: UserWarning: User provided device_type of 'cuda', but CUDA is not available. Disabling\n",
      "  warnings.warn('User provided device_type of \\'cuda\\', but CUDA is not available. Disabling')\n",
      "/Users/lara.thompson/.local/share/virtualenvs/lara.thompson-C83ZgnRu/lib/python3.9/site-packages/numpy/core/fromnumeric.py:3156: VisibleDeprecationWarning: Creating an ndarray from ragged nested sequences (which is a list-or-tuple of lists-or-tuples-or ndarrays with different lengths or shapes) is deprecated. If you meant to do this, you must specify 'dtype=object' when creating the ndarray.\n",
      "  return asarray(a).ndim\n",
      "/Users/lara.thompson/.local/share/virtualenvs/lara.thompson-C83ZgnRu/lib/python3.9/site-packages/torch/autocast_mode.py:141: UserWarning: User provided device_type of 'cuda', but CUDA is not available. Disabling\n",
      "  warnings.warn('User provided device_type of \\'cuda\\', but CUDA is not available. Disabling')\n",
      "/Users/lara.thompson/.local/share/virtualenvs/lara.thompson-C83ZgnRu/lib/python3.9/site-packages/numpy/core/fromnumeric.py:3156: VisibleDeprecationWarning: Creating an ndarray from ragged nested sequences (which is a list-or-tuple of lists-or-tuples-or ndarrays with different lengths or shapes) is deprecated. If you meant to do this, you must specify 'dtype=object' when creating the ndarray.\n",
      "  return asarray(a).ndim\n",
      "/Users/lara.thompson/.local/share/virtualenvs/lara.thompson-C83ZgnRu/lib/python3.9/site-packages/torch/autocast_mode.py:141: UserWarning: User provided device_type of 'cuda', but CUDA is not available. Disabling\n",
      "  warnings.warn('User provided device_type of \\'cuda\\', but CUDA is not available. Disabling')\n",
      "/Users/lara.thompson/.local/share/virtualenvs/lara.thompson-C83ZgnRu/lib/python3.9/site-packages/numpy/core/fromnumeric.py:3156: VisibleDeprecationWarning: Creating an ndarray from ragged nested sequences (which is a list-or-tuple of lists-or-tuples-or ndarrays with different lengths or shapes) is deprecated. If you meant to do this, you must specify 'dtype=object' when creating the ndarray.\n",
      "  return asarray(a).ndim\n"
     ]
    },
    {
     "name": "stdout",
     "output_type": "stream",
     "text": [
      "274  Atlantic Ocean\n"
     ]
    },
    {
     "name": "stderr",
     "output_type": "stream",
     "text": [
      "/Users/lara.thompson/.local/share/virtualenvs/lara.thompson-C83ZgnRu/lib/python3.9/site-packages/torch/autocast_mode.py:141: UserWarning: User provided device_type of 'cuda', but CUDA is not available. Disabling\n",
      "  warnings.warn('User provided device_type of \\'cuda\\', but CUDA is not available. Disabling')\n",
      "/Users/lara.thompson/.local/share/virtualenvs/lara.thompson-C83ZgnRu/lib/python3.9/site-packages/numpy/core/fromnumeric.py:3156: VisibleDeprecationWarning: Creating an ndarray from ragged nested sequences (which is a list-or-tuple of lists-or-tuples-or ndarrays with different lengths or shapes) is deprecated. If you meant to do this, you must specify 'dtype=object' when creating the ndarray.\n",
      "  return asarray(a).ndim\n"
     ]
    },
    {
     "name": "stdout",
     "output_type": "stream",
     "text": [
      "275  four exemplifications of the 1225 charter survive.\n"
     ]
    },
    {
     "name": "stderr",
     "output_type": "stream",
     "text": [
      "/Users/lara.thompson/.local/share/virtualenvs/lara.thompson-C83ZgnRu/lib/python3.9/site-packages/torch/autocast_mode.py:141: UserWarning: User provided device_type of 'cuda', but CUDA is not available. Disabling\n",
      "  warnings.warn('User provided device_type of \\'cuda\\', but CUDA is not available. Disabling')\n",
      "/Users/lara.thompson/.local/share/virtualenvs/lara.thompson-C83ZgnRu/lib/python3.9/site-packages/numpy/core/fromnumeric.py:3156: VisibleDeprecationWarning: Creating an ndarray from ragged nested sequences (which is a list-or-tuple of lists-or-tuples-or ndarrays with different lengths or shapes) is deprecated. If you meant to do this, you must specify 'dtype=object' when creating the ndarray.\n",
      "  return asarray(a).ndim\n"
     ]
    },
    {
     "name": "stdout",
     "output_type": "stream",
     "text": [
      "276  anything that can produce disease\n"
     ]
    },
    {
     "name": "stderr",
     "output_type": "stream",
     "text": [
      "/Users/lara.thompson/.local/share/virtualenvs/lara.thompson-C83ZgnRu/lib/python3.9/site-packages/torch/autocast_mode.py:141: UserWarning: User provided device_type of 'cuda', but CUDA is not available. Disabling\n",
      "  warnings.warn('User provided device_type of \\'cuda\\', but CUDA is not available. Disabling')\n",
      "/Users/lara.thompson/.local/share/virtualenvs/lara.thompson-C83ZgnRu/lib/python3.9/site-packages/numpy/core/fromnumeric.py:3156: VisibleDeprecationWarning: Creating an ndarray from ragged nested sequences (which is a list-or-tuple of lists-or-tuples-or ndarrays with different lengths or shapes) is deprecated. If you meant to do this, you must specify 'dtype=object' when creating the ndarray.\n",
      "  return asarray(a).ndim\n"
     ]
    },
    {
     "name": "stdout",
     "output_type": "stream",
     "text": [
      "277  42 years old\n"
     ]
    },
    {
     "name": "stderr",
     "output_type": "stream",
     "text": [
      "/Users/lara.thompson/.local/share/virtualenvs/lara.thompson-C83ZgnRu/lib/python3.9/site-packages/torch/autocast_mode.py:141: UserWarning: User provided device_type of 'cuda', but CUDA is not available. Disabling\n",
      "  warnings.warn('User provided device_type of \\'cuda\\', but CUDA is not available. Disabling')\n",
      "/Users/lara.thompson/.local/share/virtualenvs/lara.thompson-C83ZgnRu/lib/python3.9/site-packages/numpy/core/fromnumeric.py:3156: VisibleDeprecationWarning: Creating an ndarray from ragged nested sequences (which is a list-or-tuple of lists-or-tuples-or ndarrays with different lengths or shapes) is deprecated. If you meant to do this, you must specify 'dtype=object' when creating the ndarray.\n",
      "  return asarray(a).ndim\n"
     ]
    },
    {
     "name": "stdout",
     "output_type": "stream",
     "text": [
      "278  beneath the cerebral cortex in the brain\n"
     ]
    },
    {
     "name": "stderr",
     "output_type": "stream",
     "text": [
      "/Users/lara.thompson/.local/share/virtualenvs/lara.thompson-C83ZgnRu/lib/python3.9/site-packages/torch/autocast_mode.py:141: UserWarning: User provided device_type of 'cuda', but CUDA is not available. Disabling\n",
      "  warnings.warn('User provided device_type of \\'cuda\\', but CUDA is not available. Disabling')\n",
      "/Users/lara.thompson/.local/share/virtualenvs/lara.thompson-C83ZgnRu/lib/python3.9/site-packages/numpy/core/fromnumeric.py:3156: VisibleDeprecationWarning: Creating an ndarray from ragged nested sequences (which is a list-or-tuple of lists-or-tuples-or ndarrays with different lengths or shapes) is deprecated. If you meant to do this, you must specify 'dtype=object' when creating the ndarray.\n",
      "  return asarray(a).ndim\n",
      "/Users/lara.thompson/.local/share/virtualenvs/lara.thompson-C83ZgnRu/lib/python3.9/site-packages/torch/autocast_mode.py:141: UserWarning: User provided device_type of 'cuda', but CUDA is not available. Disabling\n",
      "  warnings.warn('User provided device_type of \\'cuda\\', but CUDA is not available. Disabling')\n",
      "/Users/lara.thompson/.local/share/virtualenvs/lara.thompson-C83ZgnRu/lib/python3.9/site-packages/numpy/core/fromnumeric.py:3156: VisibleDeprecationWarning: Creating an ndarray from ragged nested sequences (which is a list-or-tuple of lists-or-tuples-or ndarrays with different lengths or shapes) is deprecated. If you meant to do this, you must specify 'dtype=object' when creating the ndarray.\n",
      "  return asarray(a).ndim\n"
     ]
    },
    {
     "name": "stdout",
     "output_type": "stream",
     "text": [
      "280  a stream of charged particles released from the upper atmosphere of the Sun\n"
     ]
    },
    {
     "name": "stderr",
     "output_type": "stream",
     "text": [
      "/Users/lara.thompson/.local/share/virtualenvs/lara.thompson-C83ZgnRu/lib/python3.9/site-packages/torch/autocast_mode.py:141: UserWarning: User provided device_type of 'cuda', but CUDA is not available. Disabling\n",
      "  warnings.warn('User provided device_type of \\'cuda\\', but CUDA is not available. Disabling')\n",
      "/Users/lara.thompson/.local/share/virtualenvs/lara.thompson-C83ZgnRu/lib/python3.9/site-packages/numpy/core/fromnumeric.py:3156: VisibleDeprecationWarning: Creating an ndarray from ragged nested sequences (which is a list-or-tuple of lists-or-tuples-or ndarrays with different lengths or shapes) is deprecated. If you meant to do this, you must specify 'dtype=object' when creating the ndarray.\n",
      "  return asarray(a).ndim\n",
      "/Users/lara.thompson/.local/share/virtualenvs/lara.thompson-C83ZgnRu/lib/python3.9/site-packages/torch/autocast_mode.py:141: UserWarning: User provided device_type of 'cuda', but CUDA is not available. Disabling\n",
      "  warnings.warn('User provided device_type of \\'cuda\\', but CUDA is not available. Disabling')\n",
      "/Users/lara.thompson/.local/share/virtualenvs/lara.thompson-C83ZgnRu/lib/python3.9/site-packages/numpy/core/fromnumeric.py:3156: VisibleDeprecationWarning: Creating an ndarray from ragged nested sequences (which is a list-or-tuple of lists-or-tuples-or ndarrays with different lengths or shapes) is deprecated. If you meant to do this, you must specify 'dtype=object' when creating the ndarray.\n",
      "  return asarray(a).ndim\n",
      "/Users/lara.thompson/.local/share/virtualenvs/lara.thompson-C83ZgnRu/lib/python3.9/site-packages/torch/autocast_mode.py:141: UserWarning: User provided device_type of 'cuda', but CUDA is not available. Disabling\n",
      "  warnings.warn('User provided device_type of \\'cuda\\', but CUDA is not available. Disabling')\n",
      "/Users/lara.thompson/.local/share/virtualenvs/lara.thompson-C83ZgnRu/lib/python3.9/site-packages/numpy/core/fromnumeric.py:3156: VisibleDeprecationWarning: Creating an ndarray from ragged nested sequences (which is a list-or-tuple of lists-or-tuples-or ndarrays with different lengths or shapes) is deprecated. If you meant to do this, you must specify 'dtype=object' when creating the ndarray.\n",
      "  return asarray(a).ndim\n"
     ]
    },
    {
     "name": "stdout",
     "output_type": "stream",
     "text": [
      "283  a respiratory disease in which scars are formed in the lung tissues, leading to serious breathing problems\n"
     ]
    },
    {
     "name": "stderr",
     "output_type": "stream",
     "text": [
      "/Users/lara.thompson/.local/share/virtualenvs/lara.thompson-C83ZgnRu/lib/python3.9/site-packages/torch/autocast_mode.py:141: UserWarning: User provided device_type of 'cuda', but CUDA is not available. Disabling\n",
      "  warnings.warn('User provided device_type of \\'cuda\\', but CUDA is not available. Disabling')\n",
      "/Users/lara.thompson/.local/share/virtualenvs/lara.thompson-C83ZgnRu/lib/python3.9/site-packages/numpy/core/fromnumeric.py:3156: VisibleDeprecationWarning: Creating an ndarray from ragged nested sequences (which is a list-or-tuple of lists-or-tuples-or ndarrays with different lengths or shapes) is deprecated. If you meant to do this, you must specify 'dtype=object' when creating the ndarray.\n",
      "  return asarray(a).ndim\n",
      "/Users/lara.thompson/.local/share/virtualenvs/lara.thompson-C83ZgnRu/lib/python3.9/site-packages/torch/autocast_mode.py:141: UserWarning: User provided device_type of 'cuda', but CUDA is not available. Disabling\n",
      "  warnings.warn('User provided device_type of \\'cuda\\', but CUDA is not available. Disabling')\n",
      "/Users/lara.thompson/.local/share/virtualenvs/lara.thompson-C83ZgnRu/lib/python3.9/site-packages/numpy/core/fromnumeric.py:3156: VisibleDeprecationWarning: Creating an ndarray from ragged nested sequences (which is a list-or-tuple of lists-or-tuples-or ndarrays with different lengths or shapes) is deprecated. If you meant to do this, you must specify 'dtype=object' when creating the ndarray.\n",
      "  return asarray(a).ndim\n"
     ]
    },
    {
     "name": "stdout",
     "output_type": "stream",
     "text": [
      "285  Monsanto and American Cyanamid\n"
     ]
    },
    {
     "name": "stderr",
     "output_type": "stream",
     "text": [
      "/Users/lara.thompson/.local/share/virtualenvs/lara.thompson-C83ZgnRu/lib/python3.9/site-packages/torch/autocast_mode.py:141: UserWarning: User provided device_type of 'cuda', but CUDA is not available. Disabling\n",
      "  warnings.warn('User provided device_type of \\'cuda\\', but CUDA is not available. Disabling')\n",
      "/Users/lara.thompson/.local/share/virtualenvs/lara.thompson-C83ZgnRu/lib/python3.9/site-packages/numpy/core/fromnumeric.py:3156: VisibleDeprecationWarning: Creating an ndarray from ragged nested sequences (which is a list-or-tuple of lists-or-tuples-or ndarrays with different lengths or shapes) is deprecated. If you meant to do this, you must specify 'dtype=object' when creating the ndarray.\n",
      "  return asarray(a).ndim\n"
     ]
    },
    {
     "name": "stdout",
     "output_type": "stream",
     "text": [
      "286  The House of Representatives and the Senate.\n"
     ]
    },
    {
     "name": "stderr",
     "output_type": "stream",
     "text": [
      "/Users/lara.thompson/.local/share/virtualenvs/lara.thompson-C83ZgnRu/lib/python3.9/site-packages/torch/autocast_mode.py:141: UserWarning: User provided device_type of 'cuda', but CUDA is not available. Disabling\n",
      "  warnings.warn('User provided device_type of \\'cuda\\', but CUDA is not available. Disabling')\n",
      "/Users/lara.thompson/.local/share/virtualenvs/lara.thompson-C83ZgnRu/lib/python3.9/site-packages/numpy/core/fromnumeric.py:3156: VisibleDeprecationWarning: Creating an ndarray from ragged nested sequences (which is a list-or-tuple of lists-or-tuples-or ndarrays with different lengths or shapes) is deprecated. If you meant to do this, you must specify 'dtype=object' when creating the ndarray.\n",
      "  return asarray(a).ndim\n",
      "/Users/lara.thompson/.local/share/virtualenvs/lara.thompson-C83ZgnRu/lib/python3.9/site-packages/torch/autocast_mode.py:141: UserWarning: User provided device_type of 'cuda', but CUDA is not available. Disabling\n",
      "  warnings.warn('User provided device_type of \\'cuda\\', but CUDA is not available. Disabling')\n",
      "/Users/lara.thompson/.local/share/virtualenvs/lara.thompson-C83ZgnRu/lib/python3.9/site-packages/numpy/core/fromnumeric.py:3156: VisibleDeprecationWarning: Creating an ndarray from ragged nested sequences (which is a list-or-tuple of lists-or-tuples-or ndarrays with different lengths or shapes) is deprecated. If you meant to do this, you must specify 'dtype=object' when creating the ndarray.\n",
      "  return asarray(a).ndim\n",
      "/Users/lara.thompson/.local/share/virtualenvs/lara.thompson-C83ZgnRu/lib/python3.9/site-packages/torch/autocast_mode.py:141: UserWarning: User provided device_type of 'cuda', but CUDA is not available. Disabling\n",
      "  warnings.warn('User provided device_type of \\'cuda\\', but CUDA is not available. Disabling')\n",
      "/Users/lara.thompson/.local/share/virtualenvs/lara.thompson-C83ZgnRu/lib/python3.9/site-packages/numpy/core/fromnumeric.py:3156: VisibleDeprecationWarning: Creating an ndarray from ragged nested sequences (which is a list-or-tuple of lists-or-tuples-or ndarrays with different lengths or shapes) is deprecated. If you meant to do this, you must specify 'dtype=object' when creating the ndarray.\n",
      "  return asarray(a).ndim\n",
      "/Users/lara.thompson/.local/share/virtualenvs/lara.thompson-C83ZgnRu/lib/python3.9/site-packages/torch/autocast_mode.py:141: UserWarning: User provided device_type of 'cuda', but CUDA is not available. Disabling\n",
      "  warnings.warn('User provided device_type of \\'cuda\\', but CUDA is not available. Disabling')\n",
      "/Users/lara.thompson/.local/share/virtualenvs/lara.thompson-C83ZgnRu/lib/python3.9/site-packages/numpy/core/fromnumeric.py:3156: VisibleDeprecationWarning: Creating an ndarray from ragged nested sequences (which is a list-or-tuple of lists-or-tuples-or ndarrays with different lengths or shapes) is deprecated. If you meant to do this, you must specify 'dtype=object' when creating the ndarray.\n",
      "  return asarray(a).ndim\n",
      "/Users/lara.thompson/.local/share/virtualenvs/lara.thompson-C83ZgnRu/lib/python3.9/site-packages/torch/autocast_mode.py:141: UserWarning: User provided device_type of 'cuda', but CUDA is not available. Disabling\n",
      "  warnings.warn('User provided device_type of \\'cuda\\', but CUDA is not available. Disabling')\n",
      "/Users/lara.thompson/.local/share/virtualenvs/lara.thompson-C83ZgnRu/lib/python3.9/site-packages/numpy/core/fromnumeric.py:3156: VisibleDeprecationWarning: Creating an ndarray from ragged nested sequences (which is a list-or-tuple of lists-or-tuples-or ndarrays with different lengths or shapes) is deprecated. If you meant to do this, you must specify 'dtype=object' when creating the ndarray.\n",
      "  return asarray(a).ndim\n",
      "/Users/lara.thompson/.local/share/virtualenvs/lara.thompson-C83ZgnRu/lib/python3.9/site-packages/torch/autocast_mode.py:141: UserWarning: User provided device_type of 'cuda', but CUDA is not available. Disabling\n",
      "  warnings.warn('User provided device_type of \\'cuda\\', but CUDA is not available. Disabling')\n",
      "/Users/lara.thompson/.local/share/virtualenvs/lara.thompson-C83ZgnRu/lib/python3.9/site-packages/numpy/core/fromnumeric.py:3156: VisibleDeprecationWarning: Creating an ndarray from ragged nested sequences (which is a list-or-tuple of lists-or-tuples-or ndarrays with different lengths or shapes) is deprecated. If you meant to do this, you must specify 'dtype=object' when creating the ndarray.\n",
      "  return asarray(a).ndim\n"
     ]
    },
    {
     "name": "stdout",
     "output_type": "stream",
     "text": [
      "292  June 1973\n"
     ]
    },
    {
     "name": "stderr",
     "output_type": "stream",
     "text": [
      "/Users/lara.thompson/.local/share/virtualenvs/lara.thompson-C83ZgnRu/lib/python3.9/site-packages/torch/autocast_mode.py:141: UserWarning: User provided device_type of 'cuda', but CUDA is not available. Disabling\n",
      "  warnings.warn('User provided device_type of \\'cuda\\', but CUDA is not available. Disabling')\n",
      "/Users/lara.thompson/.local/share/virtualenvs/lara.thompson-C83ZgnRu/lib/python3.9/site-packages/numpy/core/fromnumeric.py:3156: VisibleDeprecationWarning: Creating an ndarray from ragged nested sequences (which is a list-or-tuple of lists-or-tuples-or ndarrays with different lengths or shapes) is deprecated. If you meant to do this, you must specify 'dtype=object' when creating the ndarray.\n",
      "  return asarray(a).ndim\n",
      "/Users/lara.thompson/.local/share/virtualenvs/lara.thompson-C83ZgnRu/lib/python3.9/site-packages/torch/autocast_mode.py:141: UserWarning: User provided device_type of 'cuda', but CUDA is not available. Disabling\n",
      "  warnings.warn('User provided device_type of \\'cuda\\', but CUDA is not available. Disabling')\n",
      "/Users/lara.thompson/.local/share/virtualenvs/lara.thompson-C83ZgnRu/lib/python3.9/site-packages/numpy/core/fromnumeric.py:3156: VisibleDeprecationWarning: Creating an ndarray from ragged nested sequences (which is a list-or-tuple of lists-or-tuples-or ndarrays with different lengths or shapes) is deprecated. If you meant to do this, you must specify 'dtype=object' when creating the ndarray.\n",
      "  return asarray(a).ndim\n",
      "/Users/lara.thompson/.local/share/virtualenvs/lara.thompson-C83ZgnRu/lib/python3.9/site-packages/torch/autocast_mode.py:141: UserWarning: User provided device_type of 'cuda', but CUDA is not available. Disabling\n",
      "  warnings.warn('User provided device_type of \\'cuda\\', but CUDA is not available. Disabling')\n",
      "/Users/lara.thompson/.local/share/virtualenvs/lara.thompson-C83ZgnRu/lib/python3.9/site-packages/numpy/core/fromnumeric.py:3156: VisibleDeprecationWarning: Creating an ndarray from ragged nested sequences (which is a list-or-tuple of lists-or-tuples-or ndarrays with different lengths or shapes) is deprecated. If you meant to do this, you must specify 'dtype=object' when creating the ndarray.\n",
      "  return asarray(a).ndim\n",
      "/Users/lara.thompson/.local/share/virtualenvs/lara.thompson-C83ZgnRu/lib/python3.9/site-packages/torch/autocast_mode.py:141: UserWarning: User provided device_type of 'cuda', but CUDA is not available. Disabling\n",
      "  warnings.warn('User provided device_type of \\'cuda\\', but CUDA is not available. Disabling')\n",
      "/Users/lara.thompson/.local/share/virtualenvs/lara.thompson-C83ZgnRu/lib/python3.9/site-packages/numpy/core/fromnumeric.py:3156: VisibleDeprecationWarning: Creating an ndarray from ragged nested sequences (which is a list-or-tuple of lists-or-tuples-or ndarrays with different lengths or shapes) is deprecated. If you meant to do this, you must specify 'dtype=object' when creating the ndarray.\n",
      "  return asarray(a).ndim\n"
     ]
    },
    {
     "name": "stdout",
     "output_type": "stream",
     "text": [
      "296  Wax Crayon\n"
     ]
    },
    {
     "name": "stderr",
     "output_type": "stream",
     "text": [
      "/Users/lara.thompson/.local/share/virtualenvs/lara.thompson-C83ZgnRu/lib/python3.9/site-packages/torch/autocast_mode.py:141: UserWarning: User provided device_type of 'cuda', but CUDA is not available. Disabling\n",
      "  warnings.warn('User provided device_type of \\'cuda\\', but CUDA is not available. Disabling')\n",
      "/Users/lara.thompson/.local/share/virtualenvs/lara.thompson-C83ZgnRu/lib/python3.9/site-packages/numpy/core/fromnumeric.py:3156: VisibleDeprecationWarning: Creating an ndarray from ragged nested sequences (which is a list-or-tuple of lists-or-tuples-or ndarrays with different lengths or shapes) is deprecated. If you meant to do this, you must specify 'dtype=object' when creating the ndarray.\n",
      "  return asarray(a).ndim\n",
      "/Users/lara.thompson/.local/share/virtualenvs/lara.thompson-C83ZgnRu/lib/python3.9/site-packages/torch/autocast_mode.py:141: UserWarning: User provided device_type of 'cuda', but CUDA is not available. Disabling\n",
      "  warnings.warn('User provided device_type of \\'cuda\\', but CUDA is not available. Disabling')\n",
      "/Users/lara.thompson/.local/share/virtualenvs/lara.thompson-C83ZgnRu/lib/python3.9/site-packages/numpy/core/fromnumeric.py:3156: VisibleDeprecationWarning: Creating an ndarray from ragged nested sequences (which is a list-or-tuple of lists-or-tuples-or ndarrays with different lengths or shapes) is deprecated. If you meant to do this, you must specify 'dtype=object' when creating the ndarray.\n",
      "  return asarray(a).ndim\n"
     ]
    },
    {
     "name": "stdout",
     "output_type": "stream",
     "text": [
      "298  Alice Walker was born in Eatonton, Georgia, United States.\n"
     ]
    },
    {
     "name": "stderr",
     "output_type": "stream",
     "text": [
      "/Users/lara.thompson/.local/share/virtualenvs/lara.thompson-C83ZgnRu/lib/python3.9/site-packages/torch/autocast_mode.py:141: UserWarning: User provided device_type of 'cuda', but CUDA is not available. Disabling\n",
      "  warnings.warn('User provided device_type of \\'cuda\\', but CUDA is not available. Disabling')\n",
      "/Users/lara.thompson/.local/share/virtualenvs/lara.thompson-C83ZgnRu/lib/python3.9/site-packages/numpy/core/fromnumeric.py:3156: VisibleDeprecationWarning: Creating an ndarray from ragged nested sequences (which is a list-or-tuple of lists-or-tuples-or ndarrays with different lengths or shapes) is deprecated. If you meant to do this, you must specify 'dtype=object' when creating the ndarray.\n",
      "  return asarray(a).ndim\n",
      "/Users/lara.thompson/.local/share/virtualenvs/lara.thompson-C83ZgnRu/lib/python3.9/site-packages/torch/autocast_mode.py:141: UserWarning: User provided device_type of 'cuda', but CUDA is not available. Disabling\n",
      "  warnings.warn('User provided device_type of \\'cuda\\', but CUDA is not available. Disabling')\n",
      "/Users/lara.thompson/.local/share/virtualenvs/lara.thompson-C83ZgnRu/lib/python3.9/site-packages/numpy/core/fromnumeric.py:3156: VisibleDeprecationWarning: Creating an ndarray from ragged nested sequences (which is a list-or-tuple of lists-or-tuples-or ndarrays with different lengths or shapes) is deprecated. If you meant to do this, you must specify 'dtype=object' when creating the ndarray.\n",
      "  return asarray(a).ndim\n"
     ]
    },
    {
     "name": "stdout",
     "output_type": "stream",
     "text": [
      "300  July 20, 1969\n"
     ]
    },
    {
     "name": "stderr",
     "output_type": "stream",
     "text": [
      "/Users/lara.thompson/.local/share/virtualenvs/lara.thompson-C83ZgnRu/lib/python3.9/site-packages/torch/autocast_mode.py:141: UserWarning: User provided device_type of 'cuda', but CUDA is not available. Disabling\n",
      "  warnings.warn('User provided device_type of \\'cuda\\', but CUDA is not available. Disabling')\n",
      "/Users/lara.thompson/.local/share/virtualenvs/lara.thompson-C83ZgnRu/lib/python3.9/site-packages/numpy/core/fromnumeric.py:3156: VisibleDeprecationWarning: Creating an ndarray from ragged nested sequences (which is a list-or-tuple of lists-or-tuples-or ndarrays with different lengths or shapes) is deprecated. If you meant to do this, you must specify 'dtype=object' when creating the ndarray.\n",
      "  return asarray(a).ndim\n"
     ]
    },
    {
     "name": "stdout",
     "output_type": "stream",
     "text": [
      "301  traditional Italian sweet yeast bread\n"
     ]
    },
    {
     "name": "stderr",
     "output_type": "stream",
     "text": [
      "/Users/lara.thompson/.local/share/virtualenvs/lara.thompson-C83ZgnRu/lib/python3.9/site-packages/torch/autocast_mode.py:141: UserWarning: User provided device_type of 'cuda', but CUDA is not available. Disabling\n",
      "  warnings.warn('User provided device_type of \\'cuda\\', but CUDA is not available. Disabling')\n",
      "/Users/lara.thompson/.local/share/virtualenvs/lara.thompson-C83ZgnRu/lib/python3.9/site-packages/numpy/core/fromnumeric.py:3156: VisibleDeprecationWarning: Creating an ndarray from ragged nested sequences (which is a list-or-tuple of lists-or-tuples-or ndarrays with different lengths or shapes) is deprecated. If you meant to do this, you must specify 'dtype=object' when creating the ndarray.\n",
      "  return asarray(a).ndim\n",
      "/Users/lara.thompson/.local/share/virtualenvs/lara.thompson-C83ZgnRu/lib/python3.9/site-packages/torch/autocast_mode.py:141: UserWarning: User provided device_type of 'cuda', but CUDA is not available. Disabling\n",
      "  warnings.warn('User provided device_type of \\'cuda\\', but CUDA is not available. Disabling')\n",
      "/Users/lara.thompson/.local/share/virtualenvs/lara.thompson-C83ZgnRu/lib/python3.9/site-packages/numpy/core/fromnumeric.py:3156: VisibleDeprecationWarning: Creating an ndarray from ragged nested sequences (which is a list-or-tuple of lists-or-tuples-or ndarrays with different lengths or shapes) is deprecated. If you meant to do this, you must specify 'dtype=object' when creating the ndarray.\n",
      "  return asarray(a).ndim\n"
     ]
    },
    {
     "name": "stdout",
     "output_type": "stream",
     "text": [
      "303  $7.25 per hour\n"
     ]
    },
    {
     "name": "stderr",
     "output_type": "stream",
     "text": [
      "/Users/lara.thompson/.local/share/virtualenvs/lara.thompson-C83ZgnRu/lib/python3.9/site-packages/torch/autocast_mode.py:141: UserWarning: User provided device_type of 'cuda', but CUDA is not available. Disabling\n",
      "  warnings.warn('User provided device_type of \\'cuda\\', but CUDA is not available. Disabling')\n",
      "/Users/lara.thompson/.local/share/virtualenvs/lara.thompson-C83ZgnRu/lib/python3.9/site-packages/numpy/core/fromnumeric.py:3156: VisibleDeprecationWarning: Creating an ndarray from ragged nested sequences (which is a list-or-tuple of lists-or-tuples-or ndarrays with different lengths or shapes) is deprecated. If you meant to do this, you must specify 'dtype=object' when creating the ndarray.\n",
      "  return asarray(a).ndim\n",
      "/Users/lara.thompson/.local/share/virtualenvs/lara.thompson-C83ZgnRu/lib/python3.9/site-packages/torch/autocast_mode.py:141: UserWarning: User provided device_type of 'cuda', but CUDA is not available. Disabling\n",
      "  warnings.warn('User provided device_type of \\'cuda\\', but CUDA is not available. Disabling')\n",
      "/Users/lara.thompson/.local/share/virtualenvs/lara.thompson-C83ZgnRu/lib/python3.9/site-packages/numpy/core/fromnumeric.py:3156: VisibleDeprecationWarning: Creating an ndarray from ragged nested sequences (which is a list-or-tuple of lists-or-tuples-or ndarrays with different lengths or shapes) is deprecated. If you meant to do this, you must specify 'dtype=object' when creating the ndarray.\n",
      "  return asarray(a).ndim\n"
     ]
    },
    {
     "name": "stdout",
     "output_type": "stream",
     "text": [
      "305  Fayette, New York\n"
     ]
    },
    {
     "name": "stderr",
     "output_type": "stream",
     "text": [
      "/Users/lara.thompson/.local/share/virtualenvs/lara.thompson-C83ZgnRu/lib/python3.9/site-packages/torch/autocast_mode.py:141: UserWarning: User provided device_type of 'cuda', but CUDA is not available. Disabling\n",
      "  warnings.warn('User provided device_type of \\'cuda\\', but CUDA is not available. Disabling')\n",
      "/Users/lara.thompson/.local/share/virtualenvs/lara.thompson-C83ZgnRu/lib/python3.9/site-packages/numpy/core/fromnumeric.py:3156: VisibleDeprecationWarning: Creating an ndarray from ragged nested sequences (which is a list-or-tuple of lists-or-tuples-or ndarrays with different lengths or shapes) is deprecated. If you meant to do this, you must specify 'dtype=object' when creating the ndarray.\n",
      "  return asarray(a).ndim\n",
      "/Users/lara.thompson/.local/share/virtualenvs/lara.thompson-C83ZgnRu/lib/python3.9/site-packages/torch/autocast_mode.py:141: UserWarning: User provided device_type of 'cuda', but CUDA is not available. Disabling\n",
      "  warnings.warn('User provided device_type of \\'cuda\\', but CUDA is not available. Disabling')\n",
      "/Users/lara.thompson/.local/share/virtualenvs/lara.thompson-C83ZgnRu/lib/python3.9/site-packages/numpy/core/fromnumeric.py:3156: VisibleDeprecationWarning: Creating an ndarray from ragged nested sequences (which is a list-or-tuple of lists-or-tuples-or ndarrays with different lengths or shapes) is deprecated. If you meant to do this, you must specify 'dtype=object' when creating the ndarray.\n",
      "  return asarray(a).ndim\n"
     ]
    },
    {
     "name": "stdout",
     "output_type": "stream",
     "text": [
      "307  California\n"
     ]
    },
    {
     "name": "stderr",
     "output_type": "stream",
     "text": [
      "/Users/lara.thompson/.local/share/virtualenvs/lara.thompson-C83ZgnRu/lib/python3.9/site-packages/torch/autocast_mode.py:141: UserWarning: User provided device_type of 'cuda', but CUDA is not available. Disabling\n",
      "  warnings.warn('User provided device_type of \\'cuda\\', but CUDA is not available. Disabling')\n",
      "/Users/lara.thompson/.local/share/virtualenvs/lara.thompson-C83ZgnRu/lib/python3.9/site-packages/numpy/core/fromnumeric.py:3156: VisibleDeprecationWarning: Creating an ndarray from ragged nested sequences (which is a list-or-tuple of lists-or-tuples-or ndarrays with different lengths or shapes) is deprecated. If you meant to do this, you must specify 'dtype=object' when creating the ndarray.\n",
      "  return asarray(a).ndim\n"
     ]
    },
    {
     "name": "stdout",
     "output_type": "stream",
     "text": [
      "308  Paris, France\n"
     ]
    },
    {
     "name": "stderr",
     "output_type": "stream",
     "text": [
      "/Users/lara.thompson/.local/share/virtualenvs/lara.thompson-C83ZgnRu/lib/python3.9/site-packages/torch/autocast_mode.py:141: UserWarning: User provided device_type of 'cuda', but CUDA is not available. Disabling\n",
      "  warnings.warn('User provided device_type of \\'cuda\\', but CUDA is not available. Disabling')\n",
      "/Users/lara.thompson/.local/share/virtualenvs/lara.thompson-C83ZgnRu/lib/python3.9/site-packages/numpy/core/fromnumeric.py:3156: VisibleDeprecationWarning: Creating an ndarray from ragged nested sequences (which is a list-or-tuple of lists-or-tuples-or ndarrays with different lengths or shapes) is deprecated. If you meant to do this, you must specify 'dtype=object' when creating the ndarray.\n",
      "  return asarray(a).ndim\n"
     ]
    },
    {
     "name": "stdout",
     "output_type": "stream",
     "text": [
      "309  Alabama Crimson Tide and Georgia Bulldogs\n"
     ]
    },
    {
     "name": "stderr",
     "output_type": "stream",
     "text": [
      "/Users/lara.thompson/.local/share/virtualenvs/lara.thompson-C83ZgnRu/lib/python3.9/site-packages/torch/autocast_mode.py:141: UserWarning: User provided device_type of 'cuda', but CUDA is not available. Disabling\n",
      "  warnings.warn('User provided device_type of \\'cuda\\', but CUDA is not available. Disabling')\n",
      "/Users/lara.thompson/.local/share/virtualenvs/lara.thompson-C83ZgnRu/lib/python3.9/site-packages/numpy/core/fromnumeric.py:3156: VisibleDeprecationWarning: Creating an ndarray from ragged nested sequences (which is a list-or-tuple of lists-or-tuples-or ndarrays with different lengths or shapes) is deprecated. If you meant to do this, you must specify 'dtype=object' when creating the ndarray.\n",
      "  return asarray(a).ndim\n",
      "/Users/lara.thompson/.local/share/virtualenvs/lara.thompson-C83ZgnRu/lib/python3.9/site-packages/torch/autocast_mode.py:141: UserWarning: User provided device_type of 'cuda', but CUDA is not available. Disabling\n",
      "  warnings.warn('User provided device_type of \\'cuda\\', but CUDA is not available. Disabling')\n",
      "/Users/lara.thompson/.local/share/virtualenvs/lara.thompson-C83ZgnRu/lib/python3.9/site-packages/numpy/core/fromnumeric.py:3156: VisibleDeprecationWarning: Creating an ndarray from ragged nested sequences (which is a list-or-tuple of lists-or-tuples-or ndarrays with different lengths or shapes) is deprecated. If you meant to do this, you must specify 'dtype=object' when creating the ndarray.\n",
      "  return asarray(a).ndim\n",
      "/Users/lara.thompson/.local/share/virtualenvs/lara.thompson-C83ZgnRu/lib/python3.9/site-packages/torch/autocast_mode.py:141: UserWarning: User provided device_type of 'cuda', but CUDA is not available. Disabling\n",
      "  warnings.warn('User provided device_type of \\'cuda\\', but CUDA is not available. Disabling')\n",
      "/Users/lara.thompson/.local/share/virtualenvs/lara.thompson-C83ZgnRu/lib/python3.9/site-packages/numpy/core/fromnumeric.py:3156: VisibleDeprecationWarning: Creating an ndarray from ragged nested sequences (which is a list-or-tuple of lists-or-tuples-or ndarrays with different lengths or shapes) is deprecated. If you meant to do this, you must specify 'dtype=object' when creating the ndarray.\n",
      "  return asarray(a).ndim\n"
     ]
    },
    {
     "name": "stdout",
     "output_type": "stream",
     "text": [
      "312  Georgia Moffett\n"
     ]
    },
    {
     "name": "stderr",
     "output_type": "stream",
     "text": [
      "/Users/lara.thompson/.local/share/virtualenvs/lara.thompson-C83ZgnRu/lib/python3.9/site-packages/torch/autocast_mode.py:141: UserWarning: User provided device_type of 'cuda', but CUDA is not available. Disabling\n",
      "  warnings.warn('User provided device_type of \\'cuda\\', but CUDA is not available. Disabling')\n",
      "/Users/lara.thompson/.local/share/virtualenvs/lara.thompson-C83ZgnRu/lib/python3.9/site-packages/numpy/core/fromnumeric.py:3156: VisibleDeprecationWarning: Creating an ndarray from ragged nested sequences (which is a list-or-tuple of lists-or-tuples-or ndarrays with different lengths or shapes) is deprecated. If you meant to do this, you must specify 'dtype=object' when creating the ndarray.\n",
      "  return asarray(a).ndim\n"
     ]
    },
    {
     "name": "stdout",
     "output_type": "stream",
     "text": [
      "313  bright colors such as yellow, blue, green, and red.\n"
     ]
    },
    {
     "name": "stderr",
     "output_type": "stream",
     "text": [
      "/Users/lara.thompson/.local/share/virtualenvs/lara.thompson-C83ZgnRu/lib/python3.9/site-packages/torch/autocast_mode.py:141: UserWarning: User provided device_type of 'cuda', but CUDA is not available. Disabling\n",
      "  warnings.warn('User provided device_type of \\'cuda\\', but CUDA is not available. Disabling')\n",
      "/Users/lara.thompson/.local/share/virtualenvs/lara.thompson-C83ZgnRu/lib/python3.9/site-packages/numpy/core/fromnumeric.py:3156: VisibleDeprecationWarning: Creating an ndarray from ragged nested sequences (which is a list-or-tuple of lists-or-tuples-or ndarrays with different lengths or shapes) is deprecated. If you meant to do this, you must specify 'dtype=object' when creating the ndarray.\n",
      "  return asarray(a).ndim\n"
     ]
    },
    {
     "name": "stdout",
     "output_type": "stream",
     "text": [
      "314  Pop Art\n"
     ]
    },
    {
     "name": "stderr",
     "output_type": "stream",
     "text": [
      "/Users/lara.thompson/.local/share/virtualenvs/lara.thompson-C83ZgnRu/lib/python3.9/site-packages/torch/autocast_mode.py:141: UserWarning: User provided device_type of 'cuda', but CUDA is not available. Disabling\n",
      "  warnings.warn('User provided device_type of \\'cuda\\', but CUDA is not available. Disabling')\n",
      "/Users/lara.thompson/.local/share/virtualenvs/lara.thompson-C83ZgnRu/lib/python3.9/site-packages/numpy/core/fromnumeric.py:3156: VisibleDeprecationWarning: Creating an ndarray from ragged nested sequences (which is a list-or-tuple of lists-or-tuples-or ndarrays with different lengths or shapes) is deprecated. If you meant to do this, you must specify 'dtype=object' when creating the ndarray.\n",
      "  return asarray(a).ndim\n"
     ]
    },
    {
     "name": "stdout",
     "output_type": "stream",
     "text": [
      "315  Brazilian real\n"
     ]
    },
    {
     "name": "stderr",
     "output_type": "stream",
     "text": [
      "/Users/lara.thompson/.local/share/virtualenvs/lara.thompson-C83ZgnRu/lib/python3.9/site-packages/torch/autocast_mode.py:141: UserWarning: User provided device_type of 'cuda', but CUDA is not available. Disabling\n",
      "  warnings.warn('User provided device_type of \\'cuda\\', but CUDA is not available. Disabling')\n",
      "/Users/lara.thompson/.local/share/virtualenvs/lara.thompson-C83ZgnRu/lib/python3.9/site-packages/numpy/core/fromnumeric.py:3156: VisibleDeprecationWarning: Creating an ndarray from ragged nested sequences (which is a list-or-tuple of lists-or-tuples-or ndarrays with different lengths or shapes) is deprecated. If you meant to do this, you must specify 'dtype=object' when creating the ndarray.\n",
      "  return asarray(a).ndim\n",
      "/Users/lara.thompson/.local/share/virtualenvs/lara.thompson-C83ZgnRu/lib/python3.9/site-packages/torch/autocast_mode.py:141: UserWarning: User provided device_type of 'cuda', but CUDA is not available. Disabling\n",
      "  warnings.warn('User provided device_type of \\'cuda\\', but CUDA is not available. Disabling')\n",
      "/Users/lara.thompson/.local/share/virtualenvs/lara.thompson-C83ZgnRu/lib/python3.9/site-packages/numpy/core/fromnumeric.py:3156: VisibleDeprecationWarning: Creating an ndarray from ragged nested sequences (which is a list-or-tuple of lists-or-tuples-or ndarrays with different lengths or shapes) is deprecated. If you meant to do this, you must specify 'dtype=object' when creating the ndarray.\n",
      "  return asarray(a).ndim\n",
      "/Users/lara.thompson/.local/share/virtualenvs/lara.thompson-C83ZgnRu/lib/python3.9/site-packages/torch/autocast_mode.py:141: UserWarning: User provided device_type of 'cuda', but CUDA is not available. Disabling\n",
      "  warnings.warn('User provided device_type of \\'cuda\\', but CUDA is not available. Disabling')\n",
      "/Users/lara.thompson/.local/share/virtualenvs/lara.thompson-C83ZgnRu/lib/python3.9/site-packages/numpy/core/fromnumeric.py:3156: VisibleDeprecationWarning: Creating an ndarray from ragged nested sequences (which is a list-or-tuple of lists-or-tuples-or ndarrays with different lengths or shapes) is deprecated. If you meant to do this, you must specify 'dtype=object' when creating the ndarray.\n",
      "  return asarray(a).ndim\n",
      "/Users/lara.thompson/.local/share/virtualenvs/lara.thompson-C83ZgnRu/lib/python3.9/site-packages/torch/autocast_mode.py:141: UserWarning: User provided device_type of 'cuda', but CUDA is not available. Disabling\n",
      "  warnings.warn('User provided device_type of \\'cuda\\', but CUDA is not available. Disabling')\n",
      "/Users/lara.thompson/.local/share/virtualenvs/lara.thompson-C83ZgnRu/lib/python3.9/site-packages/numpy/core/fromnumeric.py:3156: VisibleDeprecationWarning: Creating an ndarray from ragged nested sequences (which is a list-or-tuple of lists-or-tuples-or ndarrays with different lengths or shapes) is deprecated. If you meant to do this, you must specify 'dtype=object' when creating the ndarray.\n",
      "  return asarray(a).ndim\n",
      "/Users/lara.thompson/.local/share/virtualenvs/lara.thompson-C83ZgnRu/lib/python3.9/site-packages/torch/autocast_mode.py:141: UserWarning: User provided device_type of 'cuda', but CUDA is not available. Disabling\n",
      "  warnings.warn('User provided device_type of \\'cuda\\', but CUDA is not available. Disabling')\n",
      "/Users/lara.thompson/.local/share/virtualenvs/lara.thompson-C83ZgnRu/lib/python3.9/site-packages/numpy/core/fromnumeric.py:3156: VisibleDeprecationWarning: Creating an ndarray from ragged nested sequences (which is a list-or-tuple of lists-or-tuples-or ndarrays with different lengths or shapes) is deprecated. If you meant to do this, you must specify 'dtype=object' when creating the ndarray.\n",
      "  return asarray(a).ndim\n"
     ]
    },
    {
     "name": "stdout",
     "output_type": "stream",
     "text": [
      "320  an infectious disease caused by the poliovirus\n"
     ]
    },
    {
     "name": "stderr",
     "output_type": "stream",
     "text": [
      "/Users/lara.thompson/.local/share/virtualenvs/lara.thompson-C83ZgnRu/lib/python3.9/site-packages/torch/autocast_mode.py:141: UserWarning: User provided device_type of 'cuda', but CUDA is not available. Disabling\n",
      "  warnings.warn('User provided device_type of \\'cuda\\', but CUDA is not available. Disabling')\n",
      "/Users/lara.thompson/.local/share/virtualenvs/lara.thompson-C83ZgnRu/lib/python3.9/site-packages/numpy/core/fromnumeric.py:3156: VisibleDeprecationWarning: Creating an ndarray from ragged nested sequences (which is a list-or-tuple of lists-or-tuples-or ndarrays with different lengths or shapes) is deprecated. If you meant to do this, you must specify 'dtype=object' when creating the ndarray.\n",
      "  return asarray(a).ndim\n"
     ]
    },
    {
     "name": "stdout",
     "output_type": "stream",
     "text": [
      "321  Robin Williams\n"
     ]
    },
    {
     "name": "stderr",
     "output_type": "stream",
     "text": [
      "/Users/lara.thompson/.local/share/virtualenvs/lara.thompson-C83ZgnRu/lib/python3.9/site-packages/torch/autocast_mode.py:141: UserWarning: User provided device_type of 'cuda', but CUDA is not available. Disabling\n",
      "  warnings.warn('User provided device_type of \\'cuda\\', but CUDA is not available. Disabling')\n",
      "/Users/lara.thompson/.local/share/virtualenvs/lara.thompson-C83ZgnRu/lib/python3.9/site-packages/numpy/core/fromnumeric.py:3156: VisibleDeprecationWarning: Creating an ndarray from ragged nested sequences (which is a list-or-tuple of lists-or-tuples-or ndarrays with different lengths or shapes) is deprecated. If you meant to do this, you must specify 'dtype=object' when creating the ndarray.\n",
      "  return asarray(a).ndim\n",
      "/Users/lara.thompson/.local/share/virtualenvs/lara.thompson-C83ZgnRu/lib/python3.9/site-packages/torch/autocast_mode.py:141: UserWarning: User provided device_type of 'cuda', but CUDA is not available. Disabling\n",
      "  warnings.warn('User provided device_type of \\'cuda\\', but CUDA is not available. Disabling')\n",
      "/Users/lara.thompson/.local/share/virtualenvs/lara.thompson-C83ZgnRu/lib/python3.9/site-packages/numpy/core/fromnumeric.py:3156: VisibleDeprecationWarning: Creating an ndarray from ragged nested sequences (which is a list-or-tuple of lists-or-tuples-or ndarrays with different lengths or shapes) is deprecated. If you meant to do this, you must specify 'dtype=object' when creating the ndarray.\n",
      "  return asarray(a).ndim\n",
      "/Users/lara.thompson/.local/share/virtualenvs/lara.thompson-C83ZgnRu/lib/python3.9/site-packages/torch/autocast_mode.py:141: UserWarning: User provided device_type of 'cuda', but CUDA is not available. Disabling\n",
      "  warnings.warn('User provided device_type of \\'cuda\\', but CUDA is not available. Disabling')\n",
      "/Users/lara.thompson/.local/share/virtualenvs/lara.thompson-C83ZgnRu/lib/python3.9/site-packages/numpy/core/fromnumeric.py:3156: VisibleDeprecationWarning: Creating an ndarray from ragged nested sequences (which is a list-or-tuple of lists-or-tuples-or ndarrays with different lengths or shapes) is deprecated. If you meant to do this, you must specify 'dtype=object' when creating the ndarray.\n",
      "  return asarray(a).ndim\n"
     ]
    },
    {
     "name": "stdout",
     "output_type": "stream",
     "text": [
      "324  Uganda and Rwanda\n"
     ]
    },
    {
     "name": "stderr",
     "output_type": "stream",
     "text": [
      "/Users/lara.thompson/.local/share/virtualenvs/lara.thompson-C83ZgnRu/lib/python3.9/site-packages/torch/autocast_mode.py:141: UserWarning: User provided device_type of 'cuda', but CUDA is not available. Disabling\n",
      "  warnings.warn('User provided device_type of \\'cuda\\', but CUDA is not available. Disabling')\n",
      "/Users/lara.thompson/.local/share/virtualenvs/lara.thompson-C83ZgnRu/lib/python3.9/site-packages/numpy/core/fromnumeric.py:3156: VisibleDeprecationWarning: Creating an ndarray from ragged nested sequences (which is a list-or-tuple of lists-or-tuples-or ndarrays with different lengths or shapes) is deprecated. If you meant to do this, you must specify 'dtype=object' when creating the ndarray.\n",
      "  return asarray(a).ndim\n"
     ]
    },
    {
     "name": "stdout",
     "output_type": "stream",
     "text": [
      "325  an amount for each completed year of continuous service\n"
     ]
    },
    {
     "name": "stderr",
     "output_type": "stream",
     "text": [
      "/Users/lara.thompson/.local/share/virtualenvs/lara.thompson-C83ZgnRu/lib/python3.9/site-packages/torch/autocast_mode.py:141: UserWarning: User provided device_type of 'cuda', but CUDA is not available. Disabling\n",
      "  warnings.warn('User provided device_type of \\'cuda\\', but CUDA is not available. Disabling')\n",
      "/Users/lara.thompson/.local/share/virtualenvs/lara.thompson-C83ZgnRu/lib/python3.9/site-packages/numpy/core/fromnumeric.py:3156: VisibleDeprecationWarning: Creating an ndarray from ragged nested sequences (which is a list-or-tuple of lists-or-tuples-or ndarrays with different lengths or shapes) is deprecated. If you meant to do this, you must specify 'dtype=object' when creating the ndarray.\n",
      "  return asarray(a).ndim\n",
      "/Users/lara.thompson/.local/share/virtualenvs/lara.thompson-C83ZgnRu/lib/python3.9/site-packages/torch/autocast_mode.py:141: UserWarning: User provided device_type of 'cuda', but CUDA is not available. Disabling\n",
      "  warnings.warn('User provided device_type of \\'cuda\\', but CUDA is not available. Disabling')\n",
      "/Users/lara.thompson/.local/share/virtualenvs/lara.thompson-C83ZgnRu/lib/python3.9/site-packages/numpy/core/fromnumeric.py:3156: VisibleDeprecationWarning: Creating an ndarray from ragged nested sequences (which is a list-or-tuple of lists-or-tuples-or ndarrays with different lengths or shapes) is deprecated. If you meant to do this, you must specify 'dtype=object' when creating the ndarray.\n",
      "  return asarray(a).ndim\n",
      "/Users/lara.thompson/.local/share/virtualenvs/lara.thompson-C83ZgnRu/lib/python3.9/site-packages/torch/autocast_mode.py:141: UserWarning: User provided device_type of 'cuda', but CUDA is not available. Disabling\n",
      "  warnings.warn('User provided device_type of \\'cuda\\', but CUDA is not available. Disabling')\n",
      "/Users/lara.thompson/.local/share/virtualenvs/lara.thompson-C83ZgnRu/lib/python3.9/site-packages/numpy/core/fromnumeric.py:3156: VisibleDeprecationWarning: Creating an ndarray from ragged nested sequences (which is a list-or-tuple of lists-or-tuples-or ndarrays with different lengths or shapes) is deprecated. If you meant to do this, you must specify 'dtype=object' when creating the ndarray.\n",
      "  return asarray(a).ndim\n",
      "/Users/lara.thompson/.local/share/virtualenvs/lara.thompson-C83ZgnRu/lib/python3.9/site-packages/torch/autocast_mode.py:141: UserWarning: User provided device_type of 'cuda', but CUDA is not available. Disabling\n",
      "  warnings.warn('User provided device_type of \\'cuda\\', but CUDA is not available. Disabling')\n",
      "/Users/lara.thompson/.local/share/virtualenvs/lara.thompson-C83ZgnRu/lib/python3.9/site-packages/numpy/core/fromnumeric.py:3156: VisibleDeprecationWarning: Creating an ndarray from ragged nested sequences (which is a list-or-tuple of lists-or-tuples-or ndarrays with different lengths or shapes) is deprecated. If you meant to do this, you must specify 'dtype=object' when creating the ndarray.\n",
      "  return asarray(a).ndim\n",
      "/Users/lara.thompson/.local/share/virtualenvs/lara.thompson-C83ZgnRu/lib/python3.9/site-packages/torch/autocast_mode.py:141: UserWarning: User provided device_type of 'cuda', but CUDA is not available. Disabling\n",
      "  warnings.warn('User provided device_type of \\'cuda\\', but CUDA is not available. Disabling')\n",
      "/Users/lara.thompson/.local/share/virtualenvs/lara.thompson-C83ZgnRu/lib/python3.9/site-packages/numpy/core/fromnumeric.py:3156: VisibleDeprecationWarning: Creating an ndarray from ragged nested sequences (which is a list-or-tuple of lists-or-tuples-or ndarrays with different lengths or shapes) is deprecated. If you meant to do this, you must specify 'dtype=object' when creating the ndarray.\n",
      "  return asarray(a).ndim\n"
     ]
    },
    {
     "name": "stdout",
     "output_type": "stream",
     "text": [
      "330  electron\n"
     ]
    },
    {
     "name": "stderr",
     "output_type": "stream",
     "text": [
      "/Users/lara.thompson/.local/share/virtualenvs/lara.thompson-C83ZgnRu/lib/python3.9/site-packages/torch/autocast_mode.py:141: UserWarning: User provided device_type of 'cuda', but CUDA is not available. Disabling\n",
      "  warnings.warn('User provided device_type of \\'cuda\\', but CUDA is not available. Disabling')\n",
      "/Users/lara.thompson/.local/share/virtualenvs/lara.thompson-C83ZgnRu/lib/python3.9/site-packages/numpy/core/fromnumeric.py:3156: VisibleDeprecationWarning: Creating an ndarray from ragged nested sequences (which is a list-or-tuple of lists-or-tuples-or ndarrays with different lengths or shapes) is deprecated. If you meant to do this, you must specify 'dtype=object' when creating the ndarray.\n",
      "  return asarray(a).ndim\n",
      "/Users/lara.thompson/.local/share/virtualenvs/lara.thompson-C83ZgnRu/lib/python3.9/site-packages/torch/autocast_mode.py:141: UserWarning: User provided device_type of 'cuda', but CUDA is not available. Disabling\n",
      "  warnings.warn('User provided device_type of \\'cuda\\', but CUDA is not available. Disabling')\n",
      "/Users/lara.thompson/.local/share/virtualenvs/lara.thompson-C83ZgnRu/lib/python3.9/site-packages/numpy/core/fromnumeric.py:3156: VisibleDeprecationWarning: Creating an ndarray from ragged nested sequences (which is a list-or-tuple of lists-or-tuples-or ndarrays with different lengths or shapes) is deprecated. If you meant to do this, you must specify 'dtype=object' when creating the ndarray.\n",
      "  return asarray(a).ndim\n"
     ]
    },
    {
     "name": "stdout",
     "output_type": "stream",
     "text": [
      "332  Monasteries in England\n"
     ]
    },
    {
     "name": "stderr",
     "output_type": "stream",
     "text": [
      "/Users/lara.thompson/.local/share/virtualenvs/lara.thompson-C83ZgnRu/lib/python3.9/site-packages/torch/autocast_mode.py:141: UserWarning: User provided device_type of 'cuda', but CUDA is not available. Disabling\n",
      "  warnings.warn('User provided device_type of \\'cuda\\', but CUDA is not available. Disabling')\n",
      "/Users/lara.thompson/.local/share/virtualenvs/lara.thompson-C83ZgnRu/lib/python3.9/site-packages/numpy/core/fromnumeric.py:3156: VisibleDeprecationWarning: Creating an ndarray from ragged nested sequences (which is a list-or-tuple of lists-or-tuples-or ndarrays with different lengths or shapes) is deprecated. If you meant to do this, you must specify 'dtype=object' when creating the ndarray.\n",
      "  return asarray(a).ndim\n",
      "/Users/lara.thompson/.local/share/virtualenvs/lara.thompson-C83ZgnRu/lib/python3.9/site-packages/torch/autocast_mode.py:141: UserWarning: User provided device_type of 'cuda', but CUDA is not available. Disabling\n",
      "  warnings.warn('User provided device_type of \\'cuda\\', but CUDA is not available. Disabling')\n",
      "/Users/lara.thompson/.local/share/virtualenvs/lara.thompson-C83ZgnRu/lib/python3.9/site-packages/numpy/core/fromnumeric.py:3156: VisibleDeprecationWarning: Creating an ndarray from ragged nested sequences (which is a list-or-tuple of lists-or-tuples-or ndarrays with different lengths or shapes) is deprecated. If you meant to do this, you must specify 'dtype=object' when creating the ndarray.\n",
      "  return asarray(a).ndim\n"
     ]
    },
    {
     "name": "stdout",
     "output_type": "stream",
     "text": [
      "334  Las Vegas, Nevada\n"
     ]
    },
    {
     "name": "stderr",
     "output_type": "stream",
     "text": [
      "/Users/lara.thompson/.local/share/virtualenvs/lara.thompson-C83ZgnRu/lib/python3.9/site-packages/torch/autocast_mode.py:141: UserWarning: User provided device_type of 'cuda', but CUDA is not available. Disabling\n",
      "  warnings.warn('User provided device_type of \\'cuda\\', but CUDA is not available. Disabling')\n",
      "/Users/lara.thompson/.local/share/virtualenvs/lara.thompson-C83ZgnRu/lib/python3.9/site-packages/numpy/core/fromnumeric.py:3156: VisibleDeprecationWarning: Creating an ndarray from ragged nested sequences (which is a list-or-tuple of lists-or-tuples-or ndarrays with different lengths or shapes) is deprecated. If you meant to do this, you must specify 'dtype=object' when creating the ndarray.\n",
      "  return asarray(a).ndim\n",
      "/Users/lara.thompson/.local/share/virtualenvs/lara.thompson-C83ZgnRu/lib/python3.9/site-packages/torch/autocast_mode.py:141: UserWarning: User provided device_type of 'cuda', but CUDA is not available. Disabling\n",
      "  warnings.warn('User provided device_type of \\'cuda\\', but CUDA is not available. Disabling')\n",
      "/Users/lara.thompson/.local/share/virtualenvs/lara.thompson-C83ZgnRu/lib/python3.9/site-packages/numpy/core/fromnumeric.py:3156: VisibleDeprecationWarning: Creating an ndarray from ragged nested sequences (which is a list-or-tuple of lists-or-tuples-or ndarrays with different lengths or shapes) is deprecated. If you meant to do this, you must specify 'dtype=object' when creating the ndarray.\n",
      "  return asarray(a).ndim\n",
      "/Users/lara.thompson/.local/share/virtualenvs/lara.thompson-C83ZgnRu/lib/python3.9/site-packages/torch/autocast_mode.py:141: UserWarning: User provided device_type of 'cuda', but CUDA is not available. Disabling\n",
      "  warnings.warn('User provided device_type of \\'cuda\\', but CUDA is not available. Disabling')\n",
      "/Users/lara.thompson/.local/share/virtualenvs/lara.thompson-C83ZgnRu/lib/python3.9/site-packages/numpy/core/fromnumeric.py:3156: VisibleDeprecationWarning: Creating an ndarray from ragged nested sequences (which is a list-or-tuple of lists-or-tuples-or ndarrays with different lengths or shapes) is deprecated. If you meant to do this, you must specify 'dtype=object' when creating the ndarray.\n",
      "  return asarray(a).ndim\n"
     ]
    },
    {
     "name": "stdout",
     "output_type": "stream",
     "text": [
      "337  Fox and MLB International\n"
     ]
    },
    {
     "name": "stderr",
     "output_type": "stream",
     "text": [
      "/Users/lara.thompson/.local/share/virtualenvs/lara.thompson-C83ZgnRu/lib/python3.9/site-packages/torch/autocast_mode.py:141: UserWarning: User provided device_type of 'cuda', but CUDA is not available. Disabling\n",
      "  warnings.warn('User provided device_type of \\'cuda\\', but CUDA is not available. Disabling')\n",
      "/Users/lara.thompson/.local/share/virtualenvs/lara.thompson-C83ZgnRu/lib/python3.9/site-packages/numpy/core/fromnumeric.py:3156: VisibleDeprecationWarning: Creating an ndarray from ragged nested sequences (which is a list-or-tuple of lists-or-tuples-or ndarrays with different lengths or shapes) is deprecated. If you meant to do this, you must specify 'dtype=object' when creating the ndarray.\n",
      "  return asarray(a).ndim\n"
     ]
    },
    {
     "name": "stdout",
     "output_type": "stream",
     "text": [
      "338  August 27, 1908\n"
     ]
    },
    {
     "name": "stderr",
     "output_type": "stream",
     "text": [
      "/Users/lara.thompson/.local/share/virtualenvs/lara.thompson-C83ZgnRu/lib/python3.9/site-packages/torch/autocast_mode.py:141: UserWarning: User provided device_type of 'cuda', but CUDA is not available. Disabling\n",
      "  warnings.warn('User provided device_type of \\'cuda\\', but CUDA is not available. Disabling')\n",
      "/Users/lara.thompson/.local/share/virtualenvs/lara.thompson-C83ZgnRu/lib/python3.9/site-packages/numpy/core/fromnumeric.py:3156: VisibleDeprecationWarning: Creating an ndarray from ragged nested sequences (which is a list-or-tuple of lists-or-tuples-or ndarrays with different lengths or shapes) is deprecated. If you meant to do this, you must specify 'dtype=object' when creating the ndarray.\n",
      "  return asarray(a).ndim\n"
     ]
    },
    {
     "name": "stdout",
     "output_type": "stream",
     "text": [
      "339  an endocrine gland in the neck that secretes hormones\n"
     ]
    },
    {
     "name": "stderr",
     "output_type": "stream",
     "text": [
      "/Users/lara.thompson/.local/share/virtualenvs/lara.thompson-C83ZgnRu/lib/python3.9/site-packages/torch/autocast_mode.py:141: UserWarning: User provided device_type of 'cuda', but CUDA is not available. Disabling\n",
      "  warnings.warn('User provided device_type of \\'cuda\\', but CUDA is not available. Disabling')\n",
      "/Users/lara.thompson/.local/share/virtualenvs/lara.thompson-C83ZgnRu/lib/python3.9/site-packages/numpy/core/fromnumeric.py:3156: VisibleDeprecationWarning: Creating an ndarray from ragged nested sequences (which is a list-or-tuple of lists-or-tuples-or ndarrays with different lengths or shapes) is deprecated. If you meant to do this, you must specify 'dtype=object' when creating the ndarray.\n",
      "  return asarray(a).ndim\n",
      "/Users/lara.thompson/.local/share/virtualenvs/lara.thompson-C83ZgnRu/lib/python3.9/site-packages/torch/autocast_mode.py:141: UserWarning: User provided device_type of 'cuda', but CUDA is not available. Disabling\n",
      "  warnings.warn('User provided device_type of \\'cuda\\', but CUDA is not available. Disabling')\n",
      "/Users/lara.thompson/.local/share/virtualenvs/lara.thompson-C83ZgnRu/lib/python3.9/site-packages/numpy/core/fromnumeric.py:3156: VisibleDeprecationWarning: Creating an ndarray from ragged nested sequences (which is a list-or-tuple of lists-or-tuples-or ndarrays with different lengths or shapes) is deprecated. If you meant to do this, you must specify 'dtype=object' when creating the ndarray.\n",
      "  return asarray(a).ndim\n",
      "/Users/lara.thompson/.local/share/virtualenvs/lara.thompson-C83ZgnRu/lib/python3.9/site-packages/torch/autocast_mode.py:141: UserWarning: User provided device_type of 'cuda', but CUDA is not available. Disabling\n",
      "  warnings.warn('User provided device_type of \\'cuda\\', but CUDA is not available. Disabling')\n",
      "/Users/lara.thompson/.local/share/virtualenvs/lara.thompson-C83ZgnRu/lib/python3.9/site-packages/numpy/core/fromnumeric.py:3156: VisibleDeprecationWarning: Creating an ndarray from ragged nested sequences (which is a list-or-tuple of lists-or-tuples-or ndarrays with different lengths or shapes) is deprecated. If you meant to do this, you must specify 'dtype=object' when creating the ndarray.\n",
      "  return asarray(a).ndim\n"
     ]
    },
    {
     "name": "stdout",
     "output_type": "stream",
     "text": [
      "342  1861\n"
     ]
    },
    {
     "name": "stderr",
     "output_type": "stream",
     "text": [
      "/Users/lara.thompson/.local/share/virtualenvs/lara.thompson-C83ZgnRu/lib/python3.9/site-packages/torch/autocast_mode.py:141: UserWarning: User provided device_type of 'cuda', but CUDA is not available. Disabling\n",
      "  warnings.warn('User provided device_type of \\'cuda\\', but CUDA is not available. Disabling')\n",
      "/Users/lara.thompson/.local/share/virtualenvs/lara.thompson-C83ZgnRu/lib/python3.9/site-packages/numpy/core/fromnumeric.py:3156: VisibleDeprecationWarning: Creating an ndarray from ragged nested sequences (which is a list-or-tuple of lists-or-tuples-or ndarrays with different lengths or shapes) is deprecated. If you meant to do this, you must specify 'dtype=object' when creating the ndarray.\n",
      "  return asarray(a).ndim\n",
      "/Users/lara.thompson/.local/share/virtualenvs/lara.thompson-C83ZgnRu/lib/python3.9/site-packages/torch/autocast_mode.py:141: UserWarning: User provided device_type of 'cuda', but CUDA is not available. Disabling\n",
      "  warnings.warn('User provided device_type of \\'cuda\\', but CUDA is not available. Disabling')\n",
      "/Users/lara.thompson/.local/share/virtualenvs/lara.thompson-C83ZgnRu/lib/python3.9/site-packages/numpy/core/fromnumeric.py:3156: VisibleDeprecationWarning: Creating an ndarray from ragged nested sequences (which is a list-or-tuple of lists-or-tuples-or ndarrays with different lengths or shapes) is deprecated. If you meant to do this, you must specify 'dtype=object' when creating the ndarray.\n",
      "  return asarray(a).ndim\n"
     ]
    },
    {
     "name": "stdout",
     "output_type": "stream",
     "text": [
      "344  Dari and Pashto\n"
     ]
    },
    {
     "name": "stderr",
     "output_type": "stream",
     "text": [
      "/Users/lara.thompson/.local/share/virtualenvs/lara.thompson-C83ZgnRu/lib/python3.9/site-packages/torch/autocast_mode.py:141: UserWarning: User provided device_type of 'cuda', but CUDA is not available. Disabling\n",
      "  warnings.warn('User provided device_type of \\'cuda\\', but CUDA is not available. Disabling')\n",
      "/Users/lara.thompson/.local/share/virtualenvs/lara.thompson-C83ZgnRu/lib/python3.9/site-packages/numpy/core/fromnumeric.py:3156: VisibleDeprecationWarning: Creating an ndarray from ragged nested sequences (which is a list-or-tuple of lists-or-tuples-or ndarrays with different lengths or shapes) is deprecated. If you meant to do this, you must specify 'dtype=object' when creating the ndarray.\n",
      "  return asarray(a).ndim\n",
      "/Users/lara.thompson/.local/share/virtualenvs/lara.thompson-C83ZgnRu/lib/python3.9/site-packages/torch/autocast_mode.py:141: UserWarning: User provided device_type of 'cuda', but CUDA is not available. Disabling\n",
      "  warnings.warn('User provided device_type of \\'cuda\\', but CUDA is not available. Disabling')\n",
      "/Users/lara.thompson/.local/share/virtualenvs/lara.thompson-C83ZgnRu/lib/python3.9/site-packages/numpy/core/fromnumeric.py:3156: VisibleDeprecationWarning: Creating an ndarray from ragged nested sequences (which is a list-or-tuple of lists-or-tuples-or ndarrays with different lengths or shapes) is deprecated. If you meant to do this, you must specify 'dtype=object' when creating the ndarray.\n",
      "  return asarray(a).ndim\n",
      "/Users/lara.thompson/.local/share/virtualenvs/lara.thompson-C83ZgnRu/lib/python3.9/site-packages/torch/autocast_mode.py:141: UserWarning: User provided device_type of 'cuda', but CUDA is not available. Disabling\n",
      "  warnings.warn('User provided device_type of \\'cuda\\', but CUDA is not available. Disabling')\n",
      "/Users/lara.thompson/.local/share/virtualenvs/lara.thompson-C83ZgnRu/lib/python3.9/site-packages/numpy/core/fromnumeric.py:3156: VisibleDeprecationWarning: Creating an ndarray from ragged nested sequences (which is a list-or-tuple of lists-or-tuples-or ndarrays with different lengths or shapes) is deprecated. If you meant to do this, you must specify 'dtype=object' when creating the ndarray.\n",
      "  return asarray(a).ndim\n"
     ]
    },
    {
     "name": "stdout",
     "output_type": "stream",
     "text": [
      "347  Australia is located in the continent of Oceania.\n"
     ]
    },
    {
     "name": "stderr",
     "output_type": "stream",
     "text": [
      "/Users/lara.thompson/.local/share/virtualenvs/lara.thompson-C83ZgnRu/lib/python3.9/site-packages/torch/autocast_mode.py:141: UserWarning: User provided device_type of 'cuda', but CUDA is not available. Disabling\n",
      "  warnings.warn('User provided device_type of \\'cuda\\', but CUDA is not available. Disabling')\n",
      "/Users/lara.thompson/.local/share/virtualenvs/lara.thompson-C83ZgnRu/lib/python3.9/site-packages/numpy/core/fromnumeric.py:3156: VisibleDeprecationWarning: Creating an ndarray from ragged nested sequences (which is a list-or-tuple of lists-or-tuples-or ndarrays with different lengths or shapes) is deprecated. If you meant to do this, you must specify 'dtype=object' when creating the ndarray.\n",
      "  return asarray(a).ndim\n",
      "/Users/lara.thompson/.local/share/virtualenvs/lara.thompson-C83ZgnRu/lib/python3.9/site-packages/torch/autocast_mode.py:141: UserWarning: User provided device_type of 'cuda', but CUDA is not available. Disabling\n",
      "  warnings.warn('User provided device_type of \\'cuda\\', but CUDA is not available. Disabling')\n",
      "/Users/lara.thompson/.local/share/virtualenvs/lara.thompson-C83ZgnRu/lib/python3.9/site-packages/numpy/core/fromnumeric.py:3156: VisibleDeprecationWarning: Creating an ndarray from ragged nested sequences (which is a list-or-tuple of lists-or-tuples-or ndarrays with different lengths or shapes) is deprecated. If you meant to do this, you must specify 'dtype=object' when creating the ndarray.\n",
      "  return asarray(a).ndim\n",
      "/Users/lara.thompson/.local/share/virtualenvs/lara.thompson-C83ZgnRu/lib/python3.9/site-packages/torch/autocast_mode.py:141: UserWarning: User provided device_type of 'cuda', but CUDA is not available. Disabling\n",
      "  warnings.warn('User provided device_type of \\'cuda\\', but CUDA is not available. Disabling')\n",
      "/Users/lara.thompson/.local/share/virtualenvs/lara.thompson-C83ZgnRu/lib/python3.9/site-packages/numpy/core/fromnumeric.py:3156: VisibleDeprecationWarning: Creating an ndarray from ragged nested sequences (which is a list-or-tuple of lists-or-tuples-or ndarrays with different lengths or shapes) is deprecated. If you meant to do this, you must specify 'dtype=object' when creating the ndarray.\n",
      "  return asarray(a).ndim\n"
     ]
    },
    {
     "name": "stdout",
     "output_type": "stream",
     "text": [
      "350  Strait of Anián\n"
     ]
    },
    {
     "name": "stderr",
     "output_type": "stream",
     "text": [
      "/Users/lara.thompson/.local/share/virtualenvs/lara.thompson-C83ZgnRu/lib/python3.9/site-packages/torch/autocast_mode.py:141: UserWarning: User provided device_type of 'cuda', but CUDA is not available. Disabling\n",
      "  warnings.warn('User provided device_type of \\'cuda\\', but CUDA is not available. Disabling')\n",
      "/Users/lara.thompson/.local/share/virtualenvs/lara.thompson-C83ZgnRu/lib/python3.9/site-packages/numpy/core/fromnumeric.py:3156: VisibleDeprecationWarning: Creating an ndarray from ragged nested sequences (which is a list-or-tuple of lists-or-tuples-or ndarrays with different lengths or shapes) is deprecated. If you meant to do this, you must specify 'dtype=object' when creating the ndarray.\n",
      "  return asarray(a).ndim\n"
     ]
    },
    {
     "name": "stdout",
     "output_type": "stream",
     "text": [
      "351  William Seward\n"
     ]
    },
    {
     "name": "stderr",
     "output_type": "stream",
     "text": [
      "/Users/lara.thompson/.local/share/virtualenvs/lara.thompson-C83ZgnRu/lib/python3.9/site-packages/torch/autocast_mode.py:141: UserWarning: User provided device_type of 'cuda', but CUDA is not available. Disabling\n",
      "  warnings.warn('User provided device_type of \\'cuda\\', but CUDA is not available. Disabling')\n",
      "/Users/lara.thompson/.local/share/virtualenvs/lara.thompson-C83ZgnRu/lib/python3.9/site-packages/numpy/core/fromnumeric.py:3156: VisibleDeprecationWarning: Creating an ndarray from ragged nested sequences (which is a list-or-tuple of lists-or-tuples-or ndarrays with different lengths or shapes) is deprecated. If you meant to do this, you must specify 'dtype=object' when creating the ndarray.\n",
      "  return asarray(a).ndim\n"
     ]
    },
    {
     "name": "stdout",
     "output_type": "stream",
     "text": [
      "352  Yes, rifles must be registered in Michigan.\n"
     ]
    },
    {
     "name": "stderr",
     "output_type": "stream",
     "text": [
      "/Users/lara.thompson/.local/share/virtualenvs/lara.thompson-C83ZgnRu/lib/python3.9/site-packages/torch/autocast_mode.py:141: UserWarning: User provided device_type of 'cuda', but CUDA is not available. Disabling\n",
      "  warnings.warn('User provided device_type of \\'cuda\\', but CUDA is not available. Disabling')\n",
      "/Users/lara.thompson/.local/share/virtualenvs/lara.thompson-C83ZgnRu/lib/python3.9/site-packages/numpy/core/fromnumeric.py:3156: VisibleDeprecationWarning: Creating an ndarray from ragged nested sequences (which is a list-or-tuple of lists-or-tuples-or ndarrays with different lengths or shapes) is deprecated. If you meant to do this, you must specify 'dtype=object' when creating the ndarray.\n",
      "  return asarray(a).ndim\n",
      "/Users/lara.thompson/.local/share/virtualenvs/lara.thompson-C83ZgnRu/lib/python3.9/site-packages/torch/autocast_mode.py:141: UserWarning: User provided device_type of 'cuda', but CUDA is not available. Disabling\n",
      "  warnings.warn('User provided device_type of \\'cuda\\', but CUDA is not available. Disabling')\n",
      "/Users/lara.thompson/.local/share/virtualenvs/lara.thompson-C83ZgnRu/lib/python3.9/site-packages/numpy/core/fromnumeric.py:3156: VisibleDeprecationWarning: Creating an ndarray from ragged nested sequences (which is a list-or-tuple of lists-or-tuples-or ndarrays with different lengths or shapes) is deprecated. If you meant to do this, you must specify 'dtype=object' when creating the ndarray.\n",
      "  return asarray(a).ndim\n",
      "/Users/lara.thompson/.local/share/virtualenvs/lara.thompson-C83ZgnRu/lib/python3.9/site-packages/torch/autocast_mode.py:141: UserWarning: User provided device_type of 'cuda', but CUDA is not available. Disabling\n",
      "  warnings.warn('User provided device_type of \\'cuda\\', but CUDA is not available. Disabling')\n",
      "/Users/lara.thompson/.local/share/virtualenvs/lara.thompson-C83ZgnRu/lib/python3.9/site-packages/numpy/core/fromnumeric.py:3156: VisibleDeprecationWarning: Creating an ndarray from ragged nested sequences (which is a list-or-tuple of lists-or-tuples-or ndarrays with different lengths or shapes) is deprecated. If you meant to do this, you must specify 'dtype=object' when creating the ndarray.\n",
      "  return asarray(a).ndim\n",
      "/Users/lara.thompson/.local/share/virtualenvs/lara.thompson-C83ZgnRu/lib/python3.9/site-packages/torch/autocast_mode.py:141: UserWarning: User provided device_type of 'cuda', but CUDA is not available. Disabling\n",
      "  warnings.warn('User provided device_type of \\'cuda\\', but CUDA is not available. Disabling')\n",
      "/Users/lara.thompson/.local/share/virtualenvs/lara.thompson-C83ZgnRu/lib/python3.9/site-packages/numpy/core/fromnumeric.py:3156: VisibleDeprecationWarning: Creating an ndarray from ragged nested sequences (which is a list-or-tuple of lists-or-tuples-or ndarrays with different lengths or shapes) is deprecated. If you meant to do this, you must specify 'dtype=object' when creating the ndarray.\n",
      "  return asarray(a).ndim\n",
      "/Users/lara.thompson/.local/share/virtualenvs/lara.thompson-C83ZgnRu/lib/python3.9/site-packages/torch/autocast_mode.py:141: UserWarning: User provided device_type of 'cuda', but CUDA is not available. Disabling\n",
      "  warnings.warn('User provided device_type of \\'cuda\\', but CUDA is not available. Disabling')\n",
      "/Users/lara.thompson/.local/share/virtualenvs/lara.thompson-C83ZgnRu/lib/python3.9/site-packages/numpy/core/fromnumeric.py:3156: VisibleDeprecationWarning: Creating an ndarray from ragged nested sequences (which is a list-or-tuple of lists-or-tuples-or ndarrays with different lengths or shapes) is deprecated. If you meant to do this, you must specify 'dtype=object' when creating the ndarray.\n",
      "  return asarray(a).ndim\n"
     ]
    },
    {
     "name": "stdout",
     "output_type": "stream",
     "text": [
      "357  October 26, 2018\n"
     ]
    },
    {
     "name": "stderr",
     "output_type": "stream",
     "text": [
      "/Users/lara.thompson/.local/share/virtualenvs/lara.thompson-C83ZgnRu/lib/python3.9/site-packages/torch/autocast_mode.py:141: UserWarning: User provided device_type of 'cuda', but CUDA is not available. Disabling\n",
      "  warnings.warn('User provided device_type of \\'cuda\\', but CUDA is not available. Disabling')\n",
      "/Users/lara.thompson/.local/share/virtualenvs/lara.thompson-C83ZgnRu/lib/python3.9/site-packages/numpy/core/fromnumeric.py:3156: VisibleDeprecationWarning: Creating an ndarray from ragged nested sequences (which is a list-or-tuple of lists-or-tuples-or ndarrays with different lengths or shapes) is deprecated. If you meant to do this, you must specify 'dtype=object' when creating the ndarray.\n",
      "  return asarray(a).ndim\n",
      "/Users/lara.thompson/.local/share/virtualenvs/lara.thompson-C83ZgnRu/lib/python3.9/site-packages/torch/autocast_mode.py:141: UserWarning: User provided device_type of 'cuda', but CUDA is not available. Disabling\n",
      "  warnings.warn('User provided device_type of \\'cuda\\', but CUDA is not available. Disabling')\n",
      "/Users/lara.thompson/.local/share/virtualenvs/lara.thompson-C83ZgnRu/lib/python3.9/site-packages/numpy/core/fromnumeric.py:3156: VisibleDeprecationWarning: Creating an ndarray from ragged nested sequences (which is a list-or-tuple of lists-or-tuples-or ndarrays with different lengths or shapes) is deprecated. If you meant to do this, you must specify 'dtype=object' when creating the ndarray.\n",
      "  return asarray(a).ndim\n",
      "/Users/lara.thompson/.local/share/virtualenvs/lara.thompson-C83ZgnRu/lib/python3.9/site-packages/torch/autocast_mode.py:141: UserWarning: User provided device_type of 'cuda', but CUDA is not available. Disabling\n",
      "  warnings.warn('User provided device_type of \\'cuda\\', but CUDA is not available. Disabling')\n",
      "/Users/lara.thompson/.local/share/virtualenvs/lara.thompson-C83ZgnRu/lib/python3.9/site-packages/numpy/core/fromnumeric.py:3156: VisibleDeprecationWarning: Creating an ndarray from ragged nested sequences (which is a list-or-tuple of lists-or-tuples-or ndarrays with different lengths or shapes) is deprecated. If you meant to do this, you must specify 'dtype=object' when creating the ndarray.\n",
      "  return asarray(a).ndim\n",
      "/Users/lara.thompson/.local/share/virtualenvs/lara.thompson-C83ZgnRu/lib/python3.9/site-packages/torch/autocast_mode.py:141: UserWarning: User provided device_type of 'cuda', but CUDA is not available. Disabling\n",
      "  warnings.warn('User provided device_type of \\'cuda\\', but CUDA is not available. Disabling')\n",
      "/Users/lara.thompson/.local/share/virtualenvs/lara.thompson-C83ZgnRu/lib/python3.9/site-packages/numpy/core/fromnumeric.py:3156: VisibleDeprecationWarning: Creating an ndarray from ragged nested sequences (which is a list-or-tuple of lists-or-tuples-or ndarrays with different lengths or shapes) is deprecated. If you meant to do this, you must specify 'dtype=object' when creating the ndarray.\n",
      "  return asarray(a).ndim\n"
     ]
    },
    {
     "name": "stdout",
     "output_type": "stream",
     "text": [
      "361  Rita Levi-Montalcini\n"
     ]
    },
    {
     "name": "stderr",
     "output_type": "stream",
     "text": [
      "/Users/lara.thompson/.local/share/virtualenvs/lara.thompson-C83ZgnRu/lib/python3.9/site-packages/torch/autocast_mode.py:141: UserWarning: User provided device_type of 'cuda', but CUDA is not available. Disabling\n",
      "  warnings.warn('User provided device_type of \\'cuda\\', but CUDA is not available. Disabling')\n",
      "/Users/lara.thompson/.local/share/virtualenvs/lara.thompson-C83ZgnRu/lib/python3.9/site-packages/numpy/core/fromnumeric.py:3156: VisibleDeprecationWarning: Creating an ndarray from ragged nested sequences (which is a list-or-tuple of lists-or-tuples-or ndarrays with different lengths or shapes) is deprecated. If you meant to do this, you must specify 'dtype=object' when creating the ndarray.\n",
      "  return asarray(a).ndim\n"
     ]
    },
    {
     "name": "stdout",
     "output_type": "stream",
     "text": [
      "362  San Francisco, California\n"
     ]
    },
    {
     "name": "stderr",
     "output_type": "stream",
     "text": [
      "/Users/lara.thompson/.local/share/virtualenvs/lara.thompson-C83ZgnRu/lib/python3.9/site-packages/torch/autocast_mode.py:141: UserWarning: User provided device_type of 'cuda', but CUDA is not available. Disabling\n",
      "  warnings.warn('User provided device_type of \\'cuda\\', but CUDA is not available. Disabling')\n",
      "/Users/lara.thompson/.local/share/virtualenvs/lara.thompson-C83ZgnRu/lib/python3.9/site-packages/numpy/core/fromnumeric.py:3156: VisibleDeprecationWarning: Creating an ndarray from ragged nested sequences (which is a list-or-tuple of lists-or-tuples-or ndarrays with different lengths or shapes) is deprecated. If you meant to do this, you must specify 'dtype=object' when creating the ndarray.\n",
      "  return asarray(a).ndim\n",
      "/Users/lara.thompson/.local/share/virtualenvs/lara.thompson-C83ZgnRu/lib/python3.9/site-packages/torch/autocast_mode.py:141: UserWarning: User provided device_type of 'cuda', but CUDA is not available. Disabling\n",
      "  warnings.warn('User provided device_type of \\'cuda\\', but CUDA is not available. Disabling')\n",
      "/Users/lara.thompson/.local/share/virtualenvs/lara.thompson-C83ZgnRu/lib/python3.9/site-packages/numpy/core/fromnumeric.py:3156: VisibleDeprecationWarning: Creating an ndarray from ragged nested sequences (which is a list-or-tuple of lists-or-tuples-or ndarrays with different lengths or shapes) is deprecated. If you meant to do this, you must specify 'dtype=object' when creating the ndarray.\n",
      "  return asarray(a).ndim\n"
     ]
    },
    {
     "name": "stdout",
     "output_type": "stream",
     "text": [
      "364  Level 7\n"
     ]
    },
    {
     "name": "stderr",
     "output_type": "stream",
     "text": [
      "/Users/lara.thompson/.local/share/virtualenvs/lara.thompson-C83ZgnRu/lib/python3.9/site-packages/torch/autocast_mode.py:141: UserWarning: User provided device_type of 'cuda', but CUDA is not available. Disabling\n",
      "  warnings.warn('User provided device_type of \\'cuda\\', but CUDA is not available. Disabling')\n",
      "/Users/lara.thompson/.local/share/virtualenvs/lara.thompson-C83ZgnRu/lib/python3.9/site-packages/numpy/core/fromnumeric.py:3156: VisibleDeprecationWarning: Creating an ndarray from ragged nested sequences (which is a list-or-tuple of lists-or-tuples-or ndarrays with different lengths or shapes) is deprecated. If you meant to do this, you must specify 'dtype=object' when creating the ndarray.\n",
      "  return asarray(a).ndim\n",
      "/Users/lara.thompson/.local/share/virtualenvs/lara.thompson-C83ZgnRu/lib/python3.9/site-packages/torch/autocast_mode.py:141: UserWarning: User provided device_type of 'cuda', but CUDA is not available. Disabling\n",
      "  warnings.warn('User provided device_type of \\'cuda\\', but CUDA is not available. Disabling')\n",
      "/Users/lara.thompson/.local/share/virtualenvs/lara.thompson-C83ZgnRu/lib/python3.9/site-packages/numpy/core/fromnumeric.py:3156: VisibleDeprecationWarning: Creating an ndarray from ragged nested sequences (which is a list-or-tuple of lists-or-tuples-or ndarrays with different lengths or shapes) is deprecated. If you meant to do this, you must specify 'dtype=object' when creating the ndarray.\n",
      "  return asarray(a).ndim\n"
     ]
    },
    {
     "name": "stdout",
     "output_type": "stream",
     "text": [
      "366  a set of ideas and practices regarding the metaphysical relationship between the mind and body created by L. Ron Hubbard\n"
     ]
    },
    {
     "name": "stderr",
     "output_type": "stream",
     "text": [
      "/Users/lara.thompson/.local/share/virtualenvs/lara.thompson-C83ZgnRu/lib/python3.9/site-packages/torch/autocast_mode.py:141: UserWarning: User provided device_type of 'cuda', but CUDA is not available. Disabling\n",
      "  warnings.warn('User provided device_type of \\'cuda\\', but CUDA is not available. Disabling')\n",
      "/Users/lara.thompson/.local/share/virtualenvs/lara.thompson-C83ZgnRu/lib/python3.9/site-packages/numpy/core/fromnumeric.py:3156: VisibleDeprecationWarning: Creating an ndarray from ragged nested sequences (which is a list-or-tuple of lists-or-tuples-or ndarrays with different lengths or shapes) is deprecated. If you meant to do this, you must specify 'dtype=object' when creating the ndarray.\n",
      "  return asarray(a).ndim\n",
      "/Users/lara.thompson/.local/share/virtualenvs/lara.thompson-C83ZgnRu/lib/python3.9/site-packages/torch/autocast_mode.py:141: UserWarning: User provided device_type of 'cuda', but CUDA is not available. Disabling\n",
      "  warnings.warn('User provided device_type of \\'cuda\\', but CUDA is not available. Disabling')\n",
      "/Users/lara.thompson/.local/share/virtualenvs/lara.thompson-C83ZgnRu/lib/python3.9/site-packages/numpy/core/fromnumeric.py:3156: VisibleDeprecationWarning: Creating an ndarray from ragged nested sequences (which is a list-or-tuple of lists-or-tuples-or ndarrays with different lengths or shapes) is deprecated. If you meant to do this, you must specify 'dtype=object' when creating the ndarray.\n",
      "  return asarray(a).ndim\n",
      "/Users/lara.thompson/.local/share/virtualenvs/lara.thompson-C83ZgnRu/lib/python3.9/site-packages/torch/autocast_mode.py:141: UserWarning: User provided device_type of 'cuda', but CUDA is not available. Disabling\n",
      "  warnings.warn('User provided device_type of \\'cuda\\', but CUDA is not available. Disabling')\n",
      "/Users/lara.thompson/.local/share/virtualenvs/lara.thompson-C83ZgnRu/lib/python3.9/site-packages/numpy/core/fromnumeric.py:3156: VisibleDeprecationWarning: Creating an ndarray from ragged nested sequences (which is a list-or-tuple of lists-or-tuples-or ndarrays with different lengths or shapes) is deprecated. If you meant to do this, you must specify 'dtype=object' when creating the ndarray.\n",
      "  return asarray(a).ndim\n"
     ]
    },
    {
     "name": "stdout",
     "output_type": "stream",
     "text": [
      "369  Northwestern Arizona\n"
     ]
    },
    {
     "name": "stderr",
     "output_type": "stream",
     "text": [
      "/Users/lara.thompson/.local/share/virtualenvs/lara.thompson-C83ZgnRu/lib/python3.9/site-packages/torch/autocast_mode.py:141: UserWarning: User provided device_type of 'cuda', but CUDA is not available. Disabling\n",
      "  warnings.warn('User provided device_type of \\'cuda\\', but CUDA is not available. Disabling')\n",
      "/Users/lara.thompson/.local/share/virtualenvs/lara.thompson-C83ZgnRu/lib/python3.9/site-packages/numpy/core/fromnumeric.py:3156: VisibleDeprecationWarning: Creating an ndarray from ragged nested sequences (which is a list-or-tuple of lists-or-tuples-or ndarrays with different lengths or shapes) is deprecated. If you meant to do this, you must specify 'dtype=object' when creating the ndarray.\n",
      "  return asarray(a).ndim\n",
      "/Users/lara.thompson/.local/share/virtualenvs/lara.thompson-C83ZgnRu/lib/python3.9/site-packages/torch/autocast_mode.py:141: UserWarning: User provided device_type of 'cuda', but CUDA is not available. Disabling\n",
      "  warnings.warn('User provided device_type of \\'cuda\\', but CUDA is not available. Disabling')\n",
      "/Users/lara.thompson/.local/share/virtualenvs/lara.thompson-C83ZgnRu/lib/python3.9/site-packages/numpy/core/fromnumeric.py:3156: VisibleDeprecationWarning: Creating an ndarray from ragged nested sequences (which is a list-or-tuple of lists-or-tuples-or ndarrays with different lengths or shapes) is deprecated. If you meant to do this, you must specify 'dtype=object' when creating the ndarray.\n",
      "  return asarray(a).ndim\n"
     ]
    },
    {
     "name": "stdout",
     "output_type": "stream",
     "text": [
      "371  Portraits, self-portraits, and works inspired by the nature and artifacts of Mexico.\n"
     ]
    },
    {
     "name": "stderr",
     "output_type": "stream",
     "text": [
      "/Users/lara.thompson/.local/share/virtualenvs/lara.thompson-C83ZgnRu/lib/python3.9/site-packages/torch/autocast_mode.py:141: UserWarning: User provided device_type of 'cuda', but CUDA is not available. Disabling\n",
      "  warnings.warn('User provided device_type of \\'cuda\\', but CUDA is not available. Disabling')\n",
      "/Users/lara.thompson/.local/share/virtualenvs/lara.thompson-C83ZgnRu/lib/python3.9/site-packages/numpy/core/fromnumeric.py:3156: VisibleDeprecationWarning: Creating an ndarray from ragged nested sequences (which is a list-or-tuple of lists-or-tuples-or ndarrays with different lengths or shapes) is deprecated. If you meant to do this, you must specify 'dtype=object' when creating the ndarray.\n",
      "  return asarray(a).ndim\n",
      "/Users/lara.thompson/.local/share/virtualenvs/lara.thompson-C83ZgnRu/lib/python3.9/site-packages/torch/autocast_mode.py:141: UserWarning: User provided device_type of 'cuda', but CUDA is not available. Disabling\n",
      "  warnings.warn('User provided device_type of \\'cuda\\', but CUDA is not available. Disabling')\n",
      "/Users/lara.thompson/.local/share/virtualenvs/lara.thompson-C83ZgnRu/lib/python3.9/site-packages/numpy/core/fromnumeric.py:3156: VisibleDeprecationWarning: Creating an ndarray from ragged nested sequences (which is a list-or-tuple of lists-or-tuples-or ndarrays with different lengths or shapes) is deprecated. If you meant to do this, you must specify 'dtype=object' when creating the ndarray.\n",
      "  return asarray(a).ndim\n"
     ]
    },
    {
     "name": "stdout",
     "output_type": "stream",
     "text": [
      "373  Army Industrial College\n"
     ]
    },
    {
     "name": "stderr",
     "output_type": "stream",
     "text": [
      "/Users/lara.thompson/.local/share/virtualenvs/lara.thompson-C83ZgnRu/lib/python3.9/site-packages/torch/autocast_mode.py:141: UserWarning: User provided device_type of 'cuda', but CUDA is not available. Disabling\n",
      "  warnings.warn('User provided device_type of \\'cuda\\', but CUDA is not available. Disabling')\n",
      "/Users/lara.thompson/.local/share/virtualenvs/lara.thompson-C83ZgnRu/lib/python3.9/site-packages/numpy/core/fromnumeric.py:3156: VisibleDeprecationWarning: Creating an ndarray from ragged nested sequences (which is a list-or-tuple of lists-or-tuples-or ndarrays with different lengths or shapes) is deprecated. If you meant to do this, you must specify 'dtype=object' when creating the ndarray.\n",
      "  return asarray(a).ndim\n"
     ]
    },
    {
     "name": "stdout",
     "output_type": "stream",
     "text": [
      "374  Tim McGraw\n"
     ]
    },
    {
     "name": "stderr",
     "output_type": "stream",
     "text": [
      "/Users/lara.thompson/.local/share/virtualenvs/lara.thompson-C83ZgnRu/lib/python3.9/site-packages/torch/autocast_mode.py:141: UserWarning: User provided device_type of 'cuda', but CUDA is not available. Disabling\n",
      "  warnings.warn('User provided device_type of \\'cuda\\', but CUDA is not available. Disabling')\n",
      "/Users/lara.thompson/.local/share/virtualenvs/lara.thompson-C83ZgnRu/lib/python3.9/site-packages/numpy/core/fromnumeric.py:3156: VisibleDeprecationWarning: Creating an ndarray from ragged nested sequences (which is a list-or-tuple of lists-or-tuples-or ndarrays with different lengths or shapes) is deprecated. If you meant to do this, you must specify 'dtype=object' when creating the ndarray.\n",
      "  return asarray(a).ndim\n"
     ]
    },
    {
     "name": "stdout",
     "output_type": "stream",
     "text": [
      "375  Micron Technology is an American global corporation that specializes in the manufacture and development of advanced memory and storage technologies.\n"
     ]
    },
    {
     "name": "stderr",
     "output_type": "stream",
     "text": [
      "/Users/lara.thompson/.local/share/virtualenvs/lara.thompson-C83ZgnRu/lib/python3.9/site-packages/torch/autocast_mode.py:141: UserWarning: User provided device_type of 'cuda', but CUDA is not available. Disabling\n",
      "  warnings.warn('User provided device_type of \\'cuda\\', but CUDA is not available. Disabling')\n",
      "/Users/lara.thompson/.local/share/virtualenvs/lara.thompson-C83ZgnRu/lib/python3.9/site-packages/numpy/core/fromnumeric.py:3156: VisibleDeprecationWarning: Creating an ndarray from ragged nested sequences (which is a list-or-tuple of lists-or-tuples-or ndarrays with different lengths or shapes) is deprecated. If you meant to do this, you must specify 'dtype=object' when creating the ndarray.\n",
      "  return asarray(a).ndim\n"
     ]
    },
    {
     "name": "stdout",
     "output_type": "stream",
     "text": [
      "376  Bob Schieffer\n"
     ]
    },
    {
     "name": "stderr",
     "output_type": "stream",
     "text": [
      "/Users/lara.thompson/.local/share/virtualenvs/lara.thompson-C83ZgnRu/lib/python3.9/site-packages/torch/autocast_mode.py:141: UserWarning: User provided device_type of 'cuda', but CUDA is not available. Disabling\n",
      "  warnings.warn('User provided device_type of \\'cuda\\', but CUDA is not available. Disabling')\n",
      "/Users/lara.thompson/.local/share/virtualenvs/lara.thompson-C83ZgnRu/lib/python3.9/site-packages/numpy/core/fromnumeric.py:3156: VisibleDeprecationWarning: Creating an ndarray from ragged nested sequences (which is a list-or-tuple of lists-or-tuples-or ndarrays with different lengths or shapes) is deprecated. If you meant to do this, you must specify 'dtype=object' when creating the ndarray.\n",
      "  return asarray(a).ndim\n"
     ]
    },
    {
     "name": "stdout",
     "output_type": "stream",
     "text": [
      "377  Radioactivity\n"
     ]
    },
    {
     "name": "stderr",
     "output_type": "stream",
     "text": [
      "/Users/lara.thompson/.local/share/virtualenvs/lara.thompson-C83ZgnRu/lib/python3.9/site-packages/torch/autocast_mode.py:141: UserWarning: User provided device_type of 'cuda', but CUDA is not available. Disabling\n",
      "  warnings.warn('User provided device_type of \\'cuda\\', but CUDA is not available. Disabling')\n",
      "/Users/lara.thompson/.local/share/virtualenvs/lara.thompson-C83ZgnRu/lib/python3.9/site-packages/numpy/core/fromnumeric.py:3156: VisibleDeprecationWarning: Creating an ndarray from ragged nested sequences (which is a list-or-tuple of lists-or-tuples-or ndarrays with different lengths or shapes) is deprecated. If you meant to do this, you must specify 'dtype=object' when creating the ndarray.\n",
      "  return asarray(a).ndim\n",
      "/Users/lara.thompson/.local/share/virtualenvs/lara.thompson-C83ZgnRu/lib/python3.9/site-packages/torch/autocast_mode.py:141: UserWarning: User provided device_type of 'cuda', but CUDA is not available. Disabling\n",
      "  warnings.warn('User provided device_type of \\'cuda\\', but CUDA is not available. Disabling')\n",
      "/Users/lara.thompson/.local/share/virtualenvs/lara.thompson-C83ZgnRu/lib/python3.9/site-packages/numpy/core/fromnumeric.py:3156: VisibleDeprecationWarning: Creating an ndarray from ragged nested sequences (which is a list-or-tuple of lists-or-tuples-or ndarrays with different lengths or shapes) is deprecated. If you meant to do this, you must specify 'dtype=object' when creating the ndarray.\n",
      "  return asarray(a).ndim\n"
     ]
    },
    {
     "name": "stdout",
     "output_type": "stream",
     "text": [
      "379  1864\n"
     ]
    },
    {
     "name": "stderr",
     "output_type": "stream",
     "text": [
      "/Users/lara.thompson/.local/share/virtualenvs/lara.thompson-C83ZgnRu/lib/python3.9/site-packages/torch/autocast_mode.py:141: UserWarning: User provided device_type of 'cuda', but CUDA is not available. Disabling\n",
      "  warnings.warn('User provided device_type of \\'cuda\\', but CUDA is not available. Disabling')\n",
      "/Users/lara.thompson/.local/share/virtualenvs/lara.thompson-C83ZgnRu/lib/python3.9/site-packages/numpy/core/fromnumeric.py:3156: VisibleDeprecationWarning: Creating an ndarray from ragged nested sequences (which is a list-or-tuple of lists-or-tuples-or ndarrays with different lengths or shapes) is deprecated. If you meant to do this, you must specify 'dtype=object' when creating the ndarray.\n",
      "  return asarray(a).ndim\n",
      "/Users/lara.thompson/.local/share/virtualenvs/lara.thompson-C83ZgnRu/lib/python3.9/site-packages/torch/autocast_mode.py:141: UserWarning: User provided device_type of 'cuda', but CUDA is not available. Disabling\n",
      "  warnings.warn('User provided device_type of \\'cuda\\', but CUDA is not available. Disabling')\n",
      "/Users/lara.thompson/.local/share/virtualenvs/lara.thompson-C83ZgnRu/lib/python3.9/site-packages/numpy/core/fromnumeric.py:3156: VisibleDeprecationWarning: Creating an ndarray from ragged nested sequences (which is a list-or-tuple of lists-or-tuples-or ndarrays with different lengths or shapes) is deprecated. If you meant to do this, you must specify 'dtype=object' when creating the ndarray.\n",
      "  return asarray(a).ndim\n",
      "/Users/lara.thompson/.local/share/virtualenvs/lara.thompson-C83ZgnRu/lib/python3.9/site-packages/torch/autocast_mode.py:141: UserWarning: User provided device_type of 'cuda', but CUDA is not available. Disabling\n",
      "  warnings.warn('User provided device_type of \\'cuda\\', but CUDA is not available. Disabling')\n",
      "/Users/lara.thompson/.local/share/virtualenvs/lara.thompson-C83ZgnRu/lib/python3.9/site-packages/numpy/core/fromnumeric.py:3156: VisibleDeprecationWarning: Creating an ndarray from ragged nested sequences (which is a list-or-tuple of lists-or-tuples-or ndarrays with different lengths or shapes) is deprecated. If you meant to do this, you must specify 'dtype=object' when creating the ndarray.\n",
      "  return asarray(a).ndim\n"
     ]
    },
    {
     "name": "stdout",
     "output_type": "stream",
     "text": [
      "382  Cardiopulmonary Resuscitation\n"
     ]
    },
    {
     "name": "stderr",
     "output_type": "stream",
     "text": [
      "/Users/lara.thompson/.local/share/virtualenvs/lara.thompson-C83ZgnRu/lib/python3.9/site-packages/torch/autocast_mode.py:141: UserWarning: User provided device_type of 'cuda', but CUDA is not available. Disabling\n",
      "  warnings.warn('User provided device_type of \\'cuda\\', but CUDA is not available. Disabling')\n",
      "/Users/lara.thompson/.local/share/virtualenvs/lara.thompson-C83ZgnRu/lib/python3.9/site-packages/numpy/core/fromnumeric.py:3156: VisibleDeprecationWarning: Creating an ndarray from ragged nested sequences (which is a list-or-tuple of lists-or-tuples-or ndarrays with different lengths or shapes) is deprecated. If you meant to do this, you must specify 'dtype=object' when creating the ndarray.\n",
      "  return asarray(a).ndim\n",
      "/Users/lara.thompson/.local/share/virtualenvs/lara.thompson-C83ZgnRu/lib/python3.9/site-packages/torch/autocast_mode.py:141: UserWarning: User provided device_type of 'cuda', but CUDA is not available. Disabling\n",
      "  warnings.warn('User provided device_type of \\'cuda\\', but CUDA is not available. Disabling')\n",
      "/Users/lara.thompson/.local/share/virtualenvs/lara.thompson-C83ZgnRu/lib/python3.9/site-packages/numpy/core/fromnumeric.py:3156: VisibleDeprecationWarning: Creating an ndarray from ragged nested sequences (which is a list-or-tuple of lists-or-tuples-or ndarrays with different lengths or shapes) is deprecated. If you meant to do this, you must specify 'dtype=object' when creating the ndarray.\n",
      "  return asarray(a).ndim\n"
     ]
    },
    {
     "name": "stdout",
     "output_type": "stream",
     "text": [
      "384  a digital programmable computer\n"
     ]
    },
    {
     "name": "stderr",
     "output_type": "stream",
     "text": [
      "/Users/lara.thompson/.local/share/virtualenvs/lara.thompson-C83ZgnRu/lib/python3.9/site-packages/torch/autocast_mode.py:141: UserWarning: User provided device_type of 'cuda', but CUDA is not available. Disabling\n",
      "  warnings.warn('User provided device_type of \\'cuda\\', but CUDA is not available. Disabling')\n",
      "/Users/lara.thompson/.local/share/virtualenvs/lara.thompson-C83ZgnRu/lib/python3.9/site-packages/numpy/core/fromnumeric.py:3156: VisibleDeprecationWarning: Creating an ndarray from ragged nested sequences (which is a list-or-tuple of lists-or-tuples-or ndarrays with different lengths or shapes) is deprecated. If you meant to do this, you must specify 'dtype=object' when creating the ndarray.\n",
      "  return asarray(a).ndim\n"
     ]
    },
    {
     "name": "stdout",
     "output_type": "stream",
     "text": [
      "385 \n",
      "For Francis Drake the explorer, he represented England.\n",
      "For Francis Drake the musician, he represented the United States.\n"
     ]
    },
    {
     "name": "stderr",
     "output_type": "stream",
     "text": [
      "/Users/lara.thompson/.local/share/virtualenvs/lara.thompson-C83ZgnRu/lib/python3.9/site-packages/torch/autocast_mode.py:141: UserWarning: User provided device_type of 'cuda', but CUDA is not available. Disabling\n",
      "  warnings.warn('User provided device_type of \\'cuda\\', but CUDA is not available. Disabling')\n",
      "/Users/lara.thompson/.local/share/virtualenvs/lara.thompson-C83ZgnRu/lib/python3.9/site-packages/numpy/core/fromnumeric.py:3156: VisibleDeprecationWarning: Creating an ndarray from ragged nested sequences (which is a list-or-tuple of lists-or-tuples-or ndarrays with different lengths or shapes) is deprecated. If you meant to do this, you must specify 'dtype=object' when creating the ndarray.\n",
      "  return asarray(a).ndim\n",
      "/Users/lara.thompson/.local/share/virtualenvs/lara.thompson-C83ZgnRu/lib/python3.9/site-packages/torch/autocast_mode.py:141: UserWarning: User provided device_type of 'cuda', but CUDA is not available. Disabling\n",
      "  warnings.warn('User provided device_type of \\'cuda\\', but CUDA is not available. Disabling')\n",
      "/Users/lara.thompson/.local/share/virtualenvs/lara.thompson-C83ZgnRu/lib/python3.9/site-packages/numpy/core/fromnumeric.py:3156: VisibleDeprecationWarning: Creating an ndarray from ragged nested sequences (which is a list-or-tuple of lists-or-tuples-or ndarrays with different lengths or shapes) is deprecated. If you meant to do this, you must specify 'dtype=object' when creating the ndarray.\n",
      "  return asarray(a).ndim\n",
      "/Users/lara.thompson/.local/share/virtualenvs/lara.thompson-C83ZgnRu/lib/python3.9/site-packages/torch/autocast_mode.py:141: UserWarning: User provided device_type of 'cuda', but CUDA is not available. Disabling\n",
      "  warnings.warn('User provided device_type of \\'cuda\\', but CUDA is not available. Disabling')\n",
      "/Users/lara.thompson/.local/share/virtualenvs/lara.thompson-C83ZgnRu/lib/python3.9/site-packages/numpy/core/fromnumeric.py:3156: VisibleDeprecationWarning: Creating an ndarray from ragged nested sequences (which is a list-or-tuple of lists-or-tuples-or ndarrays with different lengths or shapes) is deprecated. If you meant to do this, you must specify 'dtype=object' when creating the ndarray.\n",
      "  return asarray(a).ndim\n"
     ]
    },
    {
     "name": "stdout",
     "output_type": "stream",
     "text": [
      "388  methane and other longer-chain hydrocarbons\n"
     ]
    },
    {
     "name": "stderr",
     "output_type": "stream",
     "text": [
      "/Users/lara.thompson/.local/share/virtualenvs/lara.thompson-C83ZgnRu/lib/python3.9/site-packages/torch/autocast_mode.py:141: UserWarning: User provided device_type of 'cuda', but CUDA is not available. Disabling\n",
      "  warnings.warn('User provided device_type of \\'cuda\\', but CUDA is not available. Disabling')\n",
      "/Users/lara.thompson/.local/share/virtualenvs/lara.thompson-C83ZgnRu/lib/python3.9/site-packages/numpy/core/fromnumeric.py:3156: VisibleDeprecationWarning: Creating an ndarray from ragged nested sequences (which is a list-or-tuple of lists-or-tuples-or ndarrays with different lengths or shapes) is deprecated. If you meant to do this, you must specify 'dtype=object' when creating the ndarray.\n",
      "  return asarray(a).ndim\n"
     ]
    },
    {
     "name": "stdout",
     "output_type": "stream",
     "text": [
      "389  Japan and Germany\n"
     ]
    },
    {
     "name": "stderr",
     "output_type": "stream",
     "text": [
      "/Users/lara.thompson/.local/share/virtualenvs/lara.thompson-C83ZgnRu/lib/python3.9/site-packages/torch/autocast_mode.py:141: UserWarning: User provided device_type of 'cuda', but CUDA is not available. Disabling\n",
      "  warnings.warn('User provided device_type of \\'cuda\\', but CUDA is not available. Disabling')\n",
      "/Users/lara.thompson/.local/share/virtualenvs/lara.thompson-C83ZgnRu/lib/python3.9/site-packages/numpy/core/fromnumeric.py:3156: VisibleDeprecationWarning: Creating an ndarray from ragged nested sequences (which is a list-or-tuple of lists-or-tuples-or ndarrays with different lengths or shapes) is deprecated. If you meant to do this, you must specify 'dtype=object' when creating the ndarray.\n",
      "  return asarray(a).ndim\n"
     ]
    },
    {
     "name": "stdout",
     "output_type": "stream",
     "text": [
      "390  The oldest academic honor society in the United States\n"
     ]
    },
    {
     "name": "stderr",
     "output_type": "stream",
     "text": [
      "/Users/lara.thompson/.local/share/virtualenvs/lara.thompson-C83ZgnRu/lib/python3.9/site-packages/torch/autocast_mode.py:141: UserWarning: User provided device_type of 'cuda', but CUDA is not available. Disabling\n",
      "  warnings.warn('User provided device_type of \\'cuda\\', but CUDA is not available. Disabling')\n",
      "/Users/lara.thompson/.local/share/virtualenvs/lara.thompson-C83ZgnRu/lib/python3.9/site-packages/numpy/core/fromnumeric.py:3156: VisibleDeprecationWarning: Creating an ndarray from ragged nested sequences (which is a list-or-tuple of lists-or-tuples-or ndarrays with different lengths or shapes) is deprecated. If you meant to do this, you must specify 'dtype=object' when creating the ndarray.\n",
      "  return asarray(a).ndim\n",
      "/Users/lara.thompson/.local/share/virtualenvs/lara.thompson-C83ZgnRu/lib/python3.9/site-packages/torch/autocast_mode.py:141: UserWarning: User provided device_type of 'cuda', but CUDA is not available. Disabling\n",
      "  warnings.warn('User provided device_type of \\'cuda\\', but CUDA is not available. Disabling')\n",
      "/Users/lara.thompson/.local/share/virtualenvs/lara.thompson-C83ZgnRu/lib/python3.9/site-packages/numpy/core/fromnumeric.py:3156: VisibleDeprecationWarning: Creating an ndarray from ragged nested sequences (which is a list-or-tuple of lists-or-tuples-or ndarrays with different lengths or shapes) is deprecated. If you meant to do this, you must specify 'dtype=object' when creating the ndarray.\n",
      "  return asarray(a).ndim\n",
      "/Users/lara.thompson/.local/share/virtualenvs/lara.thompson-C83ZgnRu/lib/python3.9/site-packages/torch/autocast_mode.py:141: UserWarning: User provided device_type of 'cuda', but CUDA is not available. Disabling\n",
      "  warnings.warn('User provided device_type of \\'cuda\\', but CUDA is not available. Disabling')\n",
      "/Users/lara.thompson/.local/share/virtualenvs/lara.thompson-C83ZgnRu/lib/python3.9/site-packages/numpy/core/fromnumeric.py:3156: VisibleDeprecationWarning: Creating an ndarray from ragged nested sequences (which is a list-or-tuple of lists-or-tuples-or ndarrays with different lengths or shapes) is deprecated. If you meant to do this, you must specify 'dtype=object' when creating the ndarray.\n",
      "  return asarray(a).ndim\n",
      "/Users/lara.thompson/.local/share/virtualenvs/lara.thompson-C83ZgnRu/lib/python3.9/site-packages/torch/autocast_mode.py:141: UserWarning: User provided device_type of 'cuda', but CUDA is not available. Disabling\n",
      "  warnings.warn('User provided device_type of \\'cuda\\', but CUDA is not available. Disabling')\n",
      "/Users/lara.thompson/.local/share/virtualenvs/lara.thompson-C83ZgnRu/lib/python3.9/site-packages/numpy/core/fromnumeric.py:3156: VisibleDeprecationWarning: Creating an ndarray from ragged nested sequences (which is a list-or-tuple of lists-or-tuples-or ndarrays with different lengths or shapes) is deprecated. If you meant to do this, you must specify 'dtype=object' when creating the ndarray.\n",
      "  return asarray(a).ndim\n",
      "/Users/lara.thompson/.local/share/virtualenvs/lara.thompson-C83ZgnRu/lib/python3.9/site-packages/torch/autocast_mode.py:141: UserWarning: User provided device_type of 'cuda', but CUDA is not available. Disabling\n",
      "  warnings.warn('User provided device_type of \\'cuda\\', but CUDA is not available. Disabling')\n",
      "/Users/lara.thompson/.local/share/virtualenvs/lara.thompson-C83ZgnRu/lib/python3.9/site-packages/numpy/core/fromnumeric.py:3156: VisibleDeprecationWarning: Creating an ndarray from ragged nested sequences (which is a list-or-tuple of lists-or-tuples-or ndarrays with different lengths or shapes) is deprecated. If you meant to do this, you must specify 'dtype=object' when creating the ndarray.\n",
      "  return asarray(a).ndim\n",
      "/Users/lara.thompson/.local/share/virtualenvs/lara.thompson-C83ZgnRu/lib/python3.9/site-packages/torch/autocast_mode.py:141: UserWarning: User provided device_type of 'cuda', but CUDA is not available. Disabling\n",
      "  warnings.warn('User provided device_type of \\'cuda\\', but CUDA is not available. Disabling')\n",
      "/Users/lara.thompson/.local/share/virtualenvs/lara.thompson-C83ZgnRu/lib/python3.9/site-packages/numpy/core/fromnumeric.py:3156: VisibleDeprecationWarning: Creating an ndarray from ragged nested sequences (which is a list-or-tuple of lists-or-tuples-or ndarrays with different lengths or shapes) is deprecated. If you meant to do this, you must specify 'dtype=object' when creating the ndarray.\n",
      "  return asarray(a).ndim\n"
     ]
    },
    {
     "name": "stdout",
     "output_type": "stream",
     "text": [
      "396  Antonio Meucci and Alexander Graham Bell\n"
     ]
    },
    {
     "name": "stderr",
     "output_type": "stream",
     "text": [
      "/Users/lara.thompson/.local/share/virtualenvs/lara.thompson-C83ZgnRu/lib/python3.9/site-packages/torch/autocast_mode.py:141: UserWarning: User provided device_type of 'cuda', but CUDA is not available. Disabling\n",
      "  warnings.warn('User provided device_type of \\'cuda\\', but CUDA is not available. Disabling')\n",
      "/Users/lara.thompson/.local/share/virtualenvs/lara.thompson-C83ZgnRu/lib/python3.9/site-packages/numpy/core/fromnumeric.py:3156: VisibleDeprecationWarning: Creating an ndarray from ragged nested sequences (which is a list-or-tuple of lists-or-tuples-or ndarrays with different lengths or shapes) is deprecated. If you meant to do this, you must specify 'dtype=object' when creating the ndarray.\n",
      "  return asarray(a).ndim\n"
     ]
    },
    {
     "name": "stdout",
     "output_type": "stream",
     "text": [
      "397  Melbourne, with a population of 4.67 million.\n"
     ]
    },
    {
     "name": "stderr",
     "output_type": "stream",
     "text": [
      "/Users/lara.thompson/.local/share/virtualenvs/lara.thompson-C83ZgnRu/lib/python3.9/site-packages/torch/autocast_mode.py:141: UserWarning: User provided device_type of 'cuda', but CUDA is not available. Disabling\n",
      "  warnings.warn('User provided device_type of \\'cuda\\', but CUDA is not available. Disabling')\n",
      "/Users/lara.thompson/.local/share/virtualenvs/lara.thompson-C83ZgnRu/lib/python3.9/site-packages/numpy/core/fromnumeric.py:3156: VisibleDeprecationWarning: Creating an ndarray from ragged nested sequences (which is a list-or-tuple of lists-or-tuples-or ndarrays with different lengths or shapes) is deprecated. If you meant to do this, you must specify 'dtype=object' when creating the ndarray.\n",
      "  return asarray(a).ndim\n",
      "/Users/lara.thompson/.local/share/virtualenvs/lara.thompson-C83ZgnRu/lib/python3.9/site-packages/torch/autocast_mode.py:141: UserWarning: User provided device_type of 'cuda', but CUDA is not available. Disabling\n",
      "  warnings.warn('User provided device_type of \\'cuda\\', but CUDA is not available. Disabling')\n",
      "/Users/lara.thompson/.local/share/virtualenvs/lara.thompson-C83ZgnRu/lib/python3.9/site-packages/numpy/core/fromnumeric.py:3156: VisibleDeprecationWarning: Creating an ndarray from ragged nested sequences (which is a list-or-tuple of lists-or-tuples-or ndarrays with different lengths or shapes) is deprecated. If you meant to do this, you must specify 'dtype=object' when creating the ndarray.\n",
      "  return asarray(a).ndim\n"
     ]
    }
   ],
   "source": [
    "model = 'text-davinci-003'\n",
    "\n",
    "for i, ex in test.iterrows():\n",
    "    if ex.generated_answer is not None:\n",
    "        continue\n",
    "    d = e2e(ex.question)\n",
    "    test.loc[i, list(d.keys())] =list(d.values())  \n",
    "    if d['query_1'] != \"N/A\":\n",
    "        print(i, d['generated_answer'])\n",
    "    time.sleep(8)"
   ]
  },
  {
   "cell_type": "code",
   "execution_count": 848,
   "id": "2022697a-7175-4c0c-80a7-fc5f52003f5e",
   "metadata": {},
   "outputs": [
    {
     "name": "stderr",
     "output_type": "stream",
     "text": [
      "/var/folders/xb/ksf3f8q50ws41h95k4th7z4w0000gp/T/ipykernel_80611/1419413911.py:1: PerformanceWarning: \n",
      "your performance may suffer as PyTables will pickle object types that it cannot\n",
      "map directly to c-types [inferred_type->mixed,key->block1_values] [items->Index(['question', 'generated_answer', 'result_0', 'query_0', 'context_0',\n",
      "       'result_1', 'analysis_0', 'query_1', 'stripped'],\n",
      "      dtype='object')]\n",
      "\n",
      "  test.to_hdf('hw_openqa_results.h5', key='test')\n"
     ]
    }
   ],
   "source": [
    "test.to_hdf('hw_openqa_results.h5', key='test')\n",
    "# dev.to_hdf('hw_openqa_results.h5', key='dev')"
   ]
  },
  {
   "cell_type": "code",
   "execution_count": 860,
   "id": "adf350fd-c3b2-4e6c-9c90-a9631cb9164a",
   "metadata": {},
   "outputs": [
    {
     "data": {
      "text/plain": [
       "Index(['question', 'len', '# ww', '# words', 'generated_answer', 'result_0',\n",
       "       'query_0', 'context_0', 'result_1', 'analysis_0', 'query_1',\n",
       "       'stripped'],\n",
       "      dtype='object')"
      ]
     },
     "execution_count": 860,
     "metadata": {},
     "output_type": "execute_result"
    }
   ],
   "source": [
    "test.columns"
   ]
  },
  {
   "cell_type": "code",
   "execution_count": 862,
   "id": "b3bf825d-e0c9-4f00-af88-fb2fa1b9bb0f",
   "metadata": {
    "tags": []
   },
   "outputs": [
    {
     "data": {
      "text/plain": [
       "{'who sang for pink floyd?': {'query_0': 'Pink Floyd singer',\n",
       "  'analysis_0': ' Syd Barrett was a founder member of the band Pink Floyd and that he was the lead singer, guitarist and principal songwriter',\n",
       "  'generated_answer': 'Syd Barrett'},\n",
       " 'what is epilepsy?': {'query_0': 'epilepsy',\n",
       "  'analysis_0': ' epilepsy is a group of neurological disorders characterized by epileptic seizures and that it is a disease according to the ILAE 2005 conceptual definition',\n",
       "  'generated_answer': 'a group of neurological disorders characterized by epileptic seizures'},\n",
       " 'woodrow wilson was president of which university?': {'query_0': 'Woodrow Wilson university president',\n",
       "  'analysis_0': ' Woodrow Wilson was the President of Princeton University from 1902 to 1910',\n",
       "  'generated_answer': 'Princeton University'},\n",
       " 'number of gold medals won by india in hockey?': {'query_0': 'India gold medals hockey',\n",
       "  'analysis_0': \" the Indian men's team won eight gold, one silver and two bronze medals in the Olympics\",\n",
       "  'generated_answer': '8 gold, 1 silver, 2 bronze'},\n",
       " 'what is the name of dormitory of naga?': {'query_0': 'dormitory of Naga',\n",
       "  'analysis_0': ' the University of Nagano has a student dormitory system and that the Naga people had a morung, or youth dormitory',\n",
       "  'generated_answer': ' Morung'},\n",
       " \"what is shakespeare's nickname?\": {'query_0': 'Shakespeares nickname',\n",
       "  'analysis_0': ' William Shakespeare had nicknames such as \"The Bard of Staten Island\", \"The Bard of South Bend\", and \"The Merchant of Menace\"',\n",
       "  'generated_answer': '\"The Bard of Staten Island\", \"The Bard of South Bend\", and \"The Merchant of Menace\"'},\n",
       " 'when did season 4 of grace and frankie start?': {'query_0': 'grace and frankie season 4 start date',\n",
       "  'analysis_0': ' Grace and Frankie was renewed for a fourth season and that it premiered on January 19, 2018',\n",
       "  'generated_answer': 'January 19, 2018'},\n",
       " 'who played the role of chandler bing in the tv series friends?': {'query_0': 'Chandler Bing Friends actor',\n",
       "  'analysis_0': ' Chandler Bing is a character from the NBC sitcom \"Friends\"',\n",
       "  'generated_answer': ' Matthew Perry'},\n",
       " 'what was the name of the first russian astronaut to do a spacewalk?': {'query_0': 'first Russian astronaut spacewalk',\n",
       "  'analysis_0': ' Maksim Surayev was the first Russian astronaut to do a spacewalk',\n",
       "  'generated_answer': 'Maksim Surayev'},\n",
       " \"what are canada's two territories?\": {'query_0': 'Canadas two territories',\n",
       "  'analysis_0': ' Nunavut and Northwest Territories are two territories in Canada',\n",
       "  'generated_answer': 'Nunavut and Northwest Territories'},\n",
       " 'what country was theodor schwann born in?': {'query_0': 'Theodor Schwann',\n",
       "  'analysis_0': ' Theodor Schwann was a German physician and physiologist',\n",
       "  'generated_answer': ' Germany'},\n",
       " 'where was the battle of waterloo held?': {'query_0': 'location of battle of waterloo',\n",
       "  'analysis_0': ' the Battle of Waterloo took place near Waterloo, Belgium',\n",
       "  'generated_answer': 'Waterloo, Belgium'},\n",
       " 'who became president after harding died?': {'query_0': 'president after Warren G. Harding',\n",
       "  'analysis_0': \" Warren G. Harding died and that Calvin Coolidge was the president immediately after Harding's death\",\n",
       "  'generated_answer': 'Calvin Coolidge'},\n",
       " 'what is ozone depletion?': {'query_0': 'ozone depletion',\n",
       "  'analysis_0': ' ozone depletion is caused by manufactured chemicals',\n",
       "  'generated_answer': \"Ozone depletion describes two related events observed since the late 1970s: a steady lowering of about four percent in the total amount of ozone in Earth's atmosphere (the ozone layer), and a much larger springtime decrease in stratospheric ozone around Earth's polar regions. The latter phenomenon is referred to as the ozone hole.\"},\n",
       " 'when were the phillies founded?': {'query_0': 'when were the Phillies founded',\n",
       "  'analysis_0': ' the Phillies were founded in 1883 as the \"Quakers\"',\n",
       "  'generated_answer': ' 1883'},\n",
       " 'who developed the vaccination against polio?': {'query_0': 'who developed polio vaccine',\n",
       "  'analysis_0': ' Jonas Salk developed the polio vaccine between 1952 and 1955',\n",
       "  'generated_answer': 'Jonas Salk'},\n",
       " 'during which season do most thunderstorms occur?': {'query_0': 'when are thunderstorms most common',\n",
       "  'analysis_0': ' thunderstorms are most common in the spring and summer',\n",
       "  'generated_answer': 'spring and summer'},\n",
       " 'where was the lion king musical first performed?': {'query_0': 'when was the Lion King musical first performed',\n",
       "  'analysis_0': ' The Lion King musical was first performed in Toronto, Canada at the Princess of Wales Theatre',\n",
       "  'generated_answer': 'Toronto, Canada at the Princess of Wales Theatre'},\n",
       " 'when was the triangle shirtwaist fire?': {'query_0': 'date of triangle shirtwaist fire',\n",
       "  'analysis_0': ' the Triangle Shirtwaist Factory fire occurred on March 25, 1911',\n",
       "  'generated_answer': 'March 25, 1911'},\n",
       " 'what is the islamic counterpart to the red cross?': {'query_0': 'Islamic counterpart to the red cross',\n",
       "  'analysis_0': ' the Red Crescent is an Islamic symbol',\n",
       "  'generated_answer': 'Red Crescent'},\n",
       " 'what is the major religions practiced in israel?': {'query_0': 'major religions practiced in Israel',\n",
       "  'analysis_0': \" Christianity, Islam, Druzeism, and the Bahá'í Faith are recognized religions in Israel\",\n",
       "  'generated_answer': \" Christianity, Islam, Druzeism, and the Bahá'í Faith\"},\n",
       " 'when was the new world trade center finished?': {'query_0': 'completion date of new world trade center',\n",
       "  'analysis_0': ' One World Trade Center (previously coined the \"Freedom Tower\" by Governor Pataki) is the centerpiece of Daniel Libeskind\\'s master plan for the new World Trade Center',\n",
       "  'generated_answer': ' One World Trade Center was completed in 2014.'},\n",
       " 'where does the last name mcleod come from?': {'query_0': 'origin of the last name McLeod',\n",
       "  'analysis_0': ' the surnames MacLeod and McLeod are Anglicisations of the Gaelic patronymic name \"Mac Leòid\" meaning \"son of \"Leòd\"',\n",
       "  'generated_answer': ' Gaelic patronymic name \"Mac Leòid\"'},\n",
       " 'what year did the titanic start on its journey?': {'query_0': 'Titanic journey start date',\n",
       "  'analysis_0': ' the RMS Olympic started its maiden voyage on 14 June 1911',\n",
       "  'generated_answer': '14 June 1911'},\n",
       " 'where did the founder of google go to college?': {'query_0': 'founder of google',\n",
       "  'analysis_0': ' Larry Page is the founder of Google and that he was a PhD student at Stanford',\n",
       "  'generated_answer': ' Stanford'},\n",
       " 'when was algeria colonized?': {'query_0': 'algeria colonized',\n",
       "  'analysis_0': ' Algeria was colonized by France in 1830',\n",
       "  'generated_answer': '1830'},\n",
       " 'who is called as metro man of india?': {'query_0': 'metro man India',\n",
       "  'analysis_0': ' E. Sreedharan is credited for changing the face of public transport in India and was awarded the Padma Vibhushan',\n",
       "  'generated_answer': 'E. Sreedharan'},\n",
       " 'where is the second circuit court of appeals located?': {'query_0': 'location of second circuit court of appeals',\n",
       "  'analysis_0': \" the United States Court of Appeals for the Second Circuit is one of the thirteen United States Courts of Appeals and that it has its clerk's office and hears oral arguments at the Thurgood Marshall United States Courthouse at 40 Foley Square in Lower Manhattan\",\n",
       "  'generated_answer': ' Thurgood Marshall United States Courthouse at 40 Foley Square in Lower Manhattan'},\n",
       " 'when was the first bank of the united states?': {'query_0': 'when was the first bank of the United States established',\n",
       "  'analysis_0': ' the First Bank of the United States was established in 1791',\n",
       "  'generated_answer': '1791'},\n",
       " 'what are the poconos?': {'query_0': 'poconos',\n",
       "  'analysis_0': ' the Pocono Mountains are a geographical, geological, and cultural region in Northeastern Pennsylvania',\n",
       "  'generated_answer': 'a geographical, geological, and cultural region in Northeastern Pennsylvania'},\n",
       " 'what is cryogenics?': {'query_0': 'cryogenics',\n",
       "  'analysis_0': ' cryogenics is the production and behaviour of materials at very low temperatures',\n",
       "  'generated_answer': 'the production and behaviour of materials at very low temperatures'},\n",
       " 'in which country would you find the champs elysees 1. spain 2. france?': {'query_0': 'location of Champs Elysees',\n",
       "  'analysis_0': ' the Champs Elysees is an avenue in the 8th arrondissement of Paris, France',\n",
       "  'generated_answer': ' France'},\n",
       " 'what does the technical term isdn mean?': {'query_0': 'What does ISDN stand for',\n",
       "  'analysis_0': ' ISDN stands for Integrated Services Digital Network',\n",
       "  'generated_answer': 'Integrated Services Digital Network'},\n",
       " 'what is die-casting?': {'query_0': 'die-casting',\n",
       "  'analysis_0': ' die casting is a metal casting process characterized by forcing molten metal under high pressure into a mold cavity',\n",
       "  'generated_answer': 'a metal casting process characterized by forcing molten metal under high pressure into a mold cavity'},\n",
       " 'what is caffeine?': {'query_0': 'caffeine',\n",
       "  'analysis_0': ' caffeine is a central nervous system stimulant of the methylxanthine class',\n",
       "  'generated_answer': 'a central nervous system stimulant of the methylxanthine class'},\n",
       " 'who is covered by the right to financial privacy act?': {'query_0': 'right to financial privacy act coverage',\n",
       "  'analysis_0': ' the Right to Financial Privacy Act of 1978 gives the customers of financial institutions the right to some level of privacy from government searches',\n",
       "  'generated_answer': 'customers of financial institutions'},\n",
       " 'where can salivary amylase be found in the body?': {'query_0': 'location of salivary amylase',\n",
       "  'analysis_0': ' salivary amylase is produced by the AMY1 gene and is found in the saliva',\n",
       "  'generated_answer': ' saliva'},\n",
       " 'who created the board game pictionary?': {'query_0': 'creator of pictionary board game',\n",
       "  'analysis_0': ' Robert Angel is a game inventor and he invented the popular word guessing game Pictionary',\n",
       "  'generated_answer': 'Robert Angel'},\n",
       " 'how many pounds in a U.S. ton?': {'query_0': 'pounds in a U.S. ton',\n",
       "  'analysis_0': ' a short ton is a unit of mass equal to 2,000 pounds-mass',\n",
       "  'generated_answer': '2,000 pounds-mass'},\n",
       " 'what year did the titanic sink?': {'query_0': 'when did the titanic sink',\n",
       "  'analysis_0': ' the Titanic sank in the early hours of April 15, 1912',\n",
       "  'generated_answer': '1912'},\n",
       " 'who won ms. american in 1989?': {'query_0': 'Ms. American 1989 winner',\n",
       "  'analysis_0': ' Tonya Knight was the original winner of the 1989 Ms. International, but was later disqualified',\n",
       "  'generated_answer': ' Tonya Knight'},\n",
       " 'how old you have to be to buy cigarettes in texas?': {'query_0': 'legal age to buy cigarettes in Texas',\n",
       "  'analysis_0': ' the purchasing age in the United States is 18 in 42 of the 50 states',\n",
       "  'generated_answer': ' 18'},\n",
       " 'who wrote these are the days of our lives?': {'query_0': 'These Are the Days of Our Lives songwriter',\n",
       "  'analysis_0': ' the song \"These Are the Days of Our Lives\" was written by the British rock band Queen and largely written by their drummer Roger Taylor',\n",
       "  'generated_answer': 'Roger Taylor'},\n",
       " 'what american composer wrote the music for \"west side story\"?': {'query_0': 'composer of West Side Story',\n",
       "  'analysis_0': ' West Side Story was composed by Leonard Bernstein and Stephen Sondheim',\n",
       "  'generated_answer': 'Leonard Bernstein and Stephen Sondheim'},\n",
       " 'what type of polymer is used for bulletproof vests?': {'query_0': 'polymer used for bulletproof vests',\n",
       "  'analysis_0': ' Kevlar and Spectra are polymers used for bulletproof vests',\n",
       "  'generated_answer': 'Kevlar and Spectra'},\n",
       " 'kuchipudi is a dance form of which state?': {'query_0': 'kuchipudi dance form origin',\n",
       "  'analysis_0': ' Kuchipudi classical dance originated in a village of Krishna district in modern era Indian state of Andhra Pradesh',\n",
       "  'generated_answer': 'Andhra Pradesh'},\n",
       " 'what hotel was used for a setting of the agatha christie novel, \"and then there were none\"?': {'query_0': 'setting of Agatha Christie novel And Then There Were None',\n",
       "  'analysis_0': ' Agatha Christie\\'s novel \"And Then There Were None\" was set in a beautiful mansion on the deserted Shipwreck Island',\n",
       "  'generated_answer': ' Shipwreck Island'},\n",
       " 'when was babe ruth born?': {'query_0': 'Who is Babe Ruth',\n",
       "  'analysis_0': ' George Herman \"Babe\" Ruth Jr. was an American professional baseball player and Marion Weyant Ruth was an American aviator',\n",
       "  'generated_answer': ' February 6, 1895'},\n",
       " 'largest airline in the world in terms of passengers carried?': {'query_0': 'airline with most passengers',\n",
       "  'analysis_0': ' American Airlines Group is the largest airline in the United States and British Airways and easyJet are the two largest airlines in the United Kingdom',\n",
       "  'generated_answer': ' American Airlines Group'},\n",
       " 'who were the sponsor of the icc world cup when it was hosted outside england for the first time?': {'query_0': 'ICC World Cup hosted outside England',\n",
       "  'analysis_0': ' the first Cricket World Cup hosted outside England was the 1987 Cricket World Cup, which was jointly held in India and Pakistan',\n",
       "  'generated_answer': ' India and Pakistan'},\n",
       " 'what culture built the great pyramid of giza?': {'query_0': 'culture built great pyramid of Giza',\n",
       "  'analysis_0': ' the Great Pyramid of Giza was built by tens of thousands of skilled workers',\n",
       "  'generated_answer': ' Ancient Egyptian culture'},\n",
       " 'what is the speed of light?': {'query_0': 'speed of light',\n",
       "  'analysis_0': ' the speed of light is a universal physical constant',\n",
       "  'generated_answer': ' 299,792,458 meters per second'},\n",
       " 'what precious stone is a form of pure carbon?': {'query_0': 'precious stone form of pure carbon',\n",
       "  'analysis_0': ' diamond is a form of pure carbon',\n",
       "  'generated_answer': 'diamond'},\n",
       " \"what is charlie's surname in charlie and the chocolate factory?\": {'query_0': 'Charlies surname in Charlie and the Chocolate Factory',\n",
       "  'analysis_0': ' Charlie is the protagonist of Charlie and the Chocolate Factory',\n",
       "  'generated_answer': ' Bucket'},\n",
       " 'what is amoxicillin?': {'query_0': 'amoxicillin',\n",
       "  'analysis_0': ' Amoxicillin is an antibiotic often used for the treatment of a number of bacterial infections',\n",
       "  'generated_answer': 'an antibiotic often used for the treatment of a number of bacterial infections'},\n",
       " 'in poland, where do most people live?': {'query_0': 'population distribution in Poland',\n",
       "  'analysis_0': ' Poland has a population of 38,538,447 and an average population density of 123 people/km',\n",
       "  'generated_answer': ' Most people in Poland live in urban areas.'},\n",
       " 'what is angiotensin?': {'query_0': 'angiotensin',\n",
       "  'analysis_0': ' angiotensin is a peptide hormone that causes vasoconstriction and an increase in blood pressure',\n",
       "  'generated_answer': 'a peptide hormone that causes vasoconstriction and an increase in blood pressure'},\n",
       " 'when was the last deal or no deal cancelled?': {'query_0': 'when was deal or no deal cancelled',\n",
       "  'analysis_0': ' the Australian version of Deal or No Deal was cancelled in 2007 and the German version was cancelled in 2008',\n",
       "  'generated_answer': '2007 (Australian version) and 2008 (German version)'},\n",
       " \"what were christopher columbus' three ships?\": {'query_0': 'Christopher Columbus ships',\n",
       "  'analysis_0': ' the three ships were the Santa María, the Pinta, and the Niña',\n",
       "  'generated_answer': 'Santa María, Pinta, and Niña'},\n",
       " 'who discovered america?': {'query_0': 'discovered america',\n",
       "  'analysis_0': ' Christopher Columbus is the explorer who discovered America',\n",
       "  'generated_answer': 'Christopher Columbus'},\n",
       " \"what was elie wiesel's father's name?\": {'query_0': 'Elie Wiesels father',\n",
       "  'analysis_0': \" Elie Wiesel's father was Shlomo\",\n",
       "  'generated_answer': 'Shlomo'},\n",
       " 'what king signed the magna carta?': {'query_0': 'Who signed the Magna Carta',\n",
       "  'analysis_0': ' Magna Carta was signed by King John',\n",
       "  'generated_answer': 'King John'},\n",
       " 'what is the most common kind of skin cancer in the u.s.?': {'query_0': 'most common skin cancer in the U.S.',\n",
       "  'analysis_0': ' skin cancer is the most common form of cancer globally and that basal-cell and squamous-cell skin cancers rarely result in death',\n",
       "  'generated_answer': ' Basal-cell and Squamous-cell skin cancers'},\n",
       " 'in what year did the hindenberg crash?': {'query_0': 'when did the Hindenberg crash',\n",
       "  'analysis_0': ' the Hindenburg disaster occurred in 1937',\n",
       "  'generated_answer': '1937'},\n",
       " 'where was joe biden a senator?': {'query_0': 'Joe Biden senator state',\n",
       "  'analysis_0': ' Joe Biden was a senator from 1973 to 2009',\n",
       "  'generated_answer': ' Delaware'},\n",
       " 'what kind of guitar does lindsey buckingham play?': {'query_0': 'Lindsey Buckingham guitar',\n",
       "  'analysis_0': ' Lindsey Buckingham is a musician, singer, songwriter and producer',\n",
       "  'generated_answer': ' Lindsey Buckingham plays a Fender Telecaster guitar.'},\n",
       " 'what is the most frequently spoken language in the netherlands?': {'query_0': 'most spoken language in Netherlands',\n",
       "  'analysis_0': ' Dutch is a West Germanic language spoken in the Netherlands',\n",
       "  'generated_answer': ' Dutch'},\n",
       " 'george bush purchased a small interest in which baseball team?': {'query_0': 'George Bush baseball team',\n",
       "  'analysis_0': ' George H. W. Bush was a naval aviator and graduated from Yale in 1948',\n",
       "  'generated_answer': ' The Texas Rangers'},\n",
       " 'where does the greatest distortion in a cylindrical mercator projection occur?': {'query_0': 'cylindrical mercator projection',\n",
       "  'analysis_0': ' the Mercator projection is a cylindrical map projection',\n",
       "  'generated_answer': ' at the poles'},\n",
       " 'which element in period 3 is the most reactive metal?': {'query_0': 'most reactive metal in period 3',\n",
       "  'analysis_0': ' period 3 elements include sodium, magnesium, aluminum, silicon, phosphorus, sulfur, chlorine, and argon',\n",
       "  'generated_answer': ' Sodium'},\n",
       " 'what is the population of venezuela?': {'query_0': 'population of Venezuela',\n",
       "  'analysis_0': ' the population of Venezuela is approximately 28 million people',\n",
       "  'generated_answer': '28 million'},\n",
       " 'who was the 21st u.s. president?': {'query_0': '21st U.S. president',\n",
       "  'analysis_0': ' Chester A. Arthur was the 21st President of the United States',\n",
       "  'generated_answer': 'Chester A. Arthur'},\n",
       " 'what island is half greek and half turkish?': {'query_0': 'island half greek half turkish',\n",
       "  'analysis_0': ' the island of Tenedos is half Greek and half Turkish',\n",
       "  'generated_answer': 'Tenedos'},\n",
       " 'what year did hitler die?': {'query_0': 'when did Hitler die',\n",
       "  'analysis_0': ' Adolf Hitler killed himself on 30 April 1945',\n",
       "  'generated_answer': '30 April 1945'},\n",
       " 'what kind of currency does cuba use?': {'query_0': 'currency used in Cuba',\n",
       "  'analysis_0': ' Cuba has two official currencies, the Cuban convertible peso and the Cuban peso',\n",
       "  'generated_answer': 'Cuban convertible peso and the Cuban peso'},\n",
       " 'what is sake?': {'query_0': 'sake',\n",
       "  'analysis_0': ' sake is an alcoholic beverage made by fermenting rice',\n",
       "  'generated_answer': 'an alcoholic beverage made by fermenting rice'},\n",
       " 'how big is our galaxy in diameter?': {'query_0': 'size of our galaxy',\n",
       "  'analysis_0': ' the Milky Way is roughly 100,000–180,000 light years in diameter',\n",
       "  'generated_answer': '100,000–180,000 light years'},\n",
       " 'what condition does michael j fox have?': {'query_0': 'Michael J. Fox condition',\n",
       "  'analysis_0': \" Michael J. Fox has Parkinson's disease\",\n",
       "  'generated_answer': \"Parkinson's disease\"},\n",
       " 'where was the movie the river runs through it filmed?': {'query_0': 'movie the river runs through it',\n",
       "  'analysis_0': ' A River Runs Through It is a 1992 American period coming-of-age drama film directed by Robert Redford and starring Craig Sheffer, Brad Pitt, Tom Skerritt, Brenda Blethyn, and Emily Lloyd',\n",
       "  'generated_answer': ' Montana'},\n",
       " 'who does maggie grace play in taken?': {'query_0': 'Maggie Grace',\n",
       "  'analysis_0': ' Maggie Grace is an American actress and model',\n",
       "  'generated_answer': ' Maggie Grace plays the role of Kim Mills in the Taken franchise.'},\n",
       " 'how many states are in the united stares?': {'query_0': 'number of states in the United States',\n",
       "  'analysis_0': ' the United States is composed of 50 states, a federal district, five major self-governing territories, and various possessions',\n",
       "  'generated_answer': '50 states'},\n",
       " 'what river flows between fargo, north dakota and moorhead, minnesota?': {'query_0': 'river between Fargo, North Dakota and Moorhead, Minnesota',\n",
       "  'analysis_0': ' the Fargo-Moorhead Toll Bridge is located on the Red River of the North between Fargo, North Dakota and Moorhead, Minnesota',\n",
       "  'generated_answer': 'Red River of the North'},\n",
       " \"where is ayer's rock?\": {'query_0': \"ayer's rock\",\n",
       "  'analysis_0': ' Ayers Rock is an Australian rock band',\n",
       "  'generated_answer': ' Australia'},\n",
       " 'what does usps stand for?': {'query_0': 'what does USPS stand for',\n",
       "  'analysis_0': ' the United States Postal Service is an independent agency of the United States federal government',\n",
       "  'generated_answer': ' United States Postal Service'},\n",
       " \"who played dumbledore in the philosopher's stone?\": {'query_0': 'Dumbledore actor Philosophers Stone',\n",
       "  'analysis_0': \" Albus Dumbledore was the character in the Philosopher's Stone\",\n",
       "  'generated_answer': ' Richard Harris'},\n",
       " 'when was the nfl established?': {'query_0': 'when was the NFL established',\n",
       "  'analysis_0': ' the NFL was founded in 1920 as the American Professional Football Association',\n",
       "  'generated_answer': '1920'},\n",
       " 'what state in the us has the most counties?': {'query_0': 'number of counties by state in the US',\n",
       "  'analysis_0': ' Texas has the most counties with 254',\n",
       "  'generated_answer': 'Texas'},\n",
       " 'who paid for the building of the colosseum?': {'query_0': 'who paid for the colosseum',\n",
       "  'analysis_0': ' the Colosseum was built by Vespasian and inaugurated by Titus in 80 AD as a personal gift of the Emperor to the people of Rome, paid for by the imperial share of booty after the Jewish Revolt',\n",
       "  'generated_answer': 'the imperial share of booty after the Jewish Revolt'},\n",
       " 'what president became chief justice after his presidency?': {'query_0': 'president became chief justice after presidency',\n",
       "  'analysis_0': ' William Howard Taft was the 27th President of the United States and the tenth Chief Justice of the United States',\n",
       "  'generated_answer': 'William Howard Taft'},\n",
       " 'where is perth?': {'query_0': 'perth',\n",
       "  'analysis_0': ' Perth is the capital and largest city of the Australian state of Western Australia',\n",
       "  'generated_answer': 'the capital and largest city of the Australian state of Western Australia'},\n",
       " 'what was the name of the plane lindbergh flew solo across the atlantic?': {'query_0': 'Charles Lindbergh',\n",
       "  'analysis_0': ' Charles Lindbergh flew solo across the Atlantic in 1927',\n",
       "  'generated_answer': ' The Spirit of St. Louis'},\n",
       " \"what is california's state tree?\": {'query_0': 'California state tree',\n",
       "  'analysis_0': ' Giant Sequoia is the state tree of California',\n",
       "  'generated_answer': 'Giant Sequoia'},\n",
       " 'what is leukemia?': {'query_0': 'leukemia',\n",
       "  'analysis_0': ' leukemia is a group of cancers that usually begin in the bone marrow and result in high numbers of abnormal white blood cells',\n",
       "  'generated_answer': 'a group of cancers that usually begin in the bone marrow and result in high numbers of abnormal white blood cells'},\n",
       " 'what does nasa stand for?': {'query_0': 'what does NASA stand for',\n",
       "  'analysis_0': ' NASA stands for the National Aeronautics and Space Administration',\n",
       "  'generated_answer': 'The National Aeronautics and Space Administration'},\n",
       " 'what year did the u.s. buy alaska?': {'query_0': 'when did the U.S. buy Alaska',\n",
       "  'analysis_0': ' the United States purchased Alaska from the Russian Empire on March 30, 1867',\n",
       "  'generated_answer': ' March 30, 1867'},\n",
       " 'which american idol contestant has sold the most records?': {'query_0': 'American Idol record sales',\n",
       "  'analysis_0': ' Kelly Clarkson has sold more than 23 million records',\n",
       "  'generated_answer': 'Kelly Clarkson'},\n",
       " 'what type of government does burma (myanmar) have?': {'query_0': 'Government of Burma (Myanmar)',\n",
       "  'analysis_0': ' the National Coalition Government of the Union of Burma was established in 1990 and that Burma (Myanmar) was a monarchy ruled by various dynasties prior to the 19th century',\n",
       "  'generated_answer': ' a military-led government'},\n",
       " 'where was ted kennedy buried?': {'query_0': 'Ted Kennedy burial location',\n",
       "  'analysis_0': ' Ted Kennedy was buried in Arlington National Cemetery',\n",
       "  'generated_answer': 'Arlington National Cemetery'},\n",
       " 'what is desktop publishing?': {'query_0': 'desktop publishing',\n",
       "  'analysis_0': ' desktop publishing is the creation of documents using page layout skills on a personal computer',\n",
       "  'generated_answer': 'the creation of documents using page layout skills on a personal computer'},\n",
       " 'what are the colors of the german flag?': {'query_0': 'colors of the German flag',\n",
       "  'analysis_0': ' the colors of the German flag are black, red, and gold',\n",
       "  'generated_answer': 'black, red, and gold'},\n",
       " 'where is the mason/dixon line?': {'query_0': 'mason/dixon line',\n",
       "  'analysis_0': ' the Mason–Dixon line was surveyed between 1763 and 1767',\n",
       "  'generated_answer': ' the Mason–Dixon line is the boundary between Pennsylvania and Maryland.'},\n",
       " 'where are the british crown jewels kept?': {'query_0': 'location of British Crown Jewels',\n",
       "  'analysis_0': ' the Jewel House is a vault housing the British Crown Jewels in the Waterloo Block at the Tower of London',\n",
       "  'generated_answer': 'The Jewel House is a vault housing the British Crown Jewels in the Waterloo Block at the Tower of London.'},\n",
       " 'what is the ph scale?': {'query_0': 'ph scale definition',\n",
       "  'analysis_0': ' pH is a logarithmic scale used to specify the acidity or basicity of an aqueous solution',\n",
       "  'generated_answer': 'a logarithmic scale used to specify the acidity or basicity of an aqueous solution'},\n",
       " 'who was the prime minister of canada in 1998?': {'query_0': 'Prime Minister of Canada 1998',\n",
       "  'analysis_0': ' Brian Mulroney was the Prime Minister of Canada in 1998 and that the Deputy Prime Minister of Canada was in leadership in 1998',\n",
       "  'generated_answer': ' Jean Chrétien'},\n",
       " 'when did princess diana and prince charles get married?': {'query_0': 'Princess Diana Prince Charles marriage date',\n",
       "  'analysis_0': ' Prince Charles and Lady Diana Spencer were engaged on 3 February 1981 and married on 29 July 1981',\n",
       "  'generated_answer': '29 July 1981'},\n",
       " 'who played princess leia in star wars movies?': {'query_0': 'princess leia star wars cast',\n",
       "  'analysis_0': ' Princess Leia was a character in the Star Wars franchise',\n",
       "  'generated_answer': ' Carrie Fisher'},\n",
       " \"what was the name of jacques cousteau's ship?\": {'query_0': 'Jacques Cousteaus ship',\n",
       "  'analysis_0': \" Jacques Cousteau's ship was originally built by the Ballard Marine Railway Company of Seattle, Washington, United States\",\n",
       "  'generated_answer': ' Calypso'},\n",
       " 'what is another name for vitamin b1?': {'query_0': 'other names for vitamin b1',\n",
       "  'analysis_0': ' Vitamin B is also called cobalamin',\n",
       "  'generated_answer': 'cobalamin'},\n",
       " 'when did elvis presley die?': {'query_0': 'when did Elvis Presley die',\n",
       "  'analysis_0': ' Elvis Presley died in 1977',\n",
       "  'generated_answer': ' 1977'},\n",
       " 'how fast is the speed of light?': {'query_0': 'speed of light',\n",
       "  'analysis_0': ' the speed of light is a universal physical constant',\n",
       "  'generated_answer': ' 299,792,458 meters per second'},\n",
       " 'what is bangers and mash?': {'query_0': 'what is bangers and mash',\n",
       "  'analysis_0': ' Bangers and Mash is a traditional dish of Great Britain and Ireland comprising sausages served with mashed potatoes',\n",
       "  'generated_answer': 'a traditional dish of Great Britain and Ireland comprising sausages served with mashed potatoes'},\n",
       " 'which country is to the north of the united states of america?': {'query_0': 'countries north of the United States',\n",
       "  'analysis_0': ' North America encompasses the whole continent, including Canada, Mexico, the United States, and Greenland',\n",
       "  'generated_answer': 'Canada'},\n",
       " 'what do the initials cpr stand for?': {'query_0': 'what does cpr stand for',\n",
       "  'analysis_0': ' Cardiopulmonary Resuscitation (CPR) is an emergency procedure',\n",
       "  'generated_answer': ' Cardiopulmonary Resuscitation'},\n",
       " 'what is the brightest star visible from Earth?': {'query_0': 'brightest star visible from Earth',\n",
       "  'analysis_0': ' Alpha Mensae is the brightest star visible from Earth with a magnitude of 5.09 and Beta Camelopardalis is the brightest star in the northern constellation of Camelopardalis with a magnitude of 4.02',\n",
       "  'generated_answer': 'Alpha Mensae'},\n",
       " 'who played harmonica in led zeppelin you shook me?': {'query_0': 'You Shook Me Led Zeppelin harmonica',\n",
       "  'analysis_0': ' Robert Plant played harmonica in You Shook Me',\n",
       "  'generated_answer': 'Robert Plant'},\n",
       " 'who was the winner of the 2009 nobel peace prize?': {'query_0': '2009 Nobel Peace Prize winner',\n",
       "  'analysis_0': ' the 2009 Nobel Peace Prize was awarded to United States President Barack Obama',\n",
       "  'generated_answer': 'Barack Obama'},\n",
       " 'how far is it from denver to aspen?': {'query_0': 'distance between Denver and Aspen',\n",
       "  'analysis_0': ' Colorado State Highway 82 and Independence Pass are the roads between Denver and Aspen',\n",
       "  'generated_answer': ' Approximately 120 miles'},\n",
       " 'who developed new theories on measuring time and space?': {'query_0': 'measuring time and space theories',\n",
       "  'analysis_0': ' Albert Einstein developed theories on measuring time and space',\n",
       "  'generated_answer': 'Albert Einstein'},\n",
       " 'what does the acronym nasa stand for?': {'query_0': 'what does nasa stand for',\n",
       "  'analysis_0': ' NASA stands for the National Aeronautics and Space Administration',\n",
       "  'generated_answer': 'The National Aeronautics and Space Administration'},\n",
       " 'what do you call a word that is spelled the same backwards and forwards?': {'query_0': 'word spelled the same backwards and forwards',\n",
       "  'analysis_0': ' palindrome and kaibun are words that are spelled the same backwards and forwards',\n",
       "  'generated_answer': 'palindrome and kaibun'},\n",
       " 'what is neurology?': {'query_0': 'neurology',\n",
       "  'analysis_0': ' neurology is a branch of medicine dealing with disorders of the nervous system and neuropsychology is the study of the structure and function of the brain as they relate to specific psychological processes and behaviours',\n",
       "  'generated_answer': 'Neurology is a branch of medicine dealing with disorders of the nervous system and neuropsychology is the study of the structure and function of the brain as they relate to specific psychological processes and behaviours.'},\n",
       " 'when was the san francisco fire?': {'query_0': 'San Francisco fire date',\n",
       "  'analysis_0': ' the San Francisco Fire of 1851 occurred on May 3-4, 1851',\n",
       "  'generated_answer': 'May 3-4, 1851'},\n",
       " 'how far is santa clara california from san francisco california?': {'query_0': 'distance between Santa Clara and San Francisco',\n",
       "  'analysis_0': ' Santa Clara is located 45 miles from San Francisco',\n",
       "  'generated_answer': '45 miles'},\n",
       " 'when was the boston tea party?': {'query_0': 'date of Boston Tea Party',\n",
       "  'analysis_0': ' the Boston Tea Party was a political and mercantile protest by the Sons of Liberty in Boston, Massachusetts, on December 16, 1773',\n",
       "  'generated_answer': 'December 16, 1773'},\n",
       " 'who sings the song i want to know?': {'query_0': 'I want to know song',\n",
       "  'analysis_0': ' \"I Want You to Know\" is a song by Russian-German music producer Zedd, featuring vocals from American singer Selena Gomez',\n",
       "  'generated_answer': 'Russian-German music producer Zedd, featuring vocals from American singer Selena Gomez'},\n",
       " \"when is st. patrick's day?\": {'query_0': 'when is St. Patricks Day',\n",
       "  'analysis_0': \" Saint Patrick's Day is a cultural and religious celebration held on 17 March\",\n",
       "  'generated_answer': '17 March'},\n",
       " 'when was nepal divided into 7 provinces in nepali date?': {'query_0': 'when was Nepal divided into 7 provinces',\n",
       "  'analysis_0': ' Nepal was divided into seven provinces in 2015 according to Schedule 4 of the Constitution of Nepal',\n",
       "  'generated_answer': ' 2015 (2072 BS)'},\n",
       " 'who was the first woman on the united states supreme court?': {'query_0': 'first woman on United States Supreme Court',\n",
       "  'analysis_0': \" Cornelia Groefsema Kennedy was on the shortlist for the seat vacated by the departure of William O. Douglas and that Sandra Day O'Connor was the first woman appointed to the U.S. Supreme Court\",\n",
       "  'generated_answer': \"Sandra Day O'Connor\"},\n",
       " 'where is milan?': {'query_0': 'milan',\n",
       "  'analysis_0': ' Milan is a city in northern Italy, capital of Lombardy',\n",
       "  'generated_answer': 'northern Italy, capital of Lombardy'},\n",
       " 'name of the bird in the lion king?': {'query_0': 'bird in the Lion King',\n",
       "  'analysis_0': ' Kimba the White Lion was the bird in the Lion King',\n",
       "  'generated_answer': 'Kimba the White Lion'},\n",
       " 'how many premier league titles has man utd won?': {'query_0': 'Manchester United premier league titles',\n",
       "  'analysis_0': ' Manchester United has won the Premier League title four times in a row',\n",
       "  'generated_answer': ' 4'},\n",
       " 'what is nuclear power?': {'query_0': 'nuclear power',\n",
       "  'analysis_0': ' nuclear power is the use of nuclear reactions that release nuclear energy to generate heat',\n",
       "  'generated_answer': ' the use of nuclear reactions that release nuclear energy to generate heat'},\n",
       " 'who does donald glover play in lion king?': {'query_0': 'Donald Glover The Lion King',\n",
       "  'analysis_0': ' Donald Glover is an actor and musician',\n",
       "  'generated_answer': ' Donald Glover plays the character Simba in the 2019 remake of The Lion King.'},\n",
       " 'what is the name of the chocolate company in san francisco?': {'query_0': 'chocolate companies San Francisco',\n",
       "  'analysis_0': ' two chocolate companies in San Francisco are Ghirardelli Chocolate Company and Guittard Chocolate Company',\n",
       "  'generated_answer': 'Ghirardelli Chocolate Company and Guittard Chocolate Company'},\n",
       " 'what is the street address of the white house?': {'query_0': 'street address of the White House',\n",
       "  'analysis_0': ' the White House is located at 16th Street NW (Lafayette Square) and Pennsylvania Avenue NW',\n",
       "  'generated_answer': '1600 Pennsylvania Avenue NW'},\n",
       " 'how long did rip van winkle sleep?': {'query_0': 'Rip Van Winkle sleep duration',\n",
       "  'analysis_0': ' Rip Van Winkle fell asleep for 20 years and Epimenides fell asleep for 57 years',\n",
       "  'generated_answer': ' 20 years'},\n",
       " 'what is the name of the first cartoon with sound?': {'query_0': 'first cartoon with sound',\n",
       "  'analysis_0': ' My Old Kentucky Home was the first cartoon with synchronized sound',\n",
       "  'generated_answer': ' My Old Kentucky Home'},\n",
       " 'what color does litmus paper turn when it comes into contact with a strong acid?': {'query_0': 'litmus paper + strong acid',\n",
       "  'analysis_0': ' litmus paper is used to test for acidity or alkalinity',\n",
       "  'generated_answer': ' red'},\n",
       " 'what is semolina?': {'query_0': 'semolina',\n",
       "  'analysis_0': ' semolina is a coarse, purified wheat middlings of durum wheat mainly used in making pasta and couscous',\n",
       "  'generated_answer': 'a coarse, purified wheat middlings of durum wheat mainly used in making pasta and couscous'},\n",
       " 'icc world cup outside england first time sponsor?': {'query_0': 'first ICC World Cup outside England',\n",
       "  'analysis_0': ' the first ICC World Cup outside England was the 1987 Cricket World Cup',\n",
       "  'generated_answer': ' India and Pakistan'},\n",
       " 'how many teams in fa cup fourth round?': {'query_0': 'number of teams in FA Cup Fourth Round',\n",
       "  'analysis_0': ' in the 2014-15 FA Cup qualifying rounds, 64 teams took part in the Fourth Round Qualifying and in the 2013-14 FA Cup qualifying rounds, 64 teams took part in the Fourth Round Qualifying',\n",
       "  'generated_answer': '64 teams'},\n",
       " 'what is pectin?': {'query_0': 'pectin',\n",
       "  'analysis_0': ' pectin is a structural heteropolysaccharide contained in the primary cell walls of terrestrial plants',\n",
       "  'generated_answer': ' a structural heteropolysaccharide contained in the primary cell walls of terrestrial plants'},\n",
       " \"what was the man's name who was killed in a duel with aaron burr?\": {'query_0': 'killed in duel with Aaron Burr',\n",
       "  'analysis_0': ' Aaron Burr and Alexander Hamilton were involved in a duel',\n",
       "  'generated_answer': ' Alexander Hamilton'},\n",
       " 'what is the distance in miles from the earth to the sun?': {'query_0': 'distance from earth to sun',\n",
       "  'analysis_0': ' the average distance between the Earth and the Sun is 149.60 million km (92.96 million mi)',\n",
       "  'generated_answer': '92.96 million miles'},\n",
       " 'what city\\'s newspaper is called \"the enquirer\"?': {'query_0': 'the enquirer newspaper city',\n",
       "  'analysis_0': ' the National Enquirer and the New York Enquirer are two unrelated newspapers published in New York City',\n",
       "  'generated_answer': ' New York City'},\n",
       " 'what kind of dog was toto in the wizard of oz?': {'query_0': 'breed of dog in The Wizard of Oz',\n",
       "  'analysis_0': ' Toto was a small terrier',\n",
       "  'generated_answer': ' Small Terrier'},\n",
       " 'what is another astronomic term for the northern lights?': {'query_0': 'astronomy term for northern lights',\n",
       "  'analysis_0': ' the northern lights are also known as the aurora borealis',\n",
       "  'generated_answer': ' aurora borealis'},\n",
       " 'what does nafta stand for?': {'query_0': 'NAFTA acronym meaning',\n",
       "  'analysis_0': ' NAFTA stands for the North American Free Trade Agreement',\n",
       "  'generated_answer': 'North American Free Trade Agreement'},\n",
       " 'where is the mayo clinic?': {'query_0': 'location of Mayo Clinic',\n",
       "  'analysis_0': ' the Mayo Clinic has three locations in the United States',\n",
       "  'generated_answer': ' Rochester, Minnesota; Phoenix/Scottsdale, Arizona; and Jacksonville, Florida'},\n",
       " 'what character did liv tyler play in lord of the rings?': {'query_0': 'Liv Tyler Lord of the Rings character',\n",
       "  'analysis_0': ' Liv Tyler starred in the Lord of the Rings trilogy',\n",
       "  'generated_answer': ' Arwen'},\n",
       " 'who was elected president of south africa in 1994?': {'query_0': 'president of South Africa 1994',\n",
       "  'analysis_0': ' Nelson Mandela was elected as President on 9 May 1994',\n",
       "  'generated_answer': 'Nelson Mandela'},\n",
       " 'what is the symbol on the canadian flag?': {'query_0': 'symbol on Canadian flag',\n",
       "  'analysis_0': ' the Canadian flag has a maple leaf symbol',\n",
       "  'generated_answer': 'maple leaf'},\n",
       " 'who was the first person to set foot on the moon?': {'query_0': 'first person to set foot on the moon',\n",
       "  'analysis_0': ' Neil Armstrong was the first person to set foot on the moon',\n",
       "  'generated_answer': 'Neil Armstrong'},\n",
       " 'when did the revenge of the sith come out?': {'query_0': 'release date Revenge of the Sith',\n",
       "  'analysis_0': ' Star Wars: Episode III – Revenge of the Sith was released worldwide on May 19, 2005',\n",
       "  'generated_answer': 'May 19, 2005'},\n",
       " 'when does hong kong revert back to china?': {'query_0': 'Hong Kong revert back to China',\n",
       "  'analysis_0': ' the transfer of sovereignty over Hong Kong was on 1 July 1997',\n",
       "  'generated_answer': '1 July 1997'},\n",
       " 'what did barack obama do before he took office?': {'query_0': 'Barack Obama pre-presidency',\n",
       "  'analysis_0': ' Barack Obama was the 44th President of the United States and that he made it illegal for an insurance company to deny coverage to someone with prior coverage on the basis of a pre-existing condition',\n",
       "  'generated_answer': ' He made it illegal for an insurance company to deny coverage to someone with prior coverage on the basis of a pre-existing condition.'},\n",
       " 'what language do they speak in northern ireland?': {'query_0': 'language spoken in Northern Ireland',\n",
       "  'analysis_0': ' English is the most spoken language in Northern Ireland and that Irish is a recognised minority language',\n",
       "  'generated_answer': 'English and Irish'},\n",
       " 'in which province is pretoria?': {'query_0': 'province of Pretoria',\n",
       "  'analysis_0': ' Pretoria is a city in South Africa',\n",
       "  'generated_answer': ' Gauteng'},\n",
       " 'what is the fourth highest mountain in the world?': {'query_0': 'fourth highest mountain in the world',\n",
       "  'analysis_0': ' Lhotse is the fourth highest mountain in the world',\n",
       "  'generated_answer': 'Lhotse'},\n",
       " 'on what continent is canada found?': {'query_0': 'location of Canada',\n",
       "  'analysis_0': \" Canada is the world's second largest country in total area and is situated in northern North America\",\n",
       "  'generated_answer': ' North America'},\n",
       " 'what teams did shoeless joe jackson play for?': {'query_0': 'Shoeless Joe Jackson',\n",
       "  'analysis_0': ' Shoeless Joe Jackson began his professional baseball career with the Greenville Spinners of the Carolina Association and signed with Connie Mack to play Major League Baseball for the Philadelphia Athletics',\n",
       "  'generated_answer': ' Greenville Spinners and Philadelphia Athletics'},\n",
       " 'who played albus dumbledore in harry potter 6?': {'query_0': 'Albus Dumbledore Harry Potter 6 cast',\n",
       "  'analysis_0': ' Albus Dumbledore was portrayed by Richard Harris in the first two films',\n",
       "  'generated_answer': ' Richard Harris'},\n",
       " 'when was the song we are the champions written?': {'query_0': 'Who wrote the song We Are the Champions',\n",
       "  'analysis_0': ' We Are the Champions was written by lead singer Freddie Mercury and was released on their 1977 album \"News of the World\"',\n",
       "  'generated_answer': '1977'},\n",
       " 'where is the eiffel tower?': {'query_0': 'location of the Eiffel Tower',\n",
       "  'analysis_0': \" the Eiffel Tower is located at the intersection of the quai Branly and the Pont d'Iéna\",\n",
       "  'generated_answer': \"the intersection of the quai Branly and the Pont d'Iéna\"},\n",
       " \"who's the lead singer of the led zeppelin band?\": {'query_0': 'Led Zeppelin lead singer',\n",
       "  'analysis_0': ' Robert Plant is the lead singer of the Led Zeppelin band',\n",
       "  'generated_answer': 'Robert Plant'},\n",
       " 'what city is also known as \"the gateway to the west\"?': {'query_0': 'the gateway to the west city',\n",
       "  'analysis_0': ' Gateway West Building was a skyscraper in Century City, Los Angeles, California',\n",
       "  'generated_answer': ' St. Louis, Missouri'},\n",
       " \"what was president lyndon johnson's reform program called?\": {'query_0': 'Lyndon Johnson reform program',\n",
       "  'analysis_0': ' Lyndon Johnson declared a \"War on Poverty\" and his domestic program was called the \"Great Society\"',\n",
       "  'generated_answer': 'Great Society'},\n",
       " 'what county is modesto, california in?': {'query_0': 'county of Modesto, California',\n",
       "  'analysis_0': ' Modesto is located in the Central Valley of California',\n",
       "  'generated_answer': ' Stanislaus County'},\n",
       " 'how wide is the milky way galaxy?': {'query_0': 'width of milky way galaxy',\n",
       "  'analysis_0': ' the Milky Way is a barred spiral galaxy with a diameter between 150,000 and 200,000 light-years',\n",
       "  'generated_answer': '150,000 to 200,000 light-years'},\n",
       " 'what chain store is headquartered in bentonville, arkansas?': {'query_0': 'headquartered in Bentonville, Arkansas chain store',\n",
       "  'analysis_0': ' Walmart is headquartered in Bentonville, Arkansas',\n",
       "  'generated_answer': 'Walmart'},\n",
       " 'who is the number 1 played artist on spotify?': {'query_0': 'most played artist on Spotify',\n",
       "  'analysis_0': ' One Dance was the most played song ever on Spotify',\n",
       "  'generated_answer': ' Drake'},\n",
       " 'what kind of corn is used to make ethanol?': {'query_0': 'type of corn used for ethanol',\n",
       "  'analysis_0': ' corn ethanol is produced from corn biomass',\n",
       "  'generated_answer': ' Corn biomass'},\n",
       " 'where was emperor tiberius born?': {'query_0': 'emperor tiberius',\n",
       "  'analysis_0': ' Tiberius was Roman emperor from 14 AD to 37 AD',\n",
       "  'generated_answer': ' Rome, Italy'},\n",
       " \"what is nicholas cage's profession?\": {'query_0': 'Nicholas Cage profession',\n",
       "  'analysis_0': ' Nicolas Cage is an American actor, director and producer',\n",
       "  'generated_answer': 'American actor, director and producer'},\n",
       " 'what band does adam levine sing for?': {'query_0': 'Adam Levine band',\n",
       "  'analysis_0': ' Adam Levine is an American singer, songwriter and actor',\n",
       "  'generated_answer': ' Maroon 5'},\n",
       " 'what is the national park in utah?': {'query_0': 'national park in Utah',\n",
       "  'analysis_0': ' Canyonlands National Park and Capitol Reef National Park are national parks located in Utah',\n",
       "  'generated_answer': 'Canyonlands National Park and Capitol Reef National Park'},\n",
       " 'what is genocide?': {'query_0': 'genocide',\n",
       "  'analysis_0': ' genocide is intentional action to destroy a people',\n",
       "  'generated_answer': 'intentional action to destroy a people'},\n",
       " 'what year was the magna carta signed?': {'query_0': 'date magna carta signed',\n",
       "  'analysis_0': ' King John signed the Magna Carta in 1215',\n",
       "  'generated_answer': '1215'},\n",
       " 'who was the king of england when the mayflower sailed?': {'query_0': 'King of England 1620',\n",
       "  'analysis_0': ' the 3rd Parliament of King James I was summoned in 1620 and that John King was the Bishop of London in 1611-1621',\n",
       "  'generated_answer': ' King James I'},\n",
       " 'what was the name of the newspaper where hemingway wrote?': {'query_0': 'Ernest Hemingway newspaper',\n",
       "  'analysis_0': ' Ernest Hemingway wrote for the Toronto Star and the Kansas City Star',\n",
       "  'generated_answer': 'Toronto Star and the Kansas City Star'},\n",
       " 'who decided what rights should be included in the convention on the rights of the child?': {'query_0': 'convention on the rights of the child decision makers',\n",
       "  'analysis_0': ' the Convention on the Rights of the Child dictates the manner in which parents are to raise and instruct their children and that the right to be heard from Article 12 relates closely to other articles under the Convention',\n",
       "  'generated_answer': ' The United Nations General Assembly'},\n",
       " 'who killed john f. kennedy?': {'query_0': 'responsible for assassination of John F. Kennedy',\n",
       "  'analysis_0': ' Lee Harvey Oswald was the only person responsible for assassinating Kennedy according to the Warren Commission and the US House Select Committee on Assassinations',\n",
       "  'generated_answer': 'Lee Harvey Oswald'},\n",
       " 'what is the latinised word for the country wales?': {'query_0': 'latinised word for Wales',\n",
       "  'analysis_0': ' the Latinised word for Wales is Cambria',\n",
       "  'generated_answer': 'Cambria'},\n",
       " 'what is the electrical output in madrid, spain?': {'query_0': 'electrical output Madrid Spain',\n",
       "  'analysis_0': ' Endesa is the largest electric utility company in Spain and that it provides over 80,100 GWh annually',\n",
       "  'generated_answer': ' 80,100 GWh'},\n",
       " 'what is the largest island of north america?': {'query_0': 'largest island of North America',\n",
       "  'analysis_0': ' Greenland is the largest island of North America',\n",
       "  'generated_answer': 'Greenland'},\n",
       " 'when did idaho become a state?': {'query_0': 'when did Idaho become a state',\n",
       "  'analysis_0': ' Idaho became a state in 1890',\n",
       "  'generated_answer': '1890'},\n",
       " 'what kind of biome is the everglades?': {'query_0': 'everglades biome',\n",
       "  'analysis_0': ' the Everglades & Dry Tortugas Biosphere Reserve is a UNESCO Biosphere Reserve in Florida and the Gulf of Mexico',\n",
       "  'generated_answer': ' Wetland/Tropical Savanna Biome'},\n",
       " 'what is the longest suspension bridge in the u.s.?': {'query_0': 'longest suspension bridge in the U.S.',\n",
       "  'analysis_0': ' the Verrazzano-Narrows Bridge is currently the eleventh-longest span in the world and longest in the Western Hemisphere, and the Mackinac Bridge has an anchorage in the middle and is the third-longest suspension span in the United States and 20th longest suspension span worldwide',\n",
       "  'generated_answer': ' Verrazzano-Narrows Bridge'},\n",
       " 'what kind of source is the washington post?': {'query_0': 'type of source Washington Post',\n",
       "  'analysis_0': ' The Washington Post is a newspaper',\n",
       "  'generated_answer': 'newspaper'},\n",
       " 'what primary colors do you mix to make orange?': {'query_0': 'colors used to make orange',\n",
       "  'analysis_0': ' orange is a combination of yellow, red and ochre',\n",
       "  'generated_answer': 'yellow, red and ochre'},\n",
       " 'who killed harvey milk?': {'query_0': 'killed harvey milk',\n",
       "  'analysis_0': ' Dan White killed Harvey Milk and George Moscone',\n",
       "  'generated_answer': 'Dan White'},\n",
       " 'what county is charlotte north carolina?': {'query_0': 'Charlotte, North Carolina county',\n",
       "  'analysis_0': ' Charlotte is the largest city in the state of North Carolina',\n",
       "  'generated_answer': ' Mecklenburg County'},\n",
       " 'how did janice joplin die?': {'query_0': 'cause of death Janice Joplin',\n",
       "  'analysis_0': ' Janice Joplin died of an overdose of prescription drugs',\n",
       "  'generated_answer': ' overdose of prescription drugs'},\n",
       " 'when was abraham lincoln born?': {'query_0': 'Abraham Lincoln',\n",
       "  'analysis_0': ' Abraham Lincoln was the 16th President of the United States',\n",
       "  'generated_answer': ' February 12, 1809'},\n",
       " 'example of fallacy of argument against the person?': {'query_0': 'fallacy of argument against the person',\n",
       "  'analysis_0': ' the association fallacy is an attack on a person because of the similarity between the views of someone making an argument and other proponents of the argument',\n",
       "  'generated_answer': ' Association Fallacy'},\n",
       " 'what peninsula is spain part of?': {'query_0': 'peninsula Spain is part of',\n",
       "  'analysis_0': ' Peninsular Spain refers to that part of Spanish territory located within the Iberian peninsula',\n",
       "  'generated_answer': ' Iberian Peninsula'},\n",
       " 'what is the location of the sea of tranquility?': {'query_0': 'location of sea of tranquility',\n",
       "  'analysis_0': ' Tranquility Base is located in the Sea of Tranquility',\n",
       "  'generated_answer': ' The Sea of Tranquility'},\n",
       " 'what is phosphorus?': {'query_0': 'phosphorus',\n",
       "  'analysis_0': ' phosphorus is a chemical element with symbol P and atomic number 15',\n",
       "  'generated_answer': 'a chemical element with symbol P and atomic number 15'},\n",
       " \"what are the animals that don't have backbones called?\": {'query_0': 'animals without backbones',\n",
       "  'analysis_0': ' Ralph Buchsbaum wrote a book called \"Animals Without Backbones\" and that invertebrates are animals without backbones',\n",
       "  'generated_answer': ' Invertebrates'},\n",
       " \"what is the shape of a porpoises' tooth?\": {'query_0': 'shape of porpoise tooth',\n",
       "  'analysis_0': ' porpoises have spade-shaped teeth',\n",
       "  'generated_answer': 'spade-shaped'},\n",
       " 'what is the primary language in iceland?': {'query_0': 'primary language in Iceland',\n",
       "  'analysis_0': ' Icelandic is the primary language in Iceland',\n",
       "  'generated_answer': 'Icelandic'},\n",
       " 'what is the number of buffaloes thought to have been living in north america when columbus landed in 1492?': {'query_0': 'number of buffaloes in North America 1492',\n",
       "  'analysis_0': \" the buffalo's first contact with Europeans most likely occurred in the 1500s and that there was roughly 25-30 million wild buffalo living in North America at this time\",\n",
       "  'generated_answer': '25-30 million'},\n",
       " 'what novel is john steinbeck best known for?': {'query_0': 'John Steinbeck best known novel',\n",
       "  'analysis_0': ' John Steinbeck wrote 27 books, including 16 novels',\n",
       "  'generated_answer': ' John Steinbeck is best known for his novel \"The Grapes of Wrath\".'},\n",
       " 'where does the jordan river end?': {'query_0': 'Jordan River end location',\n",
       "  'analysis_0': ' the Jordan River is located on the west coast of Vancouver Island and that it enters the Sea of Galilee at its northern end',\n",
       "  'generated_answer': ' Sea of Galilee'},\n",
       " 'what sea does the yangtze river flow into?': {'query_0': 'Yangtze River flow destination',\n",
       "  'analysis_0': ' the Yangtze River flows into the East China Sea',\n",
       "  'generated_answer': 'East China Sea'},\n",
       " 'what is an atom?': {'query_0': 'an atom',\n",
       "  'analysis_0': ' an atom is the smallest constituent unit of ordinary matter that has the properties of a chemical element',\n",
       "  'generated_answer': 'the smallest constituent unit of ordinary matter that has the properties of a chemical element'},\n",
       " 'when was hiroshima bombed?': {'query_0': 'hiroshima bombed',\n",
       "  'analysis_0': ' the United States dropped two nuclear weapons over the Japanese cities of Hiroshima and Nagasaki on August 6 and 9, 1945, respectively',\n",
       "  'generated_answer': 'August 6 and 9, 1945'},\n",
       " 'when was the first kidney transplant?': {'query_0': 'first kidney transplant',\n",
       "  'analysis_0': ' the first successful kidney transplant was performed on Ruth Tucker in 1950',\n",
       "  'generated_answer': '1950'},\n",
       " 'first gender park in india inaugurated at which place in kerala?': {'query_0': 'first gender park in India inauguration location',\n",
       "  'analysis_0': ' the first gender park in India was opened in Kozhikode, Kerala',\n",
       "  'generated_answer': 'Kozhikode, Kerala'},\n",
       " 'where does luke skywalker live in star wars?': {'query_0': 'Luke Skywalker Star Wars residence',\n",
       "  'analysis_0': ' Luke Skywalker is a character in the Star Wars films',\n",
       "  'generated_answer': ' Tatooine'},\n",
       " 'what is the abbreviation for texas?': {'query_0': 'abbreviation for Texas',\n",
       "  'analysis_0': ' Tex-Mex is an abbreviation for Texas',\n",
       "  'generated_answer': ' Tex-Mex'},\n",
       " 'what country did ponce de leon come from?': {'query_0': 'Ponce de Leon',\n",
       "  'analysis_0': ' Juan Ponce de León was a Spanish explorer and \"conquistador\"',\n",
       "  'generated_answer': ' Spain'},\n",
       " 'who said imperialism is the highest stage of capitalism?': {'query_0': 'imperialism is the highest stage of capitalism source',\n",
       "  'analysis_0': ' Vladimir Lenin wrote Imperialism, the Highest Stage of Capitalism in 1917',\n",
       "  'generated_answer': ' Vladimir Lenin'},\n",
       " 'what blood vessel carries blood away from the heart?': {'query_0': 'blood vessels carrying blood away from the heart',\n",
       "  'analysis_0': ' veins carry deoxygenated blood from the tissues back to the heart and the great arteries carry blood away from the heart',\n",
       "  'generated_answer': 'veins and great arteries'},\n",
       " 'where are the pyramids of giza located?': {'query_0': 'location of the pyramids of Giza',\n",
       "  'analysis_0': ' the Giza pyramid complex is an archaeological site on the Giza Plateau',\n",
       "  'generated_answer': ' Giza Plateau'},\n",
       " 'who invented the slinky?': {'query_0': 'invented the slinky',\n",
       "  'analysis_0': ' the Slinky was invented in 1943 by American engineer Richard T. James',\n",
       "  'generated_answer': 'Richard T. James'},\n",
       " 'when did dodgers last go to world series?': {'query_0': 'when did Dodgers last go to World Series',\n",
       "  'analysis_0': ' the Dodgers went to the World Series in 1959 and 1965',\n",
       "  'generated_answer': '1959 and 1965'},\n",
       " 'what was the date of the chelsea flower show in 1992?': {'query_0': 'Chelsea Flower Show 1992',\n",
       "  'analysis_0': ' the Hampton Court Palace Flower Show was held in 1991 and Dan Pearson designed a garden for the Chelsea Flower Show in 1992',\n",
       "  'generated_answer': ' May 19-23, 1992'},\n",
       " 'who was president in 1913?': {'query_0': 'president 1913',\n",
       "  'analysis_0': \" John Lind was sent to Mexico as Woodrow Wilson's personal envoy for Mexican affairs in 1913\",\n",
       "  'generated_answer': 'Woodrow Wilson'},\n",
       " 'what weapon is typically used by a samurai 1. katana 2. dagger?': {'query_0': 'weapon typically used by a samurai',\n",
       "  'analysis_0': ' the standard samurai weapon by 1592 was the yari, a spear meant to stab, often with a cross-blade that allowed a samurai to pull his opponent from his horse',\n",
       "  'generated_answer': ' Katana'},\n",
       " \"who's won the most formula 1 grand prix?\": {'query_0': 'most Formula 1 Grand Prix wins',\n",
       "  'analysis_0': ' Jackie Stewart held the record for most wins by a Formula One driver for 14 years until Alain Prost won the 1987 Portuguese Grand Prix',\n",
       "  'generated_answer': ' Alain Prost'},\n",
       " 'what is thalassemia?': {'query_0': 'thalassemia',\n",
       "  'analysis_0': ' thalassemia is an inherited blood disorder characterized by abnormal hemoglobin production',\n",
       "  'generated_answer': 'an inherited blood disorder characterized by abnormal hemoglobin production'},\n",
       " 'who got the most streams on spotify 2018?': {'query_0': 'most streamed artist on Spotify 2018',\n",
       "  'analysis_0': ' Ed Sheeran and Drake were the most streamed artists on Spotify in 2017 and 2018 respectively',\n",
       "  'generated_answer': ' Drake'},\n",
       " 'what cyanobacteria is thought to be the most abundant photosynthetic organism in the ocean?': {'query_0': 'most abundant photosynthetic cyanobacteria in the ocean',\n",
       "  'analysis_0': ' Prochlorococcus is a genus of very small marine cyanobacteria with an unusual pigmentation',\n",
       "  'generated_answer': ' Prochlorococcus'},\n",
       " 'what is cholesterol?': {'query_0': 'cholesterol',\n",
       "  'analysis_0': ' cholesterol is an organic molecule and an essential structural component of all animal cell membranes',\n",
       "  'generated_answer': 'an organic molecule and an essential structural component of all animal cell membranes'},\n",
       " 'who wrote the hymn \"amazing grace\"?': {'query_0': 'author of amazing grace hymn',\n",
       "  'analysis_0': ' the hymn \"Amazing Grace\" was written by John Newton',\n",
       "  'generated_answer': 'John Newton'},\n",
       " 'what hemisphere is the philippines in?': {'query_0': 'Philippines hemisphere',\n",
       "  'analysis_0': ' Pagadian is located in the Philippines',\n",
       "  'generated_answer': ' The Philippines is located in the Northern Hemisphere.'},\n",
       " \"when is father's day?\": {'query_0': \"father's day\",\n",
       "  'analysis_0': \" Father's Day is a celebration honoring fathers and celebrating fatherhood\",\n",
       "  'generated_answer': \" Father's Day is typically celebrated on the third Sunday of June.\"},\n",
       " 'what is the airport code for los angeles international?': {'query_0': 'Airport code for Los Angeles International',\n",
       "  'analysis_0': ' Los Angeles International Airport is the primary international airport serving Los Angeles, California and that the airport is most often referred to by its IATA airport code (and FAA LID) LAX',\n",
       "  'generated_answer': ' LAX'},\n",
       " 'what is a nanometer?': {'query_0': 'nanometer',\n",
       "  'analysis_0': ' a nanometer is a unit of length in the metric system, equal to one billionth of a meter',\n",
       "  'generated_answer': 'a unit of length in the metric system, equal to one billionth of a meter'},\n",
       " 'what colors need to be mixed to get the color pink?': {'query_0': 'colors to make pink',\n",
       "  'analysis_0': ' Allura Red AC (E-129) and Cochineal are common red or pink food colorings',\n",
       "  'generated_answer': ' Allura Red AC (E-129) and Cochineal'},\n",
       " \"the symptoms of parkinson's disease are linked to the demise of cells in what area of the brain?\": {'query_0': 'Parkinsons disease brain cells',\n",
       "  'analysis_0': \" the symptoms of Parkinson's disease are linked to the demise of cells\",\n",
       "  'generated_answer': ' the substantia nigra area of the brain.'},\n",
       " 'who is the only president to serve 2 non-consecutive terms?': {'query_0': 'president to serve 2 non-consecutive terms',\n",
       "  'analysis_0': ' Grover Cleveland was the only President to serve two non-consecutive terms',\n",
       "  'generated_answer': 'Grover Cleveland'},\n",
       " 'who is the composer of eugene onegin?': {'query_0': 'composer of Eugene Onegin',\n",
       "  'analysis_0': ' Pyotr Ilyich Tchaikovsky composed Eugene Onegin',\n",
       "  'generated_answer': 'Pyotr Ilyich Tchaikovsky'},\n",
       " 'for what disease is the drug sinemet used as a treatment?': {'query_0': 'sinemet treatment',\n",
       "  'analysis_0': ' Sinemet is a combination of levodopa and carbidopa',\n",
       "  'generated_answer': \" Parkinson's Disease\"},\n",
       " 'what airport do you fly into maui?': {'query_0': 'airports in Maui',\n",
       "  'analysis_0': ' there are two airports in Maui: Kapalua Airport and Kaanapali Airport',\n",
       "  'generated_answer': ' Kapalua Airport and Kaanapali Airport'},\n",
       " 'what unicef stands for?': {'query_0': 'unicef stands for',\n",
       "  'analysis_0': \" UNICEF stands for United Nations Children's Fund\",\n",
       "  'generated_answer': \"United Nations Children's Fund\"},\n",
       " 'what is the location of lake champlain?': {'query_0': 'location of lake champlain',\n",
       "  'analysis_0': ' Lake Champlain is located in North America mainly within the borders of the United States (in the states of Vermont and New York) but partially situated across the Canada–U.S. border, in the Canadian province of Quebec',\n",
       "  'generated_answer': 'North America mainly within the borders of the United States (in the states of Vermont and New York) but partially situated across the Canada–U.S. border, in the Canadian province of Quebec'},\n",
       " 'what continent does the amazon river flow through?': {'query_0': 'continent Amazon River flows through',\n",
       "  'analysis_0': ' the Amazon River rises in the Andes Mountains and flows through Brazil, Peru, Ecuador, Colombia and Venezuela',\n",
       "  'generated_answer': 'South America'},\n",
       " 'what does target heart rate mean?': {'query_0': 'target heart rate definition',\n",
       "  'analysis_0': ' target heart rate is a desired range of heart rate reached during aerobic exercise',\n",
       "  'generated_answer': ' a desired range of heart rate reached during aerobic exercise'},\n",
       " 'who was president of turkmenistan in 1994?': {'query_0': 'president of Turkmenistan 1994',\n",
       "  'analysis_0': ' Saparmurat Niyazov was the president of Turkmenistan in 1994',\n",
       "  'generated_answer': 'Saparmurat Niyazov'},\n",
       " 'what is the first book sherlock holmes appeared in?': {'query_0': 'first book Sherlock Holmes appeared in',\n",
       "  'analysis_0': ' David Henry Friston created the first portraits of Sherlock Holmes and that the first Sherlock Holmes novel was \"A Study in Scarlet\"',\n",
       "  'generated_answer': '\"A Study in Scarlet\"'},\n",
       " 'what is the name of the foreign marine pest infesting the great lakes and associated waterways since 1986?': {'query_0': 'foreign marine pest great lakes 1986',\n",
       "  'analysis_0': ' zebra mussel, \"Dreissena polymorpha\" is a foreign marine pest infesting the great lakes and associated waterways since 1986',\n",
       "  'generated_answer': 'Dreissena polymorpha'},\n",
       " 'what is the most used line on the london underground?': {'query_0': 'most used line on London Underground',\n",
       "  'analysis_0': ' the Central line is the busiest on the Underground and the Victoria line is the most intensively used line',\n",
       "  'generated_answer': 'The Central line is the busiest on the Underground.'},\n",
       " 'what is the name of the lion king\\'s son in the movie, \"the lion king\"?': {'query_0': 'lion kings son movie the lion king',\n",
       "  'analysis_0': \" the lion king's son is Simba\",\n",
       "  'generated_answer': 'Simba'},\n",
       " 'who choose legislators before the passage of the seventeenth amendment?': {'query_0': 'who chose legislators before the seventeenth amendment',\n",
       "  'analysis_0': \" the Seventeenth Amendment took the privilege of electing senators out of state legislators' hands and gave it to the people\",\n",
       "  'generated_answer': ' state legislators'},\n",
       " 'what is the oldest university in the us?': {'query_0': 'oldest university in the US',\n",
       "  'analysis_0': ' the title of oldest public university in the United States is claimed by three universities',\n",
       "  'generated_answer': \" The University of North Carolina at Chapel Hill, The College of William and Mary, and St. John's College\"},\n",
       " 'who invented the instant polaroid camera?': {'query_0': 'inventor of instant polaroid camera',\n",
       "  'analysis_0': ' Edwin H. Land was the inventor of the instant polaroid camera',\n",
       "  'generated_answer': 'Edwin H. Land'},\n",
       " 'what is sodium chloride?': {'query_0': 'sodium chloride',\n",
       "  'analysis_0': ' sodium chloride is an ionic compound with the chemical formula NaCl',\n",
       "  'generated_answer': 'an ionic compound with the chemical formula NaCl'},\n",
       " 'where is the mall of the america?': {'query_0': 'location of mall of the america',\n",
       "  'analysis_0': ' the Mall of America is located in Bloomington, Minnesota',\n",
       "  'generated_answer': 'Bloomington, Minnesota'},\n",
       " 'what is the abominable snowman name in monsters inc?': {'query_0': 'abominable snowman Monsters Inc',\n",
       "  'analysis_0': ' the Abominable Snowman appears in Monsters Inc and Monsters University',\n",
       "  'generated_answer': ' Yeti'},\n",
       " 'what is the moulin rouge?': {'query_0': 'moulin rouge',\n",
       "  'analysis_0': ' Moulin Rouge is a cabaret in Paris, France and a Slovenian popular music group',\n",
       "  'generated_answer': 'a cabaret in Paris, France and a Slovenian popular music group'},\n",
       " 'what is the major fault line near kentucky?': {'query_0': 'major fault line near Kentucky',\n",
       "  'analysis_0': ' the Rocky Face Fault is a geological fault near Kentucky',\n",
       "  'generated_answer': 'Rocky Face Fault'},\n",
       " 'into what language family does english fall?': {'query_0': 'language family of English',\n",
       "  'analysis_0': ' English is a language and that language families are groups of languages related through descent from a common ancestor',\n",
       "  'generated_answer': ' Germanic'},\n",
       " 'what currency can you use in aruba?': {'query_0': 'currency used in Aruba',\n",
       "  'analysis_0': ' the currency of Aruba is the Aruban florin',\n",
       "  'generated_answer': 'Aruban florin'},\n",
       " 'what is the capital of ethiopia?': {'query_0': 'capital of Ethiopia',\n",
       "  'analysis_0': ' Addis Ababa is the capital of Ethiopia',\n",
       "  'generated_answer': 'Addis Ababa'},\n",
       " 'what is naproxen?': {'query_0': 'naproxen',\n",
       "  'analysis_0': ' naproxen is a nonsteroidal anti-inflammatory drug (NSAID)',\n",
       "  'generated_answer': 'a nonsteroidal anti-inflammatory drug (NSAID)'},\n",
       " 'where is the volcano olympus mons located?': {'query_0': 'location of volcano olympus mons',\n",
       "  'analysis_0': \" Olympus Mons is located in Mars's western hemisphere\",\n",
       "  'generated_answer': \"Mars's western hemisphere\"},\n",
       " 'who was the first vice president of the u.s.?': {'query_0': 'first vice president of the United States',\n",
       "  'analysis_0': ' John Adams was the first Vice President of the United States',\n",
       "  'generated_answer': 'John Adams'},\n",
       " 'what are platelets?': {'query_0': 'platelets',\n",
       "  'analysis_0': ' platelets are fragments of cytoplasm that are derived from the megakaryocytes of the bone marrow',\n",
       "  'generated_answer': ' fragments of cytoplasm that are derived from the megakaryocytes of the bone marrow'},\n",
       " 'what is rheumatoid arthritis?': {'query_0': 'rheumatoid arthritis',\n",
       "  'analysis_0': ' rheumatoid arthritis is a long-term autoimmune disorder that primarily affects joints',\n",
       "  'generated_answer': ' a long-term autoimmune disorder that primarily affects joints'},\n",
       " 'how much has the wizard of oz made to date?': {'query_0': 'Wizard of Oz box office gross',\n",
       "  'analysis_0': ' The Wizard of Oz was re-released in 2013 and grossed $5.6 million at the North American box office',\n",
       "  'generated_answer': ' $5.6 million'},\n",
       " \"who was the abolitionist who led the raid on harper's ferry in 1859?\": {'query_0': 'raid on Harpers Ferry 1859',\n",
       "  'analysis_0': ' John Brown led the raid on Harpers Ferry in 1859',\n",
       "  'generated_answer': 'John Brown'},\n",
       " 'how many copies of an album must be sold for it to be a gold album?': {'query_0': 'criteria for gold album',\n",
       "  'analysis_0': ' the Recording Industry Association of America (RIAA) and the Belgian Entertainment Association (BEA) both have criteria for gold albums',\n",
       "  'generated_answer': ' The RIAA requires 500,000 copies to be sold for an album to be certified gold, while the BEA requires 50,000 copies to be sold for an album to be certified gold.'},\n",
       " 'what is the only artery that carries blue blood from the heart to the lungs?': {'query_0': 'artery carries blue blood from heart to lungs',\n",
       "  'analysis_0': ' Willis J. Potts and Alfred Blalock devised an operation for blue baby syndrome involving connecting the aorta and pulmonary artery',\n",
       "  'generated_answer': ' Pulmonary artery'},\n",
       " 'who won jennifer hudson year of american idol?': {'query_0': 'American Idol Jennifer Hudson winner',\n",
       "  'analysis_0': ' Jennifer Hudson was a finalist on the third season of American Idol',\n",
       "  'generated_answer': ' Fantasia Barrino'},\n",
       " 'ant man and the wasp physical release date?': {'query_0': 'Ant Man and the Wasp physical release date',\n",
       "  'analysis_0': ' Ant-Man and the Wasp was released in the United States on July 6, 2018',\n",
       "  'generated_answer': ' July 6, 2018'},\n",
       " \"what is susan b. anthony's birthday?\": {'query_0': 'Susan B. Anthony birthdate',\n",
       "  'analysis_0': \" Susan B. Anthony was an American social reformer and women's rights activist\",\n",
       "  'generated_answer': ' February 15, 1820'},\n",
       " 'what province is edmonton located in?': {'query_0': 'Edmonton province',\n",
       "  'analysis_0': ' Edmonton is the capital city of the Canadian province of Alberta',\n",
       "  'generated_answer': 'Alberta'},\n",
       " 'what is the date of the official opening of the channel tunnel between the u.k. and france?': {'query_0': 'date of official opening of channel tunnel U.K. France',\n",
       "  'analysis_0': ' the Channel Tunnel was officially opened by Queen Elizabeth II and the French president, François Mitterrand in a ceremony held in Calais',\n",
       "  'generated_answer': ' May 6, 1994'},\n",
       " 'what is the real name of the singer, madonna?': {'query_0': 'real name of singer Madonna',\n",
       "  'analysis_0': ' Madonna is an American singer, songwriter, actress, and businesswoman',\n",
       "  'generated_answer': ' Madonna Louise Ciccone'},\n",
       " 'where does the white lined sphinx moth live?': {'query_0': 'habitat of white lined sphinx moth',\n",
       "  'analysis_0': ' Hyles lineata, also known as the white-lined sphinx or hummingbird moth, is a moth of the family Sphingidae and has a wide geographic range throughout Central and North America',\n",
       "  'generated_answer': ' Central and North America'},\n",
       " 'who was the leader of the soviet union in 1945?': {'query_0': 'leader of the soviet union 1945',\n",
       "  'analysis_0': ' Georgy Malenkov was the leader of the Soviet Union in 1945',\n",
       "  'generated_answer': 'Georgy Malenkov'},\n",
       " 'what u.s. government agency registers trademarks?': {'query_0': 'U.S. government agency trademark registration',\n",
       "  'analysis_0': ' the United States Patent and Trademark Office (USPTO) is an agency in the U.S. Department of Commerce that issues patents to inventors and businesses for their inventions, and trademark registration for product and intellectual property identification',\n",
       "  'generated_answer': 'United States Patent and Trademark Office (USPTO)'},\n",
       " 'what body of water are the canary islands in?': {'query_0': 'location of Canary Islands',\n",
       "  'analysis_0': ' the Canary Islands are an archipelago located in the Atlantic Ocean, west of Morocco',\n",
       "  'generated_answer': ' Atlantic Ocean'},\n",
       " 'where are the remaining copies of the magna carta?': {'query_0': 'locations of remaining copies of magna carta',\n",
       "  'analysis_0': ' four exemplifications of the 1225 charter survive',\n",
       "  'generated_answer': ' four exemplifications of the 1225 charter survive.'},\n",
       " 'what are pathogens?': {'query_0': 'pathogens',\n",
       "  'analysis_0': ' a pathogen is anything that can produce disease',\n",
       "  'generated_answer': ' anything that can produce disease'},\n",
       " 'how old was elvis presley when he died?': {'query_0': 'when did Elvis Presley die',\n",
       "  'analysis_0': ' Elvis Presley died on August 16, 1977',\n",
       "  'generated_answer': ' 42 years old'},\n",
       " 'where is your corpus callosum?': {'query_0': 'corpus callosum',\n",
       "  'analysis_0': ' the corpus callosum is a wide, thick, nerve tract consisting of a flat bundle of commissural fibers, beneath the cerebral cortex in the brain',\n",
       "  'generated_answer': ' beneath the cerebral cortex in the brain'},\n",
       " 'what year did the vietnam war end?': {'query_0': 'when did the Vietnam War end',\n",
       "  'analysis_0': ' the North Vietnamese army captured Saigon on April 30, 1975 and the United States carried out an emergency evacuation of its personnel',\n",
       "  'generated_answer': '1975'},\n",
       " 'what is solar wind?': {'query_0': 'solar wind',\n",
       "  'analysis_0': ' the solar wind is a stream of charged particles released from the upper atmosphere of the Sun',\n",
       "  'generated_answer': ' a stream of charged particles released from the upper atmosphere of the Sun'},\n",
       " 'what are pediatricians?': {'query_0': 'pediatricians',\n",
       "  'analysis_0': ' a pediatrician is a medical doctor who specializes in the medical care of infants, children, and adolescents',\n",
       "  'generated_answer': 'a medical doctor who specializes in the medical care of infants, children, and adolescents'},\n",
       " 'who started the dominos pizza chain?': {'query_0': 'founder of dominos pizza',\n",
       "  'analysis_0': \" Tom Monaghan founded Domino's Pizza in 1960\",\n",
       "  'generated_answer': 'Tom Monaghan'},\n",
       " 'what is pulmonary fibrosis?': {'query_0': 'pulmonary fibrosis',\n",
       "  'analysis_0': ' pulmonary fibrosis is a respiratory disease in which scars are formed in the lung tissues, leading to serious breathing problems',\n",
       "  'generated_answer': ' a respiratory disease in which scars are formed in the lung tissues, leading to serious breathing problems'},\n",
       " 'where jay z was raised?': {'query_0': 'Jay Z birthplace',\n",
       "  'analysis_0': ' Jay-Z was born and raised in New York City',\n",
       "  'generated_answer': 'New York City'},\n",
       " 'what two companies produce bovine somatotrophin?': {'query_0': 'companies producing bovine somatotrophin',\n",
       "  'analysis_0': ' four large pharmaceutical companies, Monsanto, American Cyanamid, Eli Lilly, and Upjohn, developed commercial rBST products',\n",
       "  'generated_answer': ' Monsanto and American Cyanamid'},\n",
       " 'what are the two houses of the legislative branch?': {'query_0': 'two houses of the legislative branch',\n",
       "  'analysis_0': ' the legislative branch is composed of two houses',\n",
       "  'generated_answer': ' The House of Representatives and the Senate.'},\n",
       " 'what type of currency is used in australia?': {'query_0': 'currency used in Australia',\n",
       "  'analysis_0': ' the currency of Australia is the Australian dollar',\n",
       "  'generated_answer': 'Australian dollar'},\n",
       " 'material called linen is made from what plant?': {'query_0': 'what plant is linen made from',\n",
       "  'analysis_0': ' linen is a textile made from the fibers of the flax plant',\n",
       "  'generated_answer': 'the fibers of the flax plant'},\n",
       " 'who wrote i get by with a little help from my friends lyrics?': {'query_0': 'I Get By With a Little Help From My Friends lyrics writer',\n",
       "  'analysis_0': ' the song was written by Paul McCartney and John Lennon',\n",
       "  'generated_answer': 'Paul McCartney and John Lennon'},\n",
       " 'what do bats eat?': {'query_0': 'do bats eat',\n",
       "  'analysis_0': ' different bat species have different diets, including insects, nectar, pollen, fruit and even vertebrates',\n",
       "  'generated_answer': 'insects, nectar, pollen, fruit and even vertebrates'},\n",
       " \"who sings the song i don't care anymore?\": {'query_0': 'I Dont Care Anymore singer',\n",
       "  'analysis_0': ' the song \"I Don\\'t Care Anymore\" was written and performed by George Harrison',\n",
       "  'generated_answer': 'George Harrison'},\n",
       " 'what year did the united states abolish the draft?': {'query_0': 'when did the United States abolish the draft',\n",
       "  'analysis_0': ' the Confederate Congress abolished the practice of allowing a substitute to take the place of a conscript in December 1863 and the draft in the United States was extended to June 1973',\n",
       "  'generated_answer': ' June 1973'},\n",
       " 'what is the length of the coastline of the state of alaska?': {'query_0': 'length of coastline of Alaska',\n",
       "  'analysis_0': ' Alaska has nearly 34,000 miles (55,000 km) of tidal shoreline',\n",
       "  'generated_answer': '34,000 miles (55,000 km)'},\n",
       " 'who has the constitutional power to regulate interstate commerce?': {'query_0': 'constitutional power to regulate interstate commerce',\n",
       "  'analysis_0': ' the United States Congress has the power to regulate interstate commerce',\n",
       "  'generated_answer': 'United States Congress'},\n",
       " 'who sang i got a gal in kalamazoo?': {'query_0': 'I Got a Gal in Kalamazoo singer',\n",
       "  'analysis_0': ' \"(I\\'ve Got a Gal In) Kalamazoo\" was recorded by Tex Beneke and the Modernaires',\n",
       "  'generated_answer': 'Tex Beneke and the Modernaires'},\n",
       " 'what did edward binney and howard smith invent in 1903?': {'query_0': 'Edward Binney and Howard Smith invention 1903',\n",
       "  'analysis_0': ' Edwin Binney and C. Harold Smith founded the company Binney & Smith and invented a new wax crayon in 1905',\n",
       "  'generated_answer': ' Wax Crayon'},\n",
       " 'what are invertebrates?': {'query_0': 'invertebrates',\n",
       "  'analysis_0': ' invertebrates are animals that neither possess nor develop a vertebral column',\n",
       "  'generated_answer': 'animals that neither possess nor develop a vertebral column'},\n",
       " 'where was alice walker born?': {'query_0': 'who is Alice Walker',\n",
       "  'analysis_0': ' Alice Walker is an American novelist and Alice Leslie Walker was an American archeologist',\n",
       "  'generated_answer': ' Alice Walker was born in Eatonton, Georgia, United States.'},\n",
       " 'who is the founder of the wal-mart stores?': {'query_0': 'founder of wal-mart stores',\n",
       "  'analysis_0': ' Sam Walton founded the Walmart stores',\n",
       "  'generated_answer': 'Sam Walton'},\n",
       " 'what date did neil armstrong land on the moon?': {'query_0': 'when did Neil Armstrong land on the moon',\n",
       "  'analysis_0': ' Neil Armstrong and Buzz Aldrin landed on the moon on July 20, 1969',\n",
       "  'generated_answer': ' July 20, 1969'},\n",
       " 'what is pandoro?': {'query_0': 'pandoro',\n",
       "  'analysis_0': ' Pandoro is a traditional Italian sweet yeast bread',\n",
       "  'generated_answer': ' traditional Italian sweet yeast bread'},\n",
       " 'who coined the term \"cyberspace\" in his novel \"neuromancer\"?': {'query_0': 'who coined the term cyberspace',\n",
       "  'analysis_0': ' the term \"cyberspace\" was coined by William Gibson in his novel \"Neuromancer\"',\n",
       "  'generated_answer': 'William Gibson'},\n",
       " 'what is the average minimum wage in the united states?': {'query_0': 'average minimum wage United States',\n",
       "  'analysis_0': ' the federal government has mandated a nationwide minimum wage of $7.25 per hour and that there are 29 states with a minimum wage higher than the federal minimum',\n",
       "  'generated_answer': ' $7.25 per hour'},\n",
       " 'what is the name given to the tiger at louisiana state university?': {'query_0': 'name of tiger at Louisiana State University',\n",
       "  'analysis_0': ' the tiger at Louisiana State University is named Mike',\n",
       "  'generated_answer': 'Mike'},\n",
       " 'where was the church of latter day saints founded?': {'query_0': 'church of latter day saints',\n",
       "  'analysis_0': ' The Church of Jesus Christ of Latter-day Saints is a nontrinitarian, Christian restorationist church',\n",
       "  'generated_answer': ' Fayette, New York'},\n",
       " 'what is the largest city in the u.s.?': {'query_0': 'largest city in the U.S.',\n",
       "  'analysis_0': ' Sitka, Alaska is the largest incorporated city by area in the U.S. and that New York City is the largest city in the United States by population',\n",
       "  'generated_answer': 'New York City'},\n",
       " 'what state was ronald reagan governor of?': {'query_0': 'Ronald Reagan governor',\n",
       "  'analysis_0': ' Ronald Reagan was a politician who served as the 40th President of the United States and the 33rd Governor of California',\n",
       "  'generated_answer': ' California'},\n",
       " 'what city had a world fair in 1900?': {'query_0': 'world fair 1900',\n",
       "  'analysis_0': \" the Exposition Universelle of 1900 was a world's fair\",\n",
       "  'generated_answer': ' Paris, France'},\n",
       " 'who is playing in the national championship game?': {'query_0': 'teams playing in national championship game',\n",
       "  'analysis_0': ' the 2018 College Football Playoff National Championship was played at Mercedes-Benz Stadium in Atlanta, Georgia on January 8, 2018',\n",
       "  'generated_answer': ' Alabama Crimson Tide and Georgia Bulldogs'},\n",
       " 'what is relative humidity?': {'query_0': 'relative humidity',\n",
       "  'analysis_0': ' relative humidity is the ratio of the partial pressure of water vapor to the equilibrium vapor pressure of water at a given temperature',\n",
       "  'generated_answer': 'the ratio of the partial pressure of water vapor to the equilibrium vapor pressure of water at a given temperature'},\n",
       " 'what is autism?': {'query_0': 'autism',\n",
       "  'analysis_0': ' autism is a developmental disorder characterized by troubles with social interaction and communication, and by restricted and repetitive behavior',\n",
       "  'generated_answer': 'a developmental disorder characterized by troubles with social interaction and communication, and by restricted and repetitive behavior'},\n",
       " \"who played jenny in the doctor's daughter?\": {'query_0': 'Doctors Daughter cast Jenny',\n",
       "  'analysis_0': ' Jenny is a character in the Doctor Who episode \"The Doctor\\'s Daughter\"',\n",
       "  'generated_answer': ' Georgia Moffett'},\n",
       " 'what color is a poison arrow frog?': {'query_0': 'poison arrow frog',\n",
       "  'analysis_0': ' the phantasmal poison frog and the poison dart frog are both species of poison dart frog',\n",
       "  'generated_answer': ' bright colors such as yellow, blue, green, and red.'},\n",
       " 'what style of art does andy warhol do?': {'query_0': 'Andy Warhol art style',\n",
       "  'analysis_0': \" Andy Warhol's paintings show images taken from cartoons and advertisements, hand-painted with paint drips\",\n",
       "  'generated_answer': ' Pop Art'},\n",
       " 'what is the dollar called in brazil?': {'query_0': 'currency used in Brazil',\n",
       "  'analysis_0': ' the Brazilian real is the official currency of Brazil',\n",
       "  'generated_answer': ' Brazilian real'},\n",
       " 'where is the lourve?': {'query_0': 'lourve',\n",
       "  'analysis_0': ' La Louve is a private French contemporary garden in the town of Bonnieux in the Vaucluse Department of France',\n",
       "  'generated_answer': 'Bonnieux in the Vaucluse Department of France'},\n",
       " 'where did the plains of abraham take place?': {'query_0': 'plains of abraham',\n",
       "  'analysis_0': ' the Plains of Abraham is a historic area within The Battlefields Park in Quebec City, Quebec, Canada',\n",
       "  'generated_answer': 'Quebec City, Quebec, Canada'},\n",
       " 'what is the active ingredient in baking soda?': {'query_0': 'active ingredient in baking soda',\n",
       "  'analysis_0': ' the principal active ingredient in baking soda is sodium carbonate',\n",
       "  'generated_answer': 'sodium carbonate'},\n",
       " 'who seized power in italy in 1922?': {'query_0': 'Who seized power in Italy 1922',\n",
       "  'analysis_0': ' Benito Mussolini seized power in Italy in 1922',\n",
       "  'generated_answer': 'Benito Mussolini'},\n",
       " 'what is poliomyelitis?': {'query_0': 'poliomyelitis',\n",
       "  'analysis_0': ' poliomyelitis is an infectious disease caused by the poliovirus',\n",
       "  'generated_answer': ' an infectious disease caused by the poliovirus'},\n",
       " \"who played the teacher in dead poet's society?\": {'query_0': 'dead poets society teacher',\n",
       "  'analysis_0': ' the phrase \"Carpe diem\" was used in the movie Dead Poets Society',\n",
       "  'generated_answer': ' Robin Williams'},\n",
       " 'where did lee surrender to grant to end the civil war?': {'query_0': 'Lee surrender to Grant Civil War',\n",
       "  'analysis_0': ' Lee surrendered to Grant at Appomattox Court House',\n",
       "  'generated_answer': 'Appomattox Court House'},\n",
       " 'what is ethics?': {'query_0': 'ethics',\n",
       "  'analysis_0': ' ethics is a branch of philosophy that involves systematizing, defending, and recommending concepts of right and wrong conduct',\n",
       "  'generated_answer': 'a branch of philosophy that involves systematizing, defending, and recommending concepts of right and wrong conduct'},\n",
       " 'in what area of the world was the six day war fought?': {'query_0': 'location of six day war',\n",
       "  'analysis_0': ' the Six-Day War was a series of armed confrontations between Ugandan and Rwandan Army Rwandan forces',\n",
       "  'generated_answer': ' Uganda and Rwanda'},\n",
       " 'what is severance pay?': {'query_0': 'severance pay',\n",
       "  'analysis_0': ' severance pay is an amount for each completed year of continuous service',\n",
       "  'generated_answer': ' an amount for each completed year of continuous service'},\n",
       " 'hazmat stands for what?': {'query_0': 'hazmat stands for what',\n",
       "  'analysis_0': ' hazmat stands for hazardous materials',\n",
       "  'generated_answer': 'hazardous materials'},\n",
       " 'what is hypertension?': {'query_0': 'hypertension',\n",
       "  'analysis_0': ' hypertension is high blood pressure that remains above a target level',\n",
       "  'generated_answer': 'high blood pressure that remains above a target level'},\n",
       " 'where is prince edward island?': {'query_0': 'location of prince edward island',\n",
       "  'analysis_0': ' Prince Edward Island is located in the Gulf of Saint Lawrence north of Nova Scotia and east of New Brunswick',\n",
       "  'generated_answer': 'Gulf of Saint Lawrence north of Nova Scotia and east of New Brunswick'},\n",
       " 'what is the population of australia?': {'query_0': 'population of Australia',\n",
       "  'analysis_0': ' the population of Australia is estimated to be as of 23 2019',\n",
       "  'generated_answer': '2,250,194'},\n",
       " 'what subatomic particle did jj thomson discover?': {'query_0': 'JJ Thomson subatomic particle discovery',\n",
       "  'analysis_0': ' J.J. Thomson discovered the electron and the first subatomic particle',\n",
       "  'generated_answer': ' electron'},\n",
       " 'what is the deepest lake in the us?': {'query_0': 'deepest lake in the US',\n",
       "  'analysis_0': ' Crater Lake is the deepest lake in the US and Lake Pend Oreille is also among the five deepest lakes in the US',\n",
       "  'generated_answer': 'Crater Lake'},\n",
       " 'what monastery was raided by vikings in the late eighth century?': {'query_0': 'monastery raided by vikings 8th century',\n",
       "  'analysis_0': ' Viking raids began in England in the late 8th century, primarily on monasteries',\n",
       "  'generated_answer': ' Monasteries in England'},\n",
       " 'who was the first u.s. president ever to resign?': {'query_0': 'first U.S. president to resign',\n",
       "  'analysis_0': ' Richard Nixon was the first US President to resign from public office',\n",
       "  'generated_answer': 'Richard Nixon'},\n",
       " 'what city does mccarren airport serve?': {'query_0': 'McCarren Airport location',\n",
       "  'analysis_0': ' the McCarran Airport Connector is located in Paradise, an unincorporated town in the Las Vegas Valley, Clark County, Nevada',\n",
       "  'generated_answer': ' Las Vegas, Nevada'},\n",
       " 'who is duke ellington?': {'query_0': 'duke ellington',\n",
       "  'analysis_0': ' Duke Ellington was an American composer, pianist, and leader of a jazz orchestra',\n",
       "  'generated_answer': 'an American composer, pianist, and leader of a jazz orchestra'},\n",
       " 'what is sonar?': {'query_0': 'sonar',\n",
       "  'analysis_0': ' sonar is a technique that uses sound propagation to navigate, communicate with or detect objects',\n",
       "  'generated_answer': 'a technique that uses sound propagation to navigate, communicate with or detect objects'},\n",
       " 'who is broadcasting the world series in 2018?': {'query_0': 'world series 2018 broadcasting network',\n",
       "  'analysis_0': ' the 2018 World Series was televised nationally by Fox and broadcast by MLB International',\n",
       "  'generated_answer': ' Fox and MLB International'},\n",
       " 'when was lyndon b. johnson born?': {'query_0': 'Lyndon B. Johnson',\n",
       "  'analysis_0': ' Lyndon B. Johnson was the 36th President of the United States',\n",
       "  'generated_answer': ' August 27, 1908'},\n",
       " 'what is a thyroid?': {'query_0': 'thyroid',\n",
       "  'analysis_0': ' the thyroid is an endocrine gland in the neck that secretes hormones',\n",
       "  'generated_answer': ' an endocrine gland in the neck that secretes hormones'},\n",
       " \"what is hawaii's state flower?\": {'query_0': 'Hawaii state flower',\n",
       "  'analysis_0': \" the yellow hibiscus is Hawaii's state flower\",\n",
       "  'generated_answer': 'yellow hibiscus'},\n",
       " 'what year did oklahoma become a state?': {'query_0': 'when did Oklahoma become a state',\n",
       "  'analysis_0': ' Oklahoma became the 46th state in the Union in 1907',\n",
       "  'generated_answer': '1907'},\n",
       " 'when did the new york rangers become a team?': {'query_0': 'when were the New York Rangers established',\n",
       "  'analysis_0': ' the 25th New York Volunteer Infantry Regiment was the Union Rangers',\n",
       "  'generated_answer': ' 1861'},\n",
       " 'in what year did kobe bryant graduate high school?': {'query_0': 'Kobe Bryant high school graduation',\n",
       "  'analysis_0': ' Kobe Bryant attended Lower Merion High School and graduated in 1996',\n",
       "  'generated_answer': '1996'},\n",
       " 'what language people speak in afghanistan?': {'query_0': 'languages spoken in Afghanistan',\n",
       "  'analysis_0': ' Dari and Pashto are the two official languages spoken in Afghanistan',\n",
       "  'generated_answer': ' Dari and Pashto'},\n",
       " 'when did the ottoman empire declare war on the allies?': {'query_0': 'when did the ottoman empire declare war',\n",
       "  'analysis_0': ' the Ottoman Empire declared war on the allies in November 1914',\n",
       "  'generated_answer': 'November 1914'},\n",
       " 'what is supernova?': {'query_0': 'supernova',\n",
       "  'analysis_0': ' a supernova is an event that occurs upon the death of certain types of stars',\n",
       "  'generated_answer': 'an event that occurs upon the death of certain types of stars'},\n",
       " 'what continent is australia in?': {'query_0': 'location of Australia',\n",
       "  'analysis_0': ' Australia is a country, a continent and an island',\n",
       "  'generated_answer': ' Australia is located in the continent of Oceania.'},\n",
       " 'who played eliza doolittle in the movie my fair lady?': {'query_0': 'My Fair Lady Eliza Doolittle actor',\n",
       "  'analysis_0': ' Audrey Hepburn played Eliza Doolittle in the 1964 film musical \"My Fair Lady\"',\n",
       "  'generated_answer': 'Audrey Hepburn'},\n",
       " 'who was the 23rd president of the united states?': {'query_0': '23rd president of the United States',\n",
       "  'analysis_0': ' Benjamin Harrison was the 23rd President of the United States',\n",
       "  'generated_answer': 'Benjamin Harrison'},\n",
       " 'what strait separates north america from asia?': {'query_0': 'Strait between North America and Asia',\n",
       "  'analysis_0': ' the Strait of Anián was a semi-mythical strait believed to mark the boundary between North America and Asia',\n",
       "  'generated_answer': ' Strait of Anián'},\n",
       " \"who was lincoln's secretary of state?\": {'query_0': 'Lincolns secretary of state',\n",
       "  'analysis_0': \" Robert Todd Lincoln was President Garfield's Secretary of War\",\n",
       "  'generated_answer': ' William Seward'},\n",
       " 'do you have to register rifles in michigan?': {'query_0': 'Michigan gun laws',\n",
       "  'analysis_0': ' Michigan has numerous laws concerning the ownership and the carrying of firearms',\n",
       "  'generated_answer': ' Yes, rifles must be registered in Michigan.'},\n",
       " 'what county is phoenix, az in?': {'query_0': 'Phoenix, AZ county',\n",
       "  'analysis_0': ' Phoenix is located in Maricopa County',\n",
       "  'generated_answer': 'Maricopa County'},\n",
       " 'what year did montana become a state?': {'query_0': 'when did Montana become a state',\n",
       "  'analysis_0': ' Montana became a state on November 8, 1889',\n",
       "  'generated_answer': 'November 8, 1889'},\n",
       " 'where is kia car from?': {'query_0': 'Kia car manufacturing location',\n",
       "  'analysis_0': ' Kia Motors is headquartered in Seoul, South Korea',\n",
       "  'generated_answer': 'South Korea'},\n",
       " 'who was the first african american to play for the brooklyn dodgers?': {'query_0': 'first African American to play for Brooklyn Dodgers',\n",
       "  'analysis_0': ' Jackie Robinson was hired by the Dodgers as the first African-American player in Major League Baseball in the modern era',\n",
       "  'generated_answer': 'Jackie Robinson'},\n",
       " 'when does red dead redemption 2 launch time?': {'query_0': 'Red Dead Redemption 2 launch date',\n",
       "  'analysis_0': ' Red Dead Redemption 2 was released on October 26, 2018',\n",
       "  'generated_answer': ' October 26, 2018'},\n",
       " 'what is the meaning of caliente (in english)?': {'query_0': 'meaning of caliente in English',\n",
       "  'analysis_0': ' Caliente means \"hot\" in English',\n",
       "  'generated_answer': '\"hot\"'},\n",
       " 'what breed of hunting dog did the beverly hillbillies own?': {'query_0': 'beverly hillbillies hunting dog',\n",
       "  'analysis_0': ' the Beverly Hillbillies owned a Bloodhound',\n",
       "  'generated_answer': 'Bloodhound'},\n",
       " 'when is hurricane season in the caribbean?': {'query_0': 'hurricane season Caribbean',\n",
       "  'analysis_0': ' the Caribbean hurricane season lasts from June through November, with the majority of hurricanes occurring during August and September',\n",
       "  'generated_answer': 'June through November, with the majority of hurricanes occurring during August and September'},\n",
       " 'who was the first person to receive nobel prize?': {'query_0': 'first person to receive Nobel Prize',\n",
       "  'analysis_0': ' Rita Levi-Montalcini was the first Nobel laureate to reach the 100th birthday',\n",
       "  'generated_answer': ' Rita Levi-Montalcini'},\n",
       " 'where was stephen g. breyer born?': {'query_0': 'Stephen G. Breyer',\n",
       "  'analysis_0': ' Stephen Gerald Breyer is an Associate Justice of the Supreme Court of the United States since 1994',\n",
       "  'generated_answer': ' San Francisco, California'},\n",
       " 'when was president kennedy shot?': {'query_0': 'when was President Kennedy shot',\n",
       "  'analysis_0': ' John F. Kennedy was assassinated on November 22, 1963',\n",
       "  'generated_answer': 'November 22, 1963'},\n",
       " \"what nqf level is a master's degree?\": {'query_0': 'NQF level of a masters degree',\n",
       "  'analysis_0': \" the Qualifications and Credit Framework (QCF) and the National Qualifications Framework (NQF) both used the same levels for master's degrees and doctoral degrees\",\n",
       "  'generated_answer': ' Level 7'},\n",
       " 'what are the two types of twins?': {'query_0': 'types of twins',\n",
       "  'analysis_0': ' there are several types of twins, including contact twins, reticulated twins, geniculated twins, penetration twins, cyclic twins, and polysynthetic twins',\n",
       "  'generated_answer': 'contact twins, reticulated twins, geniculated twins, penetration twins, cyclic twins, and polysynthetic twins'},\n",
       " 'what is dianetics?': {'query_0': 'dianetics',\n",
       "  'analysis_0': ' Dianetics is a set of ideas and practices regarding the metaphysical relationship between the mind and body created by L. Ron Hubbard',\n",
       "  'generated_answer': ' a set of ideas and practices regarding the metaphysical relationship between the mind and body created by L. Ron Hubbard'},\n",
       " 'what is a thermometer?': {'query_0': 'thermometer',\n",
       "  'analysis_0': ' a thermometer is a device that measures temperature or a temperature gradient',\n",
       "  'generated_answer': 'a device that measures temperature or a temperature gradient'},\n",
       " 'how many letters in the modern greek alphabet?': {'query_0': 'number of letters in modern greek alphabet',\n",
       "  'analysis_0': ' the Greek alphabet has 24 letters',\n",
       "  'generated_answer': '24'},\n",
       " 'where is the grand canyon?': {'query_0': 'location of the grand canyon',\n",
       "  'analysis_0': ' the Grand Canyon is located in northwestern Arizona and is contained in the Grand Canyon National Park',\n",
       "  'generated_answer': ' Northwestern Arizona'},\n",
       " 'what is the longest bone in the human body?': {'query_0': 'longest bone in human body',\n",
       "  'analysis_0': ' the femur is categorised as a long bone and comprises a diaphysis, the shaft (or body) and two epiphysis or extremities',\n",
       "  'generated_answer': 'The femur'},\n",
       " 'what kind of paintings did frida kahlo do?': {'query_0': 'Frida Kahlo paintings',\n",
       "  'analysis_0': ' Frida Kahlo was a Mexican artist who painted many portraits, self-portraits and works inspired by the nature and artifacts of Mexico',\n",
       "  'generated_answer': ' Portraits, self-portraits, and works inspired by the nature and artifacts of Mexico.'},\n",
       " 'who discovered radium?': {'query_0': 'discovered radium',\n",
       "  'analysis_0': ' Marie and Pierre Curie discovered radium in 1898',\n",
       "  'generated_answer': 'Marie and Pierre Curie'},\n",
       " 'where did president eisenhower go to college?': {'query_0': 'college attended by President Eisenhower',\n",
       "  'analysis_0': ' Dwight D. Eisenhower was honored on a US one dollar coin and that Eisenhower graduated from the Army Industrial College when it was previously known as the Army Industrial College',\n",
       "  'generated_answer': ' Army Industrial College'},\n",
       " \"who is the song you're my best friend about?\": {'query_0': 'Youre My Best Friend song meaning',\n",
       "  'analysis_0': ' \"My Best Friend\" is a song written by Aimee Mayo and Bill Luther and recorded by American country music singer Tim McGraw',\n",
       "  'generated_answer': ' Tim McGraw'},\n",
       " 'what is a micron?': {'query_0': 'micron',\n",
       "  'analysis_0': ' Micron Technology is an American global corporation and Micron Products is a contract manufacturing organization',\n",
       "  'generated_answer': ' Micron Technology is an American global corporation that specializes in the manufacture and development of advanced memory and storage technologies.'},\n",
       " 'who was the moderator of the 2004 presidential debate held at arizona state university?': {'query_0': '2004 presidential debate moderator Arizona State University',\n",
       "  'analysis_0': ' the 2004 presidential debate was held at Arizona State University',\n",
       "  'generated_answer': ' Bob Schieffer'},\n",
       " 'what is measured in curies?': {'query_0': 'what is measured in curies',\n",
       "  'analysis_0': ' Emile Armet de Lisle supplied radium to the Curies and Pierre Curie designed and perfected an extremely sensitive torsion balance for measuring magnetic coefficients',\n",
       "  'generated_answer': ' Radioactivity'},\n",
       " 'where did yoga originate?': {'query_0': 'yoga originate',\n",
       "  'analysis_0': ' yoga originated in ancient India',\n",
       "  'generated_answer': 'ancient India'},\n",
       " 'when was in god we trust added to paper money?': {'query_0': 'In God We Trust paper money',\n",
       "  'analysis_0': \" In God We Trust was adopted as the United States' motto in 1956 and first appeared on the two-cent piece in 1864\",\n",
       "  'generated_answer': ' 1864'},\n",
       " 'how long do hermit crabs live?': {'query_0': 'lifespan of hermit crabs',\n",
       "  'analysis_0': ' species such as \"Coenobita clypeatus\" have a 23-year lifespan if properly treated and some have lived longer than 32 years',\n",
       "  'generated_answer': '23 years (if properly treated)'},\n",
       " 'which is the smallest continent in size in the world?': {'query_0': 'smallest continent size',\n",
       "  'analysis_0': \" Greenland is the world's largest island and Australia is the world's smallest continent\",\n",
       "  'generated_answer': 'Australia'},\n",
       " 'what does cpr stand for?': {'query_0': 'what does cpr stand for',\n",
       "  'analysis_0': ' Cardiopulmonary resuscitation (CPR) is an emergency procedure',\n",
       "  'generated_answer': ' Cardiopulmonary Resuscitation'},\n",
       " 'in which state would you find the catskill mountains?': {'query_0': 'location of Catskill Mountains',\n",
       "  'analysis_0': ' the Catskill Mountains are located in southeastern New York',\n",
       "  'generated_answer': 'Southeastern New York'},\n",
       " 'what did charles babbage create in the 1800s?': {'query_0': 'Charles Babbage inventions 1800s',\n",
       "  'analysis_0': ' Charles Babbage was an English polymath and that he originated the concept of a digital programmable computer',\n",
       "  'generated_answer': ' a digital programmable computer'},\n",
       " 'what country did francis drake represent?': {'query_0': 'Francis Drake',\n",
       "  'analysis_0': ' there are two Francis Drakes',\n",
       "  'generated_answer': '\\nFor Francis Drake the explorer, he represented England.\\nFor Francis Drake the musician, he represented the United States.'},\n",
       " 'who was galileo?': {'query_0': 'galileo',\n",
       "  'analysis_0': ' Galileo was an Italian astronomer, physicist and engineer',\n",
       "  'generated_answer': 'an Italian astronomer, physicist and engineer'},\n",
       " 'what is the longest major league baseball-winning streak?': {'query_0': 'longest major league baseball-winning streak',\n",
       "  'analysis_0': ' the longest winning streak in Major League Baseball that does not include a tie is 22 games, achieved by the Cleveland Indians in 2017',\n",
       "  'generated_answer': '22 games, achieved by the Cleveland Indians in 2017'},\n",
       " 'what is natural gas composed of?': {'query_0': 'composition of natural gas',\n",
       "  'analysis_0': ' natural gas is composed primarily of methane, but often contains longer-chain hydrocarbons',\n",
       "  'generated_answer': ' methane and other longer-chain hydrocarbons'},\n",
       " 'who did the united states fight against in world war ii?': {'query_0': 'United States World War II opponents',\n",
       "  'analysis_0': \" the United States opposed Japan's invasion of China and provided materiel support to Britain while the U.S. was officially neutral\",\n",
       "  'generated_answer': ' Japan and Germany'},\n",
       " 'what is phi beta kappa?': {'query_0': 'phi beta kappa',\n",
       "  'analysis_0': ' Phi Beta Kappa is the oldest academic honor society in the United States',\n",
       "  'generated_answer': ' The oldest academic honor society in the United States'},\n",
       " 'who was the first prime minister of canada?': {'query_0': 'first prime minister of Canada',\n",
       "  'analysis_0': ' John A. Macdonald was the first Prime Minister of Canada',\n",
       "  'generated_answer': 'John A. Macdonald'},\n",
       " 'when did new brunswick become a part of canada?': {'query_0': 'when did New Brunswick join Canada',\n",
       "  'analysis_0': ' New Brunswick entered the Canadian Confederation in 1867',\n",
       "  'generated_answer': '1867'},\n",
       " 'where is the parliament in south africa?': {'query_0': 'location of parliament in South Africa',\n",
       "  'analysis_0': ' the Houses of Parliament of South Africa are situated in Cape Town',\n",
       "  'generated_answer': 'Cape Town'},\n",
       " 'who was the voice of simba?': {'query_0': 'voice of Simba The Lion King',\n",
       "  'analysis_0': ' Matthew Broderick provided the speaking voice of adult Simba',\n",
       "  'generated_answer': 'Matthew Broderick'},\n",
       " 'what is amitriptyline?': {'query_0': 'amitriptyline',\n",
       "  'analysis_0': ' Amitriptyline is a medicine primarily used to treat a number of mental illnesses',\n",
       "  'generated_answer': 'a medicine primarily used to treat a number of mental illnesses'},\n",
       " 'who invented the telephone?': {'query_0': 'invented the telephone',\n",
       "  'analysis_0': ' Antonio Meucci invented the first telephone and Alexander Graham Bell developed the first practical telephone',\n",
       "  'generated_answer': ' Antonio Meucci and Alexander Graham Bell'},\n",
       " 'what is the second largest city in australia?': {'query_0': 'second largest city in Australia',\n",
       "  'analysis_0': ' Sydney is the largest city in Australia with a population of 4.84 million',\n",
       "  'generated_answer': ' Melbourne, with a population of 4.67 million.'},\n",
       " 'where do the chicago cubs play?': {'query_0': 'Chicago Cubs stadium',\n",
       "  'analysis_0': ' the Cubs played their first home game at Weeghman Park and that Wrigley Field is the current home of the Cubs',\n",
       "  'generated_answer': 'Wrigley Field'},\n",
       " 'what are aborigines?': {'query_0': 'aborigines',\n",
       "  'analysis_0': ' the Aborigines in Roman mythology are the oldest inhabitants of central Italy',\n",
       "  'generated_answer': 'the oldest inhabitants of central Italy'}}"
      ]
     },
     "execution_count": 862,
     "metadata": {},
     "output_type": "execute_result"
    }
   ],
   "source": [
    "gens = test.set_index('question')[['query_0', 'analysis_0', 'generated_answer']].T.to_dict()\n",
    "gens"
   ]
  },
  {
   "cell_type": "code",
   "execution_count": 864,
   "id": "c1f098d8-0443-4b28-85e5-2f5a6e1b096d",
   "metadata": {},
   "outputs": [],
   "source": [
    "with open(os.path.join(\"data\", \"openqa\", \"cs224u-openqa-test-unlabeled.txt\")) as f:\n",
    "    questions = f.read().splitlines()\n",
    "# for submission:\n",
    "# 1. Make sure `gens` is a dict with the questions as the keys:\n",
    "assert all(q in gens for q in questions)\n",
    "# 2. Make sure the values are dicts and have the key we will use:\n",
    "assert all(isinstance(d, dict) and \"generated_answer\" in d for d in gens.values())"
   ]
  },
  {
   "cell_type": "code",
   "execution_count": 865,
   "id": "b6b3fc93-79f2-4104-a425-3e6deb166bf9",
   "metadata": {},
   "outputs": [],
   "source": [
    "with open(\"cs224u-openqa-bakeoff-entry.json\", \"wt\") as f:\n",
    "    json.dump(gens, f, indent=4) "
   ]
  },
  {
   "cell_type": "code",
   "execution_count": null,
   "id": "0836d10e-5f97-441e-902a-d7459235dcc3",
   "metadata": {},
   "outputs": [],
   "source": []
  }
 ],
 "metadata": {
  "kernelspec": {
   "display_name": "Python 3 (ipykernel)",
   "language": "python",
   "name": "python3"
  },
  "language_info": {
   "codemirror_mode": {
    "name": "ipython",
    "version": 3
   },
   "file_extension": ".py",
   "mimetype": "text/x-python",
   "name": "python",
   "nbconvert_exporter": "python",
   "pygments_lexer": "ipython3",
   "version": "3.9.13"
  }
 },
 "nbformat": 4,
 "nbformat_minor": 5
}
